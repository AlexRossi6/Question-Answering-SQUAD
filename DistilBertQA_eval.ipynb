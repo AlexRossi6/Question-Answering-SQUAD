{
  "nbformat": 4,
  "nbformat_minor": 0,
  "metadata": {
    "colab": {
      "name": "DistilBertQA_eval.ipynb",
      "provenance": [],
      "collapsed_sections": [],
      "toc_visible": true
    },
    "kernelspec": {
      "name": "python3",
      "display_name": "Python 3"
    },
    "accelerator": "GPU",
    "widgets": {
      "application/vnd.jupyter.widget-state+json": {
        "45d967748f774981b0b601d21f7b3b86": {
          "model_module": "@jupyter-widgets/controls",
          "model_name": "HBoxModel",
          "state": {
            "_view_name": "HBoxView",
            "_dom_classes": [],
            "_model_name": "HBoxModel",
            "_view_module": "@jupyter-widgets/controls",
            "_model_module_version": "1.5.0",
            "_view_count": null,
            "_view_module_version": "1.5.0",
            "box_style": "",
            "layout": "IPY_MODEL_c2b66f737e954bd0ad83e1a2b06671f2",
            "_model_module": "@jupyter-widgets/controls",
            "children": [
              "IPY_MODEL_b61a3220a9e94548ac5d5bab5342ae15",
              "IPY_MODEL_8f929e564ff941f79e07345ed8b64bf7"
            ]
          }
        },
        "c2b66f737e954bd0ad83e1a2b06671f2": {
          "model_module": "@jupyter-widgets/base",
          "model_name": "LayoutModel",
          "state": {
            "_view_name": "LayoutView",
            "grid_template_rows": null,
            "right": null,
            "justify_content": null,
            "_view_module": "@jupyter-widgets/base",
            "overflow": null,
            "_model_module_version": "1.2.0",
            "_view_count": null,
            "flex_flow": null,
            "width": null,
            "min_width": null,
            "border": null,
            "align_items": null,
            "bottom": null,
            "_model_module": "@jupyter-widgets/base",
            "top": null,
            "grid_column": null,
            "overflow_y": null,
            "overflow_x": null,
            "grid_auto_flow": null,
            "grid_area": null,
            "grid_template_columns": null,
            "flex": null,
            "_model_name": "LayoutModel",
            "justify_items": null,
            "grid_row": null,
            "max_height": null,
            "align_content": null,
            "visibility": null,
            "align_self": null,
            "height": null,
            "min_height": null,
            "padding": null,
            "grid_auto_rows": null,
            "grid_gap": null,
            "max_width": null,
            "order": null,
            "_view_module_version": "1.2.0",
            "grid_template_areas": null,
            "object_position": null,
            "object_fit": null,
            "grid_auto_columns": null,
            "margin": null,
            "display": null,
            "left": null
          }
        },
        "b61a3220a9e94548ac5d5bab5342ae15": {
          "model_module": "@jupyter-widgets/controls",
          "model_name": "FloatProgressModel",
          "state": {
            "_view_name": "ProgressView",
            "style": "IPY_MODEL_eed47621ae8b4bb593d2de860e88253d",
            "_dom_classes": [],
            "description": "",
            "_model_name": "FloatProgressModel",
            "bar_style": "info",
            "max": 1,
            "_view_module": "@jupyter-widgets/controls",
            "_model_module_version": "1.5.0",
            "value": 1,
            "_view_count": null,
            "_view_module_version": "1.5.0",
            "orientation": "horizontal",
            "min": 0,
            "description_tooltip": null,
            "_model_module": "@jupyter-widgets/controls",
            "layout": "IPY_MODEL_c0616985a49f43c08fc21bdc37b6734d"
          }
        },
        "8f929e564ff941f79e07345ed8b64bf7": {
          "model_module": "@jupyter-widgets/controls",
          "model_name": "HTMLModel",
          "state": {
            "_view_name": "HTMLView",
            "style": "IPY_MODEL_1aa9b16abd974865bc55534019d3d482",
            "_dom_classes": [],
            "description": "",
            "_model_name": "HTMLModel",
            "placeholder": "​",
            "_view_module": "@jupyter-widgets/controls",
            "_model_module_version": "1.5.0",
            "value": " 9/? [00:00&lt;00:00,  8.76 tables/s]",
            "_view_count": null,
            "_view_module_version": "1.5.0",
            "description_tooltip": null,
            "_model_module": "@jupyter-widgets/controls",
            "layout": "IPY_MODEL_f9a83a558b5047a08d4ed3403d717fe3"
          }
        },
        "eed47621ae8b4bb593d2de860e88253d": {
          "model_module": "@jupyter-widgets/controls",
          "model_name": "ProgressStyleModel",
          "state": {
            "_view_name": "StyleView",
            "_model_name": "ProgressStyleModel",
            "description_width": "initial",
            "_view_module": "@jupyter-widgets/base",
            "_model_module_version": "1.5.0",
            "_view_count": null,
            "_view_module_version": "1.2.0",
            "bar_color": null,
            "_model_module": "@jupyter-widgets/controls"
          }
        },
        "c0616985a49f43c08fc21bdc37b6734d": {
          "model_module": "@jupyter-widgets/base",
          "model_name": "LayoutModel",
          "state": {
            "_view_name": "LayoutView",
            "grid_template_rows": null,
            "right": null,
            "justify_content": null,
            "_view_module": "@jupyter-widgets/base",
            "overflow": null,
            "_model_module_version": "1.2.0",
            "_view_count": null,
            "flex_flow": null,
            "width": null,
            "min_width": null,
            "border": null,
            "align_items": null,
            "bottom": null,
            "_model_module": "@jupyter-widgets/base",
            "top": null,
            "grid_column": null,
            "overflow_y": null,
            "overflow_x": null,
            "grid_auto_flow": null,
            "grid_area": null,
            "grid_template_columns": null,
            "flex": null,
            "_model_name": "LayoutModel",
            "justify_items": null,
            "grid_row": null,
            "max_height": null,
            "align_content": null,
            "visibility": null,
            "align_self": null,
            "height": null,
            "min_height": null,
            "padding": null,
            "grid_auto_rows": null,
            "grid_gap": null,
            "max_width": null,
            "order": null,
            "_view_module_version": "1.2.0",
            "grid_template_areas": null,
            "object_position": null,
            "object_fit": null,
            "grid_auto_columns": null,
            "margin": null,
            "display": null,
            "left": null
          }
        },
        "1aa9b16abd974865bc55534019d3d482": {
          "model_module": "@jupyter-widgets/controls",
          "model_name": "DescriptionStyleModel",
          "state": {
            "_view_name": "StyleView",
            "_model_name": "DescriptionStyleModel",
            "description_width": "",
            "_view_module": "@jupyter-widgets/base",
            "_model_module_version": "1.5.0",
            "_view_count": null,
            "_view_module_version": "1.2.0",
            "_model_module": "@jupyter-widgets/controls"
          }
        },
        "f9a83a558b5047a08d4ed3403d717fe3": {
          "model_module": "@jupyter-widgets/base",
          "model_name": "LayoutModel",
          "state": {
            "_view_name": "LayoutView",
            "grid_template_rows": null,
            "right": null,
            "justify_content": null,
            "_view_module": "@jupyter-widgets/base",
            "overflow": null,
            "_model_module_version": "1.2.0",
            "_view_count": null,
            "flex_flow": null,
            "width": null,
            "min_width": null,
            "border": null,
            "align_items": null,
            "bottom": null,
            "_model_module": "@jupyter-widgets/base",
            "top": null,
            "grid_column": null,
            "overflow_y": null,
            "overflow_x": null,
            "grid_auto_flow": null,
            "grid_area": null,
            "grid_template_columns": null,
            "flex": null,
            "_model_name": "LayoutModel",
            "justify_items": null,
            "grid_row": null,
            "max_height": null,
            "align_content": null,
            "visibility": null,
            "align_self": null,
            "height": null,
            "min_height": null,
            "padding": null,
            "grid_auto_rows": null,
            "grid_gap": null,
            "max_width": null,
            "order": null,
            "_view_module_version": "1.2.0",
            "grid_template_areas": null,
            "object_position": null,
            "object_fit": null,
            "grid_auto_columns": null,
            "margin": null,
            "display": null,
            "left": null
          }
        },
        "014ab4f093494dbbb3bdddd26a02b87f": {
          "model_module": "@jupyter-widgets/controls",
          "model_name": "HBoxModel",
          "state": {
            "_view_name": "HBoxView",
            "_dom_classes": [],
            "_model_name": "HBoxModel",
            "_view_module": "@jupyter-widgets/controls",
            "_model_module_version": "1.5.0",
            "_view_count": null,
            "_view_module_version": "1.5.0",
            "box_style": "",
            "layout": "IPY_MODEL_3bca1de1cd7447899a691a08dab0924e",
            "_model_module": "@jupyter-widgets/controls",
            "children": [
              "IPY_MODEL_2538c66057004714a990822938f3a80b",
              "IPY_MODEL_2c1bc43d87604d9aaeee86ab0afcdc5b"
            ]
          }
        },
        "3bca1de1cd7447899a691a08dab0924e": {
          "model_module": "@jupyter-widgets/base",
          "model_name": "LayoutModel",
          "state": {
            "_view_name": "LayoutView",
            "grid_template_rows": null,
            "right": null,
            "justify_content": null,
            "_view_module": "@jupyter-widgets/base",
            "overflow": null,
            "_model_module_version": "1.2.0",
            "_view_count": null,
            "flex_flow": null,
            "width": null,
            "min_width": null,
            "border": null,
            "align_items": null,
            "bottom": null,
            "_model_module": "@jupyter-widgets/base",
            "top": null,
            "grid_column": null,
            "overflow_y": null,
            "overflow_x": null,
            "grid_auto_flow": null,
            "grid_area": null,
            "grid_template_columns": null,
            "flex": null,
            "_model_name": "LayoutModel",
            "justify_items": null,
            "grid_row": null,
            "max_height": null,
            "align_content": null,
            "visibility": null,
            "align_self": null,
            "height": null,
            "min_height": null,
            "padding": null,
            "grid_auto_rows": null,
            "grid_gap": null,
            "max_width": null,
            "order": null,
            "_view_module_version": "1.2.0",
            "grid_template_areas": null,
            "object_position": null,
            "object_fit": null,
            "grid_auto_columns": null,
            "margin": null,
            "display": null,
            "left": null
          }
        },
        "2538c66057004714a990822938f3a80b": {
          "model_module": "@jupyter-widgets/controls",
          "model_name": "FloatProgressModel",
          "state": {
            "_view_name": "ProgressView",
            "style": "IPY_MODEL_08dd0c68202241e8ad46c9e0e600a8c3",
            "_dom_classes": [],
            "description": "100%",
            "_model_name": "FloatProgressModel",
            "bar_style": "success",
            "max": 87599,
            "_view_module": "@jupyter-widgets/controls",
            "_model_module_version": "1.5.0",
            "value": 87599,
            "_view_count": null,
            "_view_module_version": "1.5.0",
            "orientation": "horizontal",
            "min": 0,
            "description_tooltip": null,
            "_model_module": "@jupyter-widgets/controls",
            "layout": "IPY_MODEL_d30a03b5a25746b5ab9e2a6eecd0016a"
          }
        },
        "2c1bc43d87604d9aaeee86ab0afcdc5b": {
          "model_module": "@jupyter-widgets/controls",
          "model_name": "HTMLModel",
          "state": {
            "_view_name": "HTMLView",
            "style": "IPY_MODEL_a5d42d8052e949ab985348423e87595d",
            "_dom_classes": [],
            "description": "",
            "_model_name": "HTMLModel",
            "placeholder": "​",
            "_view_module": "@jupyter-widgets/controls",
            "_model_module_version": "1.5.0",
            "value": " 87599/87599 [00:13&lt;00:00, 6601.01ex/s]",
            "_view_count": null,
            "_view_module_version": "1.5.0",
            "description_tooltip": null,
            "_model_module": "@jupyter-widgets/controls",
            "layout": "IPY_MODEL_d33f5a7911294637836d83096bc5f1b4"
          }
        },
        "08dd0c68202241e8ad46c9e0e600a8c3": {
          "model_module": "@jupyter-widgets/controls",
          "model_name": "ProgressStyleModel",
          "state": {
            "_view_name": "StyleView",
            "_model_name": "ProgressStyleModel",
            "description_width": "initial",
            "_view_module": "@jupyter-widgets/base",
            "_model_module_version": "1.5.0",
            "_view_count": null,
            "_view_module_version": "1.2.0",
            "bar_color": null,
            "_model_module": "@jupyter-widgets/controls"
          }
        },
        "d30a03b5a25746b5ab9e2a6eecd0016a": {
          "model_module": "@jupyter-widgets/base",
          "model_name": "LayoutModel",
          "state": {
            "_view_name": "LayoutView",
            "grid_template_rows": null,
            "right": null,
            "justify_content": null,
            "_view_module": "@jupyter-widgets/base",
            "overflow": null,
            "_model_module_version": "1.2.0",
            "_view_count": null,
            "flex_flow": null,
            "width": null,
            "min_width": null,
            "border": null,
            "align_items": null,
            "bottom": null,
            "_model_module": "@jupyter-widgets/base",
            "top": null,
            "grid_column": null,
            "overflow_y": null,
            "overflow_x": null,
            "grid_auto_flow": null,
            "grid_area": null,
            "grid_template_columns": null,
            "flex": null,
            "_model_name": "LayoutModel",
            "justify_items": null,
            "grid_row": null,
            "max_height": null,
            "align_content": null,
            "visibility": null,
            "align_self": null,
            "height": null,
            "min_height": null,
            "padding": null,
            "grid_auto_rows": null,
            "grid_gap": null,
            "max_width": null,
            "order": null,
            "_view_module_version": "1.2.0",
            "grid_template_areas": null,
            "object_position": null,
            "object_fit": null,
            "grid_auto_columns": null,
            "margin": null,
            "display": null,
            "left": null
          }
        },
        "a5d42d8052e949ab985348423e87595d": {
          "model_module": "@jupyter-widgets/controls",
          "model_name": "DescriptionStyleModel",
          "state": {
            "_view_name": "StyleView",
            "_model_name": "DescriptionStyleModel",
            "description_width": "",
            "_view_module": "@jupyter-widgets/base",
            "_model_module_version": "1.5.0",
            "_view_count": null,
            "_view_module_version": "1.2.0",
            "_model_module": "@jupyter-widgets/controls"
          }
        },
        "d33f5a7911294637836d83096bc5f1b4": {
          "model_module": "@jupyter-widgets/base",
          "model_name": "LayoutModel",
          "state": {
            "_view_name": "LayoutView",
            "grid_template_rows": null,
            "right": null,
            "justify_content": null,
            "_view_module": "@jupyter-widgets/base",
            "overflow": null,
            "_model_module_version": "1.2.0",
            "_view_count": null,
            "flex_flow": null,
            "width": null,
            "min_width": null,
            "border": null,
            "align_items": null,
            "bottom": null,
            "_model_module": "@jupyter-widgets/base",
            "top": null,
            "grid_column": null,
            "overflow_y": null,
            "overflow_x": null,
            "grid_auto_flow": null,
            "grid_area": null,
            "grid_template_columns": null,
            "flex": null,
            "_model_name": "LayoutModel",
            "justify_items": null,
            "grid_row": null,
            "max_height": null,
            "align_content": null,
            "visibility": null,
            "align_self": null,
            "height": null,
            "min_height": null,
            "padding": null,
            "grid_auto_rows": null,
            "grid_gap": null,
            "max_width": null,
            "order": null,
            "_view_module_version": "1.2.0",
            "grid_template_areas": null,
            "object_position": null,
            "object_fit": null,
            "grid_auto_columns": null,
            "margin": null,
            "display": null,
            "left": null
          }
        },
        "02ece9ab72dd40e79bb85227bcad38e0": {
          "model_module": "@jupyter-widgets/controls",
          "model_name": "HBoxModel",
          "state": {
            "_view_name": "HBoxView",
            "_dom_classes": [],
            "_model_name": "HBoxModel",
            "_view_module": "@jupyter-widgets/controls",
            "_model_module_version": "1.5.0",
            "_view_count": null,
            "_view_module_version": "1.5.0",
            "box_style": "",
            "layout": "IPY_MODEL_7d3b3821143f4e3681e7290d5630b48b",
            "_model_module": "@jupyter-widgets/controls",
            "children": [
              "IPY_MODEL_17ce52b5c5d14b078e437720de8cf1f1",
              "IPY_MODEL_649a1ac804db420e831ad50ac94443ba"
            ]
          }
        },
        "7d3b3821143f4e3681e7290d5630b48b": {
          "model_module": "@jupyter-widgets/base",
          "model_name": "LayoutModel",
          "state": {
            "_view_name": "LayoutView",
            "grid_template_rows": null,
            "right": null,
            "justify_content": null,
            "_view_module": "@jupyter-widgets/base",
            "overflow": null,
            "_model_module_version": "1.2.0",
            "_view_count": null,
            "flex_flow": null,
            "width": null,
            "min_width": null,
            "border": null,
            "align_items": null,
            "bottom": null,
            "_model_module": "@jupyter-widgets/base",
            "top": null,
            "grid_column": null,
            "overflow_y": null,
            "overflow_x": null,
            "grid_auto_flow": null,
            "grid_area": null,
            "grid_template_columns": null,
            "flex": null,
            "_model_name": "LayoutModel",
            "justify_items": null,
            "grid_row": null,
            "max_height": null,
            "align_content": null,
            "visibility": null,
            "align_self": null,
            "height": null,
            "min_height": null,
            "padding": null,
            "grid_auto_rows": null,
            "grid_gap": null,
            "max_width": null,
            "order": null,
            "_view_module_version": "1.2.0",
            "grid_template_areas": null,
            "object_position": null,
            "object_fit": null,
            "grid_auto_columns": null,
            "margin": null,
            "display": null,
            "left": null
          }
        },
        "17ce52b5c5d14b078e437720de8cf1f1": {
          "model_module": "@jupyter-widgets/controls",
          "model_name": "FloatProgressModel",
          "state": {
            "_view_name": "ProgressView",
            "style": "IPY_MODEL_304e04d392dc496a99e5160e79437bc3",
            "_dom_classes": [],
            "description": "Downloading: 100%",
            "_model_name": "FloatProgressModel",
            "bar_style": "success",
            "max": 532,
            "_view_module": "@jupyter-widgets/controls",
            "_model_module_version": "1.5.0",
            "value": 532,
            "_view_count": null,
            "_view_module_version": "1.5.0",
            "orientation": "horizontal",
            "min": 0,
            "description_tooltip": null,
            "_model_module": "@jupyter-widgets/controls",
            "layout": "IPY_MODEL_0a8cce8e515647d7bea031a851af3499"
          }
        },
        "649a1ac804db420e831ad50ac94443ba": {
          "model_module": "@jupyter-widgets/controls",
          "model_name": "HTMLModel",
          "state": {
            "_view_name": "HTMLView",
            "style": "IPY_MODEL_6aae3734e669402d91b25b2c5ed5899a",
            "_dom_classes": [],
            "description": "",
            "_model_name": "HTMLModel",
            "placeholder": "​",
            "_view_module": "@jupyter-widgets/controls",
            "_model_module_version": "1.5.0",
            "value": " 532/532 [00:00&lt;00:00, 1.49kB/s]",
            "_view_count": null,
            "_view_module_version": "1.5.0",
            "description_tooltip": null,
            "_model_module": "@jupyter-widgets/controls",
            "layout": "IPY_MODEL_0845364ceda54add88de80db7c5f74f6"
          }
        },
        "304e04d392dc496a99e5160e79437bc3": {
          "model_module": "@jupyter-widgets/controls",
          "model_name": "ProgressStyleModel",
          "state": {
            "_view_name": "StyleView",
            "_model_name": "ProgressStyleModel",
            "description_width": "initial",
            "_view_module": "@jupyter-widgets/base",
            "_model_module_version": "1.5.0",
            "_view_count": null,
            "_view_module_version": "1.2.0",
            "bar_color": null,
            "_model_module": "@jupyter-widgets/controls"
          }
        },
        "0a8cce8e515647d7bea031a851af3499": {
          "model_module": "@jupyter-widgets/base",
          "model_name": "LayoutModel",
          "state": {
            "_view_name": "LayoutView",
            "grid_template_rows": null,
            "right": null,
            "justify_content": null,
            "_view_module": "@jupyter-widgets/base",
            "overflow": null,
            "_model_module_version": "1.2.0",
            "_view_count": null,
            "flex_flow": null,
            "width": null,
            "min_width": null,
            "border": null,
            "align_items": null,
            "bottom": null,
            "_model_module": "@jupyter-widgets/base",
            "top": null,
            "grid_column": null,
            "overflow_y": null,
            "overflow_x": null,
            "grid_auto_flow": null,
            "grid_area": null,
            "grid_template_columns": null,
            "flex": null,
            "_model_name": "LayoutModel",
            "justify_items": null,
            "grid_row": null,
            "max_height": null,
            "align_content": null,
            "visibility": null,
            "align_self": null,
            "height": null,
            "min_height": null,
            "padding": null,
            "grid_auto_rows": null,
            "grid_gap": null,
            "max_width": null,
            "order": null,
            "_view_module_version": "1.2.0",
            "grid_template_areas": null,
            "object_position": null,
            "object_fit": null,
            "grid_auto_columns": null,
            "margin": null,
            "display": null,
            "left": null
          }
        },
        "6aae3734e669402d91b25b2c5ed5899a": {
          "model_module": "@jupyter-widgets/controls",
          "model_name": "DescriptionStyleModel",
          "state": {
            "_view_name": "StyleView",
            "_model_name": "DescriptionStyleModel",
            "description_width": "",
            "_view_module": "@jupyter-widgets/base",
            "_model_module_version": "1.5.0",
            "_view_count": null,
            "_view_module_version": "1.2.0",
            "_model_module": "@jupyter-widgets/controls"
          }
        },
        "0845364ceda54add88de80db7c5f74f6": {
          "model_module": "@jupyter-widgets/base",
          "model_name": "LayoutModel",
          "state": {
            "_view_name": "LayoutView",
            "grid_template_rows": null,
            "right": null,
            "justify_content": null,
            "_view_module": "@jupyter-widgets/base",
            "overflow": null,
            "_model_module_version": "1.2.0",
            "_view_count": null,
            "flex_flow": null,
            "width": null,
            "min_width": null,
            "border": null,
            "align_items": null,
            "bottom": null,
            "_model_module": "@jupyter-widgets/base",
            "top": null,
            "grid_column": null,
            "overflow_y": null,
            "overflow_x": null,
            "grid_auto_flow": null,
            "grid_area": null,
            "grid_template_columns": null,
            "flex": null,
            "_model_name": "LayoutModel",
            "justify_items": null,
            "grid_row": null,
            "max_height": null,
            "align_content": null,
            "visibility": null,
            "align_self": null,
            "height": null,
            "min_height": null,
            "padding": null,
            "grid_auto_rows": null,
            "grid_gap": null,
            "max_width": null,
            "order": null,
            "_view_module_version": "1.2.0",
            "grid_template_areas": null,
            "object_position": null,
            "object_fit": null,
            "grid_auto_columns": null,
            "margin": null,
            "display": null,
            "left": null
          }
        },
        "f21f046ea6a845b1a4891f1b12c57a19": {
          "model_module": "@jupyter-widgets/controls",
          "model_name": "HBoxModel",
          "state": {
            "_view_name": "HBoxView",
            "_dom_classes": [],
            "_model_name": "HBoxModel",
            "_view_module": "@jupyter-widgets/controls",
            "_model_module_version": "1.5.0",
            "_view_count": null,
            "_view_module_version": "1.5.0",
            "box_style": "",
            "layout": "IPY_MODEL_455ab93c7bef49d48fd3d7eab8414b79",
            "_model_module": "@jupyter-widgets/controls",
            "children": [
              "IPY_MODEL_005ef8b8ecf640db8a868fd5c0d1b5f1",
              "IPY_MODEL_bcc035d06be040fd91afec12cd9a35d4"
            ]
          }
        },
        "455ab93c7bef49d48fd3d7eab8414b79": {
          "model_module": "@jupyter-widgets/base",
          "model_name": "LayoutModel",
          "state": {
            "_view_name": "LayoutView",
            "grid_template_rows": null,
            "right": null,
            "justify_content": null,
            "_view_module": "@jupyter-widgets/base",
            "overflow": null,
            "_model_module_version": "1.2.0",
            "_view_count": null,
            "flex_flow": null,
            "width": null,
            "min_width": null,
            "border": null,
            "align_items": null,
            "bottom": null,
            "_model_module": "@jupyter-widgets/base",
            "top": null,
            "grid_column": null,
            "overflow_y": null,
            "overflow_x": null,
            "grid_auto_flow": null,
            "grid_area": null,
            "grid_template_columns": null,
            "flex": null,
            "_model_name": "LayoutModel",
            "justify_items": null,
            "grid_row": null,
            "max_height": null,
            "align_content": null,
            "visibility": null,
            "align_self": null,
            "height": null,
            "min_height": null,
            "padding": null,
            "grid_auto_rows": null,
            "grid_gap": null,
            "max_width": null,
            "order": null,
            "_view_module_version": "1.2.0",
            "grid_template_areas": null,
            "object_position": null,
            "object_fit": null,
            "grid_auto_columns": null,
            "margin": null,
            "display": null,
            "left": null
          }
        },
        "005ef8b8ecf640db8a868fd5c0d1b5f1": {
          "model_module": "@jupyter-widgets/controls",
          "model_name": "FloatProgressModel",
          "state": {
            "_view_name": "ProgressView",
            "style": "IPY_MODEL_cbdf63bece644520a709e042625e1770",
            "_dom_classes": [],
            "description": "Downloading: 100%",
            "_model_name": "FloatProgressModel",
            "bar_style": "success",
            "max": 231508,
            "_view_module": "@jupyter-widgets/controls",
            "_model_module_version": "1.5.0",
            "value": 231508,
            "_view_count": null,
            "_view_module_version": "1.5.0",
            "orientation": "horizontal",
            "min": 0,
            "description_tooltip": null,
            "_model_module": "@jupyter-widgets/controls",
            "layout": "IPY_MODEL_fa6666cca22c42729749b84473fa6957"
          }
        },
        "bcc035d06be040fd91afec12cd9a35d4": {
          "model_module": "@jupyter-widgets/controls",
          "model_name": "HTMLModel",
          "state": {
            "_view_name": "HTMLView",
            "style": "IPY_MODEL_3ad369f9c5ef4610b75cfe73830d1571",
            "_dom_classes": [],
            "description": "",
            "_model_name": "HTMLModel",
            "placeholder": "​",
            "_view_module": "@jupyter-widgets/controls",
            "_model_module_version": "1.5.0",
            "value": " 232k/232k [00:00&lt;00:00, 1.90MB/s]",
            "_view_count": null,
            "_view_module_version": "1.5.0",
            "description_tooltip": null,
            "_model_module": "@jupyter-widgets/controls",
            "layout": "IPY_MODEL_c512ccbd43b74797b46faca250056603"
          }
        },
        "cbdf63bece644520a709e042625e1770": {
          "model_module": "@jupyter-widgets/controls",
          "model_name": "ProgressStyleModel",
          "state": {
            "_view_name": "StyleView",
            "_model_name": "ProgressStyleModel",
            "description_width": "initial",
            "_view_module": "@jupyter-widgets/base",
            "_model_module_version": "1.5.0",
            "_view_count": null,
            "_view_module_version": "1.2.0",
            "bar_color": null,
            "_model_module": "@jupyter-widgets/controls"
          }
        },
        "fa6666cca22c42729749b84473fa6957": {
          "model_module": "@jupyter-widgets/base",
          "model_name": "LayoutModel",
          "state": {
            "_view_name": "LayoutView",
            "grid_template_rows": null,
            "right": null,
            "justify_content": null,
            "_view_module": "@jupyter-widgets/base",
            "overflow": null,
            "_model_module_version": "1.2.0",
            "_view_count": null,
            "flex_flow": null,
            "width": null,
            "min_width": null,
            "border": null,
            "align_items": null,
            "bottom": null,
            "_model_module": "@jupyter-widgets/base",
            "top": null,
            "grid_column": null,
            "overflow_y": null,
            "overflow_x": null,
            "grid_auto_flow": null,
            "grid_area": null,
            "grid_template_columns": null,
            "flex": null,
            "_model_name": "LayoutModel",
            "justify_items": null,
            "grid_row": null,
            "max_height": null,
            "align_content": null,
            "visibility": null,
            "align_self": null,
            "height": null,
            "min_height": null,
            "padding": null,
            "grid_auto_rows": null,
            "grid_gap": null,
            "max_width": null,
            "order": null,
            "_view_module_version": "1.2.0",
            "grid_template_areas": null,
            "object_position": null,
            "object_fit": null,
            "grid_auto_columns": null,
            "margin": null,
            "display": null,
            "left": null
          }
        },
        "3ad369f9c5ef4610b75cfe73830d1571": {
          "model_module": "@jupyter-widgets/controls",
          "model_name": "DescriptionStyleModel",
          "state": {
            "_view_name": "StyleView",
            "_model_name": "DescriptionStyleModel",
            "description_width": "",
            "_view_module": "@jupyter-widgets/base",
            "_model_module_version": "1.5.0",
            "_view_count": null,
            "_view_module_version": "1.2.0",
            "_model_module": "@jupyter-widgets/controls"
          }
        },
        "c512ccbd43b74797b46faca250056603": {
          "model_module": "@jupyter-widgets/base",
          "model_name": "LayoutModel",
          "state": {
            "_view_name": "LayoutView",
            "grid_template_rows": null,
            "right": null,
            "justify_content": null,
            "_view_module": "@jupyter-widgets/base",
            "overflow": null,
            "_model_module_version": "1.2.0",
            "_view_count": null,
            "flex_flow": null,
            "width": null,
            "min_width": null,
            "border": null,
            "align_items": null,
            "bottom": null,
            "_model_module": "@jupyter-widgets/base",
            "top": null,
            "grid_column": null,
            "overflow_y": null,
            "overflow_x": null,
            "grid_auto_flow": null,
            "grid_area": null,
            "grid_template_columns": null,
            "flex": null,
            "_model_name": "LayoutModel",
            "justify_items": null,
            "grid_row": null,
            "max_height": null,
            "align_content": null,
            "visibility": null,
            "align_self": null,
            "height": null,
            "min_height": null,
            "padding": null,
            "grid_auto_rows": null,
            "grid_gap": null,
            "max_width": null,
            "order": null,
            "_view_module_version": "1.2.0",
            "grid_template_areas": null,
            "object_position": null,
            "object_fit": null,
            "grid_auto_columns": null,
            "margin": null,
            "display": null,
            "left": null
          }
        },
        "de7bdec2a3af48d1a4fd314b25219d06": {
          "model_module": "@jupyter-widgets/controls",
          "model_name": "HBoxModel",
          "state": {
            "_view_name": "HBoxView",
            "_dom_classes": [],
            "_model_name": "HBoxModel",
            "_view_module": "@jupyter-widgets/controls",
            "_model_module_version": "1.5.0",
            "_view_count": null,
            "_view_module_version": "1.5.0",
            "box_style": "",
            "layout": "IPY_MODEL_12c77802e8b745df85fdf315d58fb431",
            "_model_module": "@jupyter-widgets/controls",
            "children": [
              "IPY_MODEL_96b3190710514d729434116da2caaf08",
              "IPY_MODEL_4fcae02c0a2649e6a4b9f7ea42d1b7b0"
            ]
          }
        },
        "12c77802e8b745df85fdf315d58fb431": {
          "model_module": "@jupyter-widgets/base",
          "model_name": "LayoutModel",
          "state": {
            "_view_name": "LayoutView",
            "grid_template_rows": null,
            "right": null,
            "justify_content": null,
            "_view_module": "@jupyter-widgets/base",
            "overflow": null,
            "_model_module_version": "1.2.0",
            "_view_count": null,
            "flex_flow": null,
            "width": null,
            "min_width": null,
            "border": null,
            "align_items": null,
            "bottom": null,
            "_model_module": "@jupyter-widgets/base",
            "top": null,
            "grid_column": null,
            "overflow_y": null,
            "overflow_x": null,
            "grid_auto_flow": null,
            "grid_area": null,
            "grid_template_columns": null,
            "flex": null,
            "_model_name": "LayoutModel",
            "justify_items": null,
            "grid_row": null,
            "max_height": null,
            "align_content": null,
            "visibility": null,
            "align_self": null,
            "height": null,
            "min_height": null,
            "padding": null,
            "grid_auto_rows": null,
            "grid_gap": null,
            "max_width": null,
            "order": null,
            "_view_module_version": "1.2.0",
            "grid_template_areas": null,
            "object_position": null,
            "object_fit": null,
            "grid_auto_columns": null,
            "margin": null,
            "display": null,
            "left": null
          }
        },
        "96b3190710514d729434116da2caaf08": {
          "model_module": "@jupyter-widgets/controls",
          "model_name": "FloatProgressModel",
          "state": {
            "_view_name": "ProgressView",
            "style": "IPY_MODEL_a762ed05debf43b28ff16e8f7be19d96",
            "_dom_classes": [],
            "description": "Downloading: 100%",
            "_model_name": "FloatProgressModel",
            "bar_style": "success",
            "max": 112,
            "_view_module": "@jupyter-widgets/controls",
            "_model_module_version": "1.5.0",
            "value": 112,
            "_view_count": null,
            "_view_module_version": "1.5.0",
            "orientation": "horizontal",
            "min": 0,
            "description_tooltip": null,
            "_model_module": "@jupyter-widgets/controls",
            "layout": "IPY_MODEL_17571d792ad145d1a34ba780c043eb36"
          }
        },
        "4fcae02c0a2649e6a4b9f7ea42d1b7b0": {
          "model_module": "@jupyter-widgets/controls",
          "model_name": "HTMLModel",
          "state": {
            "_view_name": "HTMLView",
            "style": "IPY_MODEL_220fa93eee384a6db909275f67088d7b",
            "_dom_classes": [],
            "description": "",
            "_model_name": "HTMLModel",
            "placeholder": "​",
            "_view_module": "@jupyter-widgets/controls",
            "_model_module_version": "1.5.0",
            "value": " 112/112 [00:00&lt;00:00, 689B/s]",
            "_view_count": null,
            "_view_module_version": "1.5.0",
            "description_tooltip": null,
            "_model_module": "@jupyter-widgets/controls",
            "layout": "IPY_MODEL_7f56510143b34f5ea635811f8419815d"
          }
        },
        "a762ed05debf43b28ff16e8f7be19d96": {
          "model_module": "@jupyter-widgets/controls",
          "model_name": "ProgressStyleModel",
          "state": {
            "_view_name": "StyleView",
            "_model_name": "ProgressStyleModel",
            "description_width": "initial",
            "_view_module": "@jupyter-widgets/base",
            "_model_module_version": "1.5.0",
            "_view_count": null,
            "_view_module_version": "1.2.0",
            "bar_color": null,
            "_model_module": "@jupyter-widgets/controls"
          }
        },
        "17571d792ad145d1a34ba780c043eb36": {
          "model_module": "@jupyter-widgets/base",
          "model_name": "LayoutModel",
          "state": {
            "_view_name": "LayoutView",
            "grid_template_rows": null,
            "right": null,
            "justify_content": null,
            "_view_module": "@jupyter-widgets/base",
            "overflow": null,
            "_model_module_version": "1.2.0",
            "_view_count": null,
            "flex_flow": null,
            "width": null,
            "min_width": null,
            "border": null,
            "align_items": null,
            "bottom": null,
            "_model_module": "@jupyter-widgets/base",
            "top": null,
            "grid_column": null,
            "overflow_y": null,
            "overflow_x": null,
            "grid_auto_flow": null,
            "grid_area": null,
            "grid_template_columns": null,
            "flex": null,
            "_model_name": "LayoutModel",
            "justify_items": null,
            "grid_row": null,
            "max_height": null,
            "align_content": null,
            "visibility": null,
            "align_self": null,
            "height": null,
            "min_height": null,
            "padding": null,
            "grid_auto_rows": null,
            "grid_gap": null,
            "max_width": null,
            "order": null,
            "_view_module_version": "1.2.0",
            "grid_template_areas": null,
            "object_position": null,
            "object_fit": null,
            "grid_auto_columns": null,
            "margin": null,
            "display": null,
            "left": null
          }
        },
        "220fa93eee384a6db909275f67088d7b": {
          "model_module": "@jupyter-widgets/controls",
          "model_name": "DescriptionStyleModel",
          "state": {
            "_view_name": "StyleView",
            "_model_name": "DescriptionStyleModel",
            "description_width": "",
            "_view_module": "@jupyter-widgets/base",
            "_model_module_version": "1.5.0",
            "_view_count": null,
            "_view_module_version": "1.2.0",
            "_model_module": "@jupyter-widgets/controls"
          }
        },
        "7f56510143b34f5ea635811f8419815d": {
          "model_module": "@jupyter-widgets/base",
          "model_name": "LayoutModel",
          "state": {
            "_view_name": "LayoutView",
            "grid_template_rows": null,
            "right": null,
            "justify_content": null,
            "_view_module": "@jupyter-widgets/base",
            "overflow": null,
            "_model_module_version": "1.2.0",
            "_view_count": null,
            "flex_flow": null,
            "width": null,
            "min_width": null,
            "border": null,
            "align_items": null,
            "bottom": null,
            "_model_module": "@jupyter-widgets/base",
            "top": null,
            "grid_column": null,
            "overflow_y": null,
            "overflow_x": null,
            "grid_auto_flow": null,
            "grid_area": null,
            "grid_template_columns": null,
            "flex": null,
            "_model_name": "LayoutModel",
            "justify_items": null,
            "grid_row": null,
            "max_height": null,
            "align_content": null,
            "visibility": null,
            "align_self": null,
            "height": null,
            "min_height": null,
            "padding": null,
            "grid_auto_rows": null,
            "grid_gap": null,
            "max_width": null,
            "order": null,
            "_view_module_version": "1.2.0",
            "grid_template_areas": null,
            "object_position": null,
            "object_fit": null,
            "grid_auto_columns": null,
            "margin": null,
            "display": null,
            "left": null
          }
        },
        "87a9101a2e9b4aab9fe448d791924912": {
          "model_module": "@jupyter-widgets/controls",
          "model_name": "HBoxModel",
          "state": {
            "_view_name": "HBoxView",
            "_dom_classes": [],
            "_model_name": "HBoxModel",
            "_view_module": "@jupyter-widgets/controls",
            "_model_module_version": "1.5.0",
            "_view_count": null,
            "_view_module_version": "1.5.0",
            "box_style": "",
            "layout": "IPY_MODEL_b269e13a30ac4c11818af9af1f81b62d",
            "_model_module": "@jupyter-widgets/controls",
            "children": [
              "IPY_MODEL_e7c4608e35664f7a995a8f8731efd7ee",
              "IPY_MODEL_e7a4300ed80b40a88946bb5ee86814eb"
            ]
          }
        },
        "b269e13a30ac4c11818af9af1f81b62d": {
          "model_module": "@jupyter-widgets/base",
          "model_name": "LayoutModel",
          "state": {
            "_view_name": "LayoutView",
            "grid_template_rows": null,
            "right": null,
            "justify_content": null,
            "_view_module": "@jupyter-widgets/base",
            "overflow": null,
            "_model_module_version": "1.2.0",
            "_view_count": null,
            "flex_flow": null,
            "width": null,
            "min_width": null,
            "border": null,
            "align_items": null,
            "bottom": null,
            "_model_module": "@jupyter-widgets/base",
            "top": null,
            "grid_column": null,
            "overflow_y": null,
            "overflow_x": null,
            "grid_auto_flow": null,
            "grid_area": null,
            "grid_template_columns": null,
            "flex": null,
            "_model_name": "LayoutModel",
            "justify_items": null,
            "grid_row": null,
            "max_height": null,
            "align_content": null,
            "visibility": null,
            "align_self": null,
            "height": null,
            "min_height": null,
            "padding": null,
            "grid_auto_rows": null,
            "grid_gap": null,
            "max_width": null,
            "order": null,
            "_view_module_version": "1.2.0",
            "grid_template_areas": null,
            "object_position": null,
            "object_fit": null,
            "grid_auto_columns": null,
            "margin": null,
            "display": null,
            "left": null
          }
        },
        "e7c4608e35664f7a995a8f8731efd7ee": {
          "model_module": "@jupyter-widgets/controls",
          "model_name": "FloatProgressModel",
          "state": {
            "_view_name": "ProgressView",
            "style": "IPY_MODEL_e6413018e52c49b7b7ad6303eff76f57",
            "_dom_classes": [],
            "description": "Downloading: 100%",
            "_model_name": "FloatProgressModel",
            "bar_style": "success",
            "max": 258,
            "_view_module": "@jupyter-widgets/controls",
            "_model_module_version": "1.5.0",
            "value": 258,
            "_view_count": null,
            "_view_module_version": "1.5.0",
            "orientation": "horizontal",
            "min": 0,
            "description_tooltip": null,
            "_model_module": "@jupyter-widgets/controls",
            "layout": "IPY_MODEL_5d5da07ea7e149a59fb12c6a5d24fb6e"
          }
        },
        "e7a4300ed80b40a88946bb5ee86814eb": {
          "model_module": "@jupyter-widgets/controls",
          "model_name": "HTMLModel",
          "state": {
            "_view_name": "HTMLView",
            "style": "IPY_MODEL_be7546d9245f4c7bb4d2aa49d3563a25",
            "_dom_classes": [],
            "description": "",
            "_model_name": "HTMLModel",
            "placeholder": "​",
            "_view_module": "@jupyter-widgets/controls",
            "_model_module_version": "1.5.0",
            "value": " 258/258 [00:00&lt;00:00, 3.48kB/s]",
            "_view_count": null,
            "_view_module_version": "1.5.0",
            "description_tooltip": null,
            "_model_module": "@jupyter-widgets/controls",
            "layout": "IPY_MODEL_ccaa2a42a03f48e1b464491b7b4d4019"
          }
        },
        "e6413018e52c49b7b7ad6303eff76f57": {
          "model_module": "@jupyter-widgets/controls",
          "model_name": "ProgressStyleModel",
          "state": {
            "_view_name": "StyleView",
            "_model_name": "ProgressStyleModel",
            "description_width": "initial",
            "_view_module": "@jupyter-widgets/base",
            "_model_module_version": "1.5.0",
            "_view_count": null,
            "_view_module_version": "1.2.0",
            "bar_color": null,
            "_model_module": "@jupyter-widgets/controls"
          }
        },
        "5d5da07ea7e149a59fb12c6a5d24fb6e": {
          "model_module": "@jupyter-widgets/base",
          "model_name": "LayoutModel",
          "state": {
            "_view_name": "LayoutView",
            "grid_template_rows": null,
            "right": null,
            "justify_content": null,
            "_view_module": "@jupyter-widgets/base",
            "overflow": null,
            "_model_module_version": "1.2.0",
            "_view_count": null,
            "flex_flow": null,
            "width": null,
            "min_width": null,
            "border": null,
            "align_items": null,
            "bottom": null,
            "_model_module": "@jupyter-widgets/base",
            "top": null,
            "grid_column": null,
            "overflow_y": null,
            "overflow_x": null,
            "grid_auto_flow": null,
            "grid_area": null,
            "grid_template_columns": null,
            "flex": null,
            "_model_name": "LayoutModel",
            "justify_items": null,
            "grid_row": null,
            "max_height": null,
            "align_content": null,
            "visibility": null,
            "align_self": null,
            "height": null,
            "min_height": null,
            "padding": null,
            "grid_auto_rows": null,
            "grid_gap": null,
            "max_width": null,
            "order": null,
            "_view_module_version": "1.2.0",
            "grid_template_areas": null,
            "object_position": null,
            "object_fit": null,
            "grid_auto_columns": null,
            "margin": null,
            "display": null,
            "left": null
          }
        },
        "be7546d9245f4c7bb4d2aa49d3563a25": {
          "model_module": "@jupyter-widgets/controls",
          "model_name": "DescriptionStyleModel",
          "state": {
            "_view_name": "StyleView",
            "_model_name": "DescriptionStyleModel",
            "description_width": "",
            "_view_module": "@jupyter-widgets/base",
            "_model_module_version": "1.5.0",
            "_view_count": null,
            "_view_module_version": "1.2.0",
            "_model_module": "@jupyter-widgets/controls"
          }
        },
        "ccaa2a42a03f48e1b464491b7b4d4019": {
          "model_module": "@jupyter-widgets/base",
          "model_name": "LayoutModel",
          "state": {
            "_view_name": "LayoutView",
            "grid_template_rows": null,
            "right": null,
            "justify_content": null,
            "_view_module": "@jupyter-widgets/base",
            "overflow": null,
            "_model_module_version": "1.2.0",
            "_view_count": null,
            "flex_flow": null,
            "width": null,
            "min_width": null,
            "border": null,
            "align_items": null,
            "bottom": null,
            "_model_module": "@jupyter-widgets/base",
            "top": null,
            "grid_column": null,
            "overflow_y": null,
            "overflow_x": null,
            "grid_auto_flow": null,
            "grid_area": null,
            "grid_template_columns": null,
            "flex": null,
            "_model_name": "LayoutModel",
            "justify_items": null,
            "grid_row": null,
            "max_height": null,
            "align_content": null,
            "visibility": null,
            "align_self": null,
            "height": null,
            "min_height": null,
            "padding": null,
            "grid_auto_rows": null,
            "grid_gap": null,
            "max_width": null,
            "order": null,
            "_view_module_version": "1.2.0",
            "grid_template_areas": null,
            "object_position": null,
            "object_fit": null,
            "grid_auto_columns": null,
            "margin": null,
            "display": null,
            "left": null
          }
        },
        "af655bd3da574b9f870163a12a924c0d": {
          "model_module": "@jupyter-widgets/controls",
          "model_name": "HBoxModel",
          "state": {
            "_view_name": "HBoxView",
            "_dom_classes": [],
            "_model_name": "HBoxModel",
            "_view_module": "@jupyter-widgets/controls",
            "_model_module_version": "1.5.0",
            "_view_count": null,
            "_view_module_version": "1.5.0",
            "box_style": "",
            "layout": "IPY_MODEL_0283305fe0e04f6a9837360ba759bd44",
            "_model_module": "@jupyter-widgets/controls",
            "children": [
              "IPY_MODEL_d110971c908e4ff28c2812d7bfa58a08",
              "IPY_MODEL_42c044047ccd4b6a933189c2690d8323"
            ]
          }
        },
        "0283305fe0e04f6a9837360ba759bd44": {
          "model_module": "@jupyter-widgets/base",
          "model_name": "LayoutModel",
          "state": {
            "_view_name": "LayoutView",
            "grid_template_rows": null,
            "right": null,
            "justify_content": null,
            "_view_module": "@jupyter-widgets/base",
            "overflow": null,
            "_model_module_version": "1.2.0",
            "_view_count": null,
            "flex_flow": null,
            "width": null,
            "min_width": null,
            "border": null,
            "align_items": null,
            "bottom": null,
            "_model_module": "@jupyter-widgets/base",
            "top": null,
            "grid_column": null,
            "overflow_y": null,
            "overflow_x": null,
            "grid_auto_flow": null,
            "grid_area": null,
            "grid_template_columns": null,
            "flex": null,
            "_model_name": "LayoutModel",
            "justify_items": null,
            "grid_row": null,
            "max_height": null,
            "align_content": null,
            "visibility": null,
            "align_self": null,
            "height": null,
            "min_height": null,
            "padding": null,
            "grid_auto_rows": null,
            "grid_gap": null,
            "max_width": null,
            "order": null,
            "_view_module_version": "1.2.0",
            "grid_template_areas": null,
            "object_position": null,
            "object_fit": null,
            "grid_auto_columns": null,
            "margin": null,
            "display": null,
            "left": null
          }
        },
        "d110971c908e4ff28c2812d7bfa58a08": {
          "model_module": "@jupyter-widgets/controls",
          "model_name": "FloatProgressModel",
          "state": {
            "_view_name": "ProgressView",
            "style": "IPY_MODEL_4402a8323dc74d519a8d84db42eb1d99",
            "_dom_classes": [],
            "description": "Downloading: 100%",
            "_model_name": "FloatProgressModel",
            "bar_style": "success",
            "max": 267141919,
            "_view_module": "@jupyter-widgets/controls",
            "_model_module_version": "1.5.0",
            "value": 267141919,
            "_view_count": null,
            "_view_module_version": "1.5.0",
            "orientation": "horizontal",
            "min": 0,
            "description_tooltip": null,
            "_model_module": "@jupyter-widgets/controls",
            "layout": "IPY_MODEL_98ae49bb60f741b6843645f40c77b108"
          }
        },
        "42c044047ccd4b6a933189c2690d8323": {
          "model_module": "@jupyter-widgets/controls",
          "model_name": "HTMLModel",
          "state": {
            "_view_name": "HTMLView",
            "style": "IPY_MODEL_224dab968911455d972145b3a0ebc8ff",
            "_dom_classes": [],
            "description": "",
            "_model_name": "HTMLModel",
            "placeholder": "​",
            "_view_module": "@jupyter-widgets/controls",
            "_model_module_version": "1.5.0",
            "value": " 267M/267M [00:04&lt;00:00, 55.6MB/s]",
            "_view_count": null,
            "_view_module_version": "1.5.0",
            "description_tooltip": null,
            "_model_module": "@jupyter-widgets/controls",
            "layout": "IPY_MODEL_c9a1ed3225ad49e9b65b122cd8f86bea"
          }
        },
        "4402a8323dc74d519a8d84db42eb1d99": {
          "model_module": "@jupyter-widgets/controls",
          "model_name": "ProgressStyleModel",
          "state": {
            "_view_name": "StyleView",
            "_model_name": "ProgressStyleModel",
            "description_width": "initial",
            "_view_module": "@jupyter-widgets/base",
            "_model_module_version": "1.5.0",
            "_view_count": null,
            "_view_module_version": "1.2.0",
            "bar_color": null,
            "_model_module": "@jupyter-widgets/controls"
          }
        },
        "98ae49bb60f741b6843645f40c77b108": {
          "model_module": "@jupyter-widgets/base",
          "model_name": "LayoutModel",
          "state": {
            "_view_name": "LayoutView",
            "grid_template_rows": null,
            "right": null,
            "justify_content": null,
            "_view_module": "@jupyter-widgets/base",
            "overflow": null,
            "_model_module_version": "1.2.0",
            "_view_count": null,
            "flex_flow": null,
            "width": null,
            "min_width": null,
            "border": null,
            "align_items": null,
            "bottom": null,
            "_model_module": "@jupyter-widgets/base",
            "top": null,
            "grid_column": null,
            "overflow_y": null,
            "overflow_x": null,
            "grid_auto_flow": null,
            "grid_area": null,
            "grid_template_columns": null,
            "flex": null,
            "_model_name": "LayoutModel",
            "justify_items": null,
            "grid_row": null,
            "max_height": null,
            "align_content": null,
            "visibility": null,
            "align_self": null,
            "height": null,
            "min_height": null,
            "padding": null,
            "grid_auto_rows": null,
            "grid_gap": null,
            "max_width": null,
            "order": null,
            "_view_module_version": "1.2.0",
            "grid_template_areas": null,
            "object_position": null,
            "object_fit": null,
            "grid_auto_columns": null,
            "margin": null,
            "display": null,
            "left": null
          }
        },
        "224dab968911455d972145b3a0ebc8ff": {
          "model_module": "@jupyter-widgets/controls",
          "model_name": "DescriptionStyleModel",
          "state": {
            "_view_name": "StyleView",
            "_model_name": "DescriptionStyleModel",
            "description_width": "",
            "_view_module": "@jupyter-widgets/base",
            "_model_module_version": "1.5.0",
            "_view_count": null,
            "_view_module_version": "1.2.0",
            "_model_module": "@jupyter-widgets/controls"
          }
        },
        "c9a1ed3225ad49e9b65b122cd8f86bea": {
          "model_module": "@jupyter-widgets/base",
          "model_name": "LayoutModel",
          "state": {
            "_view_name": "LayoutView",
            "grid_template_rows": null,
            "right": null,
            "justify_content": null,
            "_view_module": "@jupyter-widgets/base",
            "overflow": null,
            "_model_module_version": "1.2.0",
            "_view_count": null,
            "flex_flow": null,
            "width": null,
            "min_width": null,
            "border": null,
            "align_items": null,
            "bottom": null,
            "_model_module": "@jupyter-widgets/base",
            "top": null,
            "grid_column": null,
            "overflow_y": null,
            "overflow_x": null,
            "grid_auto_flow": null,
            "grid_area": null,
            "grid_template_columns": null,
            "flex": null,
            "_model_name": "LayoutModel",
            "justify_items": null,
            "grid_row": null,
            "max_height": null,
            "align_content": null,
            "visibility": null,
            "align_self": null,
            "height": null,
            "min_height": null,
            "padding": null,
            "grid_auto_rows": null,
            "grid_gap": null,
            "max_width": null,
            "order": null,
            "_view_module_version": "1.2.0",
            "grid_template_areas": null,
            "object_position": null,
            "object_fit": null,
            "grid_auto_columns": null,
            "margin": null,
            "display": null,
            "left": null
          }
        },
        "3c3ef264dd6c4785862bc7d913339b52": {
          "model_module": "@jupyter-widgets/controls",
          "model_name": "HBoxModel",
          "state": {
            "_view_name": "HBoxView",
            "_dom_classes": [],
            "_model_name": "HBoxModel",
            "_view_module": "@jupyter-widgets/controls",
            "_model_module_version": "1.5.0",
            "_view_count": null,
            "_view_module_version": "1.5.0",
            "box_style": "",
            "layout": "IPY_MODEL_3a3036728c8440c385a8f59d55974a64",
            "_model_module": "@jupyter-widgets/controls",
            "children": [
              "IPY_MODEL_6768795aa7a64597896d1d857d38f539",
              "IPY_MODEL_363414189a644a5ea2b2a03a5b1721c3"
            ]
          }
        },
        "3a3036728c8440c385a8f59d55974a64": {
          "model_module": "@jupyter-widgets/base",
          "model_name": "LayoutModel",
          "state": {
            "_view_name": "LayoutView",
            "grid_template_rows": null,
            "right": null,
            "justify_content": null,
            "_view_module": "@jupyter-widgets/base",
            "overflow": null,
            "_model_module_version": "1.2.0",
            "_view_count": null,
            "flex_flow": null,
            "width": null,
            "min_width": null,
            "border": null,
            "align_items": null,
            "bottom": null,
            "_model_module": "@jupyter-widgets/base",
            "top": null,
            "grid_column": null,
            "overflow_y": null,
            "overflow_x": null,
            "grid_auto_flow": null,
            "grid_area": null,
            "grid_template_columns": null,
            "flex": null,
            "_model_name": "LayoutModel",
            "justify_items": null,
            "grid_row": null,
            "max_height": null,
            "align_content": null,
            "visibility": null,
            "align_self": null,
            "height": null,
            "min_height": null,
            "padding": null,
            "grid_auto_rows": null,
            "grid_gap": null,
            "max_width": null,
            "order": null,
            "_view_module_version": "1.2.0",
            "grid_template_areas": null,
            "object_position": null,
            "object_fit": null,
            "grid_auto_columns": null,
            "margin": null,
            "display": null,
            "left": null
          }
        },
        "6768795aa7a64597896d1d857d38f539": {
          "model_module": "@jupyter-widgets/controls",
          "model_name": "FloatProgressModel",
          "state": {
            "_view_name": "ProgressView",
            "style": "IPY_MODEL_0637f960857c48b889f0f936f7d47b80",
            "_dom_classes": [],
            "description": "100%",
            "_model_name": "FloatProgressModel",
            "bar_style": "success",
            "max": 88,
            "_view_module": "@jupyter-widgets/controls",
            "_model_module_version": "1.5.0",
            "value": 88,
            "_view_count": null,
            "_view_module_version": "1.5.0",
            "orientation": "horizontal",
            "min": 0,
            "description_tooltip": null,
            "_model_module": "@jupyter-widgets/controls",
            "layout": "IPY_MODEL_5dbad0d8d4dd43a1a38549aa7b5504fa"
          }
        },
        "363414189a644a5ea2b2a03a5b1721c3": {
          "model_module": "@jupyter-widgets/controls",
          "model_name": "HTMLModel",
          "state": {
            "_view_name": "HTMLView",
            "style": "IPY_MODEL_e60c9e52990248a2aa16ac05107f21e9",
            "_dom_classes": [],
            "description": "",
            "_model_name": "HTMLModel",
            "placeholder": "​",
            "_view_module": "@jupyter-widgets/controls",
            "_model_module_version": "1.5.0",
            "value": " 88/88 [24:01&lt;00:00, 16.38s/ba]",
            "_view_count": null,
            "_view_module_version": "1.5.0",
            "description_tooltip": null,
            "_model_module": "@jupyter-widgets/controls",
            "layout": "IPY_MODEL_40fb17c394774a95bc6a254ca2d27cd8"
          }
        },
        "0637f960857c48b889f0f936f7d47b80": {
          "model_module": "@jupyter-widgets/controls",
          "model_name": "ProgressStyleModel",
          "state": {
            "_view_name": "StyleView",
            "_model_name": "ProgressStyleModel",
            "description_width": "initial",
            "_view_module": "@jupyter-widgets/base",
            "_model_module_version": "1.5.0",
            "_view_count": null,
            "_view_module_version": "1.2.0",
            "bar_color": null,
            "_model_module": "@jupyter-widgets/controls"
          }
        },
        "5dbad0d8d4dd43a1a38549aa7b5504fa": {
          "model_module": "@jupyter-widgets/base",
          "model_name": "LayoutModel",
          "state": {
            "_view_name": "LayoutView",
            "grid_template_rows": null,
            "right": null,
            "justify_content": null,
            "_view_module": "@jupyter-widgets/base",
            "overflow": null,
            "_model_module_version": "1.2.0",
            "_view_count": null,
            "flex_flow": null,
            "width": null,
            "min_width": null,
            "border": null,
            "align_items": null,
            "bottom": null,
            "_model_module": "@jupyter-widgets/base",
            "top": null,
            "grid_column": null,
            "overflow_y": null,
            "overflow_x": null,
            "grid_auto_flow": null,
            "grid_area": null,
            "grid_template_columns": null,
            "flex": null,
            "_model_name": "LayoutModel",
            "justify_items": null,
            "grid_row": null,
            "max_height": null,
            "align_content": null,
            "visibility": null,
            "align_self": null,
            "height": null,
            "min_height": null,
            "padding": null,
            "grid_auto_rows": null,
            "grid_gap": null,
            "max_width": null,
            "order": null,
            "_view_module_version": "1.2.0",
            "grid_template_areas": null,
            "object_position": null,
            "object_fit": null,
            "grid_auto_columns": null,
            "margin": null,
            "display": null,
            "left": null
          }
        },
        "e60c9e52990248a2aa16ac05107f21e9": {
          "model_module": "@jupyter-widgets/controls",
          "model_name": "DescriptionStyleModel",
          "state": {
            "_view_name": "StyleView",
            "_model_name": "DescriptionStyleModel",
            "description_width": "",
            "_view_module": "@jupyter-widgets/base",
            "_model_module_version": "1.5.0",
            "_view_count": null,
            "_view_module_version": "1.2.0",
            "_model_module": "@jupyter-widgets/controls"
          }
        },
        "40fb17c394774a95bc6a254ca2d27cd8": {
          "model_module": "@jupyter-widgets/base",
          "model_name": "LayoutModel",
          "state": {
            "_view_name": "LayoutView",
            "grid_template_rows": null,
            "right": null,
            "justify_content": null,
            "_view_module": "@jupyter-widgets/base",
            "overflow": null,
            "_model_module_version": "1.2.0",
            "_view_count": null,
            "flex_flow": null,
            "width": null,
            "min_width": null,
            "border": null,
            "align_items": null,
            "bottom": null,
            "_model_module": "@jupyter-widgets/base",
            "top": null,
            "grid_column": null,
            "overflow_y": null,
            "overflow_x": null,
            "grid_auto_flow": null,
            "grid_area": null,
            "grid_template_columns": null,
            "flex": null,
            "_model_name": "LayoutModel",
            "justify_items": null,
            "grid_row": null,
            "max_height": null,
            "align_content": null,
            "visibility": null,
            "align_self": null,
            "height": null,
            "min_height": null,
            "padding": null,
            "grid_auto_rows": null,
            "grid_gap": null,
            "max_width": null,
            "order": null,
            "_view_module_version": "1.2.0",
            "grid_template_areas": null,
            "object_position": null,
            "object_fit": null,
            "grid_auto_columns": null,
            "margin": null,
            "display": null,
            "left": null
          }
        },
        "87ea2302957e4ba9b5ddcf73ecd17d26": {
          "model_module": "@jupyter-widgets/controls",
          "model_name": "HBoxModel",
          "state": {
            "_view_name": "HBoxView",
            "_dom_classes": [],
            "_model_name": "HBoxModel",
            "_view_module": "@jupyter-widgets/controls",
            "_model_module_version": "1.5.0",
            "_view_count": null,
            "_view_module_version": "1.5.0",
            "box_style": "",
            "layout": "IPY_MODEL_d7faf05144c14e63b595f1fb35e1b67a",
            "_model_module": "@jupyter-widgets/controls",
            "children": [
              "IPY_MODEL_38734bce3135489b9d2aa28a14d0d85e",
              "IPY_MODEL_c89c04e71af84467908448de161b11e1"
            ]
          }
        },
        "d7faf05144c14e63b595f1fb35e1b67a": {
          "model_module": "@jupyter-widgets/base",
          "model_name": "LayoutModel",
          "state": {
            "_view_name": "LayoutView",
            "grid_template_rows": null,
            "right": null,
            "justify_content": null,
            "_view_module": "@jupyter-widgets/base",
            "overflow": null,
            "_model_module_version": "1.2.0",
            "_view_count": null,
            "flex_flow": null,
            "width": null,
            "min_width": null,
            "border": null,
            "align_items": null,
            "bottom": null,
            "_model_module": "@jupyter-widgets/base",
            "top": null,
            "grid_column": null,
            "overflow_y": null,
            "overflow_x": null,
            "grid_auto_flow": null,
            "grid_area": null,
            "grid_template_columns": null,
            "flex": null,
            "_model_name": "LayoutModel",
            "justify_items": null,
            "grid_row": null,
            "max_height": null,
            "align_content": null,
            "visibility": null,
            "align_self": null,
            "height": null,
            "min_height": null,
            "padding": null,
            "grid_auto_rows": null,
            "grid_gap": null,
            "max_width": null,
            "order": null,
            "_view_module_version": "1.2.0",
            "grid_template_areas": null,
            "object_position": null,
            "object_fit": null,
            "grid_auto_columns": null,
            "margin": null,
            "display": null,
            "left": null
          }
        },
        "38734bce3135489b9d2aa28a14d0d85e": {
          "model_module": "@jupyter-widgets/controls",
          "model_name": "FloatProgressModel",
          "state": {
            "_view_name": "ProgressView",
            "style": "IPY_MODEL_47e5165b694e4830b73435402c56f2c6",
            "_dom_classes": [],
            "description": "Downloading: ",
            "_model_name": "FloatProgressModel",
            "bar_style": "success",
            "max": 1726,
            "_view_module": "@jupyter-widgets/controls",
            "_model_module_version": "1.5.0",
            "value": 1726,
            "_view_count": null,
            "_view_module_version": "1.5.0",
            "orientation": "horizontal",
            "min": 0,
            "description_tooltip": null,
            "_model_module": "@jupyter-widgets/controls",
            "layout": "IPY_MODEL_78ad9d3f7efd499ba4ce2e83ba45d3b0"
          }
        },
        "c89c04e71af84467908448de161b11e1": {
          "model_module": "@jupyter-widgets/controls",
          "model_name": "HTMLModel",
          "state": {
            "_view_name": "HTMLView",
            "style": "IPY_MODEL_d590a1e3ac9f4d26be19b8dc8dc2938f",
            "_dom_classes": [],
            "description": "",
            "_model_name": "HTMLModel",
            "placeholder": "​",
            "_view_module": "@jupyter-widgets/controls",
            "_model_module_version": "1.5.0",
            "value": " 4.51k/? [00:00&lt;00:00, 22.1kB/s]",
            "_view_count": null,
            "_view_module_version": "1.5.0",
            "description_tooltip": null,
            "_model_module": "@jupyter-widgets/controls",
            "layout": "IPY_MODEL_6bff438267184fb298acab2330142c73"
          }
        },
        "47e5165b694e4830b73435402c56f2c6": {
          "model_module": "@jupyter-widgets/controls",
          "model_name": "ProgressStyleModel",
          "state": {
            "_view_name": "StyleView",
            "_model_name": "ProgressStyleModel",
            "description_width": "initial",
            "_view_module": "@jupyter-widgets/base",
            "_model_module_version": "1.5.0",
            "_view_count": null,
            "_view_module_version": "1.2.0",
            "bar_color": null,
            "_model_module": "@jupyter-widgets/controls"
          }
        },
        "78ad9d3f7efd499ba4ce2e83ba45d3b0": {
          "model_module": "@jupyter-widgets/base",
          "model_name": "LayoutModel",
          "state": {
            "_view_name": "LayoutView",
            "grid_template_rows": null,
            "right": null,
            "justify_content": null,
            "_view_module": "@jupyter-widgets/base",
            "overflow": null,
            "_model_module_version": "1.2.0",
            "_view_count": null,
            "flex_flow": null,
            "width": null,
            "min_width": null,
            "border": null,
            "align_items": null,
            "bottom": null,
            "_model_module": "@jupyter-widgets/base",
            "top": null,
            "grid_column": null,
            "overflow_y": null,
            "overflow_x": null,
            "grid_auto_flow": null,
            "grid_area": null,
            "grid_template_columns": null,
            "flex": null,
            "_model_name": "LayoutModel",
            "justify_items": null,
            "grid_row": null,
            "max_height": null,
            "align_content": null,
            "visibility": null,
            "align_self": null,
            "height": null,
            "min_height": null,
            "padding": null,
            "grid_auto_rows": null,
            "grid_gap": null,
            "max_width": null,
            "order": null,
            "_view_module_version": "1.2.0",
            "grid_template_areas": null,
            "object_position": null,
            "object_fit": null,
            "grid_auto_columns": null,
            "margin": null,
            "display": null,
            "left": null
          }
        },
        "d590a1e3ac9f4d26be19b8dc8dc2938f": {
          "model_module": "@jupyter-widgets/controls",
          "model_name": "DescriptionStyleModel",
          "state": {
            "_view_name": "StyleView",
            "_model_name": "DescriptionStyleModel",
            "description_width": "",
            "_view_module": "@jupyter-widgets/base",
            "_model_module_version": "1.5.0",
            "_view_count": null,
            "_view_module_version": "1.2.0",
            "_model_module": "@jupyter-widgets/controls"
          }
        },
        "6bff438267184fb298acab2330142c73": {
          "model_module": "@jupyter-widgets/base",
          "model_name": "LayoutModel",
          "state": {
            "_view_name": "LayoutView",
            "grid_template_rows": null,
            "right": null,
            "justify_content": null,
            "_view_module": "@jupyter-widgets/base",
            "overflow": null,
            "_model_module_version": "1.2.0",
            "_view_count": null,
            "flex_flow": null,
            "width": null,
            "min_width": null,
            "border": null,
            "align_items": null,
            "bottom": null,
            "_model_module": "@jupyter-widgets/base",
            "top": null,
            "grid_column": null,
            "overflow_y": null,
            "overflow_x": null,
            "grid_auto_flow": null,
            "grid_area": null,
            "grid_template_columns": null,
            "flex": null,
            "_model_name": "LayoutModel",
            "justify_items": null,
            "grid_row": null,
            "max_height": null,
            "align_content": null,
            "visibility": null,
            "align_self": null,
            "height": null,
            "min_height": null,
            "padding": null,
            "grid_auto_rows": null,
            "grid_gap": null,
            "max_width": null,
            "order": null,
            "_view_module_version": "1.2.0",
            "grid_template_areas": null,
            "object_position": null,
            "object_fit": null,
            "grid_auto_columns": null,
            "margin": null,
            "display": null,
            "left": null
          }
        },
        "7eeeb41d13ac49ea9fe948d549445405": {
          "model_module": "@jupyter-widgets/controls",
          "model_name": "HBoxModel",
          "state": {
            "_view_name": "HBoxView",
            "_dom_classes": [],
            "_model_name": "HBoxModel",
            "_view_module": "@jupyter-widgets/controls",
            "_model_module_version": "1.5.0",
            "_view_count": null,
            "_view_module_version": "1.5.0",
            "box_style": "",
            "layout": "IPY_MODEL_fdf85ec111df401ca12a65800017c4a6",
            "_model_module": "@jupyter-widgets/controls",
            "children": [
              "IPY_MODEL_4572dd366aa24866abee190fdd78e596",
              "IPY_MODEL_13965ed972b14f1fb6f4340c0c1ba0bb"
            ]
          }
        },
        "fdf85ec111df401ca12a65800017c4a6": {
          "model_module": "@jupyter-widgets/base",
          "model_name": "LayoutModel",
          "state": {
            "_view_name": "LayoutView",
            "grid_template_rows": null,
            "right": null,
            "justify_content": null,
            "_view_module": "@jupyter-widgets/base",
            "overflow": null,
            "_model_module_version": "1.2.0",
            "_view_count": null,
            "flex_flow": null,
            "width": null,
            "min_width": null,
            "border": null,
            "align_items": null,
            "bottom": null,
            "_model_module": "@jupyter-widgets/base",
            "top": null,
            "grid_column": null,
            "overflow_y": null,
            "overflow_x": null,
            "grid_auto_flow": null,
            "grid_area": null,
            "grid_template_columns": null,
            "flex": null,
            "_model_name": "LayoutModel",
            "justify_items": null,
            "grid_row": null,
            "max_height": null,
            "align_content": null,
            "visibility": null,
            "align_self": null,
            "height": null,
            "min_height": null,
            "padding": null,
            "grid_auto_rows": null,
            "grid_gap": null,
            "max_width": null,
            "order": null,
            "_view_module_version": "1.2.0",
            "grid_template_areas": null,
            "object_position": null,
            "object_fit": null,
            "grid_auto_columns": null,
            "margin": null,
            "display": null,
            "left": null
          }
        },
        "4572dd366aa24866abee190fdd78e596": {
          "model_module": "@jupyter-widgets/controls",
          "model_name": "FloatProgressModel",
          "state": {
            "_view_name": "ProgressView",
            "style": "IPY_MODEL_635f077c1cfd4f83bdb6321076722e30",
            "_dom_classes": [],
            "description": "Downloading: ",
            "_model_name": "FloatProgressModel",
            "bar_style": "success",
            "max": 1132,
            "_view_module": "@jupyter-widgets/controls",
            "_model_module_version": "1.5.0",
            "value": 1132,
            "_view_count": null,
            "_view_module_version": "1.5.0",
            "orientation": "horizontal",
            "min": 0,
            "description_tooltip": null,
            "_model_module": "@jupyter-widgets/controls",
            "layout": "IPY_MODEL_ecd2aa74229e4d7c8568d710a401f4f4"
          }
        },
        "13965ed972b14f1fb6f4340c0c1ba0bb": {
          "model_module": "@jupyter-widgets/controls",
          "model_name": "HTMLModel",
          "state": {
            "_view_name": "HTMLView",
            "style": "IPY_MODEL_c9224b53011b4f789280065b1c66d749",
            "_dom_classes": [],
            "description": "",
            "_model_name": "HTMLModel",
            "placeholder": "​",
            "_view_module": "@jupyter-widgets/controls",
            "_model_module_version": "1.5.0",
            "value": " 3.35k/? [00:00&lt;00:00, 39.4kB/s]",
            "_view_count": null,
            "_view_module_version": "1.5.0",
            "description_tooltip": null,
            "_model_module": "@jupyter-widgets/controls",
            "layout": "IPY_MODEL_003fcce42be5446fa7156e465a0c41a1"
          }
        },
        "635f077c1cfd4f83bdb6321076722e30": {
          "model_module": "@jupyter-widgets/controls",
          "model_name": "ProgressStyleModel",
          "state": {
            "_view_name": "StyleView",
            "_model_name": "ProgressStyleModel",
            "description_width": "initial",
            "_view_module": "@jupyter-widgets/base",
            "_model_module_version": "1.5.0",
            "_view_count": null,
            "_view_module_version": "1.2.0",
            "bar_color": null,
            "_model_module": "@jupyter-widgets/controls"
          }
        },
        "ecd2aa74229e4d7c8568d710a401f4f4": {
          "model_module": "@jupyter-widgets/base",
          "model_name": "LayoutModel",
          "state": {
            "_view_name": "LayoutView",
            "grid_template_rows": null,
            "right": null,
            "justify_content": null,
            "_view_module": "@jupyter-widgets/base",
            "overflow": null,
            "_model_module_version": "1.2.0",
            "_view_count": null,
            "flex_flow": null,
            "width": null,
            "min_width": null,
            "border": null,
            "align_items": null,
            "bottom": null,
            "_model_module": "@jupyter-widgets/base",
            "top": null,
            "grid_column": null,
            "overflow_y": null,
            "overflow_x": null,
            "grid_auto_flow": null,
            "grid_area": null,
            "grid_template_columns": null,
            "flex": null,
            "_model_name": "LayoutModel",
            "justify_items": null,
            "grid_row": null,
            "max_height": null,
            "align_content": null,
            "visibility": null,
            "align_self": null,
            "height": null,
            "min_height": null,
            "padding": null,
            "grid_auto_rows": null,
            "grid_gap": null,
            "max_width": null,
            "order": null,
            "_view_module_version": "1.2.0",
            "grid_template_areas": null,
            "object_position": null,
            "object_fit": null,
            "grid_auto_columns": null,
            "margin": null,
            "display": null,
            "left": null
          }
        },
        "c9224b53011b4f789280065b1c66d749": {
          "model_module": "@jupyter-widgets/controls",
          "model_name": "DescriptionStyleModel",
          "state": {
            "_view_name": "StyleView",
            "_model_name": "DescriptionStyleModel",
            "description_width": "",
            "_view_module": "@jupyter-widgets/base",
            "_model_module_version": "1.5.0",
            "_view_count": null,
            "_view_module_version": "1.2.0",
            "_model_module": "@jupyter-widgets/controls"
          }
        },
        "003fcce42be5446fa7156e465a0c41a1": {
          "model_module": "@jupyter-widgets/base",
          "model_name": "LayoutModel",
          "state": {
            "_view_name": "LayoutView",
            "grid_template_rows": null,
            "right": null,
            "justify_content": null,
            "_view_module": "@jupyter-widgets/base",
            "overflow": null,
            "_model_module_version": "1.2.0",
            "_view_count": null,
            "flex_flow": null,
            "width": null,
            "min_width": null,
            "border": null,
            "align_items": null,
            "bottom": null,
            "_model_module": "@jupyter-widgets/base",
            "top": null,
            "grid_column": null,
            "overflow_y": null,
            "overflow_x": null,
            "grid_auto_flow": null,
            "grid_area": null,
            "grid_template_columns": null,
            "flex": null,
            "_model_name": "LayoutModel",
            "justify_items": null,
            "grid_row": null,
            "max_height": null,
            "align_content": null,
            "visibility": null,
            "align_self": null,
            "height": null,
            "min_height": null,
            "padding": null,
            "grid_auto_rows": null,
            "grid_gap": null,
            "max_width": null,
            "order": null,
            "_view_module_version": "1.2.0",
            "grid_template_areas": null,
            "object_position": null,
            "object_fit": null,
            "grid_auto_columns": null,
            "margin": null,
            "display": null,
            "left": null
          }
        }
      }
    }
  },
  "cells": [
    {
      "cell_type": "markdown",
      "metadata": {
        "id": "0lLFOMAf5qfA"
      },
      "source": [
        "# Import Dependencies"
      ]
    },
    {
      "cell_type": "markdown",
      "metadata": {
        "id": "G_N2UDLevYWn"
      },
      "source": [
        "\n",
        "Let's install the [transformers](https://github.com/huggingface/transformers) and [datasets](https://github.com/huggingface/datasets) packages from Hugging Face which will give us a pytorch interface for working with transformers. (This library contains interfaces for other pretrained language models like OpenAI's GPT and GPT-2).\n",
        "\n",
        "At the moment, the Hugging Face library seems to be the most widely accepted and powerful pytorch interface for working with transformers. In addition to supporting a variety of different pre-trained transformer models, the library also includes pre-built modifications of these models suited to your specific task.\n",
        "\n",
        "The library also includes task-specific classes for token classification, question answering, next sentence prediciton, etc.\n",
        "\n",
        "Datasets is a lightweight library providing simple, fast and reproducible data pre-processing for the public datasets as well as your own local datasets in CSV/JSON/text. With simple commandes like `tokenized_dataset = dataset.map(tokenize_exemple)` efficiently prepare the dataset for inspection and ML model evaluation and training.\n"
      ]
    },
    {
      "cell_type": "code",
      "metadata": {
        "colab": {
          "base_uri": "https://localhost:8080/"
        },
        "id": "FLUZHZKkM6S7",
        "outputId": "f3218809-75f5-4b62-c3b6-7c36cf99275a"
      },
      "source": [
        "!pip install transformers\r\n",
        "!pip install datasets"
      ],
      "execution_count": 2,
      "outputs": [
        {
          "output_type": "stream",
          "text": [
            "Collecting transformers\n",
            "\u001b[?25l  Downloading https://files.pythonhosted.org/packages/f9/54/5ca07ec9569d2f232f3166de5457b63943882f7950ddfcc887732fc7fb23/transformers-4.3.3-py3-none-any.whl (1.9MB)\n",
            "\u001b[K     |████████████████████████████████| 1.9MB 11.8MB/s \n",
            "\u001b[?25hRequirement already satisfied: regex!=2019.12.17 in /usr/local/lib/python3.7/dist-packages (from transformers) (2019.12.20)\n",
            "Collecting sacremoses\n",
            "\u001b[?25l  Downloading https://files.pythonhosted.org/packages/7d/34/09d19aff26edcc8eb2a01bed8e98f13a1537005d31e95233fd48216eed10/sacremoses-0.0.43.tar.gz (883kB)\n",
            "\u001b[K     |████████████████████████████████| 890kB 43.0MB/s \n",
            "\u001b[?25hRequirement already satisfied: importlib-metadata; python_version < \"3.8\" in /usr/local/lib/python3.7/dist-packages (from transformers) (3.4.0)\n",
            "Requirement already satisfied: filelock in /usr/local/lib/python3.7/dist-packages (from transformers) (3.0.12)\n",
            "Requirement already satisfied: requests in /usr/local/lib/python3.7/dist-packages (from transformers) (2.23.0)\n",
            "Requirement already satisfied: packaging in /usr/local/lib/python3.7/dist-packages (from transformers) (20.9)\n",
            "Requirement already satisfied: tqdm>=4.27 in /usr/local/lib/python3.7/dist-packages (from transformers) (4.41.1)\n",
            "Requirement already satisfied: numpy>=1.17 in /usr/local/lib/python3.7/dist-packages (from transformers) (1.19.5)\n",
            "Collecting tokenizers<0.11,>=0.10.1\n",
            "\u001b[?25l  Downloading https://files.pythonhosted.org/packages/71/23/2ddc317b2121117bf34dd00f5b0de194158f2a44ee2bf5e47c7166878a97/tokenizers-0.10.1-cp37-cp37m-manylinux2010_x86_64.whl (3.2MB)\n",
            "\u001b[K     |████████████████████████████████| 3.2MB 46.7MB/s \n",
            "\u001b[?25hRequirement already satisfied: six in /usr/local/lib/python3.7/dist-packages (from sacremoses->transformers) (1.15.0)\n",
            "Requirement already satisfied: click in /usr/local/lib/python3.7/dist-packages (from sacremoses->transformers) (7.1.2)\n",
            "Requirement already satisfied: joblib in /usr/local/lib/python3.7/dist-packages (from sacremoses->transformers) (1.0.1)\n",
            "Requirement already satisfied: typing-extensions>=3.6.4; python_version < \"3.8\" in /usr/local/lib/python3.7/dist-packages (from importlib-metadata; python_version < \"3.8\"->transformers) (3.7.4.3)\n",
            "Requirement already satisfied: zipp>=0.5 in /usr/local/lib/python3.7/dist-packages (from importlib-metadata; python_version < \"3.8\"->transformers) (3.4.0)\n",
            "Requirement already satisfied: chardet<4,>=3.0.2 in /usr/local/lib/python3.7/dist-packages (from requests->transformers) (3.0.4)\n",
            "Requirement already satisfied: idna<3,>=2.5 in /usr/local/lib/python3.7/dist-packages (from requests->transformers) (2.10)\n",
            "Requirement already satisfied: urllib3!=1.25.0,!=1.25.1,<1.26,>=1.21.1 in /usr/local/lib/python3.7/dist-packages (from requests->transformers) (1.24.3)\n",
            "Requirement already satisfied: certifi>=2017.4.17 in /usr/local/lib/python3.7/dist-packages (from requests->transformers) (2020.12.5)\n",
            "Requirement already satisfied: pyparsing>=2.0.2 in /usr/local/lib/python3.7/dist-packages (from packaging->transformers) (2.4.7)\n",
            "Building wheels for collected packages: sacremoses\n",
            "  Building wheel for sacremoses (setup.py) ... \u001b[?25l\u001b[?25hdone\n",
            "  Created wheel for sacremoses: filename=sacremoses-0.0.43-cp37-none-any.whl size=893262 sha256=f80499acb8eaf08e748282af5c2172ad06cd25d349a5b28f46ac78767f40c22a\n",
            "  Stored in directory: /root/.cache/pip/wheels/29/3c/fd/7ce5c3f0666dab31a50123635e6fb5e19ceb42ce38d4e58f45\n",
            "Successfully built sacremoses\n",
            "Installing collected packages: sacremoses, tokenizers, transformers\n",
            "Successfully installed sacremoses-0.0.43 tokenizers-0.10.1 transformers-4.3.3\n",
            "Collecting datasets\n",
            "\u001b[?25l  Downloading https://files.pythonhosted.org/packages/a2/12/5fd53adc5ba8a8d562b19f2c1c859547659e96b87a767cd52556538d205e/datasets-1.3.0-py3-none-any.whl (181kB)\n",
            "\u001b[K     |████████████████████████████████| 184kB 20.5MB/s \n",
            "\u001b[?25hCollecting huggingface-hub==0.0.2\n",
            "  Downloading https://files.pythonhosted.org/packages/b5/93/7cb0755c62c36cdadc70c79a95681df685b52cbaf76c724facb6ecac3272/huggingface_hub-0.0.2-py3-none-any.whl\n",
            "Requirement already satisfied: dill in /usr/local/lib/python3.7/dist-packages (from datasets) (0.3.3)\n",
            "Requirement already satisfied: pandas in /usr/local/lib/python3.7/dist-packages (from datasets) (1.1.5)\n",
            "Requirement already satisfied: numpy>=1.17 in /usr/local/lib/python3.7/dist-packages (from datasets) (1.19.5)\n",
            "Requirement already satisfied: tqdm<4.50.0,>=4.27 in /usr/local/lib/python3.7/dist-packages (from datasets) (4.41.1)\n",
            "Requirement already satisfied: importlib-metadata; python_version < \"3.8\" in /usr/local/lib/python3.7/dist-packages (from datasets) (3.4.0)\n",
            "Collecting xxhash\n",
            "\u001b[?25l  Downloading https://files.pythonhosted.org/packages/e7/27/1c0b37c53a7852f1c190ba5039404d27b3ae96a55f48203a74259f8213c9/xxhash-2.0.0-cp37-cp37m-manylinux2010_x86_64.whl (243kB)\n",
            "\u001b[K     |████████████████████████████████| 245kB 43.3MB/s \n",
            "\u001b[?25hRequirement already satisfied: requests>=2.19.0 in /usr/local/lib/python3.7/dist-packages (from datasets) (2.23.0)\n",
            "Requirement already satisfied: multiprocess in /usr/local/lib/python3.7/dist-packages (from datasets) (0.70.11.1)\n",
            "Collecting pyarrow>=0.17.1\n",
            "\u001b[?25l  Downloading https://files.pythonhosted.org/packages/fc/61/814f4c8d2cd4d51dfd80a9c4ea14b8fd09e37cb0f6962c1f04d504a02e03/pyarrow-3.0.0-cp37-cp37m-manylinux2014_x86_64.whl (20.7MB)\n",
            "\u001b[K     |████████████████████████████████| 20.7MB 1.2MB/s \n",
            "\u001b[?25hCollecting fsspec\n",
            "\u001b[?25l  Downloading https://files.pythonhosted.org/packages/91/0d/a6bfee0ddf47b254286b9bd574e6f50978c69897647ae15b14230711806e/fsspec-0.8.7-py3-none-any.whl (103kB)\n",
            "\u001b[K     |████████████████████████████████| 112kB 57.5MB/s \n",
            "\u001b[?25hRequirement already satisfied: filelock in /usr/local/lib/python3.7/dist-packages (from huggingface-hub==0.0.2->datasets) (3.0.12)\n",
            "Requirement already satisfied: pytz>=2017.2 in /usr/local/lib/python3.7/dist-packages (from pandas->datasets) (2018.9)\n",
            "Requirement already satisfied: python-dateutil>=2.7.3 in /usr/local/lib/python3.7/dist-packages (from pandas->datasets) (2.8.1)\n",
            "Requirement already satisfied: typing-extensions>=3.6.4; python_version < \"3.8\" in /usr/local/lib/python3.7/dist-packages (from importlib-metadata; python_version < \"3.8\"->datasets) (3.7.4.3)\n",
            "Requirement already satisfied: zipp>=0.5 in /usr/local/lib/python3.7/dist-packages (from importlib-metadata; python_version < \"3.8\"->datasets) (3.4.0)\n",
            "Requirement already satisfied: chardet<4,>=3.0.2 in /usr/local/lib/python3.7/dist-packages (from requests>=2.19.0->datasets) (3.0.4)\n",
            "Requirement already satisfied: certifi>=2017.4.17 in /usr/local/lib/python3.7/dist-packages (from requests>=2.19.0->datasets) (2020.12.5)\n",
            "Requirement already satisfied: urllib3!=1.25.0,!=1.25.1,<1.26,>=1.21.1 in /usr/local/lib/python3.7/dist-packages (from requests>=2.19.0->datasets) (1.24.3)\n",
            "Requirement already satisfied: idna<3,>=2.5 in /usr/local/lib/python3.7/dist-packages (from requests>=2.19.0->datasets) (2.10)\n",
            "Requirement already satisfied: six>=1.5 in /usr/local/lib/python3.7/dist-packages (from python-dateutil>=2.7.3->pandas->datasets) (1.15.0)\n",
            "Installing collected packages: huggingface-hub, xxhash, pyarrow, fsspec, datasets\n",
            "  Found existing installation: pyarrow 0.14.1\n",
            "    Uninstalling pyarrow-0.14.1:\n",
            "      Successfully uninstalled pyarrow-0.14.1\n",
            "Successfully installed datasets-1.3.0 fsspec-0.8.7 huggingface-hub-0.0.2 pyarrow-3.0.0 xxhash-2.0.0\n"
          ],
          "name": "stdout"
        }
      ]
    },
    {
      "cell_type": "code",
      "metadata": {
        "colab": {
          "base_uri": "https://localhost:8080/"
        },
        "id": "Q56PwL1LiG3N",
        "outputId": "88455f6c-3b44-43ae-90de-f572fa36f9a0"
      },
      "source": [
        "import numpy as np\r\n",
        "import pandas as pd\r\n",
        "\r\n",
        "import torch\r\n",
        "\r\n",
        "import json\r\n",
        "import sys\r\n",
        "import time\r\n",
        "import datetime\r\n",
        "import random\r\n",
        "\r\n",
        "import transformers\r\n",
        "import datasets\r\n",
        "from datasets import load_dataset\r\n",
        "\r\n",
        "from google.colab import drive\r\n",
        "drive.mount(\"/content/drive\")"
      ],
      "execution_count": 3,
      "outputs": [
        {
          "output_type": "stream",
          "text": [
            "Mounted at /content/drive\n"
          ],
          "name": "stdout"
        }
      ]
    },
    {
      "cell_type": "code",
      "metadata": {
        "colab": {
          "base_uri": "https://localhost:8080/",
          "height": 35
        },
        "id": "Ba7DhxpUofmv",
        "outputId": "8363a3b2-5e97-4fb8-bd0c-9f318cf0273a"
      },
      "source": [
        "torch.__version__"
      ],
      "execution_count": 4,
      "outputs": [
        {
          "output_type": "execute_result",
          "data": {
            "application/vnd.google.colaboratory.intrinsic+json": {
              "type": "string"
            },
            "text/plain": [
              "'1.7.0+cu101'"
            ]
          },
          "metadata": {
            "tags": []
          },
          "execution_count": 4
        }
      ]
    },
    {
      "cell_type": "code",
      "metadata": {
        "colab": {
          "base_uri": "https://localhost:8080/",
          "height": 35
        },
        "id": "ZgSrs3jROoWh",
        "outputId": "9316fe35-ebfa-4771-abd5-c58ee21f1d4b"
      },
      "source": [
        "transformers.__version__"
      ],
      "execution_count": 5,
      "outputs": [
        {
          "output_type": "execute_result",
          "data": {
            "application/vnd.google.colaboratory.intrinsic+json": {
              "type": "string"
            },
            "text/plain": [
              "'4.3.3'"
            ]
          },
          "metadata": {
            "tags": []
          },
          "execution_count": 5
        }
      ]
    },
    {
      "cell_type": "code",
      "metadata": {
        "colab": {
          "base_uri": "https://localhost:8080/",
          "height": 35
        },
        "id": "dFxTZW1COsUi",
        "outputId": "1185306e-f628-42a6-fd1f-40df4164d288"
      },
      "source": [
        "datasets.__version__"
      ],
      "execution_count": 6,
      "outputs": [
        {
          "output_type": "execute_result",
          "data": {
            "application/vnd.google.colaboratory.intrinsic+json": {
              "type": "string"
            },
            "text/plain": [
              "'1.3.0'"
            ]
          },
          "metadata": {
            "tags": []
          },
          "execution_count": 6
        }
      ]
    },
    {
      "cell_type": "markdown",
      "metadata": {
        "id": "LPmh48qzlrzk"
      },
      "source": [
        "# Reproducibility\n",
        "\n",
        "\n",
        "\n",
        "\n"
      ]
    },
    {
      "cell_type": "code",
      "metadata": {
        "id": "gENJjhhcs768"
      },
      "source": [
        "def fix_random(seed):\n",
        "\n",
        "  np.random.seed(seed)\n",
        "  random.seed(seed)\n",
        "  torch.manual_seed(seed)\n",
        "  torch.cuda.manual_seed(seed)\n",
        "\n",
        "  torch.backends.cudnn.benchmark = False\n",
        "  torch.backends.cudnn.deterministic = True"
      ],
      "execution_count": 7,
      "outputs": []
    },
    {
      "cell_type": "code",
      "metadata": {
        "id": "F9uG9WFsN6-S"
      },
      "source": [
        "fix_random(seed=42)"
      ],
      "execution_count": 8,
      "outputs": []
    },
    {
      "cell_type": "markdown",
      "metadata": {
        "id": "aJbkbcfoyPFY"
      },
      "source": [
        "# Runtime Settings\n",
        "\n",
        "Here we set the `device`, which is used to place tensors on our GPU, if we have one. If no GPU is available, you should change the Runtime settings. "
      ]
    },
    {
      "cell_type": "code",
      "metadata": {
        "id": "ib8_3-Scxvk8"
      },
      "source": [
        "device = torch.device(\"cuda\" if torch.cuda.is_available() else \"cpu\")"
      ],
      "execution_count": 9,
      "outputs": []
    },
    {
      "cell_type": "code",
      "metadata": {
        "id": "I8YXWMiA7fVB",
        "colab": {
          "base_uri": "https://localhost:8080/"
        },
        "outputId": "cde7047e-8d6a-4822-e011-caea4f07c2a8"
      },
      "source": [
        "!nvidia-smi"
      ],
      "execution_count": 10,
      "outputs": [
        {
          "output_type": "stream",
          "text": [
            "Fri Feb 26 14:17:36 2021       \n",
            "+-----------------------------------------------------------------------------+\n",
            "| NVIDIA-SMI 460.39       Driver Version: 460.32.03    CUDA Version: 11.2     |\n",
            "|-------------------------------+----------------------+----------------------+\n",
            "| GPU  Name        Persistence-M| Bus-Id        Disp.A | Volatile Uncorr. ECC |\n",
            "| Fan  Temp  Perf  Pwr:Usage/Cap|         Memory-Usage | GPU-Util  Compute M. |\n",
            "|                               |                      |               MIG M. |\n",
            "|===============================+======================+======================|\n",
            "|   0  Tesla T4            Off  | 00000000:00:04.0 Off |                    0 |\n",
            "| N/A   42C    P8    12W /  70W |      3MiB / 15109MiB |      0%      Default |\n",
            "|                               |                      |                  N/A |\n",
            "+-------------------------------+----------------------+----------------------+\n",
            "                                                                               \n",
            "+-----------------------------------------------------------------------------+\n",
            "| Processes:                                                                  |\n",
            "|  GPU   GI   CI        PID   Type   Process name                  GPU Memory |\n",
            "|        ID   ID                                                   Usage      |\n",
            "|=============================================================================|\n",
            "|  No running processes found                                                 |\n",
            "+-----------------------------------------------------------------------------+\n"
          ],
          "name": "stdout"
        }
      ]
    },
    {
      "cell_type": "markdown",
      "metadata": {
        "id": "rATgVca-z-ue"
      },
      "source": [
        "#Load"
      ]
    },
    {
      "cell_type": "code",
      "metadata": {
        "id": "dIGqe1a6rceN"
      },
      "source": [
        "class LoadData():\r\n",
        "    def __init__(self,\r\n",
        "                 path_to_json_file: str,\r\n",
        "                 checkpoint_path: str,\r\n",
        "                 test_file: str = 'test.csv') -> None:\r\n",
        "        \"\"\"Load the data by flattening the json file and saving it.\r\n",
        "\r\n",
        "          Args:\r\n",
        "              path_to_json_file: path to the json file.\r\n",
        "              checkpoint_path: path where to save the csv files.\r\n",
        "              test_file: name of the test csv file that will be created.\r\n",
        "        \"\"\"\r\n",
        "\r\n",
        "        self.path_to_json_file = path_to_json_file\r\n",
        "        self.checkpoint_path = checkpoint_path\r\n",
        "\r\n",
        "        self.test_file = test_file\r\n",
        "\r\n",
        "        self.data = self.load_data()\r\n",
        "\r\n",
        "    def load_data(self):\r\n",
        "        with open(self.path_to_json_file, 'r') as f:\r\n",
        "            test_data = json.load(f)\r\n",
        "        print(f'Flattening SQUAD {test_data[\"version\"]}')\r\n",
        "        test_data_flat, errors = self.load_squad_data(test_data)\r\n",
        "        print(f'\\nErroneous Datapoints: {errors}')\r\n",
        "\r\n",
        "        pd.DataFrame(test_data_flat).to_csv(self.checkpoint_path + self.test_file, encoding='utf-8')\r\n",
        "\r\n",
        "    def load_squad_data(self, data):\r\n",
        "\r\n",
        "        errors = 0\r\n",
        "        flattened_data_test = []\r\n",
        "\r\n",
        "        for i, article in enumerate(data[\"data\"]):\r\n",
        "            title = article.get(\"title\", \"\").strip()\r\n",
        "            for paragraph in article[\"paragraphs\"]:\r\n",
        "                context = paragraph[\"context\"].strip()\r\n",
        "                for qa in paragraph[\"qas\"]:\r\n",
        "                    question = qa[\"question\"].strip()\r\n",
        "                    id_ = qa[\"id\"]\r\n",
        "\r\n",
        "                    answer_starts = [answer[\"answer_start\"] for answer in qa[\"answers\"]]\r\n",
        "                    answers = [answer[\"text\"].strip() for answer in qa[\"answers\"]]\r\n",
        "\r\n",
        "                    # Features currently used are \"context\", \"question\", and \"answers\".\r\n",
        "                    # Others are extracted here for the ease of future expansions.\r\n",
        "                    flattened_data_test.append({\"title\": title,\r\n",
        "                                                \"context\": context,\r\n",
        "                                                \"question\": question,\r\n",
        "                                                \"id\": id_,\r\n",
        "                                                \"answers\": {\r\n",
        "                                                    \"answer_start\": answer_starts,\r\n",
        "                                                    \"text\": answers}\r\n",
        "                                                })\r\n",
        "\r\n",
        "\r\n",
        "        return flattened_data_test, errors"
      ],
      "execution_count": 11,
      "outputs": []
    },
    {
      "cell_type": "code",
      "metadata": {
        "id": "gLClOaPt0luI"
      },
      "source": [
        "# Folder on your Google Drive where all the checkpoints will be saved and where the dataset files are stored and loaded from\r\n",
        "FOLDER_NAME = \"NLPproject\" # @param {type: \"string\"}\r\n",
        "JSON_TEST_FILE = \"training_set.json\" # @param {type: \"string\"}\r\n",
        "data_path = \"drive/My Drive/\" + FOLDER_NAME +\"/\"  # Full path to Drive folder\r\n",
        "file_path = data_path + JSON_TEST_FILE\r\n",
        "checkpoint_path = data_path"
      ],
      "execution_count": 12,
      "outputs": []
    },
    {
      "cell_type": "code",
      "metadata": {
        "colab": {
          "base_uri": "https://localhost:8080/"
        },
        "id": "Y6DQzGjkiQaC",
        "outputId": "a8ecdb3d-42e8-4aa1-9f5f-793f2848d08c"
      },
      "source": [
        "_ = LoadData(file_path, checkpoint_path)"
      ],
      "execution_count": 13,
      "outputs": [
        {
          "output_type": "stream",
          "text": [
            "Flattening SQUAD 1.1\n",
            "\n",
            "Erroneous Datapoints: 0\n"
          ],
          "name": "stdout"
        }
      ]
    },
    {
      "cell_type": "code",
      "metadata": {
        "colab": {
          "base_uri": "https://localhost:8080/",
          "height": 87,
          "referenced_widgets": [
            "45d967748f774981b0b601d21f7b3b86",
            "c2b66f737e954bd0ad83e1a2b06671f2",
            "b61a3220a9e94548ac5d5bab5342ae15",
            "8f929e564ff941f79e07345ed8b64bf7",
            "eed47621ae8b4bb593d2de860e88253d",
            "c0616985a49f43c08fc21bdc37b6734d",
            "1aa9b16abd974865bc55534019d3d482",
            "f9a83a558b5047a08d4ed3403d717fe3"
          ]
        },
        "id": "Ji9Vo1imO5Vq",
        "outputId": "9056624c-91ec-42dd-f664-96c9097b2820"
      },
      "source": [
        "from datasets import load_dataset\r\n",
        "test_data = load_dataset('csv', data_files=data_path+\"test.csv\")"
      ],
      "execution_count": 14,
      "outputs": [
        {
          "output_type": "stream",
          "text": [
            "Using custom data configuration default-eb394b1ea6583503\n"
          ],
          "name": "stderr"
        },
        {
          "output_type": "stream",
          "text": [
            "Downloading and preparing dataset csv/default (download: Unknown size, generated: Unknown size, post-processed: Unknown size, total: Unknown size) to /root/.cache/huggingface/datasets/csv/default-eb394b1ea6583503/0.0.0/965b6429be0fc05f975b608ce64e1fa941cc8fb4f30629b523d2390f3c0e1a93...\n"
          ],
          "name": "stdout"
        },
        {
          "output_type": "display_data",
          "data": {
            "application/vnd.jupyter.widget-view+json": {
              "model_id": "45d967748f774981b0b601d21f7b3b86",
              "version_minor": 0,
              "version_major": 2
            },
            "text/plain": [
              "HBox(children=(FloatProgress(value=1.0, bar_style='info', max=1.0), HTML(value='')))"
            ]
          },
          "metadata": {
            "tags": []
          }
        },
        {
          "output_type": "stream",
          "text": [
            "\rDataset csv downloaded and prepared to /root/.cache/huggingface/datasets/csv/default-eb394b1ea6583503/0.0.0/965b6429be0fc05f975b608ce64e1fa941cc8fb4f30629b523d2390f3c0e1a93. Subsequent calls will reuse this data.\n"
          ],
          "name": "stdout"
        }
      ]
    },
    {
      "cell_type": "code",
      "metadata": {
        "colab": {
          "base_uri": "https://localhost:8080/",
          "height": 66,
          "referenced_widgets": [
            "014ab4f093494dbbb3bdddd26a02b87f",
            "3bca1de1cd7447899a691a08dab0924e",
            "2538c66057004714a990822938f3a80b",
            "2c1bc43d87604d9aaeee86ab0afcdc5b",
            "08dd0c68202241e8ad46c9e0e600a8c3",
            "d30a03b5a25746b5ab9e2a6eecd0016a",
            "a5d42d8052e949ab985348423e87595d",
            "d33f5a7911294637836d83096bc5f1b4"
          ]
        },
        "id": "S4quNVngMpHV",
        "outputId": "da0e3877-b44f-45d9-f4d1-2215db67e801"
      },
      "source": [
        "import ast\r\n",
        "\r\n",
        "def string_to_dict(examples):\r\n",
        "  examples['answers'] = ast.literal_eval(examples['answers'])\r\n",
        "  return examples\r\n",
        "  \r\n",
        "\r\n",
        "test_data = test_data.map(string_to_dict)"
      ],
      "execution_count": 15,
      "outputs": [
        {
          "output_type": "display_data",
          "data": {
            "application/vnd.jupyter.widget-view+json": {
              "model_id": "014ab4f093494dbbb3bdddd26a02b87f",
              "version_minor": 0,
              "version_major": 2
            },
            "text/plain": [
              "HBox(children=(FloatProgress(value=0.0, max=87599.0), HTML(value='')))"
            ]
          },
          "metadata": {
            "tags": []
          }
        },
        {
          "output_type": "stream",
          "text": [
            "\n"
          ],
          "name": "stdout"
        }
      ]
    },
    {
      "cell_type": "code",
      "metadata": {
        "colab": {
          "base_uri": "https://localhost:8080/",
          "height": 721
        },
        "id": "b6twxoFaRNHK",
        "outputId": "24374822-07c0-4fff-893f-1d02916d7acd"
      },
      "source": [
        "test_dataframe = pd.read_csv(data_path+\"test.csv\")\r\n",
        "test_dataframe"
      ],
      "execution_count": 16,
      "outputs": [
        {
          "output_type": "execute_result",
          "data": {
            "text/html": [
              "<div>\n",
              "<style scoped>\n",
              "    .dataframe tbody tr th:only-of-type {\n",
              "        vertical-align: middle;\n",
              "    }\n",
              "\n",
              "    .dataframe tbody tr th {\n",
              "        vertical-align: top;\n",
              "    }\n",
              "\n",
              "    .dataframe thead th {\n",
              "        text-align: right;\n",
              "    }\n",
              "</style>\n",
              "<table border=\"1\" class=\"dataframe\">\n",
              "  <thead>\n",
              "    <tr style=\"text-align: right;\">\n",
              "      <th></th>\n",
              "      <th>Unnamed: 0</th>\n",
              "      <th>title</th>\n",
              "      <th>context</th>\n",
              "      <th>question</th>\n",
              "      <th>id</th>\n",
              "      <th>answers</th>\n",
              "    </tr>\n",
              "  </thead>\n",
              "  <tbody>\n",
              "    <tr>\n",
              "      <th>0</th>\n",
              "      <td>0</td>\n",
              "      <td>University_of_Notre_Dame</td>\n",
              "      <td>Architecturally, the school has a Catholic cha...</td>\n",
              "      <td>To whom did the Virgin Mary allegedly appear i...</td>\n",
              "      <td>5733be284776f41900661182</td>\n",
              "      <td>{'answer_start': [515], 'text': ['Saint Bernad...</td>\n",
              "    </tr>\n",
              "    <tr>\n",
              "      <th>1</th>\n",
              "      <td>1</td>\n",
              "      <td>University_of_Notre_Dame</td>\n",
              "      <td>Architecturally, the school has a Catholic cha...</td>\n",
              "      <td>What is in front of the Notre Dame Main Building?</td>\n",
              "      <td>5733be284776f4190066117f</td>\n",
              "      <td>{'answer_start': [188], 'text': ['a copper sta...</td>\n",
              "    </tr>\n",
              "    <tr>\n",
              "      <th>2</th>\n",
              "      <td>2</td>\n",
              "      <td>University_of_Notre_Dame</td>\n",
              "      <td>Architecturally, the school has a Catholic cha...</td>\n",
              "      <td>The Basilica of the Sacred heart at Notre Dame...</td>\n",
              "      <td>5733be284776f41900661180</td>\n",
              "      <td>{'answer_start': [279], 'text': ['the Main Bui...</td>\n",
              "    </tr>\n",
              "    <tr>\n",
              "      <th>3</th>\n",
              "      <td>3</td>\n",
              "      <td>University_of_Notre_Dame</td>\n",
              "      <td>Architecturally, the school has a Catholic cha...</td>\n",
              "      <td>What is the Grotto at Notre Dame?</td>\n",
              "      <td>5733be284776f41900661181</td>\n",
              "      <td>{'answer_start': [381], 'text': ['a Marian pla...</td>\n",
              "    </tr>\n",
              "    <tr>\n",
              "      <th>4</th>\n",
              "      <td>4</td>\n",
              "      <td>University_of_Notre_Dame</td>\n",
              "      <td>Architecturally, the school has a Catholic cha...</td>\n",
              "      <td>What sits on top of the Main Building at Notre...</td>\n",
              "      <td>5733be284776f4190066117e</td>\n",
              "      <td>{'answer_start': [92], 'text': ['a golden stat...</td>\n",
              "    </tr>\n",
              "    <tr>\n",
              "      <th>...</th>\n",
              "      <td>...</td>\n",
              "      <td>...</td>\n",
              "      <td>...</td>\n",
              "      <td>...</td>\n",
              "      <td>...</td>\n",
              "      <td>...</td>\n",
              "    </tr>\n",
              "    <tr>\n",
              "      <th>87594</th>\n",
              "      <td>87594</td>\n",
              "      <td>Kathmandu</td>\n",
              "      <td>Kathmandu Metropolitan City (KMC), in order to...</td>\n",
              "      <td>In what US state did Kathmandu first establish...</td>\n",
              "      <td>5735d259012e2f140011a09d</td>\n",
              "      <td>{'answer_start': [229], 'text': ['Oregon']}</td>\n",
              "    </tr>\n",
              "    <tr>\n",
              "      <th>87595</th>\n",
              "      <td>87595</td>\n",
              "      <td>Kathmandu</td>\n",
              "      <td>Kathmandu Metropolitan City (KMC), in order to...</td>\n",
              "      <td>What was Yangon previously known as?</td>\n",
              "      <td>5735d259012e2f140011a09e</td>\n",
              "      <td>{'answer_start': [414], 'text': ['Rangoon']}</td>\n",
              "    </tr>\n",
              "    <tr>\n",
              "      <th>87596</th>\n",
              "      <td>87596</td>\n",
              "      <td>Kathmandu</td>\n",
              "      <td>Kathmandu Metropolitan City (KMC), in order to...</td>\n",
              "      <td>With what Belorussian city does Kathmandu have...</td>\n",
              "      <td>5735d259012e2f140011a09f</td>\n",
              "      <td>{'answer_start': [476], 'text': ['Minsk']}</td>\n",
              "    </tr>\n",
              "    <tr>\n",
              "      <th>87597</th>\n",
              "      <td>87597</td>\n",
              "      <td>Kathmandu</td>\n",
              "      <td>Kathmandu Metropolitan City (KMC), in order to...</td>\n",
              "      <td>In what year did Kathmandu create its initial ...</td>\n",
              "      <td>5735d259012e2f140011a0a0</td>\n",
              "      <td>{'answer_start': [199], 'text': ['1975']}</td>\n",
              "    </tr>\n",
              "    <tr>\n",
              "      <th>87598</th>\n",
              "      <td>87598</td>\n",
              "      <td>Kathmandu</td>\n",
              "      <td>Kathmandu Metropolitan City (KMC), in order to...</td>\n",
              "      <td>What is KMC an initialism of?</td>\n",
              "      <td>5735d259012e2f140011a0a1</td>\n",
              "      <td>{'answer_start': [0], 'text': ['Kathmandu Metr...</td>\n",
              "    </tr>\n",
              "  </tbody>\n",
              "</table>\n",
              "<p>87599 rows × 6 columns</p>\n",
              "</div>"
            ],
            "text/plain": [
              "       Unnamed: 0  ...                                            answers\n",
              "0               0  ...  {'answer_start': [515], 'text': ['Saint Bernad...\n",
              "1               1  ...  {'answer_start': [188], 'text': ['a copper sta...\n",
              "2               2  ...  {'answer_start': [279], 'text': ['the Main Bui...\n",
              "3               3  ...  {'answer_start': [381], 'text': ['a Marian pla...\n",
              "4               4  ...  {'answer_start': [92], 'text': ['a golden stat...\n",
              "...           ...  ...                                                ...\n",
              "87594       87594  ...        {'answer_start': [229], 'text': ['Oregon']}\n",
              "87595       87595  ...       {'answer_start': [414], 'text': ['Rangoon']}\n",
              "87596       87596  ...         {'answer_start': [476], 'text': ['Minsk']}\n",
              "87597       87597  ...          {'answer_start': [199], 'text': ['1975']}\n",
              "87598       87598  ...  {'answer_start': [0], 'text': ['Kathmandu Metr...\n",
              "\n",
              "[87599 rows x 6 columns]"
            ]
          },
          "metadata": {
            "tags": []
          },
          "execution_count": 16
        }
      ]
    },
    {
      "cell_type": "code",
      "metadata": {
        "colab": {
          "base_uri": "https://localhost:8080/",
          "height": 407
        },
        "id": "uvVkdnU17gEt",
        "outputId": "59e12d80-be83-4941-c0b0-11f09fc09153"
      },
      "source": [
        "figsize = (10,6)\r\n",
        "test_dataframe['context'].apply(len).plot.hist(title=\"Contex length histogram\", bins=20, figsize=figsize, grid=True)"
      ],
      "execution_count": 17,
      "outputs": [
        {
          "output_type": "execute_result",
          "data": {
            "text/plain": [
              "<matplotlib.axes._subplots.AxesSubplot at 0x7fcbe3fda450>"
            ]
          },
          "metadata": {
            "tags": []
          },
          "execution_count": 17
        },
        {
          "output_type": "display_data",
          "data": {
            "image/png": "[encoded data removed]",
            "text/plain": [
              "<Figure size 720x432 with 1 Axes>"
            ]
          },
          "metadata": {
            "tags": [],
            "needs_background": "light"
          }
        }
      ]
    },
    {
      "cell_type": "code",
      "metadata": {
        "colab": {
          "base_uri": "https://localhost:8080/",
          "height": 407
        },
        "id": "Jab-fQ1X8dfY",
        "outputId": "9ac50807-8523-4e91-9650-98a76b4f28b9"
      },
      "source": [
        "test_dataframe['question'].apply(len).plot.hist(title=\"Question length histogram\", bins=20, figsize=figsize, grid=True)"
      ],
      "execution_count": 18,
      "outputs": [
        {
          "output_type": "execute_result",
          "data": {
            "text/plain": [
              "<matplotlib.axes._subplots.AxesSubplot at 0x7fcbe3f6e250>"
            ]
          },
          "metadata": {
            "tags": []
          },
          "execution_count": 18
        },
        {
          "output_type": "display_data",
          "data": {
            "image/png": "[encoded data removed]",
            "text/plain": [
              "<Figure size 720x432 with 1 Axes>"
            ]
          },
          "metadata": {
            "tags": [],
            "needs_background": "light"
          }
        }
      ]
    },
    {
      "cell_type": "code",
      "metadata": {
        "colab": {
          "base_uri": "https://localhost:8080/",
          "height": 407
        },
        "id": "lY9PhtcW8pmt",
        "outputId": "3a78d280-337f-40ee-c6dc-5165de12ad22"
      },
      "source": [
        "def answer_len(answer):\r\n",
        "  return len(answer.split(\"'text': \")[1][2:-3])\r\n",
        "test_dataframe['answers'].apply(answer_len).plot.hist(title=\"Answer length histogram\", bins=20, figsize=figsize, grid=True)"
      ],
      "execution_count": 19,
      "outputs": [
        {
          "output_type": "execute_result",
          "data": {
            "text/plain": [
              "<matplotlib.axes._subplots.AxesSubplot at 0x7fcbe3ffae10>"
            ]
          },
          "metadata": {
            "tags": []
          },
          "execution_count": 19
        },
        {
          "output_type": "display_data",
          "data": {
            "image/png": "[encoded data removed]",
            "text/plain": [
              "<Figure size 720x432 with 1 Axes>"
            ]
          },
          "metadata": {
            "tags": [],
            "needs_background": "light"
          }
        }
      ]
    },
    {
      "cell_type": "code",
      "metadata": {
        "colab": {
          "base_uri": "https://localhost:8080/"
        },
        "id": "vGYzWRfv2SuH",
        "outputId": "7f30125d-de42-4ee0-db90-eca4e1256826"
      },
      "source": [
        "# Show Samples\r\n",
        "\r\n",
        "def print_squad_sample(df, line_length=20, separator_length=120):\r\n",
        "  sample = df.iloc[random.randint(0,df.shape[0])]\r\n",
        "  title = sample.title.replace('_', ' ')\r\n",
        "  print('TITLE: ')\r\n",
        "  print(title)\r\n",
        "  print('='*separator_length)\r\n",
        "  context = sample.context.split()\r\n",
        "  print('CONTEXT: ')\r\n",
        "  lines = [' '.join(context[idx:idx+line_length]) for idx in range(0, len(context), line_length)]\r\n",
        "  for l in lines:\r\n",
        "      print(l)\r\n",
        "  print('='*separator_length)\r\n",
        "  questions = df[df.context.values==sample.context]\r\n",
        "  max_len = len(max(questions.question, key=len)) + 5\r\n",
        "  print(\"{: <{max_len}} {: <{max_len}}\".format('QUESTION:','ANSWER:', max_len=max_len))\r\n",
        "  for idx, row in questions.iterrows():\r\n",
        "    question = row.question\r\n",
        "    answer = row.answers.split(\"'text': \")[1][2:-3]\r\n",
        "    print(\"{: <{max_len}} {: <{max_len}}\".format(question,answer, max_len=max_len))\r\n",
        "    \r\n",
        "print_squad_sample(test_dataframe)"
      ],
      "execution_count": 20,
      "outputs": [
        {
          "output_type": "stream",
          "text": [
            "TITLE: \n",
            "Religion in ancient Rome\n",
            "========================================================================================================================\n",
            "CONTEXT: \n",
            "The meaning and origin of many archaic festivals baffled even Rome's intellectual elite, but the more obscure they were, the\n",
            "greater the opportunity for reinvention and reinterpretation — a fact lost neither on Augustus in his program of religious reform,\n",
            "which often cloaked autocratic innovation, nor on his only rival as mythmaker of the era, Ovid. In his Fasti, a\n",
            "long-form poem covering Roman holidays from January to June, Ovid presents a unique look at Roman antiquarian lore, popular customs,\n",
            "and religious practice that is by turns imaginative, entertaining, high-minded, and scurrilous; not a priestly account, despite the speaker's pose\n",
            "as a vates or inspired poet-prophet, but a work of description, imagination and poetic etymology that reflects the broad humor\n",
            "and burlesque spirit of such venerable festivals as the Saturnalia, Consualia, and feast of Anna Perenna on the Ides of\n",
            "March, where Ovid treats the assassination of the newly deified Julius Caesar as utterly incidental to the festivities among the\n",
            "Roman people. But official calendars preserved from different times and places also show a flexibility in omitting or expanding events,\n",
            "indicating that there was no single static and authoritative calendar of required observances. In the later Empire under Christian rule,\n",
            "the new Christian festivals were incorporated into the existing framework of the Roman calendar, alongside at least some of the\n",
            "traditional festivals.\n",
            "========================================================================================================================\n",
            "QUESTION:                                                                            ANSWER:                                                                             \n",
            "What did obscure festivals offer Romans the opportunity to do?                       reinterpretation                                                                    \n",
            "What did Augustus wish to do for Roman religion?                                     reform                                                                              \n",
            "What poet wrote a long poem describing Roman religious holidays?                     Ovid                                                                                \n",
            "What was lacking in the presentation of religious events in Rome?                    authoritative calendar                                                              \n",
            "Under whose rule were new Christian festivals added to previous Roman holidays?      Christian                                                                           \n"
          ],
          "name": "stdout"
        }
      ]
    },
    {
      "cell_type": "markdown",
      "metadata": {
        "id": "Inog-64XTyd0"
      },
      "source": [
        "#Preprocessing the data\r\n",
        "\r\n",
        "Before we can feed those texts to our model, we need to preprocess them. This is done by a 🤗 Transformers Tokenizer which will (as the name indicates) tokenize the inputs (including converting the tokens to their corresponding IDs in the pretrained vocabulary) and put it in a format the model expects, as well as generate the other inputs that model requires.\r\n",
        "\r\n",
        "To do all of this, we instantiate our tokenizer with the AutoTokenizer.from_pretrained method, which will ensure:\r\n",
        "\r\n",
        "- we get a tokenizer that corresponds to the model architecture we want to use,\r\n",
        "- we download the vocabulary used when pretraining this specific checkpoint.\r\n",
        "\r\n",
        "That vocabulary will be cached, so it's not downloaded again the next time we run the cell.\r\n",
        "\r\n",
        "As model_checkpoint we use the best performing version of our DistilBertForQuestionAnswering which we have uploaded on the HuggingFace Hub."
      ]
    },
    {
      "cell_type": "code",
      "metadata": {
        "id": "oOEF4DScUDPi",
        "colab": {
          "base_uri": "https://localhost:8080/",
          "height": 212,
          "referenced_widgets": [
            "02ece9ab72dd40e79bb85227bcad38e0",
            "7d3b3821143f4e3681e7290d5630b48b",
            "17ce52b5c5d14b078e437720de8cf1f1",
            "649a1ac804db420e831ad50ac94443ba",
            "304e04d392dc496a99e5160e79437bc3",
            "0a8cce8e515647d7bea031a851af3499",
            "6aae3734e669402d91b25b2c5ed5899a",
            "0845364ceda54add88de80db7c5f74f6",
            "f21f046ea6a845b1a4891f1b12c57a19",
            "455ab93c7bef49d48fd3d7eab8414b79",
            "005ef8b8ecf640db8a868fd5c0d1b5f1",
            "bcc035d06be040fd91afec12cd9a35d4",
            "cbdf63bece644520a709e042625e1770",
            "fa6666cca22c42729749b84473fa6957",
            "3ad369f9c5ef4610b75cfe73830d1571",
            "c512ccbd43b74797b46faca250056603",
            "de7bdec2a3af48d1a4fd314b25219d06",
            "12c77802e8b745df85fdf315d58fb431",
            "96b3190710514d729434116da2caaf08",
            "4fcae02c0a2649e6a4b9f7ea42d1b7b0",
            "a762ed05debf43b28ff16e8f7be19d96",
            "17571d792ad145d1a34ba780c043eb36",
            "220fa93eee384a6db909275f67088d7b",
            "7f56510143b34f5ea635811f8419815d",
            "87a9101a2e9b4aab9fe448d791924912",
            "b269e13a30ac4c11818af9af1f81b62d",
            "e7c4608e35664f7a995a8f8731efd7ee",
            "e7a4300ed80b40a88946bb5ee86814eb",
            "e6413018e52c49b7b7ad6303eff76f57",
            "5d5da07ea7e149a59fb12c6a5d24fb6e",
            "be7546d9245f4c7bb4d2aa49d3563a25",
            "ccaa2a42a03f48e1b464491b7b4d4019"
          ]
        },
        "outputId": "53309b2c-5adc-43e8-aebb-3df00c04f6d8"
      },
      "source": [
        "from transformers import AutoTokenizer\r\n",
        "\r\n",
        "model_checkpoint = \"nlpunibo/distilbert_config3\"\r\n",
        "tokenizer = AutoTokenizer.from_pretrained(model_checkpoint)"
      ],
      "execution_count": 21,
      "outputs": [
        {
          "output_type": "display_data",
          "data": {
            "application/vnd.jupyter.widget-view+json": {
              "model_id": "02ece9ab72dd40e79bb85227bcad38e0",
              "version_minor": 0,
              "version_major": 2
            },
            "text/plain": [
              "HBox(children=(FloatProgress(value=0.0, description='Downloading', max=532.0, style=ProgressStyle(description_…"
            ]
          },
          "metadata": {
            "tags": []
          }
        },
        {
          "output_type": "stream",
          "text": [
            "\n"
          ],
          "name": "stdout"
        },
        {
          "output_type": "display_data",
          "data": {
            "application/vnd.jupyter.widget-view+json": {
              "model_id": "f21f046ea6a845b1a4891f1b12c57a19",
              "version_minor": 0,
              "version_major": 2
            },
            "text/plain": [
              "HBox(children=(FloatProgress(value=0.0, description='Downloading', max=231508.0, style=ProgressStyle(descripti…"
            ]
          },
          "metadata": {
            "tags": []
          }
        },
        {
          "output_type": "stream",
          "text": [
            "\n"
          ],
          "name": "stdout"
        },
        {
          "output_type": "display_data",
          "data": {
            "application/vnd.jupyter.widget-view+json": {
              "model_id": "de7bdec2a3af48d1a4fd314b25219d06",
              "version_minor": 0,
              "version_major": 2
            },
            "text/plain": [
              "HBox(children=(FloatProgress(value=0.0, description='Downloading', max=112.0, style=ProgressStyle(description_…"
            ]
          },
          "metadata": {
            "tags": []
          }
        },
        {
          "output_type": "stream",
          "text": [
            "\n"
          ],
          "name": "stdout"
        },
        {
          "output_type": "display_data",
          "data": {
            "application/vnd.jupyter.widget-view+json": {
              "model_id": "87a9101a2e9b4aab9fe448d791924912",
              "version_minor": 0,
              "version_major": 2
            },
            "text/plain": [
              "HBox(children=(FloatProgress(value=0.0, description='Downloading', max=258.0, style=ProgressStyle(description_…"
            ]
          },
          "metadata": {
            "tags": []
          }
        },
        {
          "output_type": "stream",
          "text": [
            "\n"
          ],
          "name": "stdout"
        }
      ]
    },
    {
      "cell_type": "code",
      "metadata": {
        "id": "AhmVAsCrXKD9"
      },
      "source": [
        "max_length = 384 # The maximum length of a feature (question and context)\r\n",
        "doc_stride = 128 # The authorized overlap between two part of the context when splitting it is needed.\r\n",
        "pad_on_right = True # Our model expects padding on the right"
      ],
      "execution_count": 22,
      "outputs": []
    },
    {
      "cell_type": "markdown",
      "metadata": {
        "id": "SqOg2iAEdrEB"
      },
      "source": [
        "# Evaluation"
      ]
    },
    {
      "cell_type": "markdown",
      "metadata": {
        "id": "h2KRX94OdzPD"
      },
      "source": [
        "We can download the pretrained model. We use our modified version of the `DistilBertForQuestionAnswering` class. Like with the tokenizer, the `from_pretrained` method will download and cache the model for us."
      ]
    },
    {
      "cell_type": "code",
      "metadata": {
        "id": "rV0pZMjOPly2"
      },
      "source": [
        "# DistilBert\r\n",
        "\r\n",
        "import math\r\n",
        "\r\n",
        "from transformers.modeling_outputs import QuestionAnsweringModelOutput\r\n",
        "from transformers import DistilBertPreTrainedModel\r\n",
        "from transformers import DistilBertModel\r\n",
        "\r\n",
        "from torch import nn\r\n",
        "from torch.nn import CrossEntropyLoss\r\n",
        "\r\n",
        "\r\n",
        "def gelu(x):\r\n",
        "    \"\"\"\r\n",
        "    Original Implementation of the GELU activation function in Google BERT repo when initially created. For\r\n",
        "    information: OpenAI GPT's GELU is slightly different (and gives slightly different results): 0.5 * x * (1 +\r\n",
        "    torch.tanh(math.sqrt(2 / math.pi) * (x + 0.044715 * torch.pow(x, 3)))) This is now written in C in\r\n",
        "    torch.nn.functional Also see the Gaussian Error Linear Units paper: https://arxiv.org/abs/1606.08415\r\n",
        "    \"\"\"\r\n",
        "    return x * 0.5 * (1.0 + torch.erf(x / math.sqrt(2.0)))\r\n",
        "\r\n",
        "\r\n",
        "def gelu_new(x):\r\n",
        "    \"\"\"\r\n",
        "    Implementation of the GELU activation function currently in Google BERT repo (identical to OpenAI GPT). Also see\r\n",
        "    the Gaussian Error Linear Units paper: https://arxiv.org/abs/1606.08415\r\n",
        "    \"\"\"\r\n",
        "    return 0.5 * x * (1.0 + torch.tanh(math.sqrt(2.0 / math.pi) * (x + 0.044715 * torch.pow(x, 3.0))))\r\n",
        "\r\n",
        "\r\n",
        "class DistilBertForQuestionAnswering(DistilBertPreTrainedModel):\r\n",
        "    def __init__(self, config):\r\n",
        "        super().__init__(config)\r\n",
        "\r\n",
        "        self.distilbert = DistilBertModel(config)\r\n",
        "\r\n",
        "        self.qa_outputs_0 = nn.Linear(config.dim, 512)\r\n",
        "        self.qa_outputs_1 = nn.Linear(512, 32)\r\n",
        "        self.qa_outputs = nn.Linear(32, config.num_labels)\r\n",
        "        \r\n",
        "        assert config.num_labels == 2\r\n",
        "        self.dropout = nn.Dropout(config.qa_dropout)\r\n",
        "\r\n",
        "        self.LayerNorm = nn.LayerNorm(normalized_shape = [384,2])\r\n",
        "\r\n",
        "        self.init_weights()\r\n",
        "\r\n",
        "    def forward(\r\n",
        "        self,\r\n",
        "        input_ids=None,\r\n",
        "        attention_mask=None,\r\n",
        "        head_mask=None,\r\n",
        "        inputs_embeds=None,\r\n",
        "        start_positions=None,\r\n",
        "        end_positions=None,\r\n",
        "        output_attentions=None,\r\n",
        "        output_hidden_states=None,\r\n",
        "        return_dict=None,\r\n",
        "    ):\r\n",
        "        r\"\"\"\r\n",
        "        start_positions (:obj:`torch.LongTensor` of shape :obj:`(batch_size,)`, `optional`):\r\n",
        "            Labels for position (index) of the start of the labelled span for computing the token classification loss.\r\n",
        "            Positions are clamped to the length of the sequence (:obj:`sequence_length`). Position outside of the\r\n",
        "            sequence are not taken into account for computing the loss.\r\n",
        "        end_positions (:obj:`torch.LongTensor` of shape :obj:`(batch_size,)`, `optional`):\r\n",
        "            Labels for position (index) of the end of the labelled span for computing the token classification loss.\r\n",
        "            Positions are clamped to the length of the sequence (:obj:`sequence_length`). Position outside of the\r\n",
        "            sequence are not taken into account for computing the loss.\r\n",
        "        \"\"\"\r\n",
        "        return_dict = return_dict if return_dict is not None else self.config.use_return_dict\r\n",
        "\r\n",
        "\r\n",
        "        distilbert_output = self.distilbert(\r\n",
        "            input_ids=input_ids,\r\n",
        "            attention_mask=attention_mask,\r\n",
        "            head_mask=head_mask,\r\n",
        "            inputs_embeds=inputs_embeds,\r\n",
        "            output_attentions=output_attentions,\r\n",
        "            output_hidden_states=output_hidden_states,\r\n",
        "            return_dict=return_dict,\r\n",
        "        )\r\n",
        "\r\n",
        " \r\n",
        "        hidden_states = distilbert_output[0]  # (bs, max_query_len, dim)\r\n",
        "        hidden_states = self.dropout(hidden_states)  # (bs, max_query_len, dim)\r\n",
        "\r\n",
        "        logits = gelu_new(self.qa_outputs_0(hidden_states))  # (bs, max_query_len, 2)\r\n",
        "        logits = gelu_new(self.qa_outputs_1(logits))\r\n",
        "        #logits = self.LayerNorm_0(logits)\r\n",
        "      \r\n",
        "        logits = self.qa_outputs(logits)\r\n",
        "        logits = self.LayerNorm(logits)\r\n",
        "       \r\n",
        "        start_logits, end_logits = logits.split(1, dim=-1)\r\n",
        "\r\n",
        "        start_logits = start_logits.squeeze(-1)  # (bs, max_query_len)\r\n",
        "        end_logits = end_logits.squeeze(-1)  # (bs, max_query_len)\r\n",
        "\r\n",
        "\r\n",
        "        total_loss = None\r\n",
        "        if start_positions is not None and end_positions is not None:\r\n",
        "\r\n",
        "            # sometimes the start/end positions are outside our model inputs, we ignore these terms\r\n",
        "            ignored_index = start_logits.size(1)\r\n",
        "            start_positions.clamp_(0, ignored_index)\r\n",
        "            end_positions.clamp_(0, ignored_index)\r\n",
        "\r\n",
        "            loss_fct = nn.CrossEntropyLoss(ignore_index=ignored_index)\r\n",
        "            start_loss = loss_fct(start_logits, start_positions)\r\n",
        "            end_loss = loss_fct(end_logits, end_positions)\r\n",
        "            total_loss = (start_loss + end_loss) / 2\r\n",
        "\r\n",
        "        if not return_dict:\r\n",
        "          output = (start_logits, end_logits) + distilbert_output[1:]\r\n",
        "          return ((total_loss,) + output) if total_loss is not None else output\r\n",
        " \r\n",
        "        return QuestionAnsweringModelOutput(\r\n",
        "            loss=total_loss,\r\n",
        "            start_logits=start_logits,\r\n",
        "            end_logits=end_logits,\r\n",
        "            hidden_states=distilbert_output.hidden_states,\r\n",
        "            attentions=distilbert_output.attentions\r\n",
        "        )"
      ],
      "execution_count": 23,
      "outputs": []
    },
    {
      "cell_type": "code",
      "metadata": {
        "id": "SVzYPE4Pd2tY",
        "colab": {
          "base_uri": "https://localhost:8080/",
          "height": 66,
          "referenced_widgets": [
            "af655bd3da574b9f870163a12a924c0d",
            "0283305fe0e04f6a9837360ba759bd44",
            "d110971c908e4ff28c2812d7bfa58a08",
            "42c044047ccd4b6a933189c2690d8323",
            "4402a8323dc74d519a8d84db42eb1d99",
            "98ae49bb60f741b6843645f40c77b108",
            "224dab968911455d972145b3a0ebc8ff",
            "c9a1ed3225ad49e9b65b122cd8f86bea"
          ]
        },
        "outputId": "3c3777a7-61ec-48c9-e11b-de38227353ce"
      },
      "source": [
        "from transformers import TrainingArguments, Trainer\r\n",
        "\r\n",
        "model = DistilBertForQuestionAnswering.from_pretrained(model_checkpoint)\r\n",
        "\r\n",
        "# Tell pytorch to run this model on the GPU.\r\n",
        "if torch.cuda.is_available():\r\n",
        "  model.cuda()"
      ],
      "execution_count": 24,
      "outputs": [
        {
          "output_type": "display_data",
          "data": {
            "application/vnd.jupyter.widget-view+json": {
              "model_id": "af655bd3da574b9f870163a12a924c0d",
              "version_minor": 0,
              "version_major": 2
            },
            "text/plain": [
              "HBox(children=(FloatProgress(value=0.0, description='Downloading', max=267141919.0, style=ProgressStyle(descri…"
            ]
          },
          "metadata": {
            "tags": []
          }
        },
        {
          "output_type": "stream",
          "text": [
            "\n"
          ],
          "name": "stdout"
        }
      ]
    },
    {
      "cell_type": "markdown",
      "metadata": {
        "id": "Q9XNUx65b9EK"
      },
      "source": [
        "Evaluating our model will require some work, as we will need to map the predictions of our model back to parts of the context. The model itself predicts logits for the start and end position of our answers. The output of the model is a dict-like object that contains the loss (since we provided labels), the start and end logits.\r\n",
        "\r\n",
        "We have one logit for each feature and each token. The most obvious thing to predict an answer for each feature is to take the index for the maximum of the start logits as a start position and the index of the maximum of the end logits as an end position.\r\n",
        "\r\n",
        "This will work great in a lot of cases, but what if this prediction gives us something impossible: the start position could be greater than the end position, or point to a span of text in the question instead of the answer. In that case, we might want to look at the second best prediction to see if it gives a possible answer and select that instead.\r\n",
        "\r\n",
        "However, picking the second best answer is not as easy as picking the best one: is it the second best index in the start logits with the best index in the end logits? Or the best index in the start logits with the second best index in the end logits? And if that second best answer is not possible either, it gets even trickier for the third best answer."
      ]
    },
    {
      "cell_type": "markdown",
      "metadata": {
        "id": "TgtKN3wsfeBU"
      },
      "source": [
        "To classify our answers, we will use the score obtained by adding the start and end logits. We won't try to order all the possible answers and limit ourselves to with a hyper-parameter we call `n_best_size`. We'll pick the best indices in the start and end logits and gather all the answers this predicts. After checking if each one is valid, we will sort them by their score and keep the best one.\r\n",
        "\r\n",
        "We also eliminate very long answers from our considerations (with an hyper-parameter we can tune).\r\n",
        "\r\n",
        "Since one example can give several features, we will need to gather together all the answers in all the features generated by a given example, then pick the best one. We need to build a map from example index to its corresponding features indices.\r\n",
        "\r\n",
        "\r\n",
        " All combined together, this gives us this `post-processing` function:"
      ]
    },
    {
      "cell_type": "code",
      "metadata": {
        "id": "2FlROrJIi9Th"
      },
      "source": [
        "import collections\r\n",
        "from tqdm import tqdm, tqdm_notebook\r\n",
        "\r\n",
        "def postprocess_qa_predictions(examples, features, raw_predictions, n_best_size = 20, max_answer_length = 50):\r\n",
        "    all_start_logits, all_end_logits = raw_predictions\r\n",
        "    # Build a map example to its corresponding features.\r\n",
        "    example_id_to_index = {k: i for i, k in enumerate(examples[\"id\"])}\r\n",
        "    features_per_example = collections.defaultdict(list)\r\n",
        "    for i, feature in enumerate(features):\r\n",
        "        features_per_example[example_id_to_index[feature[\"example_id\"]]].append(i)\r\n",
        "\r\n",
        "    # The dictionaries we have to fill.\r\n",
        "    predictions = collections.OrderedDict()\r\n",
        "\r\n",
        "    # Let's loop over all the examples!\r\n",
        "    for example_index, example in enumerate(tqdm(examples)):\r\n",
        "        # Those are the indices of the features associated to the current example.\r\n",
        "        feature_indices = features_per_example[example_index]\r\n",
        "        valid_answers = []\r\n",
        "        \r\n",
        "        context = example[\"context\"]\r\n",
        "        # Looping through all the features associated to the current example.\r\n",
        "        for feature_index in feature_indices:\r\n",
        "            # We grab the predictions of the model for this feature.\r\n",
        "            start_logits = all_start_logits[feature_index]\r\n",
        "            end_logits = all_end_logits[feature_index]\r\n",
        "            # This is what will allow us to map some the positions in our logits to span of texts in the original\r\n",
        "            # context.\r\n",
        "            offset_mapping = features[feature_index][\"offset_mapping\"]\r\n",
        "\r\n",
        "            # Update minimum null prediction.\r\n",
        "            cls_index = features[feature_index][\"input_ids\"].index(tokenizer.cls_token_id)\r\n",
        "            feature_null_score = start_logits[cls_index] + end_logits[cls_index]\r\n",
        "\r\n",
        "            # Go through all possibilities for the `n_best_size` greater start and end logits.\r\n",
        "            start_indexes = np.argsort(start_logits)[-1 : -n_best_size - 1 : -1].tolist()\r\n",
        "            end_indexes = np.argsort(end_logits)[-1 : -n_best_size - 1 : -1].tolist()\r\n",
        "            for start_index in start_indexes:\r\n",
        "                for end_index in end_indexes:\r\n",
        "                    # Don't consider out-of-scope answers, either because the indices are out of bounds or correspond\r\n",
        "                    # to part of the input_ids that are not in the context.\r\n",
        "                    if (\r\n",
        "                        start_index >= len(offset_mapping)\r\n",
        "                        or end_index >= len(offset_mapping)\r\n",
        "                        or offset_mapping[start_index] is None\r\n",
        "                        or offset_mapping[end_index] is None\r\n",
        "                    ):\r\n",
        "                        continue\r\n",
        "                    # Don't consider answers with a length that is either < 0 or > max_answer_length.\r\n",
        "                    if end_index < start_index or end_index - start_index + 1 > max_answer_length:\r\n",
        "                        continue\r\n",
        "\r\n",
        "                    start_char = offset_mapping[start_index][0]\r\n",
        "                    end_char = offset_mapping[end_index][1]\r\n",
        "                    valid_answers.append(\r\n",
        "                        {\r\n",
        "                            \"score\": start_logits[start_index] + end_logits[end_index],\r\n",
        "                            \"text\": context[start_char: end_char]\r\n",
        "                        }\r\n",
        "                    )\r\n",
        "        \r\n",
        "        if len(valid_answers) > 0:\r\n",
        "            best_answer = sorted(valid_answers, key=lambda x: x[\"score\"], reverse=True)[0]\r\n",
        "        else:\r\n",
        "            # In the very rare edge case we have not a single non-null prediction, we create a fake prediction to avoid\r\n",
        "            # failure.\r\n",
        "            best_answer = {\"text\": \"\", \"score\": 0.0}\r\n",
        "        \r\n",
        "        # Let's pick our final answer\r\n",
        "        predictions[example[\"id\"]] = best_answer[\"text\"]\r\n",
        "\r\n",
        "    return predictions"
      ],
      "execution_count": 25,
      "outputs": []
    },
    {
      "cell_type": "markdown",
      "metadata": {
        "id": "UIIlk6R3eC40"
      },
      "source": [
        "The only point left is how to check a given span is inside the context (and not the question) and how to get back the text inside. To do this, we need to add two things to our validation features:\r\n",
        "\r\n",
        "- the ID of the example that generated the feature (since each example can generate several features, as seen before);\r\n",
        "- the offset mapping that will give us a map from token indices to character positions in the context.\r\n"
      ]
    },
    {
      "cell_type": "code",
      "metadata": {
        "id": "LZoJcV9_hmqq"
      },
      "source": [
        "def prepare_validation_features(examples):\r\n",
        "    # Tokenize our examples with truncation and maybe padding, but keep the overflows using a stride. This results\r\n",
        "    # in one example possible giving several features when a context is long, each of those features having a\r\n",
        "    # context that overlaps a bit the context of the previous feature.\r\n",
        "    tokenized_examples = tokenizer(\r\n",
        "        examples[\"question\" if pad_on_right else \"context\"],\r\n",
        "        examples[\"context\" if pad_on_right else \"question\"],\r\n",
        "        truncation=\"only_second\" if pad_on_right else \"only_first\",\r\n",
        "        max_length=max_length,\r\n",
        "        stride=doc_stride,\r\n",
        "        return_overflowing_tokens=True,\r\n",
        "        return_offsets_mapping=True,\r\n",
        "        padding=\"max_length\",\r\n",
        "    )\r\n",
        "\r\n",
        "    # Since one example might give us several features if it has a long context, we need a map from a feature to\r\n",
        "    # its corresponding example. This key gives us just that.\r\n",
        "    sample_mapping = tokenized_examples.pop(\"overflow_to_sample_mapping\")\r\n",
        "\r\n",
        "    # The offset mappings will give us a map from token to character position in the original context. This will\r\n",
        "    # help us compute the start_positions and end_positions.\r\n",
        "    offset_mapping = tokenized_examples[\"offset_mapping\"]\r\n",
        "\r\n",
        "    # Let's label those examples!\r\n",
        "    tokenized_examples[\"start_positions\"] = []\r\n",
        "    tokenized_examples[\"end_positions\"] = []\r\n",
        "\r\n",
        "    for i, offsets in enumerate(offset_mapping):\r\n",
        "      # CLS index\r\n",
        "      input_ids = tokenized_examples[\"input_ids\"][i]\r\n",
        "      cls_index = input_ids.index(tokenizer.cls_token_id)\r\n",
        "\r\n",
        "      # Grab the sequence corresponding to that example (to know what is the context and what is the question).\r\n",
        "      sequence_ids = tokenized_examples.sequence_ids(i)\r\n",
        "\r\n",
        "      # One example can give several spans, this is the index of the example containing this span of text.\r\n",
        "      sample_index = sample_mapping[i]\r\n",
        "      answers = examples[\"answers\"][sample_index]\r\n",
        "\r\n",
        "      # Start/end character index of the answer in the text.\r\n",
        "      start_char = answers[\"answer_start\"][0]\r\n",
        "      end_char = start_char + len(answers[\"text\"][0])\r\n",
        "\r\n",
        "      # Start token index of the current span in the text.\r\n",
        "      token_start_index = 0\r\n",
        "      while sequence_ids[token_start_index] != (1 if pad_on_right else 0):\r\n",
        "          token_start_index += 1\r\n",
        "\r\n",
        "      # End token index of the current span in the text.\r\n",
        "      token_end_index = len(input_ids) - 1\r\n",
        "      while sequence_ids[token_end_index] != (1 if pad_on_right else 0):\r\n",
        "          token_end_index -= 1\r\n",
        "\r\n",
        "      # Detect if the answer is out of the span (in which case this feature is labeled with the CLS index).\r\n",
        "      if not (offsets[token_start_index][0] <= start_char and offsets[token_end_index][1] >= end_char):\r\n",
        "          tokenized_examples[\"start_positions\"].append(cls_index)\r\n",
        "          tokenized_examples[\"end_positions\"].append(cls_index)\r\n",
        "      else:\r\n",
        "          # Otherwise move the token_start_index and token_end_index to the two ends of the answer.\r\n",
        "          # Note: we could go after the last offset if the answer is the last word (edge case).\r\n",
        "          while token_start_index < len(offsets) and offsets[token_start_index][0] <= start_char:\r\n",
        "              token_start_index += 1\r\n",
        "          tokenized_examples[\"start_positions\"].append(token_start_index - 1)\r\n",
        "          while offsets[token_end_index][1] >= end_char:\r\n",
        "              token_end_index -= 1\r\n",
        "          tokenized_examples[\"end_positions\"].append(token_end_index + 1)\r\n",
        "\r\n",
        "    # We keep the example_id that gave us this feature and we will store the offset mappings.\r\n",
        "    tokenized_examples[\"example_id\"] = []\r\n",
        "\r\n",
        "    for i in range(len(tokenized_examples[\"input_ids\"])):\r\n",
        "        # Grab the sequence corresponding to that example (to know what is the context and what is the question).\r\n",
        "        sequence_ids = tokenized_examples.sequence_ids(i)\r\n",
        "        context_index = 1 if pad_on_right else 0\r\n",
        "\r\n",
        "        # One example can give several spans, this is the index of the example containing this span of text.\r\n",
        "        sample_index = sample_mapping[i]\r\n",
        "        tokenized_examples[\"example_id\"].append(examples[\"id\"][sample_index])\r\n",
        "\r\n",
        "        # Set to None the offset_mapping that are not part of the context so it's easy to determine if a token\r\n",
        "        # position is part of the context or not.\r\n",
        "        tokenized_examples[\"offset_mapping\"][i] = [\r\n",
        "            (o if sequence_ids[k] == context_index else None)\r\n",
        "            for k, o in enumerate(tokenized_examples[\"offset_mapping\"][i])\r\n",
        "        ]\r\n",
        "\r\n",
        "    return tokenized_examples"
      ],
      "execution_count": 26,
      "outputs": []
    },
    {
      "cell_type": "code",
      "metadata": {
        "id": "WhidQb3ljW6n",
        "colab": {
          "base_uri": "https://localhost:8080/",
          "height": 66,
          "referenced_widgets": [
            "3c3ef264dd6c4785862bc7d913339b52",
            "3a3036728c8440c385a8f59d55974a64",
            "6768795aa7a64597896d1d857d38f539",
            "363414189a644a5ea2b2a03a5b1721c3",
            "0637f960857c48b889f0f936f7d47b80",
            "5dbad0d8d4dd43a1a38549aa7b5504fa",
            "e60c9e52990248a2aa16ac05107f21e9",
            "40fb17c394774a95bc6a254ca2d27cd8"
          ]
        },
        "outputId": "6ba42965-28d3-497c-d2ec-5f6d798482cc"
      },
      "source": [
        "test_features = test_data['train'].map(prepare_validation_features, batched=True, remove_columns=test_data['train'].column_names)"
      ],
      "execution_count": 27,
      "outputs": [
        {
          "output_type": "display_data",
          "data": {
            "application/vnd.jupyter.widget-view+json": {
              "model_id": "3c3ef264dd6c4785862bc7d913339b52",
              "version_minor": 0,
              "version_major": 2
            },
            "text/plain": [
              "HBox(children=(FloatProgress(value=0.0, max=88.0), HTML(value='')))"
            ]
          },
          "metadata": {
            "tags": []
          }
        },
        {
          "output_type": "stream",
          "text": [
            "\n"
          ],
          "name": "stdout"
        }
      ]
    },
    {
      "cell_type": "markdown",
      "metadata": {
        "id": "GYjOLpYMtmXe"
      },
      "source": [
        "We instantiate a `Trainer`, that will be used to get the predictions.\r\n",
        "Note: This is not necessary, but using the Trainer instead of directly the model to get the predictions simplify this operation."
      ]
    },
    {
      "cell_type": "code",
      "metadata": {
        "id": "K82JqsZ3thEC"
      },
      "source": [
        "args = TrainingArguments(\r\n",
        "    output_dir='./results',\r\n",
        "    label_names=[\"start_positions\", \"end_positions\"]\r\n",
        ")\r\n",
        "trainer = Trainer(model, args)"
      ],
      "execution_count": 28,
      "outputs": []
    },
    {
      "cell_type": "code",
      "metadata": {
        "colab": {
          "base_uri": "https://localhost:8080/",
          "height": 37
        },
        "id": "I0G-l4GLufC9",
        "outputId": "0c83854a-31f7-4d64-d7b0-b80ec31a08a6"
      },
      "source": [
        "# Get final predictions\r\n",
        "with torch.no_grad():\r\n",
        "    pred = trainer.predict(test_features)"
      ],
      "execution_count": 29,
      "outputs": [
        {
          "output_type": "display_data",
          "data": {
            "text/html": [
              "\n",
              "    <div>\n",
              "        <style>\n",
              "            /* Turns off some styling */\n",
              "            progress {\n",
              "                /* gets rid of default border in Firefox and Opera. */\n",
              "                border: none;\n",
              "                /* Needs to be in here for Safari polyfill so background images work as expected. */\n",
              "                background-size: auto;\n",
              "            }\n",
              "        </style>\n",
              "      \n",
              "      <progress value='11066' max='11066' style='width:300px; height:20px; vertical-align: middle;'></progress>\n",
              "      [11066/11066 20:45]\n",
              "    </div>\n",
              "    "
            ],
            "text/plain": [
              "<IPython.core.display.HTML object>"
            ]
          },
          "metadata": {
            "tags": []
          }
        }
      ]
    },
    {
      "cell_type": "code",
      "metadata": {
        "colab": {
          "base_uri": "https://localhost:8080/"
        },
        "id": "76GsMSs7upgs",
        "outputId": "f6031aaa-3092-4da3-e725-fdb03aeb7de8"
      },
      "source": [
        "# The Trainer hides the columns that are not used by the model (here example_id and offset_mapping which we will need for our post-processing), so we set them back\r\n",
        "test_features.set_format(type=test_features.format[\"type\"],\r\n",
        "                          columns=list(test_features.features.keys()))\r\n",
        "\r\n",
        "# To get the final predictions we can apply our post-processing function to our raw predictions\r\n",
        "final_predictions = dict(postprocess_qa_predictions(test_data['train'], test_features, pred.predictions))"
      ],
      "execution_count": 30,
      "outputs": [
        {
          "output_type": "stream",
          "text": [
            "100%|██████████| 87599/87599 [02:55<00:00, 498.99it/s]\n"
          ],
          "name": "stderr"
        }
      ]
    },
    {
      "cell_type": "code",
      "metadata": {
        "id": "AHiYByi-uv54"
      },
      "source": [
        "# Create a new file and save the predictions\r\n",
        "with open(data_path + \"predictions.txt\", 'w') as file:\r\n",
        "    file.write(json.dumps(final_predictions))\r\n",
        "    file.close()"
      ],
      "execution_count": 31,
      "outputs": []
    },
    {
      "cell_type": "markdown",
      "metadata": {
        "id": "cGJyJxn1Ujhc"
      },
      "source": [
        "# Inference"
      ]
    },
    {
      "cell_type": "code",
      "metadata": {
        "colab": {
          "base_uri": "https://localhost:8080/",
          "height": 114,
          "referenced_widgets": [
            "87ea2302957e4ba9b5ddcf73ecd17d26",
            "d7faf05144c14e63b595f1fb35e1b67a",
            "38734bce3135489b9d2aa28a14d0d85e",
            "c89c04e71af84467908448de161b11e1",
            "47e5165b694e4830b73435402c56f2c6",
            "78ad9d3f7efd499ba4ce2e83ba45d3b0",
            "d590a1e3ac9f4d26be19b8dc8dc2938f",
            "6bff438267184fb298acab2330142c73",
            "7eeeb41d13ac49ea9fe948d549445405",
            "fdf85ec111df401ca12a65800017c4a6",
            "4572dd366aa24866abee190fdd78e596",
            "13965ed972b14f1fb6f4340c0c1ba0bb",
            "635f077c1cfd4f83bdb6321076722e30",
            "ecd2aa74229e4d7c8568d710a401f4f4",
            "c9224b53011b4f789280065b1c66d749",
            "003fcce42be5446fa7156e465a0c41a1"
          ]
        },
        "id": "sxsWHv8I5HgR",
        "outputId": "329745f4-6946-4319-f226-63bcae0e8fb0"
      },
      "source": [
        "formatted_predictions = {k : v for k, v in final_predictions.items()}\r\n",
        "metric = datasets.load_metric(\"squad\")"
      ],
      "execution_count": 32,
      "outputs": [
        {
          "output_type": "display_data",
          "data": {
            "application/vnd.jupyter.widget-view+json": {
              "model_id": "87ea2302957e4ba9b5ddcf73ecd17d26",
              "version_minor": 0,
              "version_major": 2
            },
            "text/plain": [
              "HBox(children=(FloatProgress(value=0.0, description='Downloading', max=1726.0, style=ProgressStyle(description…"
            ]
          },
          "metadata": {
            "tags": []
          }
        },
        {
          "output_type": "stream",
          "text": [
            "\n"
          ],
          "name": "stdout"
        },
        {
          "output_type": "display_data",
          "data": {
            "application/vnd.jupyter.widget-view+json": {
              "model_id": "7eeeb41d13ac49ea9fe948d549445405",
              "version_minor": 0,
              "version_major": 2
            },
            "text/plain": [
              "HBox(children=(FloatProgress(value=0.0, description='Downloading', max=1132.0, style=ProgressStyle(description…"
            ]
          },
          "metadata": {
            "tags": []
          }
        },
        {
          "output_type": "stream",
          "text": [
            "\n"
          ],
          "name": "stdout"
        }
      ]
    },
    {
      "cell_type": "code",
      "metadata": {
        "id": "hHgwYht3Ujhg"
      },
      "source": [
        "#@title Show Results { run: \"auto\", display-mode: \"form\" }\r\n",
        "\r\n",
        "sample_index =  0#@param {type:\"slider\", min:0, max:18206, step:1}\r\n",
        "\r\n",
        "def print_squad_sample(df, formatted_predictions, line_length=20, separator_length=120):\r\n",
        "  sample = df.iloc[sample_index]\r\n",
        "  title = sample.title.replace('_', ' ')\r\n",
        "  print('TITLE: ')\r\n",
        "  print(title)\r\n",
        "  print('='*separator_length)\r\n",
        "  context = sample.context.split()\r\n",
        "  print('CONTEXT: ')\r\n",
        "  lines = [' '.join(context[idx:idx+line_length]) for idx in range(0, len(context), line_length)]\r\n",
        "  for l in lines:\r\n",
        "      print(l)\r\n",
        "  print('='*separator_length)\r\n",
        "  questions = df[df.context.values==sample.context]\r\n",
        "\r\n",
        "  max_len_question = len(max(questions.question, key=len)) + 5\r\n",
        "  max_len_answer = len(max(questions.answers, key=len)) - 30\r\n",
        "\r\n",
        "  print(\"{: <{max_len_question}} {: <{max_len_answer}} {: <{max_len_answer}} {}\".format('QUESTION:','ANSWER:', \"PREDICTION:\", \"EM?\", max_len_question=max_len_question, max_len_answer= max_len_answer))\r\n",
        "  for idx, row in questions.iterrows():\r\n",
        "    question = row.question\r\n",
        "    answer = row.answers.split(\"'text': \")[1][2:-3]\r\n",
        "    predicted = formatted_predictions[row.id]\r\n",
        "    correct = \"✔\" if predicted == answer else \"✘\"\r\n",
        "    print(\"{: <{max_len_question}} {: <{max_len_answer}} {: <{max_len_answer}} {}\".format(question,answer,predicted,correct, max_len_question=max_len_question, max_len_answer = max_len_answer))\r\n",
        "\r\n",
        "\r\n",
        "print_squad_sample(test_dataframe, formatted_predictions)\r\n",
        "\r\n",
        "\r\n",
        "\r\n"
      ],
      "execution_count": null,
      "outputs": []
    },
    {
      "cell_type": "code",
      "metadata": {
        "id": "6qsmnexZK6kJ"
      },
      "source": [
        "test_dataframe['prediction_text'] = formatted_predictions.values()"
      ],
      "execution_count": 34,
      "outputs": []
    },
    {
      "cell_type": "code",
      "metadata": {
        "id": "Q27VgmPqLrLM"
      },
      "source": [
        "def get_answer_text(answer):\r\n",
        "  return answer.split(\"'text': \")[1][2:-3]\r\n",
        "test_dataframe['answers_text'] = test_dataframe['answers'].apply(get_answer_text)"
      ],
      "execution_count": 35,
      "outputs": []
    },
    {
      "cell_type": "code",
      "metadata": {
        "id": "iC9YdVSiSsIb"
      },
      "source": [
        "def string_to_dict(answer):\r\n",
        "  answer = ast.literal_eval(answer)\r\n",
        "  return answer\r\n",
        "test_dataframe['answers'] = test_dataframe['answers'].apply(string_to_dict)"
      ],
      "execution_count": 36,
      "outputs": []
    },
    {
      "cell_type": "code",
      "metadata": {
        "id": "6k5J_k5TO8eJ"
      },
      "source": [
        "# Function to get the questions' head\r\n",
        "def get_5w(question):\r\n",
        "  return question.split()[0].strip().lower();\r\n",
        "test_dataframe['question'] = test_dataframe['question'].apply(get_5w)"
      ],
      "execution_count": 37,
      "outputs": []
    },
    {
      "cell_type": "code",
      "metadata": {
        "id": "x8zEnUQKUQvu"
      },
      "source": [
        "total = test_dataframe.shape[0]\r\n",
        "top_qheads = test_dataframe['question'].value_counts().sort_values(ascending=False)[0:25]\r\n",
        "qheads = list(top_qheads.index)\r\n",
        "count = top_qheads.to_list()\r\n",
        "\r\n",
        "print(\"Label\\t\\tCount\\t\\tPercentage\\n\")\r\n",
        "for i, j in enumerate(top_qheads):\r\n",
        "  print(\"{: <15} {: <15} {:.1f}%\".format(qheads[i],j,j/total*100))"
      ],
      "execution_count": null,
      "outputs": []
    },
    {
      "cell_type": "code",
      "metadata": {
        "id": "o0xhPDgvXZwB"
      },
      "source": [
        "#@title Show Statistics { run: \"auto\", display-mode: \"form\" }\r\n",
        "\r\n",
        "question_head = 'what' #@param ['what', 'how', 'who', 'when', 'which', 'in', 'where', 'why', 'the', 'during', 'along', 'on', 'at', 'to', 'from', 'for', 'a', 'by', 'whose', 'is', 'according', 'after', 'if', 'name', 'as']\r\n",
        "temp = test_dataframe[test_dataframe['question'].isin([question_head])]\r\n",
        "final_predictions = temp[['id','prediction_text']].to_dict('records')\r\n",
        "references = temp[['answers','id']].to_dict('records')\r\n",
        "metrics = metric.compute(predictions=final_predictions, references=references)\r\n",
        "print(metrics)"
      ],
      "execution_count": null,
      "outputs": []
    },
    {
      "cell_type": "code",
      "metadata": {
        "id": "B9P3RPAQbUfe"
      },
      "source": [
        "f1_list = []\r\n",
        "em_list = []\r\n",
        "\r\n",
        "for q in qheads:\r\n",
        "  temp = test_dataframe[test_dataframe['question'].isin([q])]\r\n",
        "  final_predictions = temp[['id','prediction_text']].to_dict('records')\r\n",
        "  references = temp[['answers','id']].to_dict('records')\r\n",
        "  metrics = metric.compute(predictions=final_predictions, references=references)\r\n",
        "  em_list.append(metrics['exact_match'])\r\n",
        "  f1_list.append(metrics['f1'])"
      ],
      "execution_count": 41,
      "outputs": []
    },
    {
      "cell_type": "code",
      "metadata": {
        "id": "gFsPAP-XcgSP"
      },
      "source": [
        "import matplotlib.pyplot as plt\r\n",
        "\r\n",
        "x1 = count\r\n",
        "y1 = em_list\r\n",
        "\r\n",
        "plt.figure(figsize=(9,5))\r\n",
        "\r\n",
        "plt.scatter(x1, y1, label = \"line 1\")\r\n",
        "plt.xlabel('Occurrences')\r\n",
        "plt.ylabel('Exact match')\r\n",
        "\r\n",
        "for i, q in enumerate(qheads):\r\n",
        "    plt.annotate(q, (count[i], em_list[i]),  (count[i], em_list[i] + 1))\r\n",
        "\r\n",
        "# Display a figure.\r\n",
        "plt.show()"
      ],
      "execution_count": null,
      "outputs": []
    },
    {
      "cell_type": "code",
      "metadata": {
        "id": "bEEelg3leqQz"
      },
      "source": [
        "x1 = count\r\n",
        "y1 = f1_list\r\n",
        "\r\n",
        "plt.figure(figsize=(9,5))\r\n",
        "\r\n",
        "plt.scatter(x1, y1, label = \"line 1\")\r\n",
        "plt.xlabel('Occurrences')\r\n",
        "plt.ylabel('F1 Score')\r\n",
        "\r\n",
        "for i, q in enumerate(qheads):\r\n",
        "    plt.annotate(q, (count[i], f1_list[i]),  (count[i], f1_list[i] + 1))\r\n",
        "\r\n",
        "# Display a figure.\r\n",
        "plt.show()"
      ],
      "execution_count": null,
      "outputs": []
    },
    {
      "cell_type": "code",
      "metadata": {
        "id": "vDmWsz7rARWv"
      },
      "source": [
        "def get_char_diff(row):\r\n",
        "  return sum(1 for a, b in zip(row.answers_text, row.prediction_text) if a != b) + abs(len(row.answers_text) - len(row.prediction_text))\r\n",
        "  \r\n",
        "test_dataframe['difference'] = test_dataframe.apply(get_char_diff, axis=1)\r\n",
        "test_dataframe"
      ],
      "execution_count": null,
      "outputs": []
    },
    {
      "cell_type": "code",
      "metadata": {
        "id": "T--sjiI0DvLb"
      },
      "source": [
        "figsize = (10,6)\r\n",
        "test_dataframe['difference'].plot.hist(title=\"Number of different characthers\", bins= 50, figsize=figsize, grid=True)"
      ],
      "execution_count": null,
      "outputs": []
    },
    {
      "cell_type": "code",
      "metadata": {
        "id": "i36DRBNh3mTw"
      },
      "source": [
        "total = test_dataframe['difference'][test_dataframe['difference'] != 0].shape[0]\r\n",
        "sorted_series = test_dataframe['difference'][test_dataframe['difference'] != 0].value_counts().sort_values(ascending=False)[0:25]\r\n",
        "numbers = list(sorted_series.index)\r\n",
        "\r\n",
        "print(\"# Diff.Chars\\tCount\\t\\tPercentage\\n\")\r\n",
        "for i, j in enumerate(sorted_series):\r\n",
        "  print(\"{: <15} {: <15} {:.1f}%\".format(numbers[i],j,j/total*100))"
      ],
      "execution_count": null,
      "outputs": []
    },
    {
      "cell_type": "code",
      "metadata": {
        "id": "DoHxa6w1dHGG"
      },
      "source": [
        "# This function instead of returning the best prediction, returns the best 5 predictions\r\n",
        "\r\n",
        "def postprocess_qa_predictions_new(examples, features, raw_predictions, n_best_size = 20, max_answer_length = 100):\r\n",
        "    all_start_logits, all_end_logits = raw_predictions\r\n",
        "    # Build a map example to its corresponding features.\r\n",
        "    example_id_to_index = {k: i for i, k in enumerate(examples[\"id\"])}\r\n",
        "    features_per_example = collections.defaultdict(list)\r\n",
        "    for i, feature in enumerate(features):\r\n",
        "        features_per_example[example_id_to_index[feature[\"example_id\"]]].append(i)\r\n",
        "\r\n",
        "    # The dictionaries we have to fill.\r\n",
        "    predictions = collections.OrderedDict()\r\n",
        "\r\n",
        "    # Let's loop over all the examples!\r\n",
        "    for example_index, example in enumerate(tqdm(examples)):\r\n",
        "        # Those are the indices of the features associated to the current example.\r\n",
        "        feature_indices = features_per_example[example_index]\r\n",
        "        valid_answers = []\r\n",
        "        \r\n",
        "        context = example[\"context\"]\r\n",
        "        # Looping through all the features associated to the current example.\r\n",
        "        for feature_index in feature_indices:\r\n",
        "            # We grab the predictions of the model for this feature.\r\n",
        "            start_logits = all_start_logits[feature_index]\r\n",
        "            end_logits = all_end_logits[feature_index]\r\n",
        "            # This is what will allow us to map some the positions in our logits to span of texts in the original\r\n",
        "            # context.\r\n",
        "            offset_mapping = features[feature_index][\"offset_mapping\"]\r\n",
        "\r\n",
        "            # Update minimum null prediction.\r\n",
        "            cls_index = features[feature_index][\"input_ids\"].index(tokenizer.cls_token_id)\r\n",
        "            feature_null_score = start_logits[cls_index] + end_logits[cls_index]\r\n",
        "\r\n",
        "            # Go through all possibilities for the `n_best_size` greater start and end logits.\r\n",
        "            start_indexes = np.argsort(start_logits)[-1 : -n_best_size - 1 : -1].tolist()\r\n",
        "            end_indexes = np.argsort(end_logits)[-1 : -n_best_size - 1 : -1].tolist()\r\n",
        "            for start_index in start_indexes:\r\n",
        "                for end_index in end_indexes:\r\n",
        "                    # Don't consider out-of-scope answers, either because the indices are out of bounds or correspond\r\n",
        "                    # to part of the input_ids that are not in the context.\r\n",
        "                    if (\r\n",
        "                        start_index >= len(offset_mapping)\r\n",
        "                        or end_index >= len(offset_mapping)\r\n",
        "                        or offset_mapping[start_index] is None\r\n",
        "                        or offset_mapping[end_index] is None\r\n",
        "                    ):\r\n",
        "                        continue\r\n",
        "                    # Don't consider answers with a length that is either < 0 or > max_answer_length.\r\n",
        "                    if end_index < start_index or end_index - start_index + 1 > max_answer_length:\r\n",
        "                        continue\r\n",
        "\r\n",
        "                    start_char = offset_mapping[start_index][0]\r\n",
        "                    end_char = offset_mapping[end_index][1]\r\n",
        "                    valid_answers.append(\r\n",
        "                        {\r\n",
        "                            \"score\": start_logits[start_index] + end_logits[end_index],\r\n",
        "                            \"text\": context[start_char: end_char]\r\n",
        "                        }\r\n",
        "                    )\r\n",
        "        \r\n",
        "        if len(valid_answers) > 0:\r\n",
        "            best_answer = sorted(valid_answers, key=lambda x: x[\"score\"], reverse=True)[0:5]\r\n",
        "        else:\r\n",
        "            # In the very rare edge case we have not a single non-null prediction, we create a fake prediction to avoid\r\n",
        "            # failure.\r\n",
        "            best_answer = {\"text\": \"\", \"score\": 0.0}\r\n",
        "        \r\n",
        "        # Let's pick our final answer\r\n",
        "        predictions[example[\"id\"]] = [a_dict[\"text\"] for a_dict in best_answer] \r\n",
        "\r\n",
        "    return predictions"
      ],
      "execution_count": 46,
      "outputs": []
    },
    {
      "cell_type": "markdown",
      "metadata": {
        "id": "xR4Su_gZ1Hn3"
      },
      "source": [
        "Now we collect the best 5 predictions for each question to compute the \"top 5 EM\" "
      ]
    },
    {
      "cell_type": "code",
      "metadata": {
        "id": "iTKvxljjdNMH",
        "colab": {
          "base_uri": "https://localhost:8080/"
        },
        "outputId": "ffe28e15-e989-431f-ed83-39aad9de89c6"
      },
      "source": [
        "# The Trainer hides the columns that are not used by the model (here example_id and offset_mapping which we will need for our post-processing), so we set them back\n",
        "test_features.set_format(type=test_features.format[\"type\"], columns=list(test_features.features.keys()))\n",
        "\n",
        "# To get the final predictions we can apply our post-processing function to our raw predictions\n",
        "final_predictions = postprocess_qa_predictions_new(test_data['train'], test_features, pred.predictions)\n",
        "\n",
        "formatted_predictions = {k : v for k, v in final_predictions.items()}\n",
        "\n",
        "# Hide again the columns that are not used by the model\n",
        "test_features.set_format(type=test_features.format[\"type\"], columns=['attention_mask', 'end_positions', 'input_ids', 'start_positions'])"
      ],
      "execution_count": 47,
      "outputs": [
        {
          "output_type": "stream",
          "text": [
            "100%|██████████| 87599/87599 [02:56<00:00, 497.49it/s]\n"
          ],
          "name": "stderr"
        }
      ]
    },
    {
      "cell_type": "code",
      "metadata": {
        "id": "iInYaPT4fGnr"
      },
      "source": [
        "count = 0\n",
        "for id in test_dataframe['id']:\n",
        "  if test_dataframe['answers_text'][test_dataframe.id == id].values[0] in formatted_predictions[id]:\n",
        "    count += 1\n",
        "    \n",
        "final_predictions = test_dataframe[['id','prediction_text']].to_dict('records')\n",
        "references = test_dataframe[['answers','id']].to_dict('records')\n",
        "\n",
        "print(\"Top 1 exact match and F1 score: {}\".format(metric.compute(predictions=final_predictions, references=references)))\n",
        "print(\"Top 5 exact match: {}\".format(count/len(test_dataframe)))"
      ],
      "execution_count": null,
      "outputs": []
    }
  ]
}