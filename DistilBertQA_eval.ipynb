{
  "nbformat": 4,
  "nbformat_minor": 0,
  "metadata": {
    "colab": {
      "name": "DistilBertQA_eval.ipynb",
      "provenance": [],
      "collapsed_sections": [],
      "toc_visible": true,
      "authorship_tag": "ABX9TyOkueEfYMGEzYBt+95VZR6M",
      "include_colab_link": true
    },
    "kernelspec": {
      "name": "python3",
      "display_name": "Python 3"
    },
    "accelerator": "GPU",
    "widgets": {
      "application/vnd.jupyter.widget-state+json": {
        "0d80cff0db7a4c3fbe92f00093c610ee": {
          "model_module": "@jupyter-widgets/controls",
          "model_name": "HBoxModel",
          "state": {
            "_view_name": "HBoxView",
            "_dom_classes": [],
            "_model_name": "HBoxModel",
            "_view_module": "@jupyter-widgets/controls",
            "_model_module_version": "1.5.0",
            "_view_count": null,
            "_view_module_version": "1.5.0",
            "box_style": "",
            "layout": "IPY_MODEL_c87e2f840a55469bb3088c296c1425ec",
            "_model_module": "@jupyter-widgets/controls",
            "children": [
              "IPY_MODEL_e7656492e23645a0b42098424111be04",
              "IPY_MODEL_eb76f1b26b8a4e62a608296ab1241ff0"
            ]
          }
        },
        "c87e2f840a55469bb3088c296c1425ec": {
          "model_module": "@jupyter-widgets/base",
          "model_name": "LayoutModel",
          "state": {
            "_view_name": "LayoutView",
            "grid_template_rows": null,
            "right": null,
            "justify_content": null,
            "_view_module": "@jupyter-widgets/base",
            "overflow": null,
            "_model_module_version": "1.2.0",
            "_view_count": null,
            "flex_flow": null,
            "width": null,
            "min_width": null,
            "border": null,
            "align_items": null,
            "bottom": null,
            "_model_module": "@jupyter-widgets/base",
            "top": null,
            "grid_column": null,
            "overflow_y": null,
            "overflow_x": null,
            "grid_auto_flow": null,
            "grid_area": null,
            "grid_template_columns": null,
            "flex": null,
            "_model_name": "LayoutModel",
            "justify_items": null,
            "grid_row": null,
            "max_height": null,
            "align_content": null,
            "visibility": null,
            "align_self": null,
            "height": null,
            "min_height": null,
            "padding": null,
            "grid_auto_rows": null,
            "grid_gap": null,
            "max_width": null,
            "order": null,
            "_view_module_version": "1.2.0",
            "grid_template_areas": null,
            "object_position": null,
            "object_fit": null,
            "grid_auto_columns": null,
            "margin": null,
            "display": null,
            "left": null
          }
        },
        "e7656492e23645a0b42098424111be04": {
          "model_module": "@jupyter-widgets/controls",
          "model_name": "FloatProgressModel",
          "state": {
            "_view_name": "ProgressView",
            "style": "IPY_MODEL_20aa7c1c988046b8807450bf863b5d2d",
            "_dom_classes": [],
            "description": "",
            "_model_name": "FloatProgressModel",
            "bar_style": "info",
            "max": 1,
            "_view_module": "@jupyter-widgets/controls",
            "_model_module_version": "1.5.0",
            "value": 1,
            "_view_count": null,
            "_view_module_version": "1.5.0",
            "orientation": "horizontal",
            "min": 0,
            "description_tooltip": null,
            "_model_module": "@jupyter-widgets/controls",
            "layout": "IPY_MODEL_fc7f97a44a35401da85840cd3bf6e387"
          }
        },
        "eb76f1b26b8a4e62a608296ab1241ff0": {
          "model_module": "@jupyter-widgets/controls",
          "model_name": "HTMLModel",
          "state": {
            "_view_name": "HTMLView",
            "style": "IPY_MODEL_ad1d02d1e8024715bbdc511b0591874b",
            "_dom_classes": [],
            "description": "",
            "_model_name": "HTMLModel",
            "placeholder": "​",
            "_view_module": "@jupyter-widgets/controls",
            "_model_module_version": "1.5.0",
            "value": " 9/? [00:00&lt;00:00,  8.50 tables/s]",
            "_view_count": null,
            "_view_module_version": "1.5.0",
            "description_tooltip": null,
            "_model_module": "@jupyter-widgets/controls",
            "layout": "IPY_MODEL_23fa2ba80c8b47bda12683fb34e7997d"
          }
        },
        "20aa7c1c988046b8807450bf863b5d2d": {
          "model_module": "@jupyter-widgets/controls",
          "model_name": "ProgressStyleModel",
          "state": {
            "_view_name": "StyleView",
            "_model_name": "ProgressStyleModel",
            "description_width": "initial",
            "_view_module": "@jupyter-widgets/base",
            "_model_module_version": "1.5.0",
            "_view_count": null,
            "_view_module_version": "1.2.0",
            "bar_color": null,
            "_model_module": "@jupyter-widgets/controls"
          }
        },
        "fc7f97a44a35401da85840cd3bf6e387": {
          "model_module": "@jupyter-widgets/base",
          "model_name": "LayoutModel",
          "state": {
            "_view_name": "LayoutView",
            "grid_template_rows": null,
            "right": null,
            "justify_content": null,
            "_view_module": "@jupyter-widgets/base",
            "overflow": null,
            "_model_module_version": "1.2.0",
            "_view_count": null,
            "flex_flow": null,
            "width": null,
            "min_width": null,
            "border": null,
            "align_items": null,
            "bottom": null,
            "_model_module": "@jupyter-widgets/base",
            "top": null,
            "grid_column": null,
            "overflow_y": null,
            "overflow_x": null,
            "grid_auto_flow": null,
            "grid_area": null,
            "grid_template_columns": null,
            "flex": null,
            "_model_name": "LayoutModel",
            "justify_items": null,
            "grid_row": null,
            "max_height": null,
            "align_content": null,
            "visibility": null,
            "align_self": null,
            "height": null,
            "min_height": null,
            "padding": null,
            "grid_auto_rows": null,
            "grid_gap": null,
            "max_width": null,
            "order": null,
            "_view_module_version": "1.2.0",
            "grid_template_areas": null,
            "object_position": null,
            "object_fit": null,
            "grid_auto_columns": null,
            "margin": null,
            "display": null,
            "left": null
          }
        },
        "ad1d02d1e8024715bbdc511b0591874b": {
          "model_module": "@jupyter-widgets/controls",
          "model_name": "DescriptionStyleModel",
          "state": {
            "_view_name": "StyleView",
            "_model_name": "DescriptionStyleModel",
            "description_width": "",
            "_view_module": "@jupyter-widgets/base",
            "_model_module_version": "1.5.0",
            "_view_count": null,
            "_view_module_version": "1.2.0",
            "_model_module": "@jupyter-widgets/controls"
          }
        },
        "23fa2ba80c8b47bda12683fb34e7997d": {
          "model_module": "@jupyter-widgets/base",
          "model_name": "LayoutModel",
          "state": {
            "_view_name": "LayoutView",
            "grid_template_rows": null,
            "right": null,
            "justify_content": null,
            "_view_module": "@jupyter-widgets/base",
            "overflow": null,
            "_model_module_version": "1.2.0",
            "_view_count": null,
            "flex_flow": null,
            "width": null,
            "min_width": null,
            "border": null,
            "align_items": null,
            "bottom": null,
            "_model_module": "@jupyter-widgets/base",
            "top": null,
            "grid_column": null,
            "overflow_y": null,
            "overflow_x": null,
            "grid_auto_flow": null,
            "grid_area": null,
            "grid_template_columns": null,
            "flex": null,
            "_model_name": "LayoutModel",
            "justify_items": null,
            "grid_row": null,
            "max_height": null,
            "align_content": null,
            "visibility": null,
            "align_self": null,
            "height": null,
            "min_height": null,
            "padding": null,
            "grid_auto_rows": null,
            "grid_gap": null,
            "max_width": null,
            "order": null,
            "_view_module_version": "1.2.0",
            "grid_template_areas": null,
            "object_position": null,
            "object_fit": null,
            "grid_auto_columns": null,
            "margin": null,
            "display": null,
            "left": null
          }
        },
        "6e3c613c34bf4754a0e05b8c901499e2": {
          "model_module": "@jupyter-widgets/controls",
          "model_name": "HBoxModel",
          "state": {
            "_view_name": "HBoxView",
            "_dom_classes": [],
            "_model_name": "HBoxModel",
            "_view_module": "@jupyter-widgets/controls",
            "_model_module_version": "1.5.0",
            "_view_count": null,
            "_view_module_version": "1.5.0",
            "box_style": "",
            "layout": "IPY_MODEL_7ab5d67de43f4681856f7c7c24afc590",
            "_model_module": "@jupyter-widgets/controls",
            "children": [
              "IPY_MODEL_e48edd5a54f749f1b4c38cc9af157a49",
              "IPY_MODEL_854c2f24c91348d7a7a816062920a02a"
            ]
          }
        },
        "7ab5d67de43f4681856f7c7c24afc590": {
          "model_module": "@jupyter-widgets/base",
          "model_name": "LayoutModel",
          "state": {
            "_view_name": "LayoutView",
            "grid_template_rows": null,
            "right": null,
            "justify_content": null,
            "_view_module": "@jupyter-widgets/base",
            "overflow": null,
            "_model_module_version": "1.2.0",
            "_view_count": null,
            "flex_flow": null,
            "width": null,
            "min_width": null,
            "border": null,
            "align_items": null,
            "bottom": null,
            "_model_module": "@jupyter-widgets/base",
            "top": null,
            "grid_column": null,
            "overflow_y": null,
            "overflow_x": null,
            "grid_auto_flow": null,
            "grid_area": null,
            "grid_template_columns": null,
            "flex": null,
            "_model_name": "LayoutModel",
            "justify_items": null,
            "grid_row": null,
            "max_height": null,
            "align_content": null,
            "visibility": null,
            "align_self": null,
            "height": null,
            "min_height": null,
            "padding": null,
            "grid_auto_rows": null,
            "grid_gap": null,
            "max_width": null,
            "order": null,
            "_view_module_version": "1.2.0",
            "grid_template_areas": null,
            "object_position": null,
            "object_fit": null,
            "grid_auto_columns": null,
            "margin": null,
            "display": null,
            "left": null
          }
        },
        "e48edd5a54f749f1b4c38cc9af157a49": {
          "model_module": "@jupyter-widgets/controls",
          "model_name": "FloatProgressModel",
          "state": {
            "_view_name": "ProgressView",
            "style": "IPY_MODEL_ce88f26a80004047a2d2f6b74ced3d97",
            "_dom_classes": [],
            "description": "100%",
            "_model_name": "FloatProgressModel",
            "bar_style": "success",
            "max": 87599,
            "_view_module": "@jupyter-widgets/controls",
            "_model_module_version": "1.5.0",
            "value": 87599,
            "_view_count": null,
            "_view_module_version": "1.5.0",
            "orientation": "horizontal",
            "min": 0,
            "description_tooltip": null,
            "_model_module": "@jupyter-widgets/controls",
            "layout": "IPY_MODEL_1bcdd3eb17a8489d9ec17a6a9a81534f"
          }
        },
        "854c2f24c91348d7a7a816062920a02a": {
          "model_module": "@jupyter-widgets/controls",
          "model_name": "HTMLModel",
          "state": {
            "_view_name": "HTMLView",
            "style": "IPY_MODEL_3d17f22c787c47c2b48c07900547578d",
            "_dom_classes": [],
            "description": "",
            "_model_name": "HTMLModel",
            "placeholder": "​",
            "_view_module": "@jupyter-widgets/controls",
            "_model_module_version": "1.5.0",
            "value": " 87599/87599 [00:14&lt;00:00, 6012.57ex/s]",
            "_view_count": null,
            "_view_module_version": "1.5.0",
            "description_tooltip": null,
            "_model_module": "@jupyter-widgets/controls",
            "layout": "IPY_MODEL_39240dd5958044509ba91a331881fd35"
          }
        },
        "ce88f26a80004047a2d2f6b74ced3d97": {
          "model_module": "@jupyter-widgets/controls",
          "model_name": "ProgressStyleModel",
          "state": {
            "_view_name": "StyleView",
            "_model_name": "ProgressStyleModel",
            "description_width": "initial",
            "_view_module": "@jupyter-widgets/base",
            "_model_module_version": "1.5.0",
            "_view_count": null,
            "_view_module_version": "1.2.0",
            "bar_color": null,
            "_model_module": "@jupyter-widgets/controls"
          }
        },
        "1bcdd3eb17a8489d9ec17a6a9a81534f": {
          "model_module": "@jupyter-widgets/base",
          "model_name": "LayoutModel",
          "state": {
            "_view_name": "LayoutView",
            "grid_template_rows": null,
            "right": null,
            "justify_content": null,
            "_view_module": "@jupyter-widgets/base",
            "overflow": null,
            "_model_module_version": "1.2.0",
            "_view_count": null,
            "flex_flow": null,
            "width": null,
            "min_width": null,
            "border": null,
            "align_items": null,
            "bottom": null,
            "_model_module": "@jupyter-widgets/base",
            "top": null,
            "grid_column": null,
            "overflow_y": null,
            "overflow_x": null,
            "grid_auto_flow": null,
            "grid_area": null,
            "grid_template_columns": null,
            "flex": null,
            "_model_name": "LayoutModel",
            "justify_items": null,
            "grid_row": null,
            "max_height": null,
            "align_content": null,
            "visibility": null,
            "align_self": null,
            "height": null,
            "min_height": null,
            "padding": null,
            "grid_auto_rows": null,
            "grid_gap": null,
            "max_width": null,
            "order": null,
            "_view_module_version": "1.2.0",
            "grid_template_areas": null,
            "object_position": null,
            "object_fit": null,
            "grid_auto_columns": null,
            "margin": null,
            "display": null,
            "left": null
          }
        },
        "3d17f22c787c47c2b48c07900547578d": {
          "model_module": "@jupyter-widgets/controls",
          "model_name": "DescriptionStyleModel",
          "state": {
            "_view_name": "StyleView",
            "_model_name": "DescriptionStyleModel",
            "description_width": "",
            "_view_module": "@jupyter-widgets/base",
            "_model_module_version": "1.5.0",
            "_view_count": null,
            "_view_module_version": "1.2.0",
            "_model_module": "@jupyter-widgets/controls"
          }
        },
        "39240dd5958044509ba91a331881fd35": {
          "model_module": "@jupyter-widgets/base",
          "model_name": "LayoutModel",
          "state": {
            "_view_name": "LayoutView",
            "grid_template_rows": null,
            "right": null,
            "justify_content": null,
            "_view_module": "@jupyter-widgets/base",
            "overflow": null,
            "_model_module_version": "1.2.0",
            "_view_count": null,
            "flex_flow": null,
            "width": null,
            "min_width": null,
            "border": null,
            "align_items": null,
            "bottom": null,
            "_model_module": "@jupyter-widgets/base",
            "top": null,
            "grid_column": null,
            "overflow_y": null,
            "overflow_x": null,
            "grid_auto_flow": null,
            "grid_area": null,
            "grid_template_columns": null,
            "flex": null,
            "_model_name": "LayoutModel",
            "justify_items": null,
            "grid_row": null,
            "max_height": null,
            "align_content": null,
            "visibility": null,
            "align_self": null,
            "height": null,
            "min_height": null,
            "padding": null,
            "grid_auto_rows": null,
            "grid_gap": null,
            "max_width": null,
            "order": null,
            "_view_module_version": "1.2.0",
            "grid_template_areas": null,
            "object_position": null,
            "object_fit": null,
            "grid_auto_columns": null,
            "margin": null,
            "display": null,
            "left": null
          }
        },
        "ea6a90d6add948089399e70f20969083": {
          "model_module": "@jupyter-widgets/controls",
          "model_name": "HBoxModel",
          "state": {
            "_view_name": "HBoxView",
            "_dom_classes": [],
            "_model_name": "HBoxModel",
            "_view_module": "@jupyter-widgets/controls",
            "_model_module_version": "1.5.0",
            "_view_count": null,
            "_view_module_version": "1.5.0",
            "box_style": "",
            "layout": "IPY_MODEL_351fb3c7fa274fa291ea67be37e4da10",
            "_model_module": "@jupyter-widgets/controls",
            "children": [
              "IPY_MODEL_09a41311c77249d3bfd3bea9a430bdb9",
              "IPY_MODEL_3de8bd93832b4843851bd03bbdd12e12"
            ]
          }
        },
        "351fb3c7fa274fa291ea67be37e4da10": {
          "model_module": "@jupyter-widgets/base",
          "model_name": "LayoutModel",
          "state": {
            "_view_name": "LayoutView",
            "grid_template_rows": null,
            "right": null,
            "justify_content": null,
            "_view_module": "@jupyter-widgets/base",
            "overflow": null,
            "_model_module_version": "1.2.0",
            "_view_count": null,
            "flex_flow": null,
            "width": null,
            "min_width": null,
            "border": null,
            "align_items": null,
            "bottom": null,
            "_model_module": "@jupyter-widgets/base",
            "top": null,
            "grid_column": null,
            "overflow_y": null,
            "overflow_x": null,
            "grid_auto_flow": null,
            "grid_area": null,
            "grid_template_columns": null,
            "flex": null,
            "_model_name": "LayoutModel",
            "justify_items": null,
            "grid_row": null,
            "max_height": null,
            "align_content": null,
            "visibility": null,
            "align_self": null,
            "height": null,
            "min_height": null,
            "padding": null,
            "grid_auto_rows": null,
            "grid_gap": null,
            "max_width": null,
            "order": null,
            "_view_module_version": "1.2.0",
            "grid_template_areas": null,
            "object_position": null,
            "object_fit": null,
            "grid_auto_columns": null,
            "margin": null,
            "display": null,
            "left": null
          }
        },
        "09a41311c77249d3bfd3bea9a430bdb9": {
          "model_module": "@jupyter-widgets/controls",
          "model_name": "FloatProgressModel",
          "state": {
            "_view_name": "ProgressView",
            "style": "IPY_MODEL_8c9069e999f74a04a5fd147e70489332",
            "_dom_classes": [],
            "description": "Downloading: 100%",
            "_model_name": "FloatProgressModel",
            "bar_style": "success",
            "max": 532,
            "_view_module": "@jupyter-widgets/controls",
            "_model_module_version": "1.5.0",
            "value": 532,
            "_view_count": null,
            "_view_module_version": "1.5.0",
            "orientation": "horizontal",
            "min": 0,
            "description_tooltip": null,
            "_model_module": "@jupyter-widgets/controls",
            "layout": "IPY_MODEL_a051b041516349b1bf54911e570f3f06"
          }
        },
        "3de8bd93832b4843851bd03bbdd12e12": {
          "model_module": "@jupyter-widgets/controls",
          "model_name": "HTMLModel",
          "state": {
            "_view_name": "HTMLView",
            "style": "IPY_MODEL_5facdeca314b40ef9c8db0c6382e32e9",
            "_dom_classes": [],
            "description": "",
            "_model_name": "HTMLModel",
            "placeholder": "​",
            "_view_module": "@jupyter-widgets/controls",
            "_model_module_version": "1.5.0",
            "value": " 532/532 [00:00&lt;00:00, 1.37kB/s]",
            "_view_count": null,
            "_view_module_version": "1.5.0",
            "description_tooltip": null,
            "_model_module": "@jupyter-widgets/controls",
            "layout": "IPY_MODEL_30d287c4194f4ccca4df14f308943974"
          }
        },
        "8c9069e999f74a04a5fd147e70489332": {
          "model_module": "@jupyter-widgets/controls",
          "model_name": "ProgressStyleModel",
          "state": {
            "_view_name": "StyleView",
            "_model_name": "ProgressStyleModel",
            "description_width": "initial",
            "_view_module": "@jupyter-widgets/base",
            "_model_module_version": "1.5.0",
            "_view_count": null,
            "_view_module_version": "1.2.0",
            "bar_color": null,
            "_model_module": "@jupyter-widgets/controls"
          }
        },
        "a051b041516349b1bf54911e570f3f06": {
          "model_module": "@jupyter-widgets/base",
          "model_name": "LayoutModel",
          "state": {
            "_view_name": "LayoutView",
            "grid_template_rows": null,
            "right": null,
            "justify_content": null,
            "_view_module": "@jupyter-widgets/base",
            "overflow": null,
            "_model_module_version": "1.2.0",
            "_view_count": null,
            "flex_flow": null,
            "width": null,
            "min_width": null,
            "border": null,
            "align_items": null,
            "bottom": null,
            "_model_module": "@jupyter-widgets/base",
            "top": null,
            "grid_column": null,
            "overflow_y": null,
            "overflow_x": null,
            "grid_auto_flow": null,
            "grid_area": null,
            "grid_template_columns": null,
            "flex": null,
            "_model_name": "LayoutModel",
            "justify_items": null,
            "grid_row": null,
            "max_height": null,
            "align_content": null,
            "visibility": null,
            "align_self": null,
            "height": null,
            "min_height": null,
            "padding": null,
            "grid_auto_rows": null,
            "grid_gap": null,
            "max_width": null,
            "order": null,
            "_view_module_version": "1.2.0",
            "grid_template_areas": null,
            "object_position": null,
            "object_fit": null,
            "grid_auto_columns": null,
            "margin": null,
            "display": null,
            "left": null
          }
        },
        "5facdeca314b40ef9c8db0c6382e32e9": {
          "model_module": "@jupyter-widgets/controls",
          "model_name": "DescriptionStyleModel",
          "state": {
            "_view_name": "StyleView",
            "_model_name": "DescriptionStyleModel",
            "description_width": "",
            "_view_module": "@jupyter-widgets/base",
            "_model_module_version": "1.5.0",
            "_view_count": null,
            "_view_module_version": "1.2.0",
            "_model_module": "@jupyter-widgets/controls"
          }
        },
        "30d287c4194f4ccca4df14f308943974": {
          "model_module": "@jupyter-widgets/base",
          "model_name": "LayoutModel",
          "state": {
            "_view_name": "LayoutView",
            "grid_template_rows": null,
            "right": null,
            "justify_content": null,
            "_view_module": "@jupyter-widgets/base",
            "overflow": null,
            "_model_module_version": "1.2.0",
            "_view_count": null,
            "flex_flow": null,
            "width": null,
            "min_width": null,
            "border": null,
            "align_items": null,
            "bottom": null,
            "_model_module": "@jupyter-widgets/base",
            "top": null,
            "grid_column": null,
            "overflow_y": null,
            "overflow_x": null,
            "grid_auto_flow": null,
            "grid_area": null,
            "grid_template_columns": null,
            "flex": null,
            "_model_name": "LayoutModel",
            "justify_items": null,
            "grid_row": null,
            "max_height": null,
            "align_content": null,
            "visibility": null,
            "align_self": null,
            "height": null,
            "min_height": null,
            "padding": null,
            "grid_auto_rows": null,
            "grid_gap": null,
            "max_width": null,
            "order": null,
            "_view_module_version": "1.2.0",
            "grid_template_areas": null,
            "object_position": null,
            "object_fit": null,
            "grid_auto_columns": null,
            "margin": null,
            "display": null,
            "left": null
          }
        },
        "cd20e38a1d44409e851e9a633be8a266": {
          "model_module": "@jupyter-widgets/controls",
          "model_name": "HBoxModel",
          "state": {
            "_view_name": "HBoxView",
            "_dom_classes": [],
            "_model_name": "HBoxModel",
            "_view_module": "@jupyter-widgets/controls",
            "_model_module_version": "1.5.0",
            "_view_count": null,
            "_view_module_version": "1.5.0",
            "box_style": "",
            "layout": "IPY_MODEL_54ec145749df4ed1a1d9fae342f67852",
            "_model_module": "@jupyter-widgets/controls",
            "children": [
              "IPY_MODEL_0d46e8917b934297bb4ce5d1396ed4e7",
              "IPY_MODEL_456fe1dc36724c3cb10af42ce9b93b02"
            ]
          }
        },
        "54ec145749df4ed1a1d9fae342f67852": {
          "model_module": "@jupyter-widgets/base",
          "model_name": "LayoutModel",
          "state": {
            "_view_name": "LayoutView",
            "grid_template_rows": null,
            "right": null,
            "justify_content": null,
            "_view_module": "@jupyter-widgets/base",
            "overflow": null,
            "_model_module_version": "1.2.0",
            "_view_count": null,
            "flex_flow": null,
            "width": null,
            "min_width": null,
            "border": null,
            "align_items": null,
            "bottom": null,
            "_model_module": "@jupyter-widgets/base",
            "top": null,
            "grid_column": null,
            "overflow_y": null,
            "overflow_x": null,
            "grid_auto_flow": null,
            "grid_area": null,
            "grid_template_columns": null,
            "flex": null,
            "_model_name": "LayoutModel",
            "justify_items": null,
            "grid_row": null,
            "max_height": null,
            "align_content": null,
            "visibility": null,
            "align_self": null,
            "height": null,
            "min_height": null,
            "padding": null,
            "grid_auto_rows": null,
            "grid_gap": null,
            "max_width": null,
            "order": null,
            "_view_module_version": "1.2.0",
            "grid_template_areas": null,
            "object_position": null,
            "object_fit": null,
            "grid_auto_columns": null,
            "margin": null,
            "display": null,
            "left": null
          }
        },
        "0d46e8917b934297bb4ce5d1396ed4e7": {
          "model_module": "@jupyter-widgets/controls",
          "model_name": "FloatProgressModel",
          "state": {
            "_view_name": "ProgressView",
            "style": "IPY_MODEL_70c32894116a4281917fd49298981bc3",
            "_dom_classes": [],
            "description": "Downloading: 100%",
            "_model_name": "FloatProgressModel",
            "bar_style": "success",
            "max": 231508,
            "_view_module": "@jupyter-widgets/controls",
            "_model_module_version": "1.5.0",
            "value": 231508,
            "_view_count": null,
            "_view_module_version": "1.5.0",
            "orientation": "horizontal",
            "min": 0,
            "description_tooltip": null,
            "_model_module": "@jupyter-widgets/controls",
            "layout": "IPY_MODEL_8b9bae0687ea4c2bbefced47a76dfae8"
          }
        },
        "456fe1dc36724c3cb10af42ce9b93b02": {
          "model_module": "@jupyter-widgets/controls",
          "model_name": "HTMLModel",
          "state": {
            "_view_name": "HTMLView",
            "style": "IPY_MODEL_33221b89c86446e2935ed8fc77dca072",
            "_dom_classes": [],
            "description": "",
            "_model_name": "HTMLModel",
            "placeholder": "​",
            "_view_module": "@jupyter-widgets/controls",
            "_model_module_version": "1.5.0",
            "value": " 232k/232k [00:00&lt;00:00, 1.64MB/s]",
            "_view_count": null,
            "_view_module_version": "1.5.0",
            "description_tooltip": null,
            "_model_module": "@jupyter-widgets/controls",
            "layout": "IPY_MODEL_ae264e2115f54be4a53c2c048d34e8a9"
          }
        },
        "70c32894116a4281917fd49298981bc3": {
          "model_module": "@jupyter-widgets/controls",
          "model_name": "ProgressStyleModel",
          "state": {
            "_view_name": "StyleView",
            "_model_name": "ProgressStyleModel",
            "description_width": "initial",
            "_view_module": "@jupyter-widgets/base",
            "_model_module_version": "1.5.0",
            "_view_count": null,
            "_view_module_version": "1.2.0",
            "bar_color": null,
            "_model_module": "@jupyter-widgets/controls"
          }
        },
        "8b9bae0687ea4c2bbefced47a76dfae8": {
          "model_module": "@jupyter-widgets/base",
          "model_name": "LayoutModel",
          "state": {
            "_view_name": "LayoutView",
            "grid_template_rows": null,
            "right": null,
            "justify_content": null,
            "_view_module": "@jupyter-widgets/base",
            "overflow": null,
            "_model_module_version": "1.2.0",
            "_view_count": null,
            "flex_flow": null,
            "width": null,
            "min_width": null,
            "border": null,
            "align_items": null,
            "bottom": null,
            "_model_module": "@jupyter-widgets/base",
            "top": null,
            "grid_column": null,
            "overflow_y": null,
            "overflow_x": null,
            "grid_auto_flow": null,
            "grid_area": null,
            "grid_template_columns": null,
            "flex": null,
            "_model_name": "LayoutModel",
            "justify_items": null,
            "grid_row": null,
            "max_height": null,
            "align_content": null,
            "visibility": null,
            "align_self": null,
            "height": null,
            "min_height": null,
            "padding": null,
            "grid_auto_rows": null,
            "grid_gap": null,
            "max_width": null,
            "order": null,
            "_view_module_version": "1.2.0",
            "grid_template_areas": null,
            "object_position": null,
            "object_fit": null,
            "grid_auto_columns": null,
            "margin": null,
            "display": null,
            "left": null
          }
        },
        "33221b89c86446e2935ed8fc77dca072": {
          "model_module": "@jupyter-widgets/controls",
          "model_name": "DescriptionStyleModel",
          "state": {
            "_view_name": "StyleView",
            "_model_name": "DescriptionStyleModel",
            "description_width": "",
            "_view_module": "@jupyter-widgets/base",
            "_model_module_version": "1.5.0",
            "_view_count": null,
            "_view_module_version": "1.2.0",
            "_model_module": "@jupyter-widgets/controls"
          }
        },
        "ae264e2115f54be4a53c2c048d34e8a9": {
          "model_module": "@jupyter-widgets/base",
          "model_name": "LayoutModel",
          "state": {
            "_view_name": "LayoutView",
            "grid_template_rows": null,
            "right": null,
            "justify_content": null,
            "_view_module": "@jupyter-widgets/base",
            "overflow": null,
            "_model_module_version": "1.2.0",
            "_view_count": null,
            "flex_flow": null,
            "width": null,
            "min_width": null,
            "border": null,
            "align_items": null,
            "bottom": null,
            "_model_module": "@jupyter-widgets/base",
            "top": null,
            "grid_column": null,
            "overflow_y": null,
            "overflow_x": null,
            "grid_auto_flow": null,
            "grid_area": null,
            "grid_template_columns": null,
            "flex": null,
            "_model_name": "LayoutModel",
            "justify_items": null,
            "grid_row": null,
            "max_height": null,
            "align_content": null,
            "visibility": null,
            "align_self": null,
            "height": null,
            "min_height": null,
            "padding": null,
            "grid_auto_rows": null,
            "grid_gap": null,
            "max_width": null,
            "order": null,
            "_view_module_version": "1.2.0",
            "grid_template_areas": null,
            "object_position": null,
            "object_fit": null,
            "grid_auto_columns": null,
            "margin": null,
            "display": null,
            "left": null
          }
        },
        "a8e818b248fd46ccb67b14ec43ca4ab7": {
          "model_module": "@jupyter-widgets/controls",
          "model_name": "HBoxModel",
          "state": {
            "_view_name": "HBoxView",
            "_dom_classes": [],
            "_model_name": "HBoxModel",
            "_view_module": "@jupyter-widgets/controls",
            "_model_module_version": "1.5.0",
            "_view_count": null,
            "_view_module_version": "1.5.0",
            "box_style": "",
            "layout": "IPY_MODEL_a516bfdbd01c40a38f9fad6e4c691e23",
            "_model_module": "@jupyter-widgets/controls",
            "children": [
              "IPY_MODEL_2c7e533e5088460b98d93167ba7074aa",
              "IPY_MODEL_555f13979c694c7a988085c9b4e2a536"
            ]
          }
        },
        "a516bfdbd01c40a38f9fad6e4c691e23": {
          "model_module": "@jupyter-widgets/base",
          "model_name": "LayoutModel",
          "state": {
            "_view_name": "LayoutView",
            "grid_template_rows": null,
            "right": null,
            "justify_content": null,
            "_view_module": "@jupyter-widgets/base",
            "overflow": null,
            "_model_module_version": "1.2.0",
            "_view_count": null,
            "flex_flow": null,
            "width": null,
            "min_width": null,
            "border": null,
            "align_items": null,
            "bottom": null,
            "_model_module": "@jupyter-widgets/base",
            "top": null,
            "grid_column": null,
            "overflow_y": null,
            "overflow_x": null,
            "grid_auto_flow": null,
            "grid_area": null,
            "grid_template_columns": null,
            "flex": null,
            "_model_name": "LayoutModel",
            "justify_items": null,
            "grid_row": null,
            "max_height": null,
            "align_content": null,
            "visibility": null,
            "align_self": null,
            "height": null,
            "min_height": null,
            "padding": null,
            "grid_auto_rows": null,
            "grid_gap": null,
            "max_width": null,
            "order": null,
            "_view_module_version": "1.2.0",
            "grid_template_areas": null,
            "object_position": null,
            "object_fit": null,
            "grid_auto_columns": null,
            "margin": null,
            "display": null,
            "left": null
          }
        },
        "2c7e533e5088460b98d93167ba7074aa": {
          "model_module": "@jupyter-widgets/controls",
          "model_name": "FloatProgressModel",
          "state": {
            "_view_name": "ProgressView",
            "style": "IPY_MODEL_8becd42f504d451084c474f104280234",
            "_dom_classes": [],
            "description": "Downloading: 100%",
            "_model_name": "FloatProgressModel",
            "bar_style": "success",
            "max": 112,
            "_view_module": "@jupyter-widgets/controls",
            "_model_module_version": "1.5.0",
            "value": 112,
            "_view_count": null,
            "_view_module_version": "1.5.0",
            "orientation": "horizontal",
            "min": 0,
            "description_tooltip": null,
            "_model_module": "@jupyter-widgets/controls",
            "layout": "IPY_MODEL_8da711633dfb41b399b34473d789d90b"
          }
        },
        "555f13979c694c7a988085c9b4e2a536": {
          "model_module": "@jupyter-widgets/controls",
          "model_name": "HTMLModel",
          "state": {
            "_view_name": "HTMLView",
            "style": "IPY_MODEL_859bfd404b914f4e8dfc1e5ed4a78456",
            "_dom_classes": [],
            "description": "",
            "_model_name": "HTMLModel",
            "placeholder": "​",
            "_view_module": "@jupyter-widgets/controls",
            "_model_module_version": "1.5.0",
            "value": " 112/112 [00:00&lt;00:00, 720B/s]",
            "_view_count": null,
            "_view_module_version": "1.5.0",
            "description_tooltip": null,
            "_model_module": "@jupyter-widgets/controls",
            "layout": "IPY_MODEL_fb6e50e764e244b9a00020173aa1a2b4"
          }
        },
        "8becd42f504d451084c474f104280234": {
          "model_module": "@jupyter-widgets/controls",
          "model_name": "ProgressStyleModel",
          "state": {
            "_view_name": "StyleView",
            "_model_name": "ProgressStyleModel",
            "description_width": "initial",
            "_view_module": "@jupyter-widgets/base",
            "_model_module_version": "1.5.0",
            "_view_count": null,
            "_view_module_version": "1.2.0",
            "bar_color": null,
            "_model_module": "@jupyter-widgets/controls"
          }
        },
        "8da711633dfb41b399b34473d789d90b": {
          "model_module": "@jupyter-widgets/base",
          "model_name": "LayoutModel",
          "state": {
            "_view_name": "LayoutView",
            "grid_template_rows": null,
            "right": null,
            "justify_content": null,
            "_view_module": "@jupyter-widgets/base",
            "overflow": null,
            "_model_module_version": "1.2.0",
            "_view_count": null,
            "flex_flow": null,
            "width": null,
            "min_width": null,
            "border": null,
            "align_items": null,
            "bottom": null,
            "_model_module": "@jupyter-widgets/base",
            "top": null,
            "grid_column": null,
            "overflow_y": null,
            "overflow_x": null,
            "grid_auto_flow": null,
            "grid_area": null,
            "grid_template_columns": null,
            "flex": null,
            "_model_name": "LayoutModel",
            "justify_items": null,
            "grid_row": null,
            "max_height": null,
            "align_content": null,
            "visibility": null,
            "align_self": null,
            "height": null,
            "min_height": null,
            "padding": null,
            "grid_auto_rows": null,
            "grid_gap": null,
            "max_width": null,
            "order": null,
            "_view_module_version": "1.2.0",
            "grid_template_areas": null,
            "object_position": null,
            "object_fit": null,
            "grid_auto_columns": null,
            "margin": null,
            "display": null,
            "left": null
          }
        },
        "859bfd404b914f4e8dfc1e5ed4a78456": {
          "model_module": "@jupyter-widgets/controls",
          "model_name": "DescriptionStyleModel",
          "state": {
            "_view_name": "StyleView",
            "_model_name": "DescriptionStyleModel",
            "description_width": "",
            "_view_module": "@jupyter-widgets/base",
            "_model_module_version": "1.5.0",
            "_view_count": null,
            "_view_module_version": "1.2.0",
            "_model_module": "@jupyter-widgets/controls"
          }
        },
        "fb6e50e764e244b9a00020173aa1a2b4": {
          "model_module": "@jupyter-widgets/base",
          "model_name": "LayoutModel",
          "state": {
            "_view_name": "LayoutView",
            "grid_template_rows": null,
            "right": null,
            "justify_content": null,
            "_view_module": "@jupyter-widgets/base",
            "overflow": null,
            "_model_module_version": "1.2.0",
            "_view_count": null,
            "flex_flow": null,
            "width": null,
            "min_width": null,
            "border": null,
            "align_items": null,
            "bottom": null,
            "_model_module": "@jupyter-widgets/base",
            "top": null,
            "grid_column": null,
            "overflow_y": null,
            "overflow_x": null,
            "grid_auto_flow": null,
            "grid_area": null,
            "grid_template_columns": null,
            "flex": null,
            "_model_name": "LayoutModel",
            "justify_items": null,
            "grid_row": null,
            "max_height": null,
            "align_content": null,
            "visibility": null,
            "align_self": null,
            "height": null,
            "min_height": null,
            "padding": null,
            "grid_auto_rows": null,
            "grid_gap": null,
            "max_width": null,
            "order": null,
            "_view_module_version": "1.2.0",
            "grid_template_areas": null,
            "object_position": null,
            "object_fit": null,
            "grid_auto_columns": null,
            "margin": null,
            "display": null,
            "left": null
          }
        },
        "dc899f1d78a74693b6d2024d2ec5146c": {
          "model_module": "@jupyter-widgets/controls",
          "model_name": "HBoxModel",
          "state": {
            "_view_name": "HBoxView",
            "_dom_classes": [],
            "_model_name": "HBoxModel",
            "_view_module": "@jupyter-widgets/controls",
            "_model_module_version": "1.5.0",
            "_view_count": null,
            "_view_module_version": "1.5.0",
            "box_style": "",
            "layout": "IPY_MODEL_44d4ff4b14e0442f88944e335cf1b8d8",
            "_model_module": "@jupyter-widgets/controls",
            "children": [
              "IPY_MODEL_5f3dae75c9fe42e791f98b0cc77a1085",
              "IPY_MODEL_9f5533307e2e4b00a2966000feea3197"
            ]
          }
        },
        "44d4ff4b14e0442f88944e335cf1b8d8": {
          "model_module": "@jupyter-widgets/base",
          "model_name": "LayoutModel",
          "state": {
            "_view_name": "LayoutView",
            "grid_template_rows": null,
            "right": null,
            "justify_content": null,
            "_view_module": "@jupyter-widgets/base",
            "overflow": null,
            "_model_module_version": "1.2.0",
            "_view_count": null,
            "flex_flow": null,
            "width": null,
            "min_width": null,
            "border": null,
            "align_items": null,
            "bottom": null,
            "_model_module": "@jupyter-widgets/base",
            "top": null,
            "grid_column": null,
            "overflow_y": null,
            "overflow_x": null,
            "grid_auto_flow": null,
            "grid_area": null,
            "grid_template_columns": null,
            "flex": null,
            "_model_name": "LayoutModel",
            "justify_items": null,
            "grid_row": null,
            "max_height": null,
            "align_content": null,
            "visibility": null,
            "align_self": null,
            "height": null,
            "min_height": null,
            "padding": null,
            "grid_auto_rows": null,
            "grid_gap": null,
            "max_width": null,
            "order": null,
            "_view_module_version": "1.2.0",
            "grid_template_areas": null,
            "object_position": null,
            "object_fit": null,
            "grid_auto_columns": null,
            "margin": null,
            "display": null,
            "left": null
          }
        },
        "5f3dae75c9fe42e791f98b0cc77a1085": {
          "model_module": "@jupyter-widgets/controls",
          "model_name": "FloatProgressModel",
          "state": {
            "_view_name": "ProgressView",
            "style": "IPY_MODEL_9c3a29444ec145719a506da16e909e0c",
            "_dom_classes": [],
            "description": "Downloading: 100%",
            "_model_name": "FloatProgressModel",
            "bar_style": "success",
            "max": 258,
            "_view_module": "@jupyter-widgets/controls",
            "_model_module_version": "1.5.0",
            "value": 258,
            "_view_count": null,
            "_view_module_version": "1.5.0",
            "orientation": "horizontal",
            "min": 0,
            "description_tooltip": null,
            "_model_module": "@jupyter-widgets/controls",
            "layout": "IPY_MODEL_1267473918834ef398608b17a1a464cd"
          }
        },
        "9f5533307e2e4b00a2966000feea3197": {
          "model_module": "@jupyter-widgets/controls",
          "model_name": "HTMLModel",
          "state": {
            "_view_name": "HTMLView",
            "style": "IPY_MODEL_c5ae94b47dbf41c6bef0b367522a376f",
            "_dom_classes": [],
            "description": "",
            "_model_name": "HTMLModel",
            "placeholder": "​",
            "_view_module": "@jupyter-widgets/controls",
            "_model_module_version": "1.5.0",
            "value": " 258/258 [00:00&lt;00:00, 3.69kB/s]",
            "_view_count": null,
            "_view_module_version": "1.5.0",
            "description_tooltip": null,
            "_model_module": "@jupyter-widgets/controls",
            "layout": "IPY_MODEL_372e22ccd51f4b7aae3bf04a2624f363"
          }
        },
        "9c3a29444ec145719a506da16e909e0c": {
          "model_module": "@jupyter-widgets/controls",
          "model_name": "ProgressStyleModel",
          "state": {
            "_view_name": "StyleView",
            "_model_name": "ProgressStyleModel",
            "description_width": "initial",
            "_view_module": "@jupyter-widgets/base",
            "_model_module_version": "1.5.0",
            "_view_count": null,
            "_view_module_version": "1.2.0",
            "bar_color": null,
            "_model_module": "@jupyter-widgets/controls"
          }
        },
        "1267473918834ef398608b17a1a464cd": {
          "model_module": "@jupyter-widgets/base",
          "model_name": "LayoutModel",
          "state": {
            "_view_name": "LayoutView",
            "grid_template_rows": null,
            "right": null,
            "justify_content": null,
            "_view_module": "@jupyter-widgets/base",
            "overflow": null,
            "_model_module_version": "1.2.0",
            "_view_count": null,
            "flex_flow": null,
            "width": null,
            "min_width": null,
            "border": null,
            "align_items": null,
            "bottom": null,
            "_model_module": "@jupyter-widgets/base",
            "top": null,
            "grid_column": null,
            "overflow_y": null,
            "overflow_x": null,
            "grid_auto_flow": null,
            "grid_area": null,
            "grid_template_columns": null,
            "flex": null,
            "_model_name": "LayoutModel",
            "justify_items": null,
            "grid_row": null,
            "max_height": null,
            "align_content": null,
            "visibility": null,
            "align_self": null,
            "height": null,
            "min_height": null,
            "padding": null,
            "grid_auto_rows": null,
            "grid_gap": null,
            "max_width": null,
            "order": null,
            "_view_module_version": "1.2.0",
            "grid_template_areas": null,
            "object_position": null,
            "object_fit": null,
            "grid_auto_columns": null,
            "margin": null,
            "display": null,
            "left": null
          }
        },
        "c5ae94b47dbf41c6bef0b367522a376f": {
          "model_module": "@jupyter-widgets/controls",
          "model_name": "DescriptionStyleModel",
          "state": {
            "_view_name": "StyleView",
            "_model_name": "DescriptionStyleModel",
            "description_width": "",
            "_view_module": "@jupyter-widgets/base",
            "_model_module_version": "1.5.0",
            "_view_count": null,
            "_view_module_version": "1.2.0",
            "_model_module": "@jupyter-widgets/controls"
          }
        },
        "372e22ccd51f4b7aae3bf04a2624f363": {
          "model_module": "@jupyter-widgets/base",
          "model_name": "LayoutModel",
          "state": {
            "_view_name": "LayoutView",
            "grid_template_rows": null,
            "right": null,
            "justify_content": null,
            "_view_module": "@jupyter-widgets/base",
            "overflow": null,
            "_model_module_version": "1.2.0",
            "_view_count": null,
            "flex_flow": null,
            "width": null,
            "min_width": null,
            "border": null,
            "align_items": null,
            "bottom": null,
            "_model_module": "@jupyter-widgets/base",
            "top": null,
            "grid_column": null,
            "overflow_y": null,
            "overflow_x": null,
            "grid_auto_flow": null,
            "grid_area": null,
            "grid_template_columns": null,
            "flex": null,
            "_model_name": "LayoutModel",
            "justify_items": null,
            "grid_row": null,
            "max_height": null,
            "align_content": null,
            "visibility": null,
            "align_self": null,
            "height": null,
            "min_height": null,
            "padding": null,
            "grid_auto_rows": null,
            "grid_gap": null,
            "max_width": null,
            "order": null,
            "_view_module_version": "1.2.0",
            "grid_template_areas": null,
            "object_position": null,
            "object_fit": null,
            "grid_auto_columns": null,
            "margin": null,
            "display": null,
            "left": null
          }
        },
        "6b13c379dd4044bfb9209e613ed0a3ad": {
          "model_module": "@jupyter-widgets/controls",
          "model_name": "HBoxModel",
          "state": {
            "_view_name": "HBoxView",
            "_dom_classes": [],
            "_model_name": "HBoxModel",
            "_view_module": "@jupyter-widgets/controls",
            "_model_module_version": "1.5.0",
            "_view_count": null,
            "_view_module_version": "1.5.0",
            "box_style": "",
            "layout": "IPY_MODEL_4c680b13296d42e89e2c5fd711e8f30b",
            "_model_module": "@jupyter-widgets/controls",
            "children": [
              "IPY_MODEL_828f82d4e4554514877dcd6670911b60",
              "IPY_MODEL_bf63ed934acf42a5a7dc3f2301f3f113"
            ]
          }
        },
        "4c680b13296d42e89e2c5fd711e8f30b": {
          "model_module": "@jupyter-widgets/base",
          "model_name": "LayoutModel",
          "state": {
            "_view_name": "LayoutView",
            "grid_template_rows": null,
            "right": null,
            "justify_content": null,
            "_view_module": "@jupyter-widgets/base",
            "overflow": null,
            "_model_module_version": "1.2.0",
            "_view_count": null,
            "flex_flow": null,
            "width": null,
            "min_width": null,
            "border": null,
            "align_items": null,
            "bottom": null,
            "_model_module": "@jupyter-widgets/base",
            "top": null,
            "grid_column": null,
            "overflow_y": null,
            "overflow_x": null,
            "grid_auto_flow": null,
            "grid_area": null,
            "grid_template_columns": null,
            "flex": null,
            "_model_name": "LayoutModel",
            "justify_items": null,
            "grid_row": null,
            "max_height": null,
            "align_content": null,
            "visibility": null,
            "align_self": null,
            "height": null,
            "min_height": null,
            "padding": null,
            "grid_auto_rows": null,
            "grid_gap": null,
            "max_width": null,
            "order": null,
            "_view_module_version": "1.2.0",
            "grid_template_areas": null,
            "object_position": null,
            "object_fit": null,
            "grid_auto_columns": null,
            "margin": null,
            "display": null,
            "left": null
          }
        },
        "828f82d4e4554514877dcd6670911b60": {
          "model_module": "@jupyter-widgets/controls",
          "model_name": "FloatProgressModel",
          "state": {
            "_view_name": "ProgressView",
            "style": "IPY_MODEL_0deb7f3d8b2e4db780c2399fb86bdc7f",
            "_dom_classes": [],
            "description": "Downloading: 100%",
            "_model_name": "FloatProgressModel",
            "bar_style": "success",
            "max": 267141919,
            "_view_module": "@jupyter-widgets/controls",
            "_model_module_version": "1.5.0",
            "value": 267141919,
            "_view_count": null,
            "_view_module_version": "1.5.0",
            "orientation": "horizontal",
            "min": 0,
            "description_tooltip": null,
            "_model_module": "@jupyter-widgets/controls",
            "layout": "IPY_MODEL_bcc80f2da7844377ae0a88f8a89d118a"
          }
        },
        "bf63ed934acf42a5a7dc3f2301f3f113": {
          "model_module": "@jupyter-widgets/controls",
          "model_name": "HTMLModel",
          "state": {
            "_view_name": "HTMLView",
            "style": "IPY_MODEL_d7ad0f3cc551485b876948c85f421065",
            "_dom_classes": [],
            "description": "",
            "_model_name": "HTMLModel",
            "placeholder": "​",
            "_view_module": "@jupyter-widgets/controls",
            "_model_module_version": "1.5.0",
            "value": " 267M/267M [00:09&lt;00:00, 29.2MB/s]",
            "_view_count": null,
            "_view_module_version": "1.5.0",
            "description_tooltip": null,
            "_model_module": "@jupyter-widgets/controls",
            "layout": "IPY_MODEL_34eb618a88e645b398f844d4c36bc0d1"
          }
        },
        "0deb7f3d8b2e4db780c2399fb86bdc7f": {
          "model_module": "@jupyter-widgets/controls",
          "model_name": "ProgressStyleModel",
          "state": {
            "_view_name": "StyleView",
            "_model_name": "ProgressStyleModel",
            "description_width": "initial",
            "_view_module": "@jupyter-widgets/base",
            "_model_module_version": "1.5.0",
            "_view_count": null,
            "_view_module_version": "1.2.0",
            "bar_color": null,
            "_model_module": "@jupyter-widgets/controls"
          }
        },
        "bcc80f2da7844377ae0a88f8a89d118a": {
          "model_module": "@jupyter-widgets/base",
          "model_name": "LayoutModel",
          "state": {
            "_view_name": "LayoutView",
            "grid_template_rows": null,
            "right": null,
            "justify_content": null,
            "_view_module": "@jupyter-widgets/base",
            "overflow": null,
            "_model_module_version": "1.2.0",
            "_view_count": null,
            "flex_flow": null,
            "width": null,
            "min_width": null,
            "border": null,
            "align_items": null,
            "bottom": null,
            "_model_module": "@jupyter-widgets/base",
            "top": null,
            "grid_column": null,
            "overflow_y": null,
            "overflow_x": null,
            "grid_auto_flow": null,
            "grid_area": null,
            "grid_template_columns": null,
            "flex": null,
            "_model_name": "LayoutModel",
            "justify_items": null,
            "grid_row": null,
            "max_height": null,
            "align_content": null,
            "visibility": null,
            "align_self": null,
            "height": null,
            "min_height": null,
            "padding": null,
            "grid_auto_rows": null,
            "grid_gap": null,
            "max_width": null,
            "order": null,
            "_view_module_version": "1.2.0",
            "grid_template_areas": null,
            "object_position": null,
            "object_fit": null,
            "grid_auto_columns": null,
            "margin": null,
            "display": null,
            "left": null
          }
        },
        "d7ad0f3cc551485b876948c85f421065": {
          "model_module": "@jupyter-widgets/controls",
          "model_name": "DescriptionStyleModel",
          "state": {
            "_view_name": "StyleView",
            "_model_name": "DescriptionStyleModel",
            "description_width": "",
            "_view_module": "@jupyter-widgets/base",
            "_model_module_version": "1.5.0",
            "_view_count": null,
            "_view_module_version": "1.2.0",
            "_model_module": "@jupyter-widgets/controls"
          }
        },
        "34eb618a88e645b398f844d4c36bc0d1": {
          "model_module": "@jupyter-widgets/base",
          "model_name": "LayoutModel",
          "state": {
            "_view_name": "LayoutView",
            "grid_template_rows": null,
            "right": null,
            "justify_content": null,
            "_view_module": "@jupyter-widgets/base",
            "overflow": null,
            "_model_module_version": "1.2.0",
            "_view_count": null,
            "flex_flow": null,
            "width": null,
            "min_width": null,
            "border": null,
            "align_items": null,
            "bottom": null,
            "_model_module": "@jupyter-widgets/base",
            "top": null,
            "grid_column": null,
            "overflow_y": null,
            "overflow_x": null,
            "grid_auto_flow": null,
            "grid_area": null,
            "grid_template_columns": null,
            "flex": null,
            "_model_name": "LayoutModel",
            "justify_items": null,
            "grid_row": null,
            "max_height": null,
            "align_content": null,
            "visibility": null,
            "align_self": null,
            "height": null,
            "min_height": null,
            "padding": null,
            "grid_auto_rows": null,
            "grid_gap": null,
            "max_width": null,
            "order": null,
            "_view_module_version": "1.2.0",
            "grid_template_areas": null,
            "object_position": null,
            "object_fit": null,
            "grid_auto_columns": null,
            "margin": null,
            "display": null,
            "left": null
          }
        },
        "2c05a5babe8b41529914a18c0afbb6e8": {
          "model_module": "@jupyter-widgets/controls",
          "model_name": "HBoxModel",
          "state": {
            "_view_name": "HBoxView",
            "_dom_classes": [],
            "_model_name": "HBoxModel",
            "_view_module": "@jupyter-widgets/controls",
            "_model_module_version": "1.5.0",
            "_view_count": null,
            "_view_module_version": "1.5.0",
            "box_style": "",
            "layout": "IPY_MODEL_604731180a304bc9b831cfb5df93dfe1",
            "_model_module": "@jupyter-widgets/controls",
            "children": [
              "IPY_MODEL_fa02982d446a4bba8cf10527d84f94a9",
              "IPY_MODEL_9efd20f0ad3a40ef8b7f82d38c335843"
            ]
          }
        },
        "604731180a304bc9b831cfb5df93dfe1": {
          "model_module": "@jupyter-widgets/base",
          "model_name": "LayoutModel",
          "state": {
            "_view_name": "LayoutView",
            "grid_template_rows": null,
            "right": null,
            "justify_content": null,
            "_view_module": "@jupyter-widgets/base",
            "overflow": null,
            "_model_module_version": "1.2.0",
            "_view_count": null,
            "flex_flow": null,
            "width": null,
            "min_width": null,
            "border": null,
            "align_items": null,
            "bottom": null,
            "_model_module": "@jupyter-widgets/base",
            "top": null,
            "grid_column": null,
            "overflow_y": null,
            "overflow_x": null,
            "grid_auto_flow": null,
            "grid_area": null,
            "grid_template_columns": null,
            "flex": null,
            "_model_name": "LayoutModel",
            "justify_items": null,
            "grid_row": null,
            "max_height": null,
            "align_content": null,
            "visibility": null,
            "align_self": null,
            "height": null,
            "min_height": null,
            "padding": null,
            "grid_auto_rows": null,
            "grid_gap": null,
            "max_width": null,
            "order": null,
            "_view_module_version": "1.2.0",
            "grid_template_areas": null,
            "object_position": null,
            "object_fit": null,
            "grid_auto_columns": null,
            "margin": null,
            "display": null,
            "left": null
          }
        },
        "fa02982d446a4bba8cf10527d84f94a9": {
          "model_module": "@jupyter-widgets/controls",
          "model_name": "FloatProgressModel",
          "state": {
            "_view_name": "ProgressView",
            "style": "IPY_MODEL_560169a28d1e4c9ebefb51b06c15ac3d",
            "_dom_classes": [],
            "description": "100%",
            "_model_name": "FloatProgressModel",
            "bar_style": "success",
            "max": 88,
            "_view_module": "@jupyter-widgets/controls",
            "_model_module_version": "1.5.0",
            "value": 88,
            "_view_count": null,
            "_view_module_version": "1.5.0",
            "orientation": "horizontal",
            "min": 0,
            "description_tooltip": null,
            "_model_module": "@jupyter-widgets/controls",
            "layout": "IPY_MODEL_6defdb754a2e417c946b3ea4747e039b"
          }
        },
        "9efd20f0ad3a40ef8b7f82d38c335843": {
          "model_module": "@jupyter-widgets/controls",
          "model_name": "HTMLModel",
          "state": {
            "_view_name": "HTMLView",
            "style": "IPY_MODEL_8cd58859e01f4295b3de614200ab4fc2",
            "_dom_classes": [],
            "description": "",
            "_model_name": "HTMLModel",
            "placeholder": "​",
            "_view_module": "@jupyter-widgets/controls",
            "_model_module_version": "1.5.0",
            "value": " 88/88 [23:09&lt;00:00, 15.79s/ba]",
            "_view_count": null,
            "_view_module_version": "1.5.0",
            "description_tooltip": null,
            "_model_module": "@jupyter-widgets/controls",
            "layout": "IPY_MODEL_8e6a9c5badca4d29a38b10fad04f9a2d"
          }
        },
        "560169a28d1e4c9ebefb51b06c15ac3d": {
          "model_module": "@jupyter-widgets/controls",
          "model_name": "ProgressStyleModel",
          "state": {
            "_view_name": "StyleView",
            "_model_name": "ProgressStyleModel",
            "description_width": "initial",
            "_view_module": "@jupyter-widgets/base",
            "_model_module_version": "1.5.0",
            "_view_count": null,
            "_view_module_version": "1.2.0",
            "bar_color": null,
            "_model_module": "@jupyter-widgets/controls"
          }
        },
        "6defdb754a2e417c946b3ea4747e039b": {
          "model_module": "@jupyter-widgets/base",
          "model_name": "LayoutModel",
          "state": {
            "_view_name": "LayoutView",
            "grid_template_rows": null,
            "right": null,
            "justify_content": null,
            "_view_module": "@jupyter-widgets/base",
            "overflow": null,
            "_model_module_version": "1.2.0",
            "_view_count": null,
            "flex_flow": null,
            "width": null,
            "min_width": null,
            "border": null,
            "align_items": null,
            "bottom": null,
            "_model_module": "@jupyter-widgets/base",
            "top": null,
            "grid_column": null,
            "overflow_y": null,
            "overflow_x": null,
            "grid_auto_flow": null,
            "grid_area": null,
            "grid_template_columns": null,
            "flex": null,
            "_model_name": "LayoutModel",
            "justify_items": null,
            "grid_row": null,
            "max_height": null,
            "align_content": null,
            "visibility": null,
            "align_self": null,
            "height": null,
            "min_height": null,
            "padding": null,
            "grid_auto_rows": null,
            "grid_gap": null,
            "max_width": null,
            "order": null,
            "_view_module_version": "1.2.0",
            "grid_template_areas": null,
            "object_position": null,
            "object_fit": null,
            "grid_auto_columns": null,
            "margin": null,
            "display": null,
            "left": null
          }
        },
        "8cd58859e01f4295b3de614200ab4fc2": {
          "model_module": "@jupyter-widgets/controls",
          "model_name": "DescriptionStyleModel",
          "state": {
            "_view_name": "StyleView",
            "_model_name": "DescriptionStyleModel",
            "description_width": "",
            "_view_module": "@jupyter-widgets/base",
            "_model_module_version": "1.5.0",
            "_view_count": null,
            "_view_module_version": "1.2.0",
            "_model_module": "@jupyter-widgets/controls"
          }
        },
        "8e6a9c5badca4d29a38b10fad04f9a2d": {
          "model_module": "@jupyter-widgets/base",
          "model_name": "LayoutModel",
          "state": {
            "_view_name": "LayoutView",
            "grid_template_rows": null,
            "right": null,
            "justify_content": null,
            "_view_module": "@jupyter-widgets/base",
            "overflow": null,
            "_model_module_version": "1.2.0",
            "_view_count": null,
            "flex_flow": null,
            "width": null,
            "min_width": null,
            "border": null,
            "align_items": null,
            "bottom": null,
            "_model_module": "@jupyter-widgets/base",
            "top": null,
            "grid_column": null,
            "overflow_y": null,
            "overflow_x": null,
            "grid_auto_flow": null,
            "grid_area": null,
            "grid_template_columns": null,
            "flex": null,
            "_model_name": "LayoutModel",
            "justify_items": null,
            "grid_row": null,
            "max_height": null,
            "align_content": null,
            "visibility": null,
            "align_self": null,
            "height": null,
            "min_height": null,
            "padding": null,
            "grid_auto_rows": null,
            "grid_gap": null,
            "max_width": null,
            "order": null,
            "_view_module_version": "1.2.0",
            "grid_template_areas": null,
            "object_position": null,
            "object_fit": null,
            "grid_auto_columns": null,
            "margin": null,
            "display": null,
            "left": null
          }
        },
        "8a5537d307c7493988091cbac80fa4d7": {
          "model_module": "@jupyter-widgets/controls",
          "model_name": "HBoxModel",
          "state": {
            "_view_name": "HBoxView",
            "_dom_classes": [],
            "_model_name": "HBoxModel",
            "_view_module": "@jupyter-widgets/controls",
            "_model_module_version": "1.5.0",
            "_view_count": null,
            "_view_module_version": "1.5.0",
            "box_style": "",
            "layout": "IPY_MODEL_6cd13ae0587d4ab6b47df0425b8f1309",
            "_model_module": "@jupyter-widgets/controls",
            "children": [
              "IPY_MODEL_91b066b9686b40d1b575941fd1f5a0dc",
              "IPY_MODEL_2d7cca5ac479431092e70a885e376e09"
            ]
          }
        },
        "6cd13ae0587d4ab6b47df0425b8f1309": {
          "model_module": "@jupyter-widgets/base",
          "model_name": "LayoutModel",
          "state": {
            "_view_name": "LayoutView",
            "grid_template_rows": null,
            "right": null,
            "justify_content": null,
            "_view_module": "@jupyter-widgets/base",
            "overflow": null,
            "_model_module_version": "1.2.0",
            "_view_count": null,
            "flex_flow": null,
            "width": null,
            "min_width": null,
            "border": null,
            "align_items": null,
            "bottom": null,
            "_model_module": "@jupyter-widgets/base",
            "top": null,
            "grid_column": null,
            "overflow_y": null,
            "overflow_x": null,
            "grid_auto_flow": null,
            "grid_area": null,
            "grid_template_columns": null,
            "flex": null,
            "_model_name": "LayoutModel",
            "justify_items": null,
            "grid_row": null,
            "max_height": null,
            "align_content": null,
            "visibility": null,
            "align_self": null,
            "height": null,
            "min_height": null,
            "padding": null,
            "grid_auto_rows": null,
            "grid_gap": null,
            "max_width": null,
            "order": null,
            "_view_module_version": "1.2.0",
            "grid_template_areas": null,
            "object_position": null,
            "object_fit": null,
            "grid_auto_columns": null,
            "margin": null,
            "display": null,
            "left": null
          }
        },
        "91b066b9686b40d1b575941fd1f5a0dc": {
          "model_module": "@jupyter-widgets/controls",
          "model_name": "FloatProgressModel",
          "state": {
            "_view_name": "ProgressView",
            "style": "IPY_MODEL_a2a285eea0e949ae90de9a24cd45a263",
            "_dom_classes": [],
            "description": "Downloading: ",
            "_model_name": "FloatProgressModel",
            "bar_style": "success",
            "max": 1726,
            "_view_module": "@jupyter-widgets/controls",
            "_model_module_version": "1.5.0",
            "value": 1726,
            "_view_count": null,
            "_view_module_version": "1.5.0",
            "orientation": "horizontal",
            "min": 0,
            "description_tooltip": null,
            "_model_module": "@jupyter-widgets/controls",
            "layout": "IPY_MODEL_c0eb519cb8ac48768f506b308e35d9cb"
          }
        },
        "2d7cca5ac479431092e70a885e376e09": {
          "model_module": "@jupyter-widgets/controls",
          "model_name": "HTMLModel",
          "state": {
            "_view_name": "HTMLView",
            "style": "IPY_MODEL_5bbafb9513e441eca709948efe2435db",
            "_dom_classes": [],
            "description": "",
            "_model_name": "HTMLModel",
            "placeholder": "​",
            "_view_module": "@jupyter-widgets/controls",
            "_model_module_version": "1.5.0",
            "value": " 4.51k/? [00:00&lt;00:00, 18.5kB/s]",
            "_view_count": null,
            "_view_module_version": "1.5.0",
            "description_tooltip": null,
            "_model_module": "@jupyter-widgets/controls",
            "layout": "IPY_MODEL_7df3b0ee22bd429cacbb31f5c511fd64"
          }
        },
        "a2a285eea0e949ae90de9a24cd45a263": {
          "model_module": "@jupyter-widgets/controls",
          "model_name": "ProgressStyleModel",
          "state": {
            "_view_name": "StyleView",
            "_model_name": "ProgressStyleModel",
            "description_width": "initial",
            "_view_module": "@jupyter-widgets/base",
            "_model_module_version": "1.5.0",
            "_view_count": null,
            "_view_module_version": "1.2.0",
            "bar_color": null,
            "_model_module": "@jupyter-widgets/controls"
          }
        },
        "c0eb519cb8ac48768f506b308e35d9cb": {
          "model_module": "@jupyter-widgets/base",
          "model_name": "LayoutModel",
          "state": {
            "_view_name": "LayoutView",
            "grid_template_rows": null,
            "right": null,
            "justify_content": null,
            "_view_module": "@jupyter-widgets/base",
            "overflow": null,
            "_model_module_version": "1.2.0",
            "_view_count": null,
            "flex_flow": null,
            "width": null,
            "min_width": null,
            "border": null,
            "align_items": null,
            "bottom": null,
            "_model_module": "@jupyter-widgets/base",
            "top": null,
            "grid_column": null,
            "overflow_y": null,
            "overflow_x": null,
            "grid_auto_flow": null,
            "grid_area": null,
            "grid_template_columns": null,
            "flex": null,
            "_model_name": "LayoutModel",
            "justify_items": null,
            "grid_row": null,
            "max_height": null,
            "align_content": null,
            "visibility": null,
            "align_self": null,
            "height": null,
            "min_height": null,
            "padding": null,
            "grid_auto_rows": null,
            "grid_gap": null,
            "max_width": null,
            "order": null,
            "_view_module_version": "1.2.0",
            "grid_template_areas": null,
            "object_position": null,
            "object_fit": null,
            "grid_auto_columns": null,
            "margin": null,
            "display": null,
            "left": null
          }
        },
        "5bbafb9513e441eca709948efe2435db": {
          "model_module": "@jupyter-widgets/controls",
          "model_name": "DescriptionStyleModel",
          "state": {
            "_view_name": "StyleView",
            "_model_name": "DescriptionStyleModel",
            "description_width": "",
            "_view_module": "@jupyter-widgets/base",
            "_model_module_version": "1.5.0",
            "_view_count": null,
            "_view_module_version": "1.2.0",
            "_model_module": "@jupyter-widgets/controls"
          }
        },
        "7df3b0ee22bd429cacbb31f5c511fd64": {
          "model_module": "@jupyter-widgets/base",
          "model_name": "LayoutModel",
          "state": {
            "_view_name": "LayoutView",
            "grid_template_rows": null,
            "right": null,
            "justify_content": null,
            "_view_module": "@jupyter-widgets/base",
            "overflow": null,
            "_model_module_version": "1.2.0",
            "_view_count": null,
            "flex_flow": null,
            "width": null,
            "min_width": null,
            "border": null,
            "align_items": null,
            "bottom": null,
            "_model_module": "@jupyter-widgets/base",
            "top": null,
            "grid_column": null,
            "overflow_y": null,
            "overflow_x": null,
            "grid_auto_flow": null,
            "grid_area": null,
            "grid_template_columns": null,
            "flex": null,
            "_model_name": "LayoutModel",
            "justify_items": null,
            "grid_row": null,
            "max_height": null,
            "align_content": null,
            "visibility": null,
            "align_self": null,
            "height": null,
            "min_height": null,
            "padding": null,
            "grid_auto_rows": null,
            "grid_gap": null,
            "max_width": null,
            "order": null,
            "_view_module_version": "1.2.0",
            "grid_template_areas": null,
            "object_position": null,
            "object_fit": null,
            "grid_auto_columns": null,
            "margin": null,
            "display": null,
            "left": null
          }
        },
        "a3d01f70f66542ea82b347e81a4d734f": {
          "model_module": "@jupyter-widgets/controls",
          "model_name": "HBoxModel",
          "state": {
            "_view_name": "HBoxView",
            "_dom_classes": [],
            "_model_name": "HBoxModel",
            "_view_module": "@jupyter-widgets/controls",
            "_model_module_version": "1.5.0",
            "_view_count": null,
            "_view_module_version": "1.5.0",
            "box_style": "",
            "layout": "IPY_MODEL_866fa9d74ace43768b065e83682d2de0",
            "_model_module": "@jupyter-widgets/controls",
            "children": [
              "IPY_MODEL_9c0d180b66894dacaa3f83e4a7960e72",
              "IPY_MODEL_8df93709adfd4b83af64002ed26ba217"
            ]
          }
        },
        "866fa9d74ace43768b065e83682d2de0": {
          "model_module": "@jupyter-widgets/base",
          "model_name": "LayoutModel",
          "state": {
            "_view_name": "LayoutView",
            "grid_template_rows": null,
            "right": null,
            "justify_content": null,
            "_view_module": "@jupyter-widgets/base",
            "overflow": null,
            "_model_module_version": "1.2.0",
            "_view_count": null,
            "flex_flow": null,
            "width": null,
            "min_width": null,
            "border": null,
            "align_items": null,
            "bottom": null,
            "_model_module": "@jupyter-widgets/base",
            "top": null,
            "grid_column": null,
            "overflow_y": null,
            "overflow_x": null,
            "grid_auto_flow": null,
            "grid_area": null,
            "grid_template_columns": null,
            "flex": null,
            "_model_name": "LayoutModel",
            "justify_items": null,
            "grid_row": null,
            "max_height": null,
            "align_content": null,
            "visibility": null,
            "align_self": null,
            "height": null,
            "min_height": null,
            "padding": null,
            "grid_auto_rows": null,
            "grid_gap": null,
            "max_width": null,
            "order": null,
            "_view_module_version": "1.2.0",
            "grid_template_areas": null,
            "object_position": null,
            "object_fit": null,
            "grid_auto_columns": null,
            "margin": null,
            "display": null,
            "left": null
          }
        },
        "9c0d180b66894dacaa3f83e4a7960e72": {
          "model_module": "@jupyter-widgets/controls",
          "model_name": "FloatProgressModel",
          "state": {
            "_view_name": "ProgressView",
            "style": "IPY_MODEL_cd72f52fb1ca4b8ab420003ffcb22b4f",
            "_dom_classes": [],
            "description": "Downloading: ",
            "_model_name": "FloatProgressModel",
            "bar_style": "success",
            "max": 1132,
            "_view_module": "@jupyter-widgets/controls",
            "_model_module_version": "1.5.0",
            "value": 1132,
            "_view_count": null,
            "_view_module_version": "1.5.0",
            "orientation": "horizontal",
            "min": 0,
            "description_tooltip": null,
            "_model_module": "@jupyter-widgets/controls",
            "layout": "IPY_MODEL_477e980b058a4fcc878f74c51e2ba211"
          }
        },
        "8df93709adfd4b83af64002ed26ba217": {
          "model_module": "@jupyter-widgets/controls",
          "model_name": "HTMLModel",
          "state": {
            "_view_name": "HTMLView",
            "style": "IPY_MODEL_a30c8bf9726e4777acbb8bc888295fce",
            "_dom_classes": [],
            "description": "",
            "_model_name": "HTMLModel",
            "placeholder": "​",
            "_view_module": "@jupyter-widgets/controls",
            "_model_module_version": "1.5.0",
            "value": " 3.35k/? [00:00&lt;00:00, 38.0kB/s]",
            "_view_count": null,
            "_view_module_version": "1.5.0",
            "description_tooltip": null,
            "_model_module": "@jupyter-widgets/controls",
            "layout": "IPY_MODEL_24d354e6342048c19de28ffce7841625"
          }
        },
        "cd72f52fb1ca4b8ab420003ffcb22b4f": {
          "model_module": "@jupyter-widgets/controls",
          "model_name": "ProgressStyleModel",
          "state": {
            "_view_name": "StyleView",
            "_model_name": "ProgressStyleModel",
            "description_width": "initial",
            "_view_module": "@jupyter-widgets/base",
            "_model_module_version": "1.5.0",
            "_view_count": null,
            "_view_module_version": "1.2.0",
            "bar_color": null,
            "_model_module": "@jupyter-widgets/controls"
          }
        },
        "477e980b058a4fcc878f74c51e2ba211": {
          "model_module": "@jupyter-widgets/base",
          "model_name": "LayoutModel",
          "state": {
            "_view_name": "LayoutView",
            "grid_template_rows": null,
            "right": null,
            "justify_content": null,
            "_view_module": "@jupyter-widgets/base",
            "overflow": null,
            "_model_module_version": "1.2.0",
            "_view_count": null,
            "flex_flow": null,
            "width": null,
            "min_width": null,
            "border": null,
            "align_items": null,
            "bottom": null,
            "_model_module": "@jupyter-widgets/base",
            "top": null,
            "grid_column": null,
            "overflow_y": null,
            "overflow_x": null,
            "grid_auto_flow": null,
            "grid_area": null,
            "grid_template_columns": null,
            "flex": null,
            "_model_name": "LayoutModel",
            "justify_items": null,
            "grid_row": null,
            "max_height": null,
            "align_content": null,
            "visibility": null,
            "align_self": null,
            "height": null,
            "min_height": null,
            "padding": null,
            "grid_auto_rows": null,
            "grid_gap": null,
            "max_width": null,
            "order": null,
            "_view_module_version": "1.2.0",
            "grid_template_areas": null,
            "object_position": null,
            "object_fit": null,
            "grid_auto_columns": null,
            "margin": null,
            "display": null,
            "left": null
          }
        },
        "a30c8bf9726e4777acbb8bc888295fce": {
          "model_module": "@jupyter-widgets/controls",
          "model_name": "DescriptionStyleModel",
          "state": {
            "_view_name": "StyleView",
            "_model_name": "DescriptionStyleModel",
            "description_width": "",
            "_view_module": "@jupyter-widgets/base",
            "_model_module_version": "1.5.0",
            "_view_count": null,
            "_view_module_version": "1.2.0",
            "_model_module": "@jupyter-widgets/controls"
          }
        },
        "24d354e6342048c19de28ffce7841625": {
          "model_module": "@jupyter-widgets/base",
          "model_name": "LayoutModel",
          "state": {
            "_view_name": "LayoutView",
            "grid_template_rows": null,
            "right": null,
            "justify_content": null,
            "_view_module": "@jupyter-widgets/base",
            "overflow": null,
            "_model_module_version": "1.2.0",
            "_view_count": null,
            "flex_flow": null,
            "width": null,
            "min_width": null,
            "border": null,
            "align_items": null,
            "bottom": null,
            "_model_module": "@jupyter-widgets/base",
            "top": null,
            "grid_column": null,
            "overflow_y": null,
            "overflow_x": null,
            "grid_auto_flow": null,
            "grid_area": null,
            "grid_template_columns": null,
            "flex": null,
            "_model_name": "LayoutModel",
            "justify_items": null,
            "grid_row": null,
            "max_height": null,
            "align_content": null,
            "visibility": null,
            "align_self": null,
            "height": null,
            "min_height": null,
            "padding": null,
            "grid_auto_rows": null,
            "grid_gap": null,
            "max_width": null,
            "order": null,
            "_view_module_version": "1.2.0",
            "grid_template_areas": null,
            "object_position": null,
            "object_fit": null,
            "grid_auto_columns": null,
            "margin": null,
            "display": null,
            "left": null
          }
        }
      }
    }
  },
  "cells": [
    {
      "cell_type": "markdown",
      "metadata": {
        "id": "view-in-github",
        "colab_type": "text"
      },
      "source": [
        "<a href=\"https://colab.research.google.com/github/guyez/NLP/blob/main/DistilBertQA_eval.ipynb\" target=\"_parent\"><img src=\"https://colab.research.google.com/assets/colab-badge.svg\" alt=\"Open In Colab\"/></a>"
      ]
    },
    {
      "cell_type": "markdown",
      "metadata": {
        "id": "0lLFOMAf5qfA"
      },
      "source": [
        "# Import Dependencies"
      ]
    },
    {
      "cell_type": "markdown",
      "metadata": {
        "id": "G_N2UDLevYWn"
      },
      "source": [
        "\n",
        "Let's install the [transformers](https://github.com/huggingface/transformers) and [datasets](https://github.com/huggingface/datasets) packages from Hugging Face which will give us a pytorch interface for working with transformers. (This library contains interfaces for other pretrained language models like OpenAI's GPT and GPT-2).\n",
        "\n",
        "At the moment, the Hugging Face library seems to be the most widely accepted and powerful pytorch interface for working with transformers. In addition to supporting a variety of different pre-trained transformer models, the library also includes pre-built modifications of these models suited to your specific task.\n",
        "\n",
        "The library also includes task-specific classes for token classification, question answering, next sentence prediciton, etc.\n",
        "\n",
        "Datasets is a lightweight library providing simple, fast and reproducible data pre-processing for the public datasets as well as your own local datasets in CSV/JSON/text. With simple commandes like `tokenized_dataset = dataset.map(tokenize_exemple)` efficiently prepare the dataset for inspection and ML model evaluation and training.\n"
      ]
    },
    {
      "cell_type": "code",
      "metadata": {
        "colab": {
          "base_uri": "https://localhost:8080/"
        },
        "id": "FLUZHZKkM6S7",
        "outputId": "14c90836-c19b-43e1-dfdc-e01ac40fc233"
      },
      "source": [
        "!pip install transformers\r\n",
        "!pip install datasets"
      ],
      "execution_count": 1,
      "outputs": [
        {
          "output_type": "stream",
          "text": [
            "Requirement already satisfied: transformers in /usr/local/lib/python3.7/dist-packages (4.3.3)\n",
            "Requirement already satisfied: regex!=2019.12.17 in /usr/local/lib/python3.7/dist-packages (from transformers) (2019.12.20)\n",
            "Requirement already satisfied: filelock in /usr/local/lib/python3.7/dist-packages (from transformers) (3.0.12)\n",
            "Requirement already satisfied: requests in /usr/local/lib/python3.7/dist-packages (from transformers) (2.23.0)\n",
            "Requirement already satisfied: importlib-metadata; python_version < \"3.8\" in /usr/local/lib/python3.7/dist-packages (from transformers) (3.7.0)\n",
            "Requirement already satisfied: packaging in /usr/local/lib/python3.7/dist-packages (from transformers) (20.9)\n",
            "Requirement already satisfied: sacremoses in /usr/local/lib/python3.7/dist-packages (from transformers) (0.0.43)\n",
            "Requirement already satisfied: tqdm>=4.27 in /usr/local/lib/python3.7/dist-packages (from transformers) (4.41.1)\n",
            "Requirement already satisfied: numpy>=1.17 in /usr/local/lib/python3.7/dist-packages (from transformers) (1.19.5)\n",
            "Requirement already satisfied: tokenizers<0.11,>=0.10.1 in /usr/local/lib/python3.7/dist-packages (from transformers) (0.10.1)\n",
            "Requirement already satisfied: certifi>=2017.4.17 in /usr/local/lib/python3.7/dist-packages (from requests->transformers) (2020.12.5)\n",
            "Requirement already satisfied: urllib3!=1.25.0,!=1.25.1,<1.26,>=1.21.1 in /usr/local/lib/python3.7/dist-packages (from requests->transformers) (1.24.3)\n",
            "Requirement already satisfied: idna<3,>=2.5 in /usr/local/lib/python3.7/dist-packages (from requests->transformers) (2.10)\n",
            "Requirement already satisfied: chardet<4,>=3.0.2 in /usr/local/lib/python3.7/dist-packages (from requests->transformers) (3.0.4)\n",
            "Requirement already satisfied: typing-extensions>=3.6.4; python_version < \"3.8\" in /usr/local/lib/python3.7/dist-packages (from importlib-metadata; python_version < \"3.8\"->transformers) (3.7.4.3)\n",
            "Requirement already satisfied: zipp>=0.5 in /usr/local/lib/python3.7/dist-packages (from importlib-metadata; python_version < \"3.8\"->transformers) (3.4.0)\n",
            "Requirement already satisfied: pyparsing>=2.0.2 in /usr/local/lib/python3.7/dist-packages (from packaging->transformers) (2.4.7)\n",
            "Requirement already satisfied: six in /usr/local/lib/python3.7/dist-packages (from sacremoses->transformers) (1.15.0)\n",
            "Requirement already satisfied: click in /usr/local/lib/python3.7/dist-packages (from sacremoses->transformers) (7.1.2)\n",
            "Requirement already satisfied: joblib in /usr/local/lib/python3.7/dist-packages (from sacremoses->transformers) (1.0.1)\n",
            "Requirement already satisfied: datasets in /usr/local/lib/python3.7/dist-packages (1.3.0)\n",
            "Requirement already satisfied: xxhash in /usr/local/lib/python3.7/dist-packages (from datasets) (2.0.0)\n",
            "Requirement already satisfied: pyarrow>=0.17.1 in /usr/local/lib/python3.7/dist-packages (from datasets) (3.0.0)\n",
            "Requirement already satisfied: huggingface-hub==0.0.2 in /usr/local/lib/python3.7/dist-packages (from datasets) (0.0.2)\n",
            "Requirement already satisfied: importlib-metadata; python_version < \"3.8\" in /usr/local/lib/python3.7/dist-packages (from datasets) (3.7.0)\n",
            "Requirement already satisfied: tqdm<4.50.0,>=4.27 in /usr/local/lib/python3.7/dist-packages (from datasets) (4.41.1)\n",
            "Requirement already satisfied: multiprocess in /usr/local/lib/python3.7/dist-packages (from datasets) (0.70.11.1)\n",
            "Requirement already satisfied: pandas in /usr/local/lib/python3.7/dist-packages (from datasets) (1.1.5)\n",
            "Requirement already satisfied: numpy>=1.17 in /usr/local/lib/python3.7/dist-packages (from datasets) (1.19.5)\n",
            "Requirement already satisfied: requests>=2.19.0 in /usr/local/lib/python3.7/dist-packages (from datasets) (2.23.0)\n",
            "Requirement already satisfied: dill in /usr/local/lib/python3.7/dist-packages (from datasets) (0.3.3)\n",
            "Requirement already satisfied: fsspec in /usr/local/lib/python3.7/dist-packages (from datasets) (0.8.7)\n",
            "Requirement already satisfied: filelock in /usr/local/lib/python3.7/dist-packages (from huggingface-hub==0.0.2->datasets) (3.0.12)\n",
            "Requirement already satisfied: zipp>=0.5 in /usr/local/lib/python3.7/dist-packages (from importlib-metadata; python_version < \"3.8\"->datasets) (3.4.0)\n",
            "Requirement already satisfied: typing-extensions>=3.6.4; python_version < \"3.8\" in /usr/local/lib/python3.7/dist-packages (from importlib-metadata; python_version < \"3.8\"->datasets) (3.7.4.3)\n",
            "Requirement already satisfied: pytz>=2017.2 in /usr/local/lib/python3.7/dist-packages (from pandas->datasets) (2018.9)\n",
            "Requirement already satisfied: python-dateutil>=2.7.3 in /usr/local/lib/python3.7/dist-packages (from pandas->datasets) (2.8.1)\n",
            "Requirement already satisfied: urllib3!=1.25.0,!=1.25.1,<1.26,>=1.21.1 in /usr/local/lib/python3.7/dist-packages (from requests>=2.19.0->datasets) (1.24.3)\n",
            "Requirement already satisfied: certifi>=2017.4.17 in /usr/local/lib/python3.7/dist-packages (from requests>=2.19.0->datasets) (2020.12.5)\n",
            "Requirement already satisfied: idna<3,>=2.5 in /usr/local/lib/python3.7/dist-packages (from requests>=2.19.0->datasets) (2.10)\n",
            "Requirement already satisfied: chardet<4,>=3.0.2 in /usr/local/lib/python3.7/dist-packages (from requests>=2.19.0->datasets) (3.0.4)\n",
            "Requirement already satisfied: six>=1.5 in /usr/local/lib/python3.7/dist-packages (from python-dateutil>=2.7.3->pandas->datasets) (1.15.0)\n"
          ],
          "name": "stdout"
        }
      ]
    },
    {
      "cell_type": "code",
      "metadata": {
        "colab": {
          "base_uri": "https://localhost:8080/"
        },
        "id": "Q56PwL1LiG3N",
        "outputId": "6e784cc5-50a5-4eea-fc6d-933d37421745"
      },
      "source": [
        "import numpy as np\r\n",
        "import pandas as pd\r\n",
        "\r\n",
        "import torch\r\n",
        "\r\n",
        "import json\r\n",
        "import sys\r\n",
        "import time\r\n",
        "import datetime\r\n",
        "import random\r\n",
        "import collections\r\n",
        "from pathlib import Path\r\n",
        "\r\n",
        "import transformers\r\n",
        "import datasets\r\n",
        "from datasets import load_dataset\r\n",
        "\r\n",
        "from google.colab import drive\r\n",
        "drive.mount(\"/content/drive\")"
      ],
      "execution_count": 2,
      "outputs": [
        {
          "output_type": "stream",
          "text": [
            "Drive already mounted at /content/drive; to attempt to forcibly remount, call drive.mount(\"/content/drive\", force_remount=True).\n"
          ],
          "name": "stdout"
        }
      ]
    },
    {
      "cell_type": "code",
      "metadata": {
        "colab": {
          "base_uri": "https://localhost:8080/",
          "height": 35
        },
        "id": "Ba7DhxpUofmv",
        "outputId": "eac141f4-906e-4652-c849-0ca4b27635ac"
      },
      "source": [
        "torch.__version__"
      ],
      "execution_count": 3,
      "outputs": [
        {
          "output_type": "execute_result",
          "data": {
            "application/vnd.google.colaboratory.intrinsic+json": {
              "type": "string"
            },
            "text/plain": [
              "'1.7.1+cu101'"
            ]
          },
          "metadata": {
            "tags": []
          },
          "execution_count": 3
        }
      ]
    },
    {
      "cell_type": "code",
      "metadata": {
        "colab": {
          "base_uri": "https://localhost:8080/",
          "height": 35
        },
        "id": "ZgSrs3jROoWh",
        "outputId": "76096fc6-ed9c-4410-8c55-c31a2d94ae32"
      },
      "source": [
        "transformers.__version__"
      ],
      "execution_count": 4,
      "outputs": [
        {
          "output_type": "execute_result",
          "data": {
            "application/vnd.google.colaboratory.intrinsic+json": {
              "type": "string"
            },
            "text/plain": [
              "'4.3.3'"
            ]
          },
          "metadata": {
            "tags": []
          },
          "execution_count": 4
        }
      ]
    },
    {
      "cell_type": "code",
      "metadata": {
        "colab": {
          "base_uri": "https://localhost:8080/",
          "height": 35
        },
        "id": "dFxTZW1COsUi",
        "outputId": "956f0f60-5df7-4885-a452-dcd5e0e3906e"
      },
      "source": [
        "datasets.__version__"
      ],
      "execution_count": 5,
      "outputs": [
        {
          "output_type": "execute_result",
          "data": {
            "application/vnd.google.colaboratory.intrinsic+json": {
              "type": "string"
            },
            "text/plain": [
              "'1.3.0'"
            ]
          },
          "metadata": {
            "tags": []
          },
          "execution_count": 5
        }
      ]
    },
    {
      "cell_type": "markdown",
      "metadata": {
        "id": "LPmh48qzlrzk"
      },
      "source": [
        "# Reproducibility\n",
        "\n",
        "\n",
        "\n",
        "\n"
      ]
    },
    {
      "cell_type": "code",
      "metadata": {
        "id": "gENJjhhcs768"
      },
      "source": [
        "def fix_random(seed: int) -> None:\n",
        "    \"\"\"Fix all the possible sources of randomness.\n",
        "\n",
        "    Args:\n",
        "        seed: the seed to use.\n",
        "    \"\"\"\n",
        "\n",
        "    np.random.seed(seed)\n",
        "    random.seed(seed)\n",
        "    torch.manual_seed(seed)\n",
        "    torch.cuda.manual_seed(seed)\n",
        "\n",
        "    torch.backends.cudnn.benchmark = False\n",
        "    torch.backends.cudnn.deterministic = True"
      ],
      "execution_count": 6,
      "outputs": []
    },
    {
      "cell_type": "code",
      "metadata": {
        "id": "F9uG9WFsN6-S"
      },
      "source": [
        "fix_random(seed=42)"
      ],
      "execution_count": 7,
      "outputs": []
    },
    {
      "cell_type": "markdown",
      "metadata": {
        "id": "aJbkbcfoyPFY"
      },
      "source": [
        "# Runtime Settings\n",
        "\n",
        "Here we set the `device`, which is used to place tensors on our GPU, if we have one. If no GPU is available, you should change the Runtime settings. "
      ]
    },
    {
      "cell_type": "code",
      "metadata": {
        "id": "ib8_3-Scxvk8"
      },
      "source": [
        "device = torch.device(\"cuda\" if torch.cuda.is_available() else \"cpu\")"
      ],
      "execution_count": 8,
      "outputs": []
    },
    {
      "cell_type": "code",
      "metadata": {
        "id": "I8YXWMiA7fVB",
        "colab": {
          "base_uri": "https://localhost:8080/"
        },
        "outputId": "06ec02dd-ea6c-4ab6-f05d-854dee7d2e9b"
      },
      "source": [
        "!nvidia-smi"
      ],
      "execution_count": 9,
      "outputs": [
        {
          "output_type": "stream",
          "text": [
            "Tue Mar  2 14:02:23 2021       \n",
            "+-----------------------------------------------------------------------------+\n",
            "| NVIDIA-SMI 460.39       Driver Version: 460.32.03    CUDA Version: 11.2     |\n",
            "|-------------------------------+----------------------+----------------------+\n",
            "| GPU  Name        Persistence-M| Bus-Id        Disp.A | Volatile Uncorr. ECC |\n",
            "| Fan  Temp  Perf  Pwr:Usage/Cap|         Memory-Usage | GPU-Util  Compute M. |\n",
            "|                               |                      |               MIG M. |\n",
            "|===============================+======================+======================|\n",
            "|   0  Tesla T4            Off  | 00000000:00:04.0 Off |                    0 |\n",
            "| N/A   33C    P8    12W /  70W |      3MiB / 15109MiB |      0%      Default |\n",
            "|                               |                      |                  N/A |\n",
            "+-------------------------------+----------------------+----------------------+\n",
            "                                                                               \n",
            "+-----------------------------------------------------------------------------+\n",
            "| Processes:                                                                  |\n",
            "|  GPU   GI   CI        PID   Type   Process name                  GPU Memory |\n",
            "|        ID   ID                                                   Usage      |\n",
            "|=============================================================================|\n",
            "|  No running processes found                                                 |\n",
            "+-----------------------------------------------------------------------------+\n"
          ],
          "name": "stdout"
        }
      ]
    },
    {
      "cell_type": "markdown",
      "metadata": {
        "id": "rATgVca-z-ue"
      },
      "source": [
        "#Load"
      ]
    },
    {
      "cell_type": "code",
      "metadata": {
        "id": "dIGqe1a6rceN"
      },
      "source": [
        "class LoadData():\r\n",
        "    def __init__(self,\r\n",
        "                 path_to_json_file: str,\r\n",
        "                 checkpoint_path: str,\r\n",
        "                 test_file: str = 'test.csv') -> None:\r\n",
        "        \"\"\"Load the data by flattening the json file and saving it.\r\n",
        "\r\n",
        "          Args:\r\n",
        "              path_to_json_file: path to the json file.\r\n",
        "              checkpoint_path: path where to save the csv files.\r\n",
        "              test_file: name of the test csv file that will be created.\r\n",
        "        \"\"\"\r\n",
        "\r\n",
        "        self.path_to_json_file = path_to_json_file\r\n",
        "        self.checkpoint_path = checkpoint_path\r\n",
        "\r\n",
        "        self.test_file = test_file\r\n",
        "\r\n",
        "        self.data = self.load_data()\r\n",
        "\r\n",
        "    def load_data(self):\r\n",
        "        with open(self.path_to_json_file, 'r') as f:\r\n",
        "            test_data = json.load(f)\r\n",
        "        print(f'Flattening SQUAD {test_data[\"version\"]}')\r\n",
        "        test_data_flat, errors = self.load_squad_data(test_data)\r\n",
        "        print(f'\\nErroneous Datapoints: {errors}')\r\n",
        "\r\n",
        "        pd.DataFrame(test_data_flat).to_csv(Path(self.checkpoint_path) / Path(self.test_file), encoding='utf-8')\r\n",
        "\r\n",
        "    def load_squad_data(self, data):\r\n",
        "\r\n",
        "        errors = 0\r\n",
        "        flattened_data_test = []\r\n",
        "\r\n",
        "        for i, article in enumerate(data[\"data\"]):\r\n",
        "            title = article.get(\"title\", \"\").strip()\r\n",
        "            for paragraph in article[\"paragraphs\"]:\r\n",
        "                context = paragraph[\"context\"].strip()\r\n",
        "                for qa in paragraph[\"qas\"]:\r\n",
        "                    question = qa[\"question\"].strip()\r\n",
        "                    id_ = qa[\"id\"]\r\n",
        "\r\n",
        "                    answer_starts = [answer[\"answer_start\"] for answer in qa[\"answers\"]]\r\n",
        "                    answers = [answer[\"text\"].strip() for answer in qa[\"answers\"]]\r\n",
        "\r\n",
        "                    # Features currently used are \"context\", \"question\", and \"answers\".\r\n",
        "                    # Others are extracted here for the ease of future expansions.\r\n",
        "                    flattened_data_test.append({\"title\": title,\r\n",
        "                                                \"context\": context,\r\n",
        "                                                \"question\": question,\r\n",
        "                                                \"id\": id_,\r\n",
        "                                                \"answers\": {\r\n",
        "                                                    \"answer_start\": answer_starts,\r\n",
        "                                                    \"text\": answers}\r\n",
        "                                                })\r\n",
        "\r\n",
        "        return flattened_data_test, errors"
      ],
      "execution_count": 10,
      "outputs": []
    },
    {
      "cell_type": "code",
      "metadata": {
        "id": "gLClOaPt0luI"
      },
      "source": [
        "# Folder on your Google Drive where all the checkpoints will be saved and where the dataset files are stored and loaded from\r\n",
        "FOLDER_NAME = \"NLPproject\" # @param {type: \"string\"}\r\n",
        "JSON_TEST_FILE = \"training_set.json\" # @param {type: \"string\"}\r\n",
        "data_path = \"drive/My Drive/\" + FOLDER_NAME +\"/\"  # Full path to Drive folder\r\n",
        "file_path = data_path + JSON_TEST_FILE\r\n",
        "checkpoint_path = data_path"
      ],
      "execution_count": 11,
      "outputs": []
    },
    {
      "cell_type": "code",
      "metadata": {
        "colab": {
          "base_uri": "https://localhost:8080/"
        },
        "id": "Y6DQzGjkiQaC",
        "outputId": "654ab4de-5881-4620-b8dc-18b121406944"
      },
      "source": [
        "_ = LoadData(file_path, checkpoint_path)"
      ],
      "execution_count": 12,
      "outputs": [
        {
          "output_type": "stream",
          "text": [
            "Flattening SQUAD 1.1\n",
            "\n",
            "Erroneous Datapoints: 0\n"
          ],
          "name": "stdout"
        }
      ]
    },
    {
      "cell_type": "code",
      "metadata": {
        "colab": {
          "base_uri": "https://localhost:8080/",
          "height": 87,
          "referenced_widgets": [
            "0d80cff0db7a4c3fbe92f00093c610ee",
            "c87e2f840a55469bb3088c296c1425ec",
            "e7656492e23645a0b42098424111be04",
            "eb76f1b26b8a4e62a608296ab1241ff0",
            "20aa7c1c988046b8807450bf863b5d2d",
            "fc7f97a44a35401da85840cd3bf6e387",
            "ad1d02d1e8024715bbdc511b0591874b",
            "23fa2ba80c8b47bda12683fb34e7997d"
          ]
        },
        "id": "Ji9Vo1imO5Vq",
        "outputId": "a33698de-7e2f-402d-b99e-0f05989829d4"
      },
      "source": [
        "from datasets import load_dataset\r\n",
        "test_data = load_dataset('csv', data_files=data_path+\"test.csv\")"
      ],
      "execution_count": 13,
      "outputs": [
        {
          "output_type": "stream",
          "text": [
            "Using custom data configuration default-1e50c0b35cc4a2fc\n"
          ],
          "name": "stderr"
        },
        {
          "output_type": "stream",
          "text": [
            "Downloading and preparing dataset csv/default (download: Unknown size, generated: Unknown size, post-processed: Unknown size, total: Unknown size) to /root/.cache/huggingface/datasets/csv/default-1e50c0b35cc4a2fc/0.0.0/965b6429be0fc05f975b608ce64e1fa941cc8fb4f30629b523d2390f3c0e1a93...\n"
          ],
          "name": "stdout"
        },
        {
          "output_type": "display_data",
          "data": {
            "application/vnd.jupyter.widget-view+json": {
              "model_id": "0d80cff0db7a4c3fbe92f00093c610ee",
              "version_minor": 0,
              "version_major": 2
            },
            "text/plain": [
              "HBox(children=(FloatProgress(value=1.0, bar_style='info', max=1.0), HTML(value='')))"
            ]
          },
          "metadata": {
            "tags": []
          }
        },
        {
          "output_type": "stream",
          "text": [
            "\rDataset csv downloaded and prepared to /root/.cache/huggingface/datasets/csv/default-1e50c0b35cc4a2fc/0.0.0/965b6429be0fc05f975b608ce64e1fa941cc8fb4f30629b523d2390f3c0e1a93. Subsequent calls will reuse this data.\n"
          ],
          "name": "stdout"
        }
      ]
    },
    {
      "cell_type": "code",
      "metadata": {
        "colab": {
          "base_uri": "https://localhost:8080/",
          "height": 66,
          "referenced_widgets": [
            "6e3c613c34bf4754a0e05b8c901499e2",
            "7ab5d67de43f4681856f7c7c24afc590",
            "e48edd5a54f749f1b4c38cc9af157a49",
            "854c2f24c91348d7a7a816062920a02a",
            "ce88f26a80004047a2d2f6b74ced3d97",
            "1bcdd3eb17a8489d9ec17a6a9a81534f",
            "3d17f22c787c47c2b48c07900547578d",
            "39240dd5958044509ba91a331881fd35"
          ]
        },
        "id": "S4quNVngMpHV",
        "outputId": "e7fa519d-5e39-470c-ed36-4033cad079a8"
      },
      "source": [
        "import ast\r\n",
        "\r\n",
        "def string_to_dict(examples: dict) -> dict:\r\n",
        "    \"\"\"Convert the answers form string to dict.\r\n",
        "       This is needed because when you load the data from the csv file\r\n",
        "       the type of the 'answers' column is string but we want a dict\r\n",
        "\r\n",
        "     Args:\r\n",
        "         examples: a squad sample.\r\n",
        "     \"\"\"\r\n",
        "    examples['answers'] = ast.literal_eval(examples['answers'])\r\n",
        "    return examples\r\n",
        "  \r\n",
        "\r\n",
        "test_data = test_data.map(string_to_dict)"
      ],
      "execution_count": 14,
      "outputs": [
        {
          "output_type": "display_data",
          "data": {
            "application/vnd.jupyter.widget-view+json": {
              "model_id": "6e3c613c34bf4754a0e05b8c901499e2",
              "version_minor": 0,
              "version_major": 2
            },
            "text/plain": [
              "HBox(children=(FloatProgress(value=0.0, max=87599.0), HTML(value='')))"
            ]
          },
          "metadata": {
            "tags": []
          }
        },
        {
          "output_type": "stream",
          "text": [
            "\n"
          ],
          "name": "stdout"
        }
      ]
    },
    {
      "cell_type": "code",
      "metadata": {
        "colab": {
          "base_uri": "https://localhost:8080/",
          "height": 721
        },
        "id": "b6twxoFaRNHK",
        "outputId": "97738d21-24ec-43b6-e5d0-dceffdf1ddf1"
      },
      "source": [
        "test_dataframe = pd.read_csv(data_path+\"test.csv\")\r\n",
        "test_dataframe"
      ],
      "execution_count": 15,
      "outputs": [
        {
          "output_type": "execute_result",
          "data": {
            "text/html": [
              "<div>\n",
              "<style scoped>\n",
              "    .dataframe tbody tr th:only-of-type {\n",
              "        vertical-align: middle;\n",
              "    }\n",
              "\n",
              "    .dataframe tbody tr th {\n",
              "        vertical-align: top;\n",
              "    }\n",
              "\n",
              "    .dataframe thead th {\n",
              "        text-align: right;\n",
              "    }\n",
              "</style>\n",
              "<table border=\"1\" class=\"dataframe\">\n",
              "  <thead>\n",
              "    <tr style=\"text-align: right;\">\n",
              "      <th></th>\n",
              "      <th>Unnamed: 0</th>\n",
              "      <th>title</th>\n",
              "      <th>context</th>\n",
              "      <th>question</th>\n",
              "      <th>id</th>\n",
              "      <th>answers</th>\n",
              "    </tr>\n",
              "  </thead>\n",
              "  <tbody>\n",
              "    <tr>\n",
              "      <th>0</th>\n",
              "      <td>0</td>\n",
              "      <td>University_of_Notre_Dame</td>\n",
              "      <td>Architecturally, the school has a Catholic cha...</td>\n",
              "      <td>To whom did the Virgin Mary allegedly appear i...</td>\n",
              "      <td>5733be284776f41900661182</td>\n",
              "      <td>{'answer_start': [515], 'text': ['Saint Bernad...</td>\n",
              "    </tr>\n",
              "    <tr>\n",
              "      <th>1</th>\n",
              "      <td>1</td>\n",
              "      <td>University_of_Notre_Dame</td>\n",
              "      <td>Architecturally, the school has a Catholic cha...</td>\n",
              "      <td>What is in front of the Notre Dame Main Building?</td>\n",
              "      <td>5733be284776f4190066117f</td>\n",
              "      <td>{'answer_start': [188], 'text': ['a copper sta...</td>\n",
              "    </tr>\n",
              "    <tr>\n",
              "      <th>2</th>\n",
              "      <td>2</td>\n",
              "      <td>University_of_Notre_Dame</td>\n",
              "      <td>Architecturally, the school has a Catholic cha...</td>\n",
              "      <td>The Basilica of the Sacred heart at Notre Dame...</td>\n",
              "      <td>5733be284776f41900661180</td>\n",
              "      <td>{'answer_start': [279], 'text': ['the Main Bui...</td>\n",
              "    </tr>\n",
              "    <tr>\n",
              "      <th>3</th>\n",
              "      <td>3</td>\n",
              "      <td>University_of_Notre_Dame</td>\n",
              "      <td>Architecturally, the school has a Catholic cha...</td>\n",
              "      <td>What is the Grotto at Notre Dame?</td>\n",
              "      <td>5733be284776f41900661181</td>\n",
              "      <td>{'answer_start': [381], 'text': ['a Marian pla...</td>\n",
              "    </tr>\n",
              "    <tr>\n",
              "      <th>4</th>\n",
              "      <td>4</td>\n",
              "      <td>University_of_Notre_Dame</td>\n",
              "      <td>Architecturally, the school has a Catholic cha...</td>\n",
              "      <td>What sits on top of the Main Building at Notre...</td>\n",
              "      <td>5733be284776f4190066117e</td>\n",
              "      <td>{'answer_start': [92], 'text': ['a golden stat...</td>\n",
              "    </tr>\n",
              "    <tr>\n",
              "      <th>...</th>\n",
              "      <td>...</td>\n",
              "      <td>...</td>\n",
              "      <td>...</td>\n",
              "      <td>...</td>\n",
              "      <td>...</td>\n",
              "      <td>...</td>\n",
              "    </tr>\n",
              "    <tr>\n",
              "      <th>87594</th>\n",
              "      <td>87594</td>\n",
              "      <td>Kathmandu</td>\n",
              "      <td>Kathmandu Metropolitan City (KMC), in order to...</td>\n",
              "      <td>In what US state did Kathmandu first establish...</td>\n",
              "      <td>5735d259012e2f140011a09d</td>\n",
              "      <td>{'answer_start': [229], 'text': ['Oregon']}</td>\n",
              "    </tr>\n",
              "    <tr>\n",
              "      <th>87595</th>\n",
              "      <td>87595</td>\n",
              "      <td>Kathmandu</td>\n",
              "      <td>Kathmandu Metropolitan City (KMC), in order to...</td>\n",
              "      <td>What was Yangon previously known as?</td>\n",
              "      <td>5735d259012e2f140011a09e</td>\n",
              "      <td>{'answer_start': [414], 'text': ['Rangoon']}</td>\n",
              "    </tr>\n",
              "    <tr>\n",
              "      <th>87596</th>\n",
              "      <td>87596</td>\n",
              "      <td>Kathmandu</td>\n",
              "      <td>Kathmandu Metropolitan City (KMC), in order to...</td>\n",
              "      <td>With what Belorussian city does Kathmandu have...</td>\n",
              "      <td>5735d259012e2f140011a09f</td>\n",
              "      <td>{'answer_start': [476], 'text': ['Minsk']}</td>\n",
              "    </tr>\n",
              "    <tr>\n",
              "      <th>87597</th>\n",
              "      <td>87597</td>\n",
              "      <td>Kathmandu</td>\n",
              "      <td>Kathmandu Metropolitan City (KMC), in order to...</td>\n",
              "      <td>In what year did Kathmandu create its initial ...</td>\n",
              "      <td>5735d259012e2f140011a0a0</td>\n",
              "      <td>{'answer_start': [199], 'text': ['1975']}</td>\n",
              "    </tr>\n",
              "    <tr>\n",
              "      <th>87598</th>\n",
              "      <td>87598</td>\n",
              "      <td>Kathmandu</td>\n",
              "      <td>Kathmandu Metropolitan City (KMC), in order to...</td>\n",
              "      <td>What is KMC an initialism of?</td>\n",
              "      <td>5735d259012e2f140011a0a1</td>\n",
              "      <td>{'answer_start': [0], 'text': ['Kathmandu Metr...</td>\n",
              "    </tr>\n",
              "  </tbody>\n",
              "</table>\n",
              "<p>87599 rows × 6 columns</p>\n",
              "</div>"
            ],
            "text/plain": [
              "       Unnamed: 0  ...                                            answers\n",
              "0               0  ...  {'answer_start': [515], 'text': ['Saint Bernad...\n",
              "1               1  ...  {'answer_start': [188], 'text': ['a copper sta...\n",
              "2               2  ...  {'answer_start': [279], 'text': ['the Main Bui...\n",
              "3               3  ...  {'answer_start': [381], 'text': ['a Marian pla...\n",
              "4               4  ...  {'answer_start': [92], 'text': ['a golden stat...\n",
              "...           ...  ...                                                ...\n",
              "87594       87594  ...        {'answer_start': [229], 'text': ['Oregon']}\n",
              "87595       87595  ...       {'answer_start': [414], 'text': ['Rangoon']}\n",
              "87596       87596  ...         {'answer_start': [476], 'text': ['Minsk']}\n",
              "87597       87597  ...          {'answer_start': [199], 'text': ['1975']}\n",
              "87598       87598  ...  {'answer_start': [0], 'text': ['Kathmandu Metr...\n",
              "\n",
              "[87599 rows x 6 columns]"
            ]
          },
          "metadata": {
            "tags": []
          },
          "execution_count": 15
        }
      ]
    },
    {
      "cell_type": "code",
      "metadata": {
        "colab": {
          "base_uri": "https://localhost:8080/",
          "height": 407
        },
        "id": "uvVkdnU17gEt",
        "outputId": "f5465606-39e6-4575-d520-3d08f183fba0"
      },
      "source": [
        "figsize = (10,6)\r\n",
        "test_dataframe['context'].apply(len).plot.hist(title=\"Contex length histogram\", bins=20, figsize=figsize, grid=True)"
      ],
      "execution_count": 16,
      "outputs": [
        {
          "output_type": "execute_result",
          "data": {
            "text/plain": [
              "<matplotlib.axes._subplots.AxesSubplot at 0x7f1bd11274d0>"
            ]
          },
          "metadata": {
            "tags": []
          },
          "execution_count": 16
        },
        {
          "output_type": "display_data",
          "data": {
            "image/png": "[encoded data removed]",
            "text/plain": [
              "<Figure size 720x432 with 1 Axes>"
            ]
          },
          "metadata": {
            "tags": [],
            "needs_background": "light"
          }
        }
      ]
    },
    {
      "cell_type": "code",
      "metadata": {
        "colab": {
          "base_uri": "https://localhost:8080/",
          "height": 407
        },
        "id": "Jab-fQ1X8dfY",
        "outputId": "2722918c-5cf1-4963-d7f9-b8d4b23c99f3"
      },
      "source": [
        "test_dataframe['question'].apply(len).plot.hist(title=\"Question length histogram\", bins=20, figsize=figsize, grid=True)"
      ],
      "execution_count": 17,
      "outputs": [
        {
          "output_type": "execute_result",
          "data": {
            "text/plain": [
              "<matplotlib.axes._subplots.AxesSubplot at 0x7f1bd1900950>"
            ]
          },
          "metadata": {
            "tags": []
          },
          "execution_count": 17
        },
        {
          "output_type": "display_data",
          "data": {
            "image/png": "[encoded data removed]",
            "text/plain": [
              "<Figure size 720x432 with 1 Axes>"
            ]
          },
          "metadata": {
            "tags": [],
            "needs_background": "light"
          }
        }
      ]
    },
    {
      "cell_type": "code",
      "metadata": {
        "colab": {
          "base_uri": "https://localhost:8080/",
          "height": 407
        },
        "id": "lY9PhtcW8pmt",
        "outputId": "72d27f4b-41ae-41ef-8c87-ed62553cf9fe"
      },
      "source": [
        "def answer_len(answer: str) -> int:\r\n",
        "    \"\"\"Extract only the text from an answer and return its length\r\n",
        "\r\n",
        "    Args:\r\n",
        "        answer: the answer.\r\n",
        "    \"\"\"\r\n",
        "    return len(answer.split(\"'text': \")[1][2:-3])\r\n",
        "\r\n",
        "test_dataframe['answers'].apply(answer_len).plot.hist(title=\"Answer length histogram\", bins=20, figsize=figsize, grid=True)"
      ],
      "execution_count": 18,
      "outputs": [
        {
          "output_type": "execute_result",
          "data": {
            "text/plain": [
              "<matplotlib.axes._subplots.AxesSubplot at 0x7f1bd11e3ad0>"
            ]
          },
          "metadata": {
            "tags": []
          },
          "execution_count": 18
        },
        {
          "output_type": "display_data",
          "data": {
            "image/png": "[encoded data removed]",
            "text/plain": [
              "<Figure size 720x432 with 1 Axes>"
            ]
          },
          "metadata": {
            "tags": [],
            "needs_background": "light"
          }
        }
      ]
    },
    {
      "cell_type": "code",
      "metadata": {
        "colab": {
          "base_uri": "https://localhost:8080/"
        },
        "id": "vGYzWRfv2SuH",
        "outputId": "0c64c624-453f-4637-e403-d06535de7f83"
      },
      "source": [
        "#@title Show Samples { run: \"auto\", display-mode: \"form\" }\r\n",
        "\r\n",
        "def print_squad_sample(df: pd.core.frame.DataFrame, line_length: int=20, separator_length: int=120) -> None:\r\n",
        "  sample = df.iloc[random.randint(0,df.shape[0])]\r\n",
        "  title = sample.title.replace('_', ' ')\r\n",
        "  print('TITLE: ')\r\n",
        "  print(title)\r\n",
        "  print('='*separator_length)\r\n",
        "  context = sample.context.split()\r\n",
        "  print('CONTEXT: ')\r\n",
        "  lines = [' '.join(context[idx:idx+line_length]) for idx in range(0, len(context), line_length)]\r\n",
        "  for l in lines:\r\n",
        "      print(l)\r\n",
        "  print('='*separator_length)\r\n",
        "  questions = df[df.context.values==sample.context]\r\n",
        "  max_len = len(max(questions.question, key=len)) + 5\r\n",
        "  print(\"{: <{max_len}} {: <{max_len}}\".format('QUESTION:','ANSWER:', max_len=max_len))\r\n",
        "  for idx, row in questions.iterrows():\r\n",
        "    question = row.question\r\n",
        "    answer = row.answers.split(\"'text': \")[1][2:-3]\r\n",
        "    print(\"{: <{max_len}} {: <{max_len}}\".format(question,answer, max_len=max_len))\r\n",
        "    \r\n",
        "print_squad_sample(test_dataframe)"
      ],
      "execution_count": 19,
      "outputs": [
        {
          "output_type": "stream",
          "text": [
            "TITLE: \n",
            "Religion in ancient Rome\n",
            "========================================================================================================================\n",
            "CONTEXT: \n",
            "The meaning and origin of many archaic festivals baffled even Rome's intellectual elite, but the more obscure they were, the\n",
            "greater the opportunity for reinvention and reinterpretation — a fact lost neither on Augustus in his program of religious reform,\n",
            "which often cloaked autocratic innovation, nor on his only rival as mythmaker of the era, Ovid. In his Fasti, a\n",
            "long-form poem covering Roman holidays from January to June, Ovid presents a unique look at Roman antiquarian lore, popular customs,\n",
            "and religious practice that is by turns imaginative, entertaining, high-minded, and scurrilous; not a priestly account, despite the speaker's pose\n",
            "as a vates or inspired poet-prophet, but a work of description, imagination and poetic etymology that reflects the broad humor\n",
            "and burlesque spirit of such venerable festivals as the Saturnalia, Consualia, and feast of Anna Perenna on the Ides of\n",
            "March, where Ovid treats the assassination of the newly deified Julius Caesar as utterly incidental to the festivities among the\n",
            "Roman people. But official calendars preserved from different times and places also show a flexibility in omitting or expanding events,\n",
            "indicating that there was no single static and authoritative calendar of required observances. In the later Empire under Christian rule,\n",
            "the new Christian festivals were incorporated into the existing framework of the Roman calendar, alongside at least some of the\n",
            "traditional festivals.\n",
            "========================================================================================================================\n",
            "QUESTION:                                                                            ANSWER:                                                                             \n",
            "What did obscure festivals offer Romans the opportunity to do?                       reinterpretation                                                                    \n",
            "What did Augustus wish to do for Roman religion?                                     reform                                                                              \n",
            "What poet wrote a long poem describing Roman religious holidays?                     Ovid                                                                                \n",
            "What was lacking in the presentation of religious events in Rome?                    authoritative calendar                                                              \n",
            "Under whose rule were new Christian festivals added to previous Roman holidays?      Christian                                                                           \n"
          ],
          "name": "stdout"
        }
      ]
    },
    {
      "cell_type": "markdown",
      "metadata": {
        "id": "Inog-64XTyd0"
      },
      "source": [
        "#Preprocessing the data\r\n",
        "\r\n",
        "Before we can feed those texts to our model, we need to preprocess them. This is done by a 🤗 Transformers Tokenizer which will (as the name indicates) tokenize the inputs (including converting the tokens to their corresponding IDs in the pretrained vocabulary) and put it in a format the model expects, as well as generate the other inputs that model requires.\r\n",
        "\r\n",
        "To do all of this, we instantiate our tokenizer with the AutoTokenizer.from_pretrained method, which will ensure:\r\n",
        "\r\n",
        "- we get a tokenizer that corresponds to the model architecture we want to use,\r\n",
        "- we download the vocabulary used when pretraining this specific checkpoint.\r\n",
        "\r\n",
        "That vocabulary will be cached, so it's not downloaded again the next time we run the cell.\r\n",
        "\r\n",
        "As model_checkpoint we use the best performing version of our DistilBertForQuestionAnswering which we have uploaded on the HuggingFace Hub."
      ]
    },
    {
      "cell_type": "code",
      "metadata": {
        "id": "oOEF4DScUDPi",
        "colab": {
          "base_uri": "https://localhost:8080/",
          "height": 212,
          "referenced_widgets": [
            "ea6a90d6add948089399e70f20969083",
            "351fb3c7fa274fa291ea67be37e4da10",
            "09a41311c77249d3bfd3bea9a430bdb9",
            "3de8bd93832b4843851bd03bbdd12e12",
            "8c9069e999f74a04a5fd147e70489332",
            "a051b041516349b1bf54911e570f3f06",
            "5facdeca314b40ef9c8db0c6382e32e9",
            "30d287c4194f4ccca4df14f308943974",
            "cd20e38a1d44409e851e9a633be8a266",
            "54ec145749df4ed1a1d9fae342f67852",
            "0d46e8917b934297bb4ce5d1396ed4e7",
            "456fe1dc36724c3cb10af42ce9b93b02",
            "70c32894116a4281917fd49298981bc3",
            "8b9bae0687ea4c2bbefced47a76dfae8",
            "33221b89c86446e2935ed8fc77dca072",
            "ae264e2115f54be4a53c2c048d34e8a9",
            "a8e818b248fd46ccb67b14ec43ca4ab7",
            "a516bfdbd01c40a38f9fad6e4c691e23",
            "2c7e533e5088460b98d93167ba7074aa",
            "555f13979c694c7a988085c9b4e2a536",
            "8becd42f504d451084c474f104280234",
            "8da711633dfb41b399b34473d789d90b",
            "859bfd404b914f4e8dfc1e5ed4a78456",
            "fb6e50e764e244b9a00020173aa1a2b4",
            "dc899f1d78a74693b6d2024d2ec5146c",
            "44d4ff4b14e0442f88944e335cf1b8d8",
            "5f3dae75c9fe42e791f98b0cc77a1085",
            "9f5533307e2e4b00a2966000feea3197",
            "9c3a29444ec145719a506da16e909e0c",
            "1267473918834ef398608b17a1a464cd",
            "c5ae94b47dbf41c6bef0b367522a376f",
            "372e22ccd51f4b7aae3bf04a2624f363"
          ]
        },
        "outputId": "c73e14ff-582d-42be-d29f-ec77b58b80da"
      },
      "source": [
        "from transformers import AutoTokenizer\r\n",
        "\r\n",
        "model_checkpoint = \"nlpunibo/distilbert_config3\"\r\n",
        "tokenizer = AutoTokenizer.from_pretrained(model_checkpoint)"
      ],
      "execution_count": 20,
      "outputs": [
        {
          "output_type": "display_data",
          "data": {
            "application/vnd.jupyter.widget-view+json": {
              "model_id": "ea6a90d6add948089399e70f20969083",
              "version_minor": 0,
              "version_major": 2
            },
            "text/plain": [
              "HBox(children=(FloatProgress(value=0.0, description='Downloading', max=532.0, style=ProgressStyle(description_…"
            ]
          },
          "metadata": {
            "tags": []
          }
        },
        {
          "output_type": "stream",
          "text": [
            "\n"
          ],
          "name": "stdout"
        },
        {
          "output_type": "display_data",
          "data": {
            "application/vnd.jupyter.widget-view+json": {
              "model_id": "cd20e38a1d44409e851e9a633be8a266",
              "version_minor": 0,
              "version_major": 2
            },
            "text/plain": [
              "HBox(children=(FloatProgress(value=0.0, description='Downloading', max=231508.0, style=ProgressStyle(descripti…"
            ]
          },
          "metadata": {
            "tags": []
          }
        },
        {
          "output_type": "stream",
          "text": [
            "\n"
          ],
          "name": "stdout"
        },
        {
          "output_type": "display_data",
          "data": {
            "application/vnd.jupyter.widget-view+json": {
              "model_id": "a8e818b248fd46ccb67b14ec43ca4ab7",
              "version_minor": 0,
              "version_major": 2
            },
            "text/plain": [
              "HBox(children=(FloatProgress(value=0.0, description='Downloading', max=112.0, style=ProgressStyle(description_…"
            ]
          },
          "metadata": {
            "tags": []
          }
        },
        {
          "output_type": "stream",
          "text": [
            "\n"
          ],
          "name": "stdout"
        },
        {
          "output_type": "display_data",
          "data": {
            "application/vnd.jupyter.widget-view+json": {
              "model_id": "dc899f1d78a74693b6d2024d2ec5146c",
              "version_minor": 0,
              "version_major": 2
            },
            "text/plain": [
              "HBox(children=(FloatProgress(value=0.0, description='Downloading', max=258.0, style=ProgressStyle(description_…"
            ]
          },
          "metadata": {
            "tags": []
          }
        },
        {
          "output_type": "stream",
          "text": [
            "\n"
          ],
          "name": "stdout"
        }
      ]
    },
    {
      "cell_type": "code",
      "metadata": {
        "id": "AhmVAsCrXKD9"
      },
      "source": [
        "max_length = 384 # The maximum length of a feature (question and context)\r\n",
        "doc_stride = 128 # The authorized overlap between two part of the context when splitting it is needed.\r\n",
        "pad_on_right = True # Our model expects padding on the right"
      ],
      "execution_count": 21,
      "outputs": []
    },
    {
      "cell_type": "markdown",
      "metadata": {
        "id": "SqOg2iAEdrEB"
      },
      "source": [
        "# Evaluation"
      ]
    },
    {
      "cell_type": "markdown",
      "metadata": {
        "id": "h2KRX94OdzPD"
      },
      "source": [
        "We can download the pretrained model. We use our modified version of the `DistilBertForQuestionAnswering` class. Like with the tokenizer, the `from_pretrained` method will download and cache the model for us."
      ]
    },
    {
      "cell_type": "code",
      "metadata": {
        "id": "rV0pZMjOPly2"
      },
      "source": [
        "# DistilBert\r\n",
        "\r\n",
        "import math\r\n",
        "\r\n",
        "from transformers.modeling_outputs import QuestionAnsweringModelOutput\r\n",
        "from transformers import DistilBertPreTrainedModel\r\n",
        "from transformers import DistilBertModel\r\n",
        "\r\n",
        "from torch import nn\r\n",
        "from torch.nn import CrossEntropyLoss\r\n",
        "\r\n",
        "\r\n",
        "def gelu(x):\r\n",
        "    \"\"\"\r\n",
        "    Original Implementation of the GELU activation function in Google BERT repo when initially created. For\r\n",
        "    information: OpenAI GPT's GELU is slightly different (and gives slightly different results): 0.5 * x * (1 +\r\n",
        "    torch.tanh(math.sqrt(2 / math.pi) * (x + 0.044715 * torch.pow(x, 3)))) This is now written in C in\r\n",
        "    torch.nn.functional Also see the Gaussian Error Linear Units paper: https://arxiv.org/abs/1606.08415\r\n",
        "    \"\"\"\r\n",
        "    return x * 0.5 * (1.0 + torch.erf(x / math.sqrt(2.0)))\r\n",
        "\r\n",
        "\r\n",
        "def gelu_new(x):\r\n",
        "    \"\"\"\r\n",
        "    Implementation of the GELU activation function currently in Google BERT repo (identical to OpenAI GPT). Also see\r\n",
        "    the Gaussian Error Linear Units paper: https://arxiv.org/abs/1606.08415\r\n",
        "    \"\"\"\r\n",
        "    return 0.5 * x * (1.0 + torch.tanh(math.sqrt(2.0 / math.pi) * (x + 0.044715 * torch.pow(x, 3.0))))\r\n",
        "\r\n",
        "\r\n",
        "class DistilBertForQuestionAnswering(DistilBertPreTrainedModel):\r\n",
        "    def __init__(self, config):\r\n",
        "        super().__init__(config)\r\n",
        "\r\n",
        "        self.distilbert = DistilBertModel(config)\r\n",
        "\r\n",
        "        self.qa_outputs_0 = nn.Linear(config.dim, 512)\r\n",
        "        self.qa_outputs_1 = nn.Linear(512, 32)\r\n",
        "        self.qa_outputs = nn.Linear(32, config.num_labels)\r\n",
        "        \r\n",
        "        assert config.num_labels == 2\r\n",
        "        self.dropout = nn.Dropout(config.qa_dropout)\r\n",
        "\r\n",
        "        self.LayerNorm = nn.LayerNorm(normalized_shape = [384,2])\r\n",
        "\r\n",
        "        self.init_weights()\r\n",
        "\r\n",
        "    def forward(\r\n",
        "        self,\r\n",
        "        input_ids=None,\r\n",
        "        attention_mask=None,\r\n",
        "        head_mask=None,\r\n",
        "        inputs_embeds=None,\r\n",
        "        start_positions=None,\r\n",
        "        end_positions=None,\r\n",
        "        output_attentions=None,\r\n",
        "        output_hidden_states=None,\r\n",
        "        return_dict=None,\r\n",
        "    ):\r\n",
        "        r\"\"\"\r\n",
        "        start_positions (:obj:`torch.LongTensor` of shape :obj:`(batch_size,)`, `optional`):\r\n",
        "            Labels for position (index) of the start of the labelled span for computing the token classification loss.\r\n",
        "            Positions are clamped to the length of the sequence (:obj:`sequence_length`). Position outside of the\r\n",
        "            sequence are not taken into account for computing the loss.\r\n",
        "        end_positions (:obj:`torch.LongTensor` of shape :obj:`(batch_size,)`, `optional`):\r\n",
        "            Labels for position (index) of the end of the labelled span for computing the token classification loss.\r\n",
        "            Positions are clamped to the length of the sequence (:obj:`sequence_length`). Position outside of the\r\n",
        "            sequence are not taken into account for computing the loss.\r\n",
        "        \"\"\"\r\n",
        "        return_dict = return_dict if return_dict is not None else self.config.use_return_dict\r\n",
        "\r\n",
        "\r\n",
        "        distilbert_output = self.distilbert(\r\n",
        "            input_ids=input_ids,\r\n",
        "            attention_mask=attention_mask,\r\n",
        "            head_mask=head_mask,\r\n",
        "            inputs_embeds=inputs_embeds,\r\n",
        "            output_attentions=output_attentions,\r\n",
        "            output_hidden_states=output_hidden_states,\r\n",
        "            return_dict=return_dict,\r\n",
        "        )\r\n",
        "\r\n",
        " \r\n",
        "        hidden_states = distilbert_output[0]  # (bs, max_query_len, dim)\r\n",
        "        hidden_states = self.dropout(hidden_states)  # (bs, max_query_len, dim)\r\n",
        "\r\n",
        "        logits = gelu_new(self.qa_outputs_0(hidden_states))  # (bs, max_query_len, 2)\r\n",
        "        logits = gelu_new(self.qa_outputs_1(logits))\r\n",
        "        #logits = self.LayerNorm_0(logits)\r\n",
        "      \r\n",
        "        logits = self.qa_outputs(logits)\r\n",
        "        logits = self.LayerNorm(logits)\r\n",
        "       \r\n",
        "        start_logits, end_logits = logits.split(1, dim=-1)\r\n",
        "\r\n",
        "        start_logits = start_logits.squeeze(-1)  # (bs, max_query_len)\r\n",
        "        end_logits = end_logits.squeeze(-1)  # (bs, max_query_len)\r\n",
        "\r\n",
        "\r\n",
        "        total_loss = None\r\n",
        "        if start_positions is not None and end_positions is not None:\r\n",
        "\r\n",
        "            # sometimes the start/end positions are outside our model inputs, we ignore these terms\r\n",
        "            ignored_index = start_logits.size(1)\r\n",
        "            start_positions.clamp_(0, ignored_index)\r\n",
        "            end_positions.clamp_(0, ignored_index)\r\n",
        "\r\n",
        "            loss_fct = nn.CrossEntropyLoss(ignore_index=ignored_index)\r\n",
        "            start_loss = loss_fct(start_logits, start_positions)\r\n",
        "            end_loss = loss_fct(end_logits, end_positions)\r\n",
        "            total_loss = (start_loss + end_loss) / 2\r\n",
        "\r\n",
        "        if not return_dict:\r\n",
        "          output = (start_logits, end_logits) + distilbert_output[1:]\r\n",
        "          return ((total_loss,) + output) if total_loss is not None else output\r\n",
        " \r\n",
        "        return QuestionAnsweringModelOutput(\r\n",
        "            loss=total_loss,\r\n",
        "            start_logits=start_logits,\r\n",
        "            end_logits=end_logits,\r\n",
        "            hidden_states=distilbert_output.hidden_states,\r\n",
        "            attentions=distilbert_output.attentions\r\n",
        "        )"
      ],
      "execution_count": 22,
      "outputs": []
    },
    {
      "cell_type": "code",
      "metadata": {
        "id": "SVzYPE4Pd2tY",
        "colab": {
          "base_uri": "https://localhost:8080/",
          "height": 66,
          "referenced_widgets": [
            "6b13c379dd4044bfb9209e613ed0a3ad",
            "4c680b13296d42e89e2c5fd711e8f30b",
            "828f82d4e4554514877dcd6670911b60",
            "bf63ed934acf42a5a7dc3f2301f3f113",
            "0deb7f3d8b2e4db780c2399fb86bdc7f",
            "bcc80f2da7844377ae0a88f8a89d118a",
            "d7ad0f3cc551485b876948c85f421065",
            "34eb618a88e645b398f844d4c36bc0d1"
          ]
        },
        "outputId": "f690bcf4-9685-4301-96da-65a9cb93cbb7"
      },
      "source": [
        "from transformers import TrainingArguments, Trainer\r\n",
        "\r\n",
        "model = DistilBertForQuestionAnswering.from_pretrained(model_checkpoint)\r\n",
        "\r\n",
        "# Tell pytorch to run this model on the GPU.\r\n",
        "if torch.cuda.is_available():\r\n",
        "  model.cuda()"
      ],
      "execution_count": 23,
      "outputs": [
        {
          "output_type": "display_data",
          "data": {
            "application/vnd.jupyter.widget-view+json": {
              "model_id": "6b13c379dd4044bfb9209e613ed0a3ad",
              "version_minor": 0,
              "version_major": 2
            },
            "text/plain": [
              "HBox(children=(FloatProgress(value=0.0, description='Downloading', max=267141919.0, style=ProgressStyle(descri…"
            ]
          },
          "metadata": {
            "tags": []
          }
        },
        {
          "output_type": "stream",
          "text": [
            "\n"
          ],
          "name": "stdout"
        }
      ]
    },
    {
      "cell_type": "markdown",
      "metadata": {
        "id": "Q9XNUx65b9EK"
      },
      "source": [
        "Evaluating our model will require some work, as we will need to map the predictions of our model back to parts of the context. The model itself predicts logits for the start and end position of our answers. The output of the model is a dict-like object that contains the loss (since we provided labels), the start and end logits.\r\n",
        "\r\n",
        "We have one logit for each feature and each token. The most obvious thing to predict an answer for each feature is to take the index for the maximum of the start logits as a start position and the index of the maximum of the end logits as an end position.\r\n",
        "\r\n",
        "This will work great in a lot of cases, but what if this prediction gives us something impossible: the start position could be greater than the end position, or point to a span of text in the question instead of the answer. In that case, we might want to look at the second best prediction to see if it gives a possible answer and select that instead.\r\n",
        "\r\n",
        "However, picking the second best answer is not as easy as picking the best one: is it the second best index in the start logits with the best index in the end logits? Or the best index in the start logits with the second best index in the end logits? And if that second best answer is not possible either, it gets even trickier for the third best answer."
      ]
    },
    {
      "cell_type": "markdown",
      "metadata": {
        "id": "TgtKN3wsfeBU"
      },
      "source": [
        "To classify our answers, we will use the score obtained by adding the start and end logits. We won't try to order all the possible answers and limit ourselves to with a hyper-parameter we call `n_best_size`. We'll pick the best indices in the start and end logits and gather all the answers this predicts. After checking if each one is valid, we will sort them by their score and keep the best one.\r\n",
        "\r\n",
        "We also eliminate very long answers from our considerations (with an hyper-parameter we can tune).\r\n",
        "\r\n",
        "Since one example can give several features, we will need to gather together all the answers in all the features generated by a given example, then pick the best one. We need to build a map from example index to its corresponding features indices.\r\n",
        "\r\n",
        "\r\n",
        " All combined together, this gives us this `post-processing` function:"
      ]
    },
    {
      "cell_type": "code",
      "metadata": {
        "id": "2FlROrJIi9Th"
      },
      "source": [
        "import collections\r\n",
        "from tqdm import tqdm, tqdm_notebook\r\n",
        "\r\n",
        "def postprocess_qa_predictions(examples: datasets.arrow_dataset.Dataset,\r\n",
        "                               features: datasets.arrow_dataset.Dataset,\r\n",
        "                               raw_predictions: tuple,\r\n",
        "                               n_best_size: int = 20,\r\n",
        "                               max_answer_length: int = 50) -> collections.OrderedDict:\r\n",
        "    \"\"\"Function used to select the best answer from the raw predictions\r\n",
        "\r\n",
        "      Args:\r\n",
        "        examples: Squad samples\r\n",
        "        features: Squad features\r\n",
        "        raw_predictions: model predictions\r\n",
        "    \"\"\"\r\n",
        "    all_start_logits, all_end_logits = raw_predictions\r\n",
        "    # Build a map example to its corresponding features.\r\n",
        "    example_id_to_index = {k: i for i, k in enumerate(examples[\"id\"])}\r\n",
        "    features_per_example = collections.defaultdict(list)\r\n",
        "    for i, feature in enumerate(features):\r\n",
        "        features_per_example[example_id_to_index[feature[\"example_id\"]]].append(i)\r\n",
        "\r\n",
        "    # The dictionaries we have to fill.\r\n",
        "    predictions = collections.OrderedDict()\r\n",
        "\r\n",
        "    # Let's loop over all the examples!\r\n",
        "    for example_index, example in enumerate(tqdm(examples)):\r\n",
        "        # Those are the indices of the features associated to the current example.\r\n",
        "        feature_indices = features_per_example[example_index]\r\n",
        "        valid_answers = []\r\n",
        "        \r\n",
        "        context = example[\"context\"]\r\n",
        "        # Looping through all the features associated to the current example.\r\n",
        "        for feature_index in feature_indices:\r\n",
        "            # We grab the predictions of the model for this feature.\r\n",
        "            start_logits = all_start_logits[feature_index]\r\n",
        "            end_logits = all_end_logits[feature_index]\r\n",
        "            # This is what will allow us to map some the positions in our logits to span of texts in the original\r\n",
        "            # context.\r\n",
        "            offset_mapping = features[feature_index][\"offset_mapping\"]\r\n",
        "\r\n",
        "            # Update minimum null prediction.\r\n",
        "            cls_index = features[feature_index][\"input_ids\"].index(tokenizer.cls_token_id)\r\n",
        "            feature_null_score = start_logits[cls_index] + end_logits[cls_index]\r\n",
        "\r\n",
        "            # Go through all possibilities for the `n_best_size` greater start and end logits.\r\n",
        "            start_indexes = np.argsort(start_logits)[-1 : -n_best_size - 1 : -1].tolist()\r\n",
        "            end_indexes = np.argsort(end_logits)[-1 : -n_best_size - 1 : -1].tolist()\r\n",
        "            for start_index in start_indexes:\r\n",
        "                for end_index in end_indexes:\r\n",
        "                    # Don't consider out-of-scope answers, either because the indices are out of bounds or correspond\r\n",
        "                    # to part of the input_ids that are not in the context.\r\n",
        "                    if (\r\n",
        "                        start_index >= len(offset_mapping)\r\n",
        "                        or end_index >= len(offset_mapping)\r\n",
        "                        or offset_mapping[start_index] is None\r\n",
        "                        or offset_mapping[end_index] is None\r\n",
        "                    ):\r\n",
        "                        continue\r\n",
        "                    # Don't consider answers with a length that is either < 0 or > max_answer_length.\r\n",
        "                    if end_index < start_index or end_index - start_index + 1 > max_answer_length:\r\n",
        "                        continue\r\n",
        "\r\n",
        "                    start_char = offset_mapping[start_index][0]\r\n",
        "                    end_char = offset_mapping[end_index][1]\r\n",
        "                    valid_answers.append(\r\n",
        "                        {\r\n",
        "                            \"score\": start_logits[start_index] + end_logits[end_index],\r\n",
        "                            \"text\": context[start_char: end_char]\r\n",
        "                        }\r\n",
        "                    )\r\n",
        "        \r\n",
        "        if len(valid_answers) > 0:\r\n",
        "            best_answer = sorted(valid_answers, key=lambda x: x[\"score\"], reverse=True)[0]\r\n",
        "        else:\r\n",
        "            # In the very rare edge case we have not a single non-null prediction, we create a fake prediction to avoid\r\n",
        "            # failure.\r\n",
        "            best_answer = {\"text\": \"\", \"score\": 0.0}\r\n",
        "        \r\n",
        "        # Let's pick our final answer\r\n",
        "        predictions[example[\"id\"]] = best_answer[\"text\"]\r\n",
        "\r\n",
        "    return predictions"
      ],
      "execution_count": 24,
      "outputs": []
    },
    {
      "cell_type": "markdown",
      "metadata": {
        "id": "UIIlk6R3eC40"
      },
      "source": [
        "The only point left is how to check a given span is inside the context (and not the question) and how to get back the text inside. To do this, we need to add two things to our validation features:\r\n",
        "\r\n",
        "- the ID of the example that generated the feature (since each example can generate several features, as seen before);\r\n",
        "- the offset mapping that will give us a map from token indices to character positions in the context.\r\n"
      ]
    },
    {
      "cell_type": "code",
      "metadata": {
        "id": "LZoJcV9_hmqq"
      },
      "source": [
        "def prepare_validation_features(examples: collections.OrderedDict or dict) -> transformers.tokenization_utils_base.BatchEncoding:\r\n",
        "    \"\"\"To check a given span is inside the context (and not the question) and to get back the text inside.\r\n",
        "        To do this, we need to add two things to our validation features:\r\n",
        "        - the ID of the example that generated the feature (since each example can generate several features, as seen before);\r\n",
        "        - the offset mapping that will give us a map from token indices to character positions in the context.\r\n",
        "        That's why we will re-process the validation set with the following function, slightly different from `prepare_train_features`\r\n",
        "\r\n",
        "      Args:\r\n",
        "        examples: Squad samples\r\n",
        "    \"\"\"\r\n",
        "    # Tokenize our examples with truncation and maybe padding, but keep the overflows using a stride. This results\r\n",
        "    # in one example possible giving several features when a context is long, each of those features having a\r\n",
        "    # context that overlaps a bit the context of the previous feature.\r\n",
        "    tokenized_examples = tokenizer(\r\n",
        "        examples[\"question\" if pad_on_right else \"context\"],\r\n",
        "        examples[\"context\" if pad_on_right else \"question\"],\r\n",
        "        truncation=\"only_second\" if pad_on_right else \"only_first\",\r\n",
        "        max_length=max_length,\r\n",
        "        stride=doc_stride,\r\n",
        "        return_overflowing_tokens=True,\r\n",
        "        return_offsets_mapping=True,\r\n",
        "        padding=\"max_length\",\r\n",
        "    )\r\n",
        "\r\n",
        "    # Since one example might give us several features if it has a long context, we need a map from a feature to\r\n",
        "    # its corresponding example. This key gives us just that.\r\n",
        "    sample_mapping = tokenized_examples.pop(\"overflow_to_sample_mapping\")\r\n",
        "\r\n",
        "    # The offset mappings will give us a map from token to character position in the original context. This will\r\n",
        "    # help us compute the start_positions and end_positions.\r\n",
        "    offset_mapping = tokenized_examples[\"offset_mapping\"]\r\n",
        "\r\n",
        "    # Let's label those examples!\r\n",
        "    tokenized_examples[\"start_positions\"] = []\r\n",
        "    tokenized_examples[\"end_positions\"] = []\r\n",
        "\r\n",
        "    for i, offsets in enumerate(offset_mapping):\r\n",
        "      # CLS index\r\n",
        "      input_ids = tokenized_examples[\"input_ids\"][i]\r\n",
        "      cls_index = input_ids.index(tokenizer.cls_token_id)\r\n",
        "\r\n",
        "      # Grab the sequence corresponding to that example (to know what is the context and what is the question).\r\n",
        "      sequence_ids = tokenized_examples.sequence_ids(i)\r\n",
        "\r\n",
        "      # One example can give several spans, this is the index of the example containing this span of text.\r\n",
        "      sample_index = sample_mapping[i]\r\n",
        "      answers = examples[\"answers\"][sample_index]\r\n",
        "\r\n",
        "      # Start/end character index of the answer in the text.\r\n",
        "      start_char = answers[\"answer_start\"][0]\r\n",
        "      end_char = start_char + len(answers[\"text\"][0])\r\n",
        "\r\n",
        "      # Start token index of the current span in the text.\r\n",
        "      token_start_index = 0\r\n",
        "      while sequence_ids[token_start_index] != (1 if pad_on_right else 0):\r\n",
        "          token_start_index += 1\r\n",
        "\r\n",
        "      # End token index of the current span in the text.\r\n",
        "      token_end_index = len(input_ids) - 1\r\n",
        "      while sequence_ids[token_end_index] != (1 if pad_on_right else 0):\r\n",
        "          token_end_index -= 1\r\n",
        "\r\n",
        "      # Detect if the answer is out of the span (in which case this feature is labeled with the CLS index).\r\n",
        "      if not (offsets[token_start_index][0] <= start_char and offsets[token_end_index][1] >= end_char):\r\n",
        "          tokenized_examples[\"start_positions\"].append(cls_index)\r\n",
        "          tokenized_examples[\"end_positions\"].append(cls_index)\r\n",
        "      else:\r\n",
        "          # Otherwise move the token_start_index and token_end_index to the two ends of the answer.\r\n",
        "          # Note: we could go after the last offset if the answer is the last word (edge case).\r\n",
        "          while token_start_index < len(offsets) and offsets[token_start_index][0] <= start_char:\r\n",
        "              token_start_index += 1\r\n",
        "          tokenized_examples[\"start_positions\"].append(token_start_index - 1)\r\n",
        "          while offsets[token_end_index][1] >= end_char:\r\n",
        "              token_end_index -= 1\r\n",
        "          tokenized_examples[\"end_positions\"].append(token_end_index + 1)\r\n",
        "\r\n",
        "    # We keep the example_id that gave us this feature and we will store the offset mappings.\r\n",
        "    tokenized_examples[\"example_id\"] = []\r\n",
        "\r\n",
        "    for i in range(len(tokenized_examples[\"input_ids\"])):\r\n",
        "        # Grab the sequence corresponding to that example (to know what is the context and what is the question).\r\n",
        "        sequence_ids = tokenized_examples.sequence_ids(i)\r\n",
        "        context_index = 1 if pad_on_right else 0\r\n",
        "\r\n",
        "        # One example can give several spans, this is the index of the example containing this span of text.\r\n",
        "        sample_index = sample_mapping[i]\r\n",
        "        tokenized_examples[\"example_id\"].append(examples[\"id\"][sample_index])\r\n",
        "\r\n",
        "        # Set to None the offset_mapping that are not part of the context so it's easy to determine if a token\r\n",
        "        # position is part of the context or not.\r\n",
        "        tokenized_examples[\"offset_mapping\"][i] = [\r\n",
        "            (o if sequence_ids[k] == context_index else None)\r\n",
        "            for k, o in enumerate(tokenized_examples[\"offset_mapping\"][i])\r\n",
        "        ]\r\n",
        "\r\n",
        "    return tokenized_examples"
      ],
      "execution_count": 25,
      "outputs": []
    },
    {
      "cell_type": "code",
      "metadata": {
        "id": "WhidQb3ljW6n",
        "colab": {
          "base_uri": "https://localhost:8080/",
          "height": 66,
          "referenced_widgets": [
            "2c05a5babe8b41529914a18c0afbb6e8",
            "604731180a304bc9b831cfb5df93dfe1",
            "fa02982d446a4bba8cf10527d84f94a9",
            "9efd20f0ad3a40ef8b7f82d38c335843",
            "560169a28d1e4c9ebefb51b06c15ac3d",
            "6defdb754a2e417c946b3ea4747e039b",
            "8cd58859e01f4295b3de614200ab4fc2",
            "8e6a9c5badca4d29a38b10fad04f9a2d"
          ]
        },
        "outputId": "baa69835-1aa1-4f39-89c8-7c2ddbac2dd8"
      },
      "source": [
        "test_features = test_data['train'].map(prepare_validation_features, batched=True, remove_columns=test_data['train'].column_names)"
      ],
      "execution_count": 26,
      "outputs": [
        {
          "output_type": "display_data",
          "data": {
            "application/vnd.jupyter.widget-view+json": {
              "model_id": "2c05a5babe8b41529914a18c0afbb6e8",
              "version_minor": 0,
              "version_major": 2
            },
            "text/plain": [
              "HBox(children=(FloatProgress(value=0.0, max=88.0), HTML(value='')))"
            ]
          },
          "metadata": {
            "tags": []
          }
        },
        {
          "output_type": "stream",
          "text": [
            "\n"
          ],
          "name": "stdout"
        }
      ]
    },
    {
      "cell_type": "markdown",
      "metadata": {
        "id": "GYjOLpYMtmXe"
      },
      "source": [
        "We instantiate a `Trainer`, that will be used to get the predictions.\r\n",
        "Note: This is not necessary, but using the Trainer instead of directly the model to get the predictions simplify this operation."
      ]
    },
    {
      "cell_type": "code",
      "metadata": {
        "id": "K82JqsZ3thEC"
      },
      "source": [
        "args = TrainingArguments(\r\n",
        "    output_dir='./results',\r\n",
        "    label_names=[\"start_positions\", \"end_positions\"]\r\n",
        ")\r\n",
        "trainer = Trainer(model, args)"
      ],
      "execution_count": 27,
      "outputs": []
    },
    {
      "cell_type": "code",
      "metadata": {
        "colab": {
          "base_uri": "https://localhost:8080/",
          "height": 37
        },
        "id": "I0G-l4GLufC9",
        "outputId": "f2a044cd-9b15-4c58-e61f-ccf0f53b0833"
      },
      "source": [
        "# Get final predictions\r\n",
        "with torch.no_grad():\r\n",
        "    pred = trainer.predict(test_features)"
      ],
      "execution_count": 28,
      "outputs": [
        {
          "output_type": "display_data",
          "data": {
            "text/html": [
              "\n",
              "    <div>\n",
              "        <style>\n",
              "            /* Turns off some styling */\n",
              "            progress {\n",
              "                /* gets rid of default border in Firefox and Opera. */\n",
              "                border: none;\n",
              "                /* Needs to be in here for Safari polyfill so background images work as expected. */\n",
              "                background-size: auto;\n",
              "            }\n",
              "        </style>\n",
              "      \n",
              "      <progress value='11066' max='11066' style='width:300px; height:20px; vertical-align: middle;'></progress>\n",
              "      [11066/11066 19:56]\n",
              "    </div>\n",
              "    "
            ],
            "text/plain": [
              "<IPython.core.display.HTML object>"
            ]
          },
          "metadata": {
            "tags": []
          }
        }
      ]
    },
    {
      "cell_type": "code",
      "metadata": {
        "id": "76GsMSs7upgs",
        "colab": {
          "base_uri": "https://localhost:8080/"
        },
        "outputId": "b285b8c2-f8aa-485c-c28a-1e148c38119c"
      },
      "source": [
        "# The Trainer hides the columns that are not used by the model (here example_id and offset_mapping which we will need for our post-processing), so we set them back\r\n",
        "test_features.set_format(type=test_features.format[\"type\"],\r\n",
        "                          columns=list(test_features.features.keys()))\r\n",
        "\r\n",
        "# To get the final predictions we can apply our post-processing function to our raw predictions\r\n",
        "final_predictions = dict(postprocess_qa_predictions(test_data['train'], test_features, pred.predictions))"
      ],
      "execution_count": 29,
      "outputs": [
        {
          "output_type": "stream",
          "text": [
            "100%|██████████| 87599/87599 [02:53<00:00, 506.26it/s]\n"
          ],
          "name": "stderr"
        }
      ]
    },
    {
      "cell_type": "code",
      "metadata": {
        "id": "AHiYByi-uv54"
      },
      "source": [
        "# Create a new file and save the predictions\r\n",
        "with open(data_path + \"predictions.txt\", 'w') as file:\r\n",
        "    file.write(json.dumps(final_predictions))\r\n",
        "    file.close()"
      ],
      "execution_count": 30,
      "outputs": []
    },
    {
      "cell_type": "markdown",
      "metadata": {
        "id": "cGJyJxn1Ujhc"
      },
      "source": [
        "# Inference"
      ]
    },
    {
      "cell_type": "code",
      "metadata": {
        "id": "sxsWHv8I5HgR",
        "colab": {
          "base_uri": "https://localhost:8080/",
          "height": 114,
          "referenced_widgets": [
            "8a5537d307c7493988091cbac80fa4d7",
            "6cd13ae0587d4ab6b47df0425b8f1309",
            "91b066b9686b40d1b575941fd1f5a0dc",
            "2d7cca5ac479431092e70a885e376e09",
            "a2a285eea0e949ae90de9a24cd45a263",
            "c0eb519cb8ac48768f506b308e35d9cb",
            "5bbafb9513e441eca709948efe2435db",
            "7df3b0ee22bd429cacbb31f5c511fd64",
            "a3d01f70f66542ea82b347e81a4d734f",
            "866fa9d74ace43768b065e83682d2de0",
            "9c0d180b66894dacaa3f83e4a7960e72",
            "8df93709adfd4b83af64002ed26ba217",
            "cd72f52fb1ca4b8ab420003ffcb22b4f",
            "477e980b058a4fcc878f74c51e2ba211",
            "a30c8bf9726e4777acbb8bc888295fce",
            "24d354e6342048c19de28ffce7841625"
          ]
        },
        "outputId": "551fc6d0-0796-4217-8a32-63665669fc21"
      },
      "source": [
        "formatted_predictions = {k : v for k, v in final_predictions.items()}\r\n",
        "metric = datasets.load_metric(\"squad\")"
      ],
      "execution_count": 31,
      "outputs": [
        {
          "output_type": "display_data",
          "data": {
            "application/vnd.jupyter.widget-view+json": {
              "model_id": "8a5537d307c7493988091cbac80fa4d7",
              "version_minor": 0,
              "version_major": 2
            },
            "text/plain": [
              "HBox(children=(FloatProgress(value=0.0, description='Downloading', max=1726.0, style=ProgressStyle(description…"
            ]
          },
          "metadata": {
            "tags": []
          }
        },
        {
          "output_type": "stream",
          "text": [
            "\n"
          ],
          "name": "stdout"
        },
        {
          "output_type": "display_data",
          "data": {
            "application/vnd.jupyter.widget-view+json": {
              "model_id": "a3d01f70f66542ea82b347e81a4d734f",
              "version_minor": 0,
              "version_major": 2
            },
            "text/plain": [
              "HBox(children=(FloatProgress(value=0.0, description='Downloading', max=1132.0, style=ProgressStyle(description…"
            ]
          },
          "metadata": {
            "tags": []
          }
        },
        {
          "output_type": "stream",
          "text": [
            "\n"
          ],
          "name": "stdout"
        }
      ]
    },
    {
      "cell_type": "code",
      "metadata": {
        "id": "hHgwYht3Ujhg",
        "colab": {
          "base_uri": "https://localhost:8080/"
        },
        "outputId": "26bc3899-95eb-4bfd-9e66-4a7097ff979e"
      },
      "source": [
        "#@title Show Results { run: \"auto\", display-mode: \"form\" }\r\n",
        "\r\n",
        "def print_squad_sample(df: pd.core.frame.DataFrame, formatted_predictions: dict, line_length: int=20, separator_length: int=120) -> None:\r\n",
        "  sample = df.iloc[random.randint(0,df.shape[0])]\r\n",
        "  title = sample.title.replace('_', ' ')\r\n",
        "  print('TITLE: ')\r\n",
        "  print(title)\r\n",
        "  print('='*separator_length)\r\n",
        "  context = sample.context.split()\r\n",
        "  print('CONTEXT: ')\r\n",
        "  lines = [' '.join(context[idx:idx+line_length]) for idx in range(0, len(context), line_length)]\r\n",
        "  for l in lines:\r\n",
        "      print(l)\r\n",
        "  print('='*separator_length)\r\n",
        "  questions = df[df.context.values==sample.context]\r\n",
        "\r\n",
        "  max_len_question = len(max(questions.question, key=len)) + 5\r\n",
        "  max_len_answer = len(max(questions.answers, key=len)) - 30\r\n",
        "\r\n",
        "  print(\"{: <{max_len_question}} {: <{max_len_answer}} {: <{max_len_answer}} {}\".format('QUESTION:','ANSWER:', \"PREDICTION:\", \"EM?\", max_len_question=max_len_question, max_len_answer= max_len_answer))\r\n",
        "  for idx, row in questions.iterrows():\r\n",
        "    question = row.question\r\n",
        "    answer = row.answers.split(\"'text': \")[1][2:-3]\r\n",
        "    predicted = formatted_predictions[row.id]\r\n",
        "    correct = \"✔\" if predicted == answer else \"✘\"\r\n",
        "    print(\"{: <{max_len_question}} {: <{max_len_answer}} {: <{max_len_answer}} {}\".format(question,answer,predicted,correct, max_len_question=max_len_question, max_len_answer = max_len_answer))\r\n",
        "\r\n",
        "df = pd.read_csv(data_path+\"test.csv\")\r\n",
        "print_squad_sample(df, formatted_predictions)\r\n"
      ],
      "execution_count": 32,
      "outputs": [
        {
          "output_type": "stream",
          "text": [
            "TITLE: \n",
            "Religion in ancient Rome\n",
            "========================================================================================================================\n",
            "CONTEXT: \n",
            "The meaning and origin of many archaic festivals baffled even Rome's intellectual elite, but the more obscure they were, the\n",
            "greater the opportunity for reinvention and reinterpretation — a fact lost neither on Augustus in his program of religious reform,\n",
            "which often cloaked autocratic innovation, nor on his only rival as mythmaker of the era, Ovid. In his Fasti, a\n",
            "long-form poem covering Roman holidays from January to June, Ovid presents a unique look at Roman antiquarian lore, popular customs,\n",
            "and religious practice that is by turns imaginative, entertaining, high-minded, and scurrilous; not a priestly account, despite the speaker's pose\n",
            "as a vates or inspired poet-prophet, but a work of description, imagination and poetic etymology that reflects the broad humor\n",
            "and burlesque spirit of such venerable festivals as the Saturnalia, Consualia, and feast of Anna Perenna on the Ides of\n",
            "March, where Ovid treats the assassination of the newly deified Julius Caesar as utterly incidental to the festivities among the\n",
            "Roman people. But official calendars preserved from different times and places also show a flexibility in omitting or expanding events,\n",
            "indicating that there was no single static and authoritative calendar of required observances. In the later Empire under Christian rule,\n",
            "the new Christian festivals were incorporated into the existing framework of the Roman calendar, alongside at least some of the\n",
            "traditional festivals.\n",
            "========================================================================================================================\n",
            "QUESTION:                                                                            ANSWER:                        PREDICTION:                    EM?\n",
            "What did obscure festivals offer Romans the opportunity to do?                       reinterpretation               reinvention and reinterpretation ✘\n",
            "What did Augustus wish to do for Roman religion?                                     reform                         religious reform               ✘\n",
            "What poet wrote a long poem describing Roman religious holidays?                     Ovid                           Ovid                           ✔\n",
            "What was lacking in the presentation of religious events in Rome?                    authoritative calendar         static and authoritative calendar of required observances ✘\n",
            "Under whose rule were new Christian festivals added to previous Roman holidays?      Christian                      Ovid                           ✘\n"
          ],
          "name": "stdout"
        }
      ]
    },
    {
      "cell_type": "code",
      "metadata": {
        "id": "6qsmnexZK6kJ"
      },
      "source": [
        "test_dataframe['prediction_text'] = formatted_predictions.values()"
      ],
      "execution_count": 33,
      "outputs": []
    },
    {
      "cell_type": "code",
      "metadata": {
        "id": "Q27VgmPqLrLM"
      },
      "source": [
        "def get_answer_text(answer: str) -> str:\r\n",
        "    \"\"\"Extract only the text from an answer\r\n",
        "\r\n",
        "    Args:\r\n",
        "        answer: the answer.\r\n",
        "    \"\"\"\r\n",
        "    return answer.split(\"'text': \")[1][2:-3]\r\n",
        "\r\n",
        "test_dataframe['answers_text'] = test_dataframe['answers'].apply(get_answer_text)"
      ],
      "execution_count": 35,
      "outputs": []
    },
    {
      "cell_type": "code",
      "metadata": {
        "id": "iC9YdVSiSsIb"
      },
      "source": [
        "def string_to_dict(answer: dict) -> dict:\r\n",
        "    \"\"\"Convert the answers form string to dict.\r\n",
        "       This is needed because when you load the data from the csv file\r\n",
        "       the type of the 'answers' column is string but we want a dict\r\n",
        "\r\n",
        "     Args:\r\n",
        "         answer: a squad answers feature.\r\n",
        "     \"\"\"\r\n",
        "    answer = ast.literal_eval(answer)\r\n",
        "    return answer\r\n",
        "\r\n",
        "test_dataframe['answers'] = test_dataframe['answers'].apply(string_to_dict)"
      ],
      "execution_count": null,
      "outputs": []
    },
    {
      "cell_type": "code",
      "metadata": {
        "id": "6k5J_k5TO8eJ"
      },
      "source": [
        "# Function to get the questions' head\r\n",
        "def get_5w(question: str) -> str:\r\n",
        "    \"\"\"Extract only the \"head\" froma a question\r\n",
        "\r\n",
        "    Args:\r\n",
        "        question: the question.\r\n",
        "    \"\"\"\r\n",
        "    return question.split()[0].strip().lower()\r\n",
        "test_dataframe['question'] = test_dataframe['question'].apply(get_5w)"
      ],
      "execution_count": 43,
      "outputs": []
    },
    {
      "cell_type": "code",
      "metadata": {
        "id": "x8zEnUQKUQvu",
        "colab": {
          "base_uri": "https://localhost:8080/"
        },
        "outputId": "dfd9d9d7-ed03-42f7-862a-0b18de1bfd99"
      },
      "source": [
        "total = test_dataframe.shape[0]\r\n",
        "top_qheads = test_dataframe['question'].value_counts().sort_values(ascending=False)[0:25]\r\n",
        "qheads = list(top_qheads.index)\r\n",
        "count = top_qheads.to_list()\r\n",
        "\r\n",
        "print(\"Label\\t\\tCount\\t\\tPercentage\\n\")\r\n",
        "for i, j in enumerate(top_qheads):\r\n",
        "  print(\"{: <15} {: <15} {:.1f}%\".format(qheads[i],j,j/total*100))"
      ],
      "execution_count": 44,
      "outputs": [
        {
          "output_type": "stream",
          "text": [
            "Label\t\tCount\t\tPercentage\n",
            "\n",
            "what            37593           42.9%\n",
            "who             8150            9.3%\n",
            "how             8124            9.3%\n",
            "when            5459            6.2%\n",
            "in              4352            5.0%\n",
            "which           4159            4.7%\n",
            "where           3291            3.8%\n",
            "the             2318            2.6%\n",
            "why             1201            1.4%\n",
            "on              590             0.7%\n",
            "along           579             0.7%\n",
            "during          443             0.5%\n",
            "at              345             0.4%\n",
            "a               318             0.4%\n",
            "for             303             0.3%\n",
            "to              291             0.3%\n",
            "according       291             0.3%\n",
            "from            282             0.3%\n",
            "by              258             0.3%\n",
            "after           250             0.3%\n",
            "whose           203             0.2%\n",
            "what's          200             0.2%\n",
            "is              192             0.2%\n",
            "if              177             0.2%\n",
            "with            175             0.2%\n"
          ],
          "name": "stdout"
        }
      ]
    },
    {
      "cell_type": "code",
      "metadata": {
        "id": "o0xhPDgvXZwB",
        "colab": {
          "base_uri": "https://localhost:8080/"
        },
        "outputId": "454bbef5-e3da-4204-a361-8b5c48de74b9"
      },
      "source": [
        "#@title Show Statistics { run: \"auto\", display-mode: \"form\" }\r\n",
        "\r\n",
        "question_head = 'what' #@param ['what', 'how', 'who', 'when', 'which', 'in', 'where', 'why', 'the', 'during', 'along', 'on', 'at', 'to', 'from', 'for', 'a', 'by', 'whose', 'is', 'according', 'after', 'if', 'name', 'as']\r\n",
        "temp = test_dataframe[test_dataframe['question'].isin([question_head])]\r\n",
        "final_predictions = temp[['id','prediction_text']].to_dict('records')\r\n",
        "references = temp[['answers','id']].to_dict('records')\r\n",
        "metrics = metric.compute(predictions=final_predictions, references=references)\r\n",
        "print(metrics)"
      ],
      "execution_count": 45,
      "outputs": [
        {
          "output_type": "stream",
          "text": [
            "{'exact_match': 79.04663102173276, 'f1': 88.90133970763864}\n"
          ],
          "name": "stdout"
        }
      ]
    },
    {
      "cell_type": "code",
      "metadata": {
        "id": "B9P3RPAQbUfe"
      },
      "source": [
        "f1_list = []\r\n",
        "em_list = []\r\n",
        "\r\n",
        "for q in qheads:\r\n",
        "  temp = test_dataframe[test_dataframe['question'].isin([q])]\r\n",
        "  final_predictions = temp[['id','prediction_text']].to_dict('records')\r\n",
        "  references = temp[['answers','id']].to_dict('records')\r\n",
        "  metrics = metric.compute(predictions=final_predictions, references=references)\r\n",
        "  em_list.append(metrics['exact_match'])\r\n",
        "  f1_list.append(metrics['f1'])"
      ],
      "execution_count": 46,
      "outputs": []
    },
    {
      "cell_type": "code",
      "metadata": {
        "id": "gFsPAP-XcgSP",
        "colab": {
          "base_uri": "https://localhost:8080/",
          "height": 335
        },
        "outputId": "8dc8647f-c3e4-4b09-af10-dcfb8b3e06d5"
      },
      "source": [
        "import matplotlib.pyplot as plt\r\n",
        "\r\n",
        "x1 = count\r\n",
        "y1 = em_list\r\n",
        "\r\n",
        "plt.figure(figsize=(9,5))\r\n",
        "\r\n",
        "plt.scatter(x1, y1, label = \"line 1\")\r\n",
        "plt.xlabel('Occurrences')\r\n",
        "plt.ylabel('Exact match')\r\n",
        "\r\n",
        "for i, q in enumerate(qheads):\r\n",
        "    plt.annotate(q, (count[i], em_list[i]),  (count[i], em_list[i] + 1))\r\n",
        "\r\n",
        "# Display a figure.\r\n",
        "plt.show()"
      ],
      "execution_count": 47,
      "outputs": [
        {
          "output_type": "display_data",
          "data": {
            "image/png": "[encoded data removed]",
            "text/plain": [
              "<Figure size 648x360 with 1 Axes>"
            ]
          },
          "metadata": {
            "tags": [],
            "needs_background": "light"
          }
        }
      ]
    },
    {
      "cell_type": "code",
      "metadata": {
        "id": "bEEelg3leqQz",
        "colab": {
          "base_uri": "https://localhost:8080/",
          "height": 341
        },
        "outputId": "fa3e0410-6bd9-4f9d-f46a-50a74ec8a295"
      },
      "source": [
        "x1 = count\r\n",
        "y1 = f1_list\r\n",
        "\r\n",
        "plt.figure(figsize=(9,5))\r\n",
        "\r\n",
        "plt.scatter(x1, y1, label = \"line 1\")\r\n",
        "plt.xlabel('Occurrences')\r\n",
        "plt.ylabel('F1 Score')\r\n",
        "\r\n",
        "for i, q in enumerate(qheads):\r\n",
        "    plt.annotate(q, (count[i], f1_list[i]),  (count[i], f1_list[i] + 1))\r\n",
        "\r\n",
        "# Display a figure.\r\n",
        "plt.show()"
      ],
      "execution_count": 48,
      "outputs": [
        {
          "output_type": "display_data",
          "data": {
            "image/png": "[encoded data removed]",
            "text/plain": [
              "<Figure size 648x360 with 1 Axes>"
            ]
          },
          "metadata": {
            "tags": [],
            "needs_background": "light"
          }
        }
      ]
    },
    {
      "cell_type": "code",
      "metadata": {
        "id": "vDmWsz7rARWv",
        "colab": {
          "base_uri": "https://localhost:8080/",
          "height": 942
        },
        "outputId": "2bbc8c63-c1bd-4d41-ebe1-00b06cf76571"
      },
      "source": [
        "def get_char_diff(row: pd.core.series.Series) -> int:\r\n",
        "    \"\"\"Compute the difference, in terms of the number of different charecters\r\n",
        "       between the real answer and the predicted one\r\n",
        "    \"\"\"\r\n",
        "    return sum(1 for a, b in zip(row.answers_text, row.prediction_text) if a != b) + abs(len(row.answers_text) - len(row.prediction_text))\r\n",
        "  \r\n",
        "test_dataframe['difference'] = test_dataframe.apply(get_char_diff, axis=1)\r\n",
        "test_dataframe"
      ],
      "execution_count": 50,
      "outputs": [
        {
          "output_type": "execute_result",
          "data": {
            "text/html": [
              "<div>\n",
              "<style scoped>\n",
              "    .dataframe tbody tr th:only-of-type {\n",
              "        vertical-align: middle;\n",
              "    }\n",
              "\n",
              "    .dataframe tbody tr th {\n",
              "        vertical-align: top;\n",
              "    }\n",
              "\n",
              "    .dataframe thead th {\n",
              "        text-align: right;\n",
              "    }\n",
              "</style>\n",
              "<table border=\"1\" class=\"dataframe\">\n",
              "  <thead>\n",
              "    <tr style=\"text-align: right;\">\n",
              "      <th></th>\n",
              "      <th>Unnamed: 0</th>\n",
              "      <th>title</th>\n",
              "      <th>context</th>\n",
              "      <th>question</th>\n",
              "      <th>id</th>\n",
              "      <th>answers</th>\n",
              "      <th>prediction_text</th>\n",
              "      <th>answers_text</th>\n",
              "      <th>difference</th>\n",
              "    </tr>\n",
              "  </thead>\n",
              "  <tbody>\n",
              "    <tr>\n",
              "      <th>0</th>\n",
              "      <td>0</td>\n",
              "      <td>University_of_Notre_Dame</td>\n",
              "      <td>Architecturally, the school has a Catholic cha...</td>\n",
              "      <td>to</td>\n",
              "      <td>5733be284776f41900661182</td>\n",
              "      <td>{'answer_start': [515], 'text': ['Saint Bernad...</td>\n",
              "      <td>Saint Bernadette Soubirous</td>\n",
              "      <td>Saint Bernadette Soubirous</td>\n",
              "      <td>0</td>\n",
              "    </tr>\n",
              "    <tr>\n",
              "      <th>1</th>\n",
              "      <td>1</td>\n",
              "      <td>University_of_Notre_Dame</td>\n",
              "      <td>Architecturally, the school has a Catholic cha...</td>\n",
              "      <td>what</td>\n",
              "      <td>5733be284776f4190066117f</td>\n",
              "      <td>{'answer_start': [188], 'text': ['a copper sta...</td>\n",
              "      <td>a copper statue of Christ</td>\n",
              "      <td>a copper statue of Christ</td>\n",
              "      <td>0</td>\n",
              "    </tr>\n",
              "    <tr>\n",
              "      <th>2</th>\n",
              "      <td>2</td>\n",
              "      <td>University_of_Notre_Dame</td>\n",
              "      <td>Architecturally, the school has a Catholic cha...</td>\n",
              "      <td>the</td>\n",
              "      <td>5733be284776f41900661180</td>\n",
              "      <td>{'answer_start': [279], 'text': ['the Main Bui...</td>\n",
              "      <td>the Main Building</td>\n",
              "      <td>the Main Building</td>\n",
              "      <td>0</td>\n",
              "    </tr>\n",
              "    <tr>\n",
              "      <th>3</th>\n",
              "      <td>3</td>\n",
              "      <td>University_of_Notre_Dame</td>\n",
              "      <td>Architecturally, the school has a Catholic cha...</td>\n",
              "      <td>what</td>\n",
              "      <td>5733be284776f41900661181</td>\n",
              "      <td>{'answer_start': [381], 'text': ['a Marian pla...</td>\n",
              "      <td>a Marian place of prayer and reflection</td>\n",
              "      <td>a Marian place of prayer and reflection</td>\n",
              "      <td>0</td>\n",
              "    </tr>\n",
              "    <tr>\n",
              "      <th>4</th>\n",
              "      <td>4</td>\n",
              "      <td>University_of_Notre_Dame</td>\n",
              "      <td>Architecturally, the school has a Catholic cha...</td>\n",
              "      <td>what</td>\n",
              "      <td>5733be284776f4190066117e</td>\n",
              "      <td>{'answer_start': [92], 'text': ['a golden stat...</td>\n",
              "      <td>a golden statue of the Virgin Mary</td>\n",
              "      <td>a golden statue of the Virgin Mary</td>\n",
              "      <td>0</td>\n",
              "    </tr>\n",
              "    <tr>\n",
              "      <th>...</th>\n",
              "      <td>...</td>\n",
              "      <td>...</td>\n",
              "      <td>...</td>\n",
              "      <td>...</td>\n",
              "      <td>...</td>\n",
              "      <td>...</td>\n",
              "      <td>...</td>\n",
              "      <td>...</td>\n",
              "      <td>...</td>\n",
              "    </tr>\n",
              "    <tr>\n",
              "      <th>87594</th>\n",
              "      <td>87594</td>\n",
              "      <td>Kathmandu</td>\n",
              "      <td>Kathmandu Metropolitan City (KMC), in order to...</td>\n",
              "      <td>in</td>\n",
              "      <td>5735d259012e2f140011a09d</td>\n",
              "      <td>{'answer_start': [229], 'text': ['Oregon']}</td>\n",
              "      <td>Oregon</td>\n",
              "      <td>Oregon</td>\n",
              "      <td>0</td>\n",
              "    </tr>\n",
              "    <tr>\n",
              "      <th>87595</th>\n",
              "      <td>87595</td>\n",
              "      <td>Kathmandu</td>\n",
              "      <td>Kathmandu Metropolitan City (KMC), in order to...</td>\n",
              "      <td>what</td>\n",
              "      <td>5735d259012e2f140011a09e</td>\n",
              "      <td>{'answer_start': [414], 'text': ['Rangoon']}</td>\n",
              "      <td>Rangoon</td>\n",
              "      <td>Rangoon</td>\n",
              "      <td>0</td>\n",
              "    </tr>\n",
              "    <tr>\n",
              "      <th>87596</th>\n",
              "      <td>87596</td>\n",
              "      <td>Kathmandu</td>\n",
              "      <td>Kathmandu Metropolitan City (KMC), in order to...</td>\n",
              "      <td>with</td>\n",
              "      <td>5735d259012e2f140011a09f</td>\n",
              "      <td>{'answer_start': [476], 'text': ['Minsk']}</td>\n",
              "      <td>Eugene</td>\n",
              "      <td>Minsk</td>\n",
              "      <td>6</td>\n",
              "    </tr>\n",
              "    <tr>\n",
              "      <th>87597</th>\n",
              "      <td>87597</td>\n",
              "      <td>Kathmandu</td>\n",
              "      <td>Kathmandu Metropolitan City (KMC), in order to...</td>\n",
              "      <td>in</td>\n",
              "      <td>5735d259012e2f140011a0a0</td>\n",
              "      <td>{'answer_start': [199], 'text': ['1975']}</td>\n",
              "      <td>1975</td>\n",
              "      <td>1975</td>\n",
              "      <td>0</td>\n",
              "    </tr>\n",
              "    <tr>\n",
              "      <th>87598</th>\n",
              "      <td>87598</td>\n",
              "      <td>Kathmandu</td>\n",
              "      <td>Kathmandu Metropolitan City (KMC), in order to...</td>\n",
              "      <td>what</td>\n",
              "      <td>5735d259012e2f140011a0a1</td>\n",
              "      <td>{'answer_start': [0], 'text': ['Kathmandu Metr...</td>\n",
              "      <td>Kathmandu Metropolitan City</td>\n",
              "      <td>Kathmandu Metropolitan City</td>\n",
              "      <td>0</td>\n",
              "    </tr>\n",
              "  </tbody>\n",
              "</table>\n",
              "<p>87599 rows × 9 columns</p>\n",
              "</div>"
            ],
            "text/plain": [
              "       Unnamed: 0  ... difference\n",
              "0               0  ...          0\n",
              "1               1  ...          0\n",
              "2               2  ...          0\n",
              "3               3  ...          0\n",
              "4               4  ...          0\n",
              "...           ...  ...        ...\n",
              "87594       87594  ...          0\n",
              "87595       87595  ...          0\n",
              "87596       87596  ...          6\n",
              "87597       87597  ...          0\n",
              "87598       87598  ...          0\n",
              "\n",
              "[87599 rows x 9 columns]"
            ]
          },
          "metadata": {
            "tags": []
          },
          "execution_count": 50
        }
      ]
    },
    {
      "cell_type": "code",
      "metadata": {
        "id": "T--sjiI0DvLb"
      },
      "source": [
        "figsize = (10,6)\r\n",
        "test_dataframe['difference'].plot.hist(title=\"Number of different characthers\", bins= 50, figsize=figsize, grid=True)"
      ],
      "execution_count": null,
      "outputs": []
    },
    {
      "cell_type": "code",
      "metadata": {
        "id": "i36DRBNh3mTw"
      },
      "source": [
        "total = test_dataframe['difference'][test_dataframe['difference'] != 0].shape[0]\r\n",
        "sorted_series = test_dataframe['difference'][test_dataframe['difference'] != 0].value_counts().sort_values(ascending=False)[0:25]\r\n",
        "numbers = list(sorted_series.index)\r\n",
        "\r\n",
        "print(\"# Diff.Chars\\tCount\\t\\tPercentage\\n\")\r\n",
        "for i, j in enumerate(sorted_series):\r\n",
        "  print(\"{: <15} {: <15} {:.1f}%\".format(numbers[i],j,j/total*100))"
      ],
      "execution_count": null,
      "outputs": []
    },
    {
      "cell_type": "code",
      "metadata": {
        "id": "DoHxa6w1dHGG"
      },
      "source": [
        "# This function instead of returning the best prediction, returns the best 5 predictions\r\n",
        "\r\n",
        "def postprocess_qa_5predictions(examples: datasets.arrow_dataset.Dataset,\r\n",
        "                               features: datasets.arrow_dataset.Dataset,\r\n",
        "                               raw_predictions: tuple,\r\n",
        "                               n_best_size: int = 20,\r\n",
        "                               max_answer_length: int = 50) -> collections.OrderedDict:\r\n",
        "    \"\"\"Function used to select the 5 top answers from the raw predictions\r\n",
        "\r\n",
        "      Args:\r\n",
        "        examples: Squad samples\r\n",
        "        features: Squad features\r\n",
        "        raw_predictions: model predictions\r\n",
        "    \"\"\"\r\n",
        "    all_start_logits, all_end_logits = raw_predictions\r\n",
        "    # Build a map example to its corresponding features.\r\n",
        "    example_id_to_index = {k: i for i, k in enumerate(examples[\"id\"])}\r\n",
        "    features_per_example = collections.defaultdict(list)\r\n",
        "    for i, feature in enumerate(features):\r\n",
        "        features_per_example[example_id_to_index[feature[\"example_id\"]]].append(i)\r\n",
        "\r\n",
        "    # The dictionaries we have to fill.\r\n",
        "    predictions = collections.OrderedDict()\r\n",
        "\r\n",
        "    # Let's loop over all the examples!\r\n",
        "    for example_index, example in enumerate(tqdm(examples)):\r\n",
        "        # Those are the indices of the features associated to the current example.\r\n",
        "        feature_indices = features_per_example[example_index]\r\n",
        "        valid_answers = []\r\n",
        "        \r\n",
        "        context = example[\"context\"]\r\n",
        "        # Looping through all the features associated to the current example.\r\n",
        "        for feature_index in feature_indices:\r\n",
        "            # We grab the predictions of the model for this feature.\r\n",
        "            start_logits = all_start_logits[feature_index]\r\n",
        "            end_logits = all_end_logits[feature_index]\r\n",
        "            # This is what will allow us to map some the positions in our logits to span of texts in the original\r\n",
        "            # context.\r\n",
        "            offset_mapping = features[feature_index][\"offset_mapping\"]\r\n",
        "\r\n",
        "            # Update minimum null prediction.\r\n",
        "            cls_index = features[feature_index][\"input_ids\"].index(tokenizer.cls_token_id)\r\n",
        "            feature_null_score = start_logits[cls_index] + end_logits[cls_index]\r\n",
        "\r\n",
        "            # Go through all possibilities for the `n_best_size` greater start and end logits.\r\n",
        "            start_indexes = np.argsort(start_logits)[-1 : -n_best_size - 1 : -1].tolist()\r\n",
        "            end_indexes = np.argsort(end_logits)[-1 : -n_best_size - 1 : -1].tolist()\r\n",
        "            for start_index in start_indexes:\r\n",
        "                for end_index in end_indexes:\r\n",
        "                    # Don't consider out-of-scope answers, either because the indices are out of bounds or correspond\r\n",
        "                    # to part of the input_ids that are not in the context.\r\n",
        "                    if (\r\n",
        "                        start_index >= len(offset_mapping)\r\n",
        "                        or end_index >= len(offset_mapping)\r\n",
        "                        or offset_mapping[start_index] is None\r\n",
        "                        or offset_mapping[end_index] is None\r\n",
        "                    ):\r\n",
        "                        continue\r\n",
        "                    # Don't consider answers with a length that is either < 0 or > max_answer_length.\r\n",
        "                    if end_index < start_index or end_index - start_index + 1 > max_answer_length:\r\n",
        "                        continue\r\n",
        "\r\n",
        "                    start_char = offset_mapping[start_index][0]\r\n",
        "                    end_char = offset_mapping[end_index][1]\r\n",
        "                    valid_answers.append(\r\n",
        "                        {\r\n",
        "                            \"score\": start_logits[start_index] + end_logits[end_index],\r\n",
        "                            \"text\": context[start_char: end_char]\r\n",
        "                        }\r\n",
        "                    )\r\n",
        "        \r\n",
        "        if len(valid_answers) > 0:\r\n",
        "            best_answer = sorted(valid_answers, key=lambda x: x[\"score\"], reverse=True)[0:5]\r\n",
        "        else:\r\n",
        "            # In the very rare edge case we have not a single non-null prediction, we create a fake prediction to avoid\r\n",
        "            # failure.\r\n",
        "            best_answer = {\"text\": \"\", \"score\": 0.0}\r\n",
        "        \r\n",
        "        # Let's pick our final answer\r\n",
        "        predictions[example[\"id\"]] = [a_dict[\"text\"] for a_dict in best_answer] \r\n",
        "\r\n",
        "    return predictions"
      ],
      "execution_count": 53,
      "outputs": []
    },
    {
      "cell_type": "markdown",
      "metadata": {
        "id": "xR4Su_gZ1Hn3"
      },
      "source": [
        "Now we collect the best 5 predictions for each question to compute the \"top 5 EM\" "
      ]
    },
    {
      "cell_type": "code",
      "metadata": {
        "id": "iTKvxljjdNMH"
      },
      "source": [
        "# The Trainer hides the columns that are not used by the model (here example_id and offset_mapping which we will need for our post-processing), so we set them back\n",
        "test_features.set_format(type=test_features.format[\"type\"], columns=list(test_features.features.keys()))\n",
        "\n",
        "# To get the final predictions we can apply our post-processing function to our raw predictions\n",
        "final_predictions = postprocess_qa_5predictions(test_data['train'], test_features, pred.predictions)\n",
        "\n",
        "formatted_5predictions = {k : v for k, v in final_predictions.items()}\n",
        "\n",
        "# Hide again the columns that are not used by the model\n",
        "test_features.set_format(type=test_features.format[\"type\"], columns=['attention_mask', 'end_positions', 'input_ids', 'start_positions'])"
      ],
      "execution_count": null,
      "outputs": []
    },
    {
      "cell_type": "code",
      "metadata": {
        "id": "iInYaPT4fGnr"
      },
      "source": [
        "count = 0\n",
        "for id in test_dataframe['id']:\n",
        "  if test_dataframe['answers_text'][test_dataframe.id == id].values[0] in formatted_5predictions[id]:\n",
        "    count += 1\n",
        "    \n",
        "final_predictions = test_dataframe[['id','prediction_text']].to_dict('records')\n",
        "references = test_dataframe[['answers','id']].to_dict('records')\n",
        "\n",
        "print(\"Top 1 exact match and F1 score: {}\".format(metric.compute(predictions=final_predictions, references=references)))\n",
        "print(\"Top 5 exact match: {}\".format(count/len(test_dataframe)))"
      ],
      "execution_count": null,
      "outputs": []
    }
  ]
}
