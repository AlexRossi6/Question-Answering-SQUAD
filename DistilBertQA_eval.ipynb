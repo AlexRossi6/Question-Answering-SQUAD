{
  "nbformat": 4,
  "nbformat_minor": 0,
  "metadata": {
    "colab": {
      "name": "DistilBertQA_eval.ipynb",
      "provenance": [],
      "collapsed_sections": [],
      "toc_visible": true,
      "include_colab_link": true
    },
    "kernelspec": {
      "name": "python3",
      "display_name": "Python 3"
    },
    "accelerator": "GPU",
    "widgets": {
      "application/vnd.jupyter.widget-state+json": {
        "f4db17ab397449bc95e5bd85e2b84795": {
          "model_module": "@jupyter-widgets/controls",
          "model_name": "HBoxModel",
          "state": {
            "_view_name": "HBoxView",
            "_dom_classes": [],
            "_model_name": "HBoxModel",
            "_view_module": "@jupyter-widgets/controls",
            "_model_module_version": "1.5.0",
            "_view_count": null,
            "_view_module_version": "1.5.0",
            "box_style": "",
            "layout": "IPY_MODEL_373100b427e54071a8fca63e090d1d4e",
            "_model_module": "@jupyter-widgets/controls",
            "children": [
              "IPY_MODEL_f886282952da4ccd859fbe80dc66582b",
              "IPY_MODEL_1802382d527d41cf801af8aa240625da"
            ]
          }
        },
        "373100b427e54071a8fca63e090d1d4e": {
          "model_module": "@jupyter-widgets/base",
          "model_name": "LayoutModel",
          "state": {
            "_view_name": "LayoutView",
            "grid_template_rows": null,
            "right": null,
            "justify_content": null,
            "_view_module": "@jupyter-widgets/base",
            "overflow": null,
            "_model_module_version": "1.2.0",
            "_view_count": null,
            "flex_flow": null,
            "width": null,
            "min_width": null,
            "border": null,
            "align_items": null,
            "bottom": null,
            "_model_module": "@jupyter-widgets/base",
            "top": null,
            "grid_column": null,
            "overflow_y": null,
            "overflow_x": null,
            "grid_auto_flow": null,
            "grid_area": null,
            "grid_template_columns": null,
            "flex": null,
            "_model_name": "LayoutModel",
            "justify_items": null,
            "grid_row": null,
            "max_height": null,
            "align_content": null,
            "visibility": null,
            "align_self": null,
            "height": null,
            "min_height": null,
            "padding": null,
            "grid_auto_rows": null,
            "grid_gap": null,
            "max_width": null,
            "order": null,
            "_view_module_version": "1.2.0",
            "grid_template_areas": null,
            "object_position": null,
            "object_fit": null,
            "grid_auto_columns": null,
            "margin": null,
            "display": null,
            "left": null
          }
        },
        "f886282952da4ccd859fbe80dc66582b": {
          "model_module": "@jupyter-widgets/controls",
          "model_name": "FloatProgressModel",
          "state": {
            "_view_name": "ProgressView",
            "style": "IPY_MODEL_5684f8e1baf945338e1d14c1067b63ed",
            "_dom_classes": [],
            "description": "",
            "_model_name": "FloatProgressModel",
            "bar_style": "info",
            "max": 1,
            "_view_module": "@jupyter-widgets/controls",
            "_model_module_version": "1.5.0",
            "value": 1,
            "_view_count": null,
            "_view_module_version": "1.5.0",
            "orientation": "horizontal",
            "min": 0,
            "description_tooltip": null,
            "_model_module": "@jupyter-widgets/controls",
            "layout": "IPY_MODEL_8931d5ce8a4040cb9fc2e3308e523475"
          }
        },
        "1802382d527d41cf801af8aa240625da": {
          "model_module": "@jupyter-widgets/controls",
          "model_name": "HTMLModel",
          "state": {
            "_view_name": "HTMLView",
            "style": "IPY_MODEL_7408dd1438c84da0bbd235769cd3b421",
            "_dom_classes": [],
            "description": "",
            "_model_name": "HTMLModel",
            "placeholder": "​",
            "_view_module": "@jupyter-widgets/controls",
            "_model_module_version": "1.5.0",
            "value": " 1/? [00:00&lt;00:00,  2.04 tables/s]",
            "_view_count": null,
            "_view_module_version": "1.5.0",
            "description_tooltip": null,
            "_model_module": "@jupyter-widgets/controls",
            "layout": "IPY_MODEL_418c6caceafb43dc883ca0f173eece4e"
          }
        },
        "5684f8e1baf945338e1d14c1067b63ed": {
          "model_module": "@jupyter-widgets/controls",
          "model_name": "ProgressStyleModel",
          "state": {
            "_view_name": "StyleView",
            "_model_name": "ProgressStyleModel",
            "description_width": "initial",
            "_view_module": "@jupyter-widgets/base",
            "_model_module_version": "1.5.0",
            "_view_count": null,
            "_view_module_version": "1.2.0",
            "bar_color": null,
            "_model_module": "@jupyter-widgets/controls"
          }
        },
        "8931d5ce8a4040cb9fc2e3308e523475": {
          "model_module": "@jupyter-widgets/base",
          "model_name": "LayoutModel",
          "state": {
            "_view_name": "LayoutView",
            "grid_template_rows": null,
            "right": null,
            "justify_content": null,
            "_view_module": "@jupyter-widgets/base",
            "overflow": null,
            "_model_module_version": "1.2.0",
            "_view_count": null,
            "flex_flow": null,
            "width": null,
            "min_width": null,
            "border": null,
            "align_items": null,
            "bottom": null,
            "_model_module": "@jupyter-widgets/base",
            "top": null,
            "grid_column": null,
            "overflow_y": null,
            "overflow_x": null,
            "grid_auto_flow": null,
            "grid_area": null,
            "grid_template_columns": null,
            "flex": null,
            "_model_name": "LayoutModel",
            "justify_items": null,
            "grid_row": null,
            "max_height": null,
            "align_content": null,
            "visibility": null,
            "align_self": null,
            "height": null,
            "min_height": null,
            "padding": null,
            "grid_auto_rows": null,
            "grid_gap": null,
            "max_width": null,
            "order": null,
            "_view_module_version": "1.2.0",
            "grid_template_areas": null,
            "object_position": null,
            "object_fit": null,
            "grid_auto_columns": null,
            "margin": null,
            "display": null,
            "left": null
          }
        },
        "7408dd1438c84da0bbd235769cd3b421": {
          "model_module": "@jupyter-widgets/controls",
          "model_name": "DescriptionStyleModel",
          "state": {
            "_view_name": "StyleView",
            "_model_name": "DescriptionStyleModel",
            "description_width": "",
            "_view_module": "@jupyter-widgets/base",
            "_model_module_version": "1.5.0",
            "_view_count": null,
            "_view_module_version": "1.2.0",
            "_model_module": "@jupyter-widgets/controls"
          }
        },
        "418c6caceafb43dc883ca0f173eece4e": {
          "model_module": "@jupyter-widgets/base",
          "model_name": "LayoutModel",
          "state": {
            "_view_name": "LayoutView",
            "grid_template_rows": null,
            "right": null,
            "justify_content": null,
            "_view_module": "@jupyter-widgets/base",
            "overflow": null,
            "_model_module_version": "1.2.0",
            "_view_count": null,
            "flex_flow": null,
            "width": null,
            "min_width": null,
            "border": null,
            "align_items": null,
            "bottom": null,
            "_model_module": "@jupyter-widgets/base",
            "top": null,
            "grid_column": null,
            "overflow_y": null,
            "overflow_x": null,
            "grid_auto_flow": null,
            "grid_area": null,
            "grid_template_columns": null,
            "flex": null,
            "_model_name": "LayoutModel",
            "justify_items": null,
            "grid_row": null,
            "max_height": null,
            "align_content": null,
            "visibility": null,
            "align_self": null,
            "height": null,
            "min_height": null,
            "padding": null,
            "grid_auto_rows": null,
            "grid_gap": null,
            "max_width": null,
            "order": null,
            "_view_module_version": "1.2.0",
            "grid_template_areas": null,
            "object_position": null,
            "object_fit": null,
            "grid_auto_columns": null,
            "margin": null,
            "display": null,
            "left": null
          }
        },
        "76888d142095450d8d3d647d8e656cf0": {
          "model_module": "@jupyter-widgets/controls",
          "model_name": "HBoxModel",
          "state": {
            "_view_name": "HBoxView",
            "_dom_classes": [],
            "_model_name": "HBoxModel",
            "_view_module": "@jupyter-widgets/controls",
            "_model_module_version": "1.5.0",
            "_view_count": null,
            "_view_module_version": "1.5.0",
            "box_style": "",
            "layout": "IPY_MODEL_7c753b376ada4796851c2fa12aa68737",
            "_model_module": "@jupyter-widgets/controls",
            "children": [
              "IPY_MODEL_367b092658f446eba2bfda94a98c0bbf",
              "IPY_MODEL_62f93f5e71014ccdbda345d3d08f41bb"
            ]
          }
        },
        "7c753b376ada4796851c2fa12aa68737": {
          "model_module": "@jupyter-widgets/base",
          "model_name": "LayoutModel",
          "state": {
            "_view_name": "LayoutView",
            "grid_template_rows": null,
            "right": null,
            "justify_content": null,
            "_view_module": "@jupyter-widgets/base",
            "overflow": null,
            "_model_module_version": "1.2.0",
            "_view_count": null,
            "flex_flow": null,
            "width": null,
            "min_width": null,
            "border": null,
            "align_items": null,
            "bottom": null,
            "_model_module": "@jupyter-widgets/base",
            "top": null,
            "grid_column": null,
            "overflow_y": null,
            "overflow_x": null,
            "grid_auto_flow": null,
            "grid_area": null,
            "grid_template_columns": null,
            "flex": null,
            "_model_name": "LayoutModel",
            "justify_items": null,
            "grid_row": null,
            "max_height": null,
            "align_content": null,
            "visibility": null,
            "align_self": null,
            "height": null,
            "min_height": null,
            "padding": null,
            "grid_auto_rows": null,
            "grid_gap": null,
            "max_width": null,
            "order": null,
            "_view_module_version": "1.2.0",
            "grid_template_areas": null,
            "object_position": null,
            "object_fit": null,
            "grid_auto_columns": null,
            "margin": null,
            "display": null,
            "left": null
          }
        },
        "367b092658f446eba2bfda94a98c0bbf": {
          "model_module": "@jupyter-widgets/controls",
          "model_name": "FloatProgressModel",
          "state": {
            "_view_name": "ProgressView",
            "style": "IPY_MODEL_8dd4a84d9e11433bbeb12b63fd2b8aa5",
            "_dom_classes": [],
            "description": "100%",
            "_model_name": "FloatProgressModel",
            "bar_style": "success",
            "max": 11,
            "_view_module": "@jupyter-widgets/controls",
            "_model_module_version": "1.5.0",
            "value": 11,
            "_view_count": null,
            "_view_module_version": "1.5.0",
            "orientation": "horizontal",
            "min": 0,
            "description_tooltip": null,
            "_model_module": "@jupyter-widgets/controls",
            "layout": "IPY_MODEL_73ea8604d9724719ae9818b4cde32a36"
          }
        },
        "62f93f5e71014ccdbda345d3d08f41bb": {
          "model_module": "@jupyter-widgets/controls",
          "model_name": "HTMLModel",
          "state": {
            "_view_name": "HTMLView",
            "style": "IPY_MODEL_b8e70c07d817459a8df6ba987264b4e2",
            "_dom_classes": [],
            "description": "",
            "_model_name": "HTMLModel",
            "placeholder": "​",
            "_view_module": "@jupyter-widgets/controls",
            "_model_module_version": "1.5.0",
            "value": " 11/11 [05:36&lt;00:00, 30.57s/ba]",
            "_view_count": null,
            "_view_module_version": "1.5.0",
            "description_tooltip": null,
            "_model_module": "@jupyter-widgets/controls",
            "layout": "IPY_MODEL_718cf3570e3c4696a0299bf6bc12c870"
          }
        },
        "8dd4a84d9e11433bbeb12b63fd2b8aa5": {
          "model_module": "@jupyter-widgets/controls",
          "model_name": "ProgressStyleModel",
          "state": {
            "_view_name": "StyleView",
            "_model_name": "ProgressStyleModel",
            "description_width": "initial",
            "_view_module": "@jupyter-widgets/base",
            "_model_module_version": "1.5.0",
            "_view_count": null,
            "_view_module_version": "1.2.0",
            "bar_color": null,
            "_model_module": "@jupyter-widgets/controls"
          }
        },
        "73ea8604d9724719ae9818b4cde32a36": {
          "model_module": "@jupyter-widgets/base",
          "model_name": "LayoutModel",
          "state": {
            "_view_name": "LayoutView",
            "grid_template_rows": null,
            "right": null,
            "justify_content": null,
            "_view_module": "@jupyter-widgets/base",
            "overflow": null,
            "_model_module_version": "1.2.0",
            "_view_count": null,
            "flex_flow": null,
            "width": null,
            "min_width": null,
            "border": null,
            "align_items": null,
            "bottom": null,
            "_model_module": "@jupyter-widgets/base",
            "top": null,
            "grid_column": null,
            "overflow_y": null,
            "overflow_x": null,
            "grid_auto_flow": null,
            "grid_area": null,
            "grid_template_columns": null,
            "flex": null,
            "_model_name": "LayoutModel",
            "justify_items": null,
            "grid_row": null,
            "max_height": null,
            "align_content": null,
            "visibility": null,
            "align_self": null,
            "height": null,
            "min_height": null,
            "padding": null,
            "grid_auto_rows": null,
            "grid_gap": null,
            "max_width": null,
            "order": null,
            "_view_module_version": "1.2.0",
            "grid_template_areas": null,
            "object_position": null,
            "object_fit": null,
            "grid_auto_columns": null,
            "margin": null,
            "display": null,
            "left": null
          }
        },
        "b8e70c07d817459a8df6ba987264b4e2": {
          "model_module": "@jupyter-widgets/controls",
          "model_name": "DescriptionStyleModel",
          "state": {
            "_view_name": "StyleView",
            "_model_name": "DescriptionStyleModel",
            "description_width": "",
            "_view_module": "@jupyter-widgets/base",
            "_model_module_version": "1.5.0",
            "_view_count": null,
            "_view_module_version": "1.2.0",
            "_model_module": "@jupyter-widgets/controls"
          }
        },
        "718cf3570e3c4696a0299bf6bc12c870": {
          "model_module": "@jupyter-widgets/base",
          "model_name": "LayoutModel",
          "state": {
            "_view_name": "LayoutView",
            "grid_template_rows": null,
            "right": null,
            "justify_content": null,
            "_view_module": "@jupyter-widgets/base",
            "overflow": null,
            "_model_module_version": "1.2.0",
            "_view_count": null,
            "flex_flow": null,
            "width": null,
            "min_width": null,
            "border": null,
            "align_items": null,
            "bottom": null,
            "_model_module": "@jupyter-widgets/base",
            "top": null,
            "grid_column": null,
            "overflow_y": null,
            "overflow_x": null,
            "grid_auto_flow": null,
            "grid_area": null,
            "grid_template_columns": null,
            "flex": null,
            "_model_name": "LayoutModel",
            "justify_items": null,
            "grid_row": null,
            "max_height": null,
            "align_content": null,
            "visibility": null,
            "align_self": null,
            "height": null,
            "min_height": null,
            "padding": null,
            "grid_auto_rows": null,
            "grid_gap": null,
            "max_width": null,
            "order": null,
            "_view_module_version": "1.2.0",
            "grid_template_areas": null,
            "object_position": null,
            "object_fit": null,
            "grid_auto_columns": null,
            "margin": null,
            "display": null,
            "left": null
          }
        }
      }
    }
  },
  "cells": [
    {
      "cell_type": "markdown",
      "metadata": {
        "id": "view-in-github",
        "colab_type": "text"
      },
      "source": [
        "<a href=\"https://colab.research.google.com/github/guyez/NLP/blob/main/DistilBertQA_eval.ipynb\" target=\"_parent\"><img src=\"https://colab.research.google.com/assets/colab-badge.svg\" alt=\"Open In Colab\"/></a>"
      ]
    },
    {
      "cell_type": "markdown",
      "metadata": {
        "id": "0lLFOMAf5qfA"
      },
      "source": [
        "# Import Dependencies"
      ]
    },
    {
      "cell_type": "markdown",
      "metadata": {
        "id": "G_N2UDLevYWn"
      },
      "source": [
        "\n",
        "Let's install the [transformers](https://github.com/huggingface/transformers) and [datasets](https://github.com/huggingface/datasets) packages from Hugging Face which will give us a pytorch interface for working with transformers. (This library contains interfaces for other pretrained language models like OpenAI's GPT and GPT-2).\n",
        "\n",
        "At the moment, the Hugging Face library seems to be the most widely accepted and powerful pytorch interface for working with transformers. In addition to supporting a variety of different pre-trained transformer models, the library also includes pre-built modifications of these models suited to your specific task.\n",
        "\n",
        "The library also includes task-specific classes for token classification, question answering, next sentence prediciton, etc.\n",
        "\n",
        "Datasets is a lightweight library providing simple, fast and reproducible data pre-processing for the public datasets as well as your own local datasets in CSV/JSON/text. With simple commandes like `tokenized_dataset = dataset.map(tokenize_exemple)` efficiently prepare the dataset for inspection and ML model evaluation and training.\n"
      ]
    },
    {
      "cell_type": "code",
      "metadata": {
        "colab": {
          "base_uri": "https://localhost:8080/"
        },
        "id": "FLUZHZKkM6S7",
        "outputId": "d42b196e-b3f1-47d5-adc8-743eff3bdfdf"
      },
      "source": [
        "!pip install transformers\r\n",
        "!pip install datasets"
      ],
      "execution_count": 47,
      "outputs": [
        {
          "output_type": "stream",
          "text": [
            "Requirement already satisfied: transformers in /usr/local/lib/python3.7/dist-packages (4.3.3)\n",
            "Requirement already satisfied: packaging in /usr/local/lib/python3.7/dist-packages (from transformers) (20.9)\n",
            "Requirement already satisfied: sacremoses in /usr/local/lib/python3.7/dist-packages (from transformers) (0.0.43)\n",
            "Requirement already satisfied: filelock in /usr/local/lib/python3.7/dist-packages (from transformers) (3.0.12)\n",
            "Requirement already satisfied: requests in /usr/local/lib/python3.7/dist-packages (from transformers) (2.23.0)\n",
            "Requirement already satisfied: importlib-metadata; python_version < \"3.8\" in /usr/local/lib/python3.7/dist-packages (from transformers) (3.7.0)\n",
            "Requirement already satisfied: tqdm>=4.27 in /usr/local/lib/python3.7/dist-packages (from transformers) (4.41.1)\n",
            "Requirement already satisfied: numpy>=1.17 in /usr/local/lib/python3.7/dist-packages (from transformers) (1.19.5)\n",
            "Requirement already satisfied: regex!=2019.12.17 in /usr/local/lib/python3.7/dist-packages (from transformers) (2019.12.20)\n",
            "Requirement already satisfied: tokenizers<0.11,>=0.10.1 in /usr/local/lib/python3.7/dist-packages (from transformers) (0.10.1)\n",
            "Requirement already satisfied: pyparsing>=2.0.2 in /usr/local/lib/python3.7/dist-packages (from packaging->transformers) (2.4.7)\n",
            "Requirement already satisfied: six in /usr/local/lib/python3.7/dist-packages (from sacremoses->transformers) (1.15.0)\n",
            "Requirement already satisfied: click in /usr/local/lib/python3.7/dist-packages (from sacremoses->transformers) (7.1.2)\n",
            "Requirement already satisfied: joblib in /usr/local/lib/python3.7/dist-packages (from sacremoses->transformers) (1.0.1)\n",
            "Requirement already satisfied: certifi>=2017.4.17 in /usr/local/lib/python3.7/dist-packages (from requests->transformers) (2020.12.5)\n",
            "Requirement already satisfied: urllib3!=1.25.0,!=1.25.1,<1.26,>=1.21.1 in /usr/local/lib/python3.7/dist-packages (from requests->transformers) (1.24.3)\n",
            "Requirement already satisfied: chardet<4,>=3.0.2 in /usr/local/lib/python3.7/dist-packages (from requests->transformers) (3.0.4)\n",
            "Requirement already satisfied: idna<3,>=2.5 in /usr/local/lib/python3.7/dist-packages (from requests->transformers) (2.10)\n",
            "Requirement already satisfied: zipp>=0.5 in /usr/local/lib/python3.7/dist-packages (from importlib-metadata; python_version < \"3.8\"->transformers) (3.4.1)\n",
            "Requirement already satisfied: typing-extensions>=3.6.4; python_version < \"3.8\" in /usr/local/lib/python3.7/dist-packages (from importlib-metadata; python_version < \"3.8\"->transformers) (3.7.4.3)\n",
            "Requirement already satisfied: datasets in /usr/local/lib/python3.7/dist-packages (1.4.1)\n",
            "Requirement already satisfied: pandas in /usr/local/lib/python3.7/dist-packages (from datasets) (1.1.5)\n",
            "Requirement already satisfied: huggingface-hub==0.0.2 in /usr/local/lib/python3.7/dist-packages (from datasets) (0.0.2)\n",
            "Requirement already satisfied: pyarrow>=0.17.1 in /usr/local/lib/python3.7/dist-packages (from datasets) (3.0.0)\n",
            "Requirement already satisfied: multiprocess in /usr/local/lib/python3.7/dist-packages (from datasets) (0.70.11.1)\n",
            "Requirement already satisfied: importlib-metadata; python_version < \"3.8\" in /usr/local/lib/python3.7/dist-packages (from datasets) (3.7.0)\n",
            "Requirement already satisfied: xxhash in /usr/local/lib/python3.7/dist-packages (from datasets) (2.0.0)\n",
            "Requirement already satisfied: numpy>=1.17 in /usr/local/lib/python3.7/dist-packages (from datasets) (1.19.5)\n",
            "Requirement already satisfied: dill in /usr/local/lib/python3.7/dist-packages (from datasets) (0.3.3)\n",
            "Requirement already satisfied: requests>=2.19.0 in /usr/local/lib/python3.7/dist-packages (from datasets) (2.23.0)\n",
            "Requirement already satisfied: tqdm<4.50.0,>=4.27 in /usr/local/lib/python3.7/dist-packages (from datasets) (4.41.1)\n",
            "Requirement already satisfied: fsspec in /usr/local/lib/python3.7/dist-packages (from datasets) (0.8.7)\n",
            "Requirement already satisfied: python-dateutil>=2.7.3 in /usr/local/lib/python3.7/dist-packages (from pandas->datasets) (2.8.1)\n",
            "Requirement already satisfied: pytz>=2017.2 in /usr/local/lib/python3.7/dist-packages (from pandas->datasets) (2018.9)\n",
            "Requirement already satisfied: filelock in /usr/local/lib/python3.7/dist-packages (from huggingface-hub==0.0.2->datasets) (3.0.12)\n",
            "Requirement already satisfied: typing-extensions>=3.6.4; python_version < \"3.8\" in /usr/local/lib/python3.7/dist-packages (from importlib-metadata; python_version < \"3.8\"->datasets) (3.7.4.3)\n",
            "Requirement already satisfied: zipp>=0.5 in /usr/local/lib/python3.7/dist-packages (from importlib-metadata; python_version < \"3.8\"->datasets) (3.4.1)\n",
            "Requirement already satisfied: idna<3,>=2.5 in /usr/local/lib/python3.7/dist-packages (from requests>=2.19.0->datasets) (2.10)\n",
            "Requirement already satisfied: chardet<4,>=3.0.2 in /usr/local/lib/python3.7/dist-packages (from requests>=2.19.0->datasets) (3.0.4)\n",
            "Requirement already satisfied: certifi>=2017.4.17 in /usr/local/lib/python3.7/dist-packages (from requests>=2.19.0->datasets) (2020.12.5)\n",
            "Requirement already satisfied: urllib3!=1.25.0,!=1.25.1,<1.26,>=1.21.1 in /usr/local/lib/python3.7/dist-packages (from requests>=2.19.0->datasets) (1.24.3)\n",
            "Requirement already satisfied: six>=1.5 in /usr/local/lib/python3.7/dist-packages (from python-dateutil>=2.7.3->pandas->datasets) (1.15.0)\n"
          ],
          "name": "stdout"
        }
      ]
    },
    {
      "cell_type": "code",
      "metadata": {
        "colab": {
          "base_uri": "https://localhost:8080/"
        },
        "id": "Q56PwL1LiG3N",
        "outputId": "cdfd674f-0610-4414-c0cb-3fbeab0f74dc"
      },
      "source": [
        "import numpy as np\r\n",
        "import pandas as pd\r\n",
        "\r\n",
        "import torch\r\n",
        "\r\n",
        "import json\r\n",
        "import sys\r\n",
        "import time\r\n",
        "import datetime\r\n",
        "import random\r\n",
        "import collections\r\n",
        "from pathlib import Path\r\n",
        "\r\n",
        "import transformers\r\n",
        "import datasets\r\n",
        "from datasets import load_dataset\r\n",
        "\r\n",
        "from google.colab import drive\r\n",
        "drive.mount(\"/content/drive\")"
      ],
      "execution_count": 48,
      "outputs": [
        {
          "output_type": "stream",
          "text": [
            "Drive already mounted at /content/drive; to attempt to forcibly remount, call drive.mount(\"/content/drive\", force_remount=True).\n"
          ],
          "name": "stdout"
        }
      ]
    },
    {
      "cell_type": "code",
      "metadata": {
        "colab": {
          "base_uri": "https://localhost:8080/",
          "height": 35
        },
        "id": "Ba7DhxpUofmv",
        "outputId": "68f489b1-8c09-4cd9-adee-91a575dd0288"
      },
      "source": [
        "torch.__version__"
      ],
      "execution_count": 49,
      "outputs": [
        {
          "output_type": "execute_result",
          "data": {
            "application/vnd.google.colaboratory.intrinsic+json": {
              "type": "string"
            },
            "text/plain": [
              "'1.8.0+cu101'"
            ]
          },
          "metadata": {
            "tags": []
          },
          "execution_count": 49
        }
      ]
    },
    {
      "cell_type": "code",
      "metadata": {
        "colab": {
          "base_uri": "https://localhost:8080/",
          "height": 35
        },
        "id": "ZgSrs3jROoWh",
        "outputId": "b1bcd2d5-7446-4579-9484-7e461795bc37"
      },
      "source": [
        "transformers.__version__"
      ],
      "execution_count": 50,
      "outputs": [
        {
          "output_type": "execute_result",
          "data": {
            "application/vnd.google.colaboratory.intrinsic+json": {
              "type": "string"
            },
            "text/plain": [
              "'4.3.3'"
            ]
          },
          "metadata": {
            "tags": []
          },
          "execution_count": 50
        }
      ]
    },
    {
      "cell_type": "code",
      "metadata": {
        "colab": {
          "base_uri": "https://localhost:8080/",
          "height": 35
        },
        "id": "dFxTZW1COsUi",
        "outputId": "c8d40f55-391a-4ea4-fb24-2cc4e8135bd2"
      },
      "source": [
        "datasets.__version__"
      ],
      "execution_count": 51,
      "outputs": [
        {
          "output_type": "execute_result",
          "data": {
            "application/vnd.google.colaboratory.intrinsic+json": {
              "type": "string"
            },
            "text/plain": [
              "'1.4.1'"
            ]
          },
          "metadata": {
            "tags": []
          },
          "execution_count": 51
        }
      ]
    },
    {
      "cell_type": "markdown",
      "metadata": {
        "id": "LPmh48qzlrzk"
      },
      "source": [
        "# Reproducibility\n",
        "\n",
        "\n",
        "\n",
        "\n"
      ]
    },
    {
      "cell_type": "code",
      "metadata": {
        "id": "gENJjhhcs768"
      },
      "source": [
        "def fix_random(seed: int) -> None:\n",
        "    \"\"\"Fix all the possible sources of randomness.\n",
        "\n",
        "    Args:\n",
        "        seed: the seed to use.\n",
        "    \"\"\"\n",
        "\n",
        "    np.random.seed(seed)\n",
        "    random.seed(seed)\n",
        "    torch.manual_seed(seed)\n",
        "    torch.cuda.manual_seed(seed)\n",
        "\n",
        "    torch.backends.cudnn.benchmark = False\n",
        "    torch.backends.cudnn.deterministic = True"
      ],
      "execution_count": 52,
      "outputs": []
    },
    {
      "cell_type": "code",
      "metadata": {
        "id": "F9uG9WFsN6-S"
      },
      "source": [
        "fix_random(seed=42)"
      ],
      "execution_count": 53,
      "outputs": []
    },
    {
      "cell_type": "markdown",
      "metadata": {
        "id": "aJbkbcfoyPFY"
      },
      "source": [
        "# Runtime Settings\n",
        "\n",
        "Here we set the `device`, which is used to place tensors on our GPU, if we have one. If no GPU is available, you should change the Runtime settings. "
      ]
    },
    {
      "cell_type": "code",
      "metadata": {
        "id": "ib8_3-Scxvk8"
      },
      "source": [
        "device = torch.device(\"cuda\" if torch.cuda.is_available() else \"cpu\")"
      ],
      "execution_count": 54,
      "outputs": []
    },
    {
      "cell_type": "code",
      "metadata": {
        "id": "I8YXWMiA7fVB",
        "colab": {
          "base_uri": "https://localhost:8080/"
        },
        "outputId": "dfe1b4a3-b67f-4799-c52c-f0fb183789f4"
      },
      "source": [
        "!nvidia-smi"
      ],
      "execution_count": 55,
      "outputs": [
        {
          "output_type": "stream",
          "text": [
            "Thu Mar 11 15:01:30 2021       \n",
            "+-----------------------------------------------------------------------------+\n",
            "| NVIDIA-SMI 460.56       Driver Version: 460.32.03    CUDA Version: 11.2     |\n",
            "|-------------------------------+----------------------+----------------------+\n",
            "| GPU  Name        Persistence-M| Bus-Id        Disp.A | Volatile Uncorr. ECC |\n",
            "| Fan  Temp  Perf  Pwr:Usage/Cap|         Memory-Usage | GPU-Util  Compute M. |\n",
            "|                               |                      |               MIG M. |\n",
            "|===============================+======================+======================|\n",
            "|   0  Tesla K80           Off  | 00000000:00:04.0 Off |                    0 |\n",
            "| N/A   74C    P0    78W / 149W |    898MiB / 11441MiB |      0%      Default |\n",
            "|                               |                      |                  N/A |\n",
            "+-------------------------------+----------------------+----------------------+\n",
            "                                                                               \n",
            "+-----------------------------------------------------------------------------+\n",
            "| Processes:                                                                  |\n",
            "|  GPU   GI   CI        PID   Type   Process name                  GPU Memory |\n",
            "|        ID   ID                                                   Usage      |\n",
            "|=============================================================================|\n",
            "+-----------------------------------------------------------------------------+\n"
          ],
          "name": "stdout"
        }
      ]
    },
    {
      "cell_type": "markdown",
      "metadata": {
        "id": "rATgVca-z-ue"
      },
      "source": [
        "#Load"
      ]
    },
    {
      "cell_type": "code",
      "metadata": {
        "id": "gLClOaPt0luI",
        "cellView": "form"
      },
      "source": [
        "# Folder on your Google Drive where all the checkpoints will be saved and where the dataset files are stored and loaded from\r\n",
        "FOLDER_NAME = \"NLPproject\" # @param {type: \"string\"}\r\n",
        "JSON_TEST_FILE = \"test_set.json\" # @param {type: \"string\"}\r\n",
        "data_path = \"drive/My Drive/\" + FOLDER_NAME +\"/\"  # Full path to Drive folder\r\n",
        "file_path = data_path + JSON_TEST_FILE\r\n",
        "checkpoint_path = data_path"
      ],
      "execution_count": 57,
      "outputs": []
    },
    {
      "cell_type": "code",
      "metadata": {
        "id": "dIGqe1a6rceN"
      },
      "source": [
        "class LoadData():\r\n",
        "    def __init__(self,\r\n",
        "                 path_to_json_file: str,\r\n",
        "                 checkpoint_path: str,\r\n",
        "                 test_file: str = 'test.json') -> None:\r\n",
        "        \"\"\"Load the data by flattening the json file and saving it.\r\n",
        "\r\n",
        "          Args:\r\n",
        "              path_to_json_file: path to the json file.\r\n",
        "              checkpoint_path: path where to save the json file.\r\n",
        "              test_file: name of the test json file that will be created.\r\n",
        "        \"\"\"\r\n",
        "\r\n",
        "        self.path_to_json_file = path_to_json_file\r\n",
        "        self.checkpoint_path = checkpoint_path\r\n",
        "\r\n",
        "        self.test_file = test_file\r\n",
        "\r\n",
        "        self.data = self.load_data()\r\n",
        "\r\n",
        "    def load_data(self):\r\n",
        "        with open(self.path_to_json_file, 'r') as f:\r\n",
        "            test_data = json.load(f)\r\n",
        "        print(f'Flattening SQUAD {test_data[\"version\"]}')\r\n",
        "        test_data_flat, errors = self.load_squad_data(test_data)\r\n",
        "        print(f'\\nErroneous Datapoints: {errors}')\r\n",
        "\r\n",
        "        with open(Path(self.checkpoint_path) / Path(self.test_file), 'w') as file:\r\n",
        "            test_data = {'data':test_data_flat}\r\n",
        "            file.write(json.dumps(test_data))\r\n",
        "            file.close()\r\n",
        "\r\n",
        "\r\n",
        "    def load_squad_data(self, data):\r\n",
        "\r\n",
        "        errors = 0\r\n",
        "        flattened_data_test = []\r\n",
        "\r\n",
        "        for i, article in enumerate(data[\"data\"]):\r\n",
        "            title = article.get(\"title\", \"\").strip()\r\n",
        "            for paragraph in article[\"paragraphs\"]:\r\n",
        "                context = paragraph[\"context\"].strip()\r\n",
        "                for qa in paragraph[\"qas\"]:\r\n",
        "                    question = qa[\"question\"].strip()\r\n",
        "                    id_ = qa[\"id\"]\r\n",
        "\r\n",
        "                    answer_starts = [answer[\"answer_start\"] for answer in qa[\"answers\"]]\r\n",
        "                    answers = [answer[\"text\"].strip() for answer in qa[\"answers\"]]\r\n",
        "\r\n",
        "                    # Features currently used are \"context\", \"question\", and \"answers\".\r\n",
        "                    # Others are extracted here for the ease of future expansions.\r\n",
        "                    flattened_data_test.append({\"title\": title,\r\n",
        "                                                \"context\": context,\r\n",
        "                                                \"question\": question,\r\n",
        "                                                \"id\": id_,\r\n",
        "                                                \"answers\": {\r\n",
        "                                                    \"answer_start\": answer_starts,\r\n",
        "                                                    \"text\": answers}\r\n",
        "                                                })\r\n",
        "\r\n",
        "        return flattened_data_test, errors"
      ],
      "execution_count": 56,
      "outputs": []
    },
    {
      "cell_type": "code",
      "metadata": {
        "colab": {
          "base_uri": "https://localhost:8080/"
        },
        "id": "Y6DQzGjkiQaC",
        "outputId": "125697a6-143c-4670-9e13-1a3c767d9c5f"
      },
      "source": [
        "_ = LoadData(file_path, checkpoint_path)"
      ],
      "execution_count": 58,
      "outputs": [
        {
          "output_type": "stream",
          "text": [
            "Flattening SQUAD 1.1\n",
            "\n",
            "Erroneous Datapoints: 0\n"
          ],
          "name": "stdout"
        }
      ]
    },
    {
      "cell_type": "code",
      "metadata": {
        "colab": {
          "base_uri": "https://localhost:8080/",
          "height": 87,
          "referenced_widgets": [
            "f4db17ab397449bc95e5bd85e2b84795",
            "373100b427e54071a8fca63e090d1d4e",
            "f886282952da4ccd859fbe80dc66582b",
            "1802382d527d41cf801af8aa240625da",
            "5684f8e1baf945338e1d14c1067b63ed",
            "8931d5ce8a4040cb9fc2e3308e523475",
            "7408dd1438c84da0bbd235769cd3b421",
            "418c6caceafb43dc883ca0f173eece4e"
          ]
        },
        "id": "Ji9Vo1imO5Vq",
        "outputId": "c0006d65-d30d-4f2e-cfd8-06f34cbe6f1e"
      },
      "source": [
        "from datasets import load_dataset\r\n",
        "test_data = load_dataset('json', data_files=data_path+\"test.json\", field='data')"
      ],
      "execution_count": 59,
      "outputs": [
        {
          "output_type": "stream",
          "text": [
            "Using custom data configuration default-ea6d574ff49da606\n"
          ],
          "name": "stderr"
        },
        {
          "output_type": "stream",
          "text": [
            "Downloading and preparing dataset json/default (download: Unknown size, generated: Unknown size, post-processed: Unknown size, total: Unknown size) to /root/.cache/huggingface/datasets/json/default-ea6d574ff49da606/0.0.0/dc7ee63ec8b554c48ecc5a8a6fbe27af8071408c244e4347cf9222d6206d83a2...\n"
          ],
          "name": "stdout"
        },
        {
          "output_type": "display_data",
          "data": {
            "application/vnd.jupyter.widget-view+json": {
              "model_id": "f4db17ab397449bc95e5bd85e2b84795",
              "version_minor": 0,
              "version_major": 2
            },
            "text/plain": [
              "HBox(children=(FloatProgress(value=1.0, bar_style='info', max=1.0), HTML(value='')))"
            ]
          },
          "metadata": {
            "tags": []
          }
        },
        {
          "output_type": "stream",
          "text": [
            "\rDataset json downloaded and prepared to /root/.cache/huggingface/datasets/json/default-ea6d574ff49da606/0.0.0/dc7ee63ec8b554c48ecc5a8a6fbe27af8071408c244e4347cf9222d6206d83a2. Subsequent calls will reuse this data.\n"
          ],
          "name": "stdout"
        }
      ]
    },
    {
      "cell_type": "code",
      "metadata": {
        "colab": {
          "base_uri": "https://localhost:8080/",
          "height": 570
        },
        "id": "b6twxoFaRNHK",
        "outputId": "60aa6c0c-37ce-4e13-fadb-1c376009311d"
      },
      "source": [
        "def get_text(answer: list) -> str:\r\n",
        "    \"\"\"Extract only the text from the answers.text column \r\n",
        "\r\n",
        "    Args:\r\n",
        "        answer: the answer.\r\n",
        "    \"\"\"\r\n",
        "    return answer[0]\r\n",
        "\r\n",
        "def get_json_data(json_path: str) -> dict:\r\n",
        "    \"\"\"Get the json data in form of a dictionary\r\n",
        "\r\n",
        "    Args:\r\n",
        "        json_path: path to the json file.\r\n",
        "    \"\"\"\r\n",
        "    # Opening JSON file \r\n",
        "    f = open(json_path) \r\n",
        "    # returns JSON object as a dictionary \r\n",
        "    json_data = json.load(f) \r\n",
        "    # Closing file \r\n",
        "    f.close() \r\n",
        "    return json_data\r\n",
        "\r\n",
        "test_dataframe = pd.json_normalize(get_json_data(data_path+\"test.json\"), record_path='data')\r\n",
        "test_dataframe[\"answers.text\"] = test_dataframe[\"answers.text\"].apply(get_text)\r\n",
        "\r\n",
        "test_dataframe"
      ],
      "execution_count": 60,
      "outputs": [
        {
          "output_type": "execute_result",
          "data": {
            "text/html": [
              "<div>\n",
              "<style scoped>\n",
              "    .dataframe tbody tr th:only-of-type {\n",
              "        vertical-align: middle;\n",
              "    }\n",
              "\n",
              "    .dataframe tbody tr th {\n",
              "        vertical-align: top;\n",
              "    }\n",
              "\n",
              "    .dataframe thead th {\n",
              "        text-align: right;\n",
              "    }\n",
              "</style>\n",
              "<table border=\"1\" class=\"dataframe\">\n",
              "  <thead>\n",
              "    <tr style=\"text-align: right;\">\n",
              "      <th></th>\n",
              "      <th>title</th>\n",
              "      <th>context</th>\n",
              "      <th>question</th>\n",
              "      <th>id</th>\n",
              "      <th>answers.answer_start</th>\n",
              "      <th>answers.text</th>\n",
              "    </tr>\n",
              "  </thead>\n",
              "  <tbody>\n",
              "    <tr>\n",
              "      <th>0</th>\n",
              "      <td>Super_Bowl_50</td>\n",
              "      <td>Super Bowl 50 was an American football game to...</td>\n",
              "      <td>Which NFL team represented the AFC at Super Bo...</td>\n",
              "      <td>56be4db0acb8001400a502ec</td>\n",
              "      <td>[177, 177, 177]</td>\n",
              "      <td>Denver Broncos</td>\n",
              "    </tr>\n",
              "    <tr>\n",
              "      <th>1</th>\n",
              "      <td>Super_Bowl_50</td>\n",
              "      <td>Super Bowl 50 was an American football game to...</td>\n",
              "      <td>Which NFL team represented the NFC at Super Bo...</td>\n",
              "      <td>56be4db0acb8001400a502ed</td>\n",
              "      <td>[249, 249, 249]</td>\n",
              "      <td>Carolina Panthers</td>\n",
              "    </tr>\n",
              "    <tr>\n",
              "      <th>2</th>\n",
              "      <td>Super_Bowl_50</td>\n",
              "      <td>Super Bowl 50 was an American football game to...</td>\n",
              "      <td>Where did Super Bowl 50 take place?</td>\n",
              "      <td>56be4db0acb8001400a502ee</td>\n",
              "      <td>[403, 355, 355]</td>\n",
              "      <td>Santa Clara, California</td>\n",
              "    </tr>\n",
              "    <tr>\n",
              "      <th>3</th>\n",
              "      <td>Super_Bowl_50</td>\n",
              "      <td>Super Bowl 50 was an American football game to...</td>\n",
              "      <td>Which NFL team won Super Bowl 50?</td>\n",
              "      <td>56be4db0acb8001400a502ef</td>\n",
              "      <td>[177, 177, 177]</td>\n",
              "      <td>Denver Broncos</td>\n",
              "    </tr>\n",
              "    <tr>\n",
              "      <th>4</th>\n",
              "      <td>Super_Bowl_50</td>\n",
              "      <td>Super Bowl 50 was an American football game to...</td>\n",
              "      <td>What color was used to emphasize the 50th anni...</td>\n",
              "      <td>56be4db0acb8001400a502f0</td>\n",
              "      <td>[488, 488, 521]</td>\n",
              "      <td>gold</td>\n",
              "    </tr>\n",
              "    <tr>\n",
              "      <th>...</th>\n",
              "      <td>...</td>\n",
              "      <td>...</td>\n",
              "      <td>...</td>\n",
              "      <td>...</td>\n",
              "      <td>...</td>\n",
              "      <td>...</td>\n",
              "    </tr>\n",
              "    <tr>\n",
              "      <th>10565</th>\n",
              "      <td>Force</td>\n",
              "      <td>The pound-force has a metric counterpart, less...</td>\n",
              "      <td>What is the metric term less used than the New...</td>\n",
              "      <td>5737aafd1c456719005744fb</td>\n",
              "      <td>[82, 4, 82, 82, 78]</td>\n",
              "      <td>kilogram-force</td>\n",
              "    </tr>\n",
              "    <tr>\n",
              "      <th>10566</th>\n",
              "      <td>Force</td>\n",
              "      <td>The pound-force has a metric counterpart, less...</td>\n",
              "      <td>What is the kilogram-force sometimes reffered ...</td>\n",
              "      <td>5737aafd1c456719005744fc</td>\n",
              "      <td>[114, 114, 114, 114, 114]</td>\n",
              "      <td>kilopond</td>\n",
              "    </tr>\n",
              "    <tr>\n",
              "      <th>10567</th>\n",
              "      <td>Force</td>\n",
              "      <td>The pound-force has a metric counterpart, less...</td>\n",
              "      <td>What is a very seldom used unit of mass in the...</td>\n",
              "      <td>5737aafd1c456719005744fd</td>\n",
              "      <td>[274, 267, 267, 267, 263]</td>\n",
              "      <td>slug</td>\n",
              "    </tr>\n",
              "    <tr>\n",
              "      <th>10568</th>\n",
              "      <td>Force</td>\n",
              "      <td>The pound-force has a metric counterpart, less...</td>\n",
              "      <td>What seldom used term of a unit of force equal...</td>\n",
              "      <td>5737aafd1c456719005744fe</td>\n",
              "      <td>[712, 712, 712, 712, 712]</td>\n",
              "      <td>kip</td>\n",
              "    </tr>\n",
              "    <tr>\n",
              "      <th>10569</th>\n",
              "      <td>Force</td>\n",
              "      <td>The pound-force has a metric counterpart, less...</td>\n",
              "      <td>What is the seldom used force unit equal to on...</td>\n",
              "      <td>5737aafd1c456719005744ff</td>\n",
              "      <td>[665, 665, 665, 665, 665]</td>\n",
              "      <td>sthène</td>\n",
              "    </tr>\n",
              "  </tbody>\n",
              "</table>\n",
              "<p>10570 rows × 6 columns</p>\n",
              "</div>"
            ],
            "text/plain": [
              "               title  ...             answers.text\n",
              "0      Super_Bowl_50  ...           Denver Broncos\n",
              "1      Super_Bowl_50  ...        Carolina Panthers\n",
              "2      Super_Bowl_50  ...  Santa Clara, California\n",
              "3      Super_Bowl_50  ...           Denver Broncos\n",
              "4      Super_Bowl_50  ...                     gold\n",
              "...              ...  ...                      ...\n",
              "10565          Force  ...           kilogram-force\n",
              "10566          Force  ...                 kilopond\n",
              "10567          Force  ...                     slug\n",
              "10568          Force  ...                      kip\n",
              "10569          Force  ...                   sthène\n",
              "\n",
              "[10570 rows x 6 columns]"
            ]
          },
          "metadata": {
            "tags": []
          },
          "execution_count": 60
        }
      ]
    },
    {
      "cell_type": "code",
      "metadata": {
        "colab": {
          "base_uri": "https://localhost:8080/",
          "height": 407
        },
        "id": "uvVkdnU17gEt",
        "outputId": "7c98883f-2be7-4d8b-d9a3-b923d8ea2cd2"
      },
      "source": [
        "figsize = (10,6)\r\n",
        "test_dataframe['context'].apply(len).plot.hist(title=\"Contex length histogram\", bins=20, figsize=figsize, grid=True)"
      ],
      "execution_count": 61,
      "outputs": [
        {
          "output_type": "execute_result",
          "data": {
            "text/plain": [
              "<matplotlib.axes._subplots.AxesSubplot at 0x7fb36151db50>"
            ]
          },
          "metadata": {
            "tags": []
          },
          "execution_count": 61
        },
        {
          "output_type": "display_data",
          "data": {
            "image/png": "[encoded data removed]",
            "text/plain": [
              "<Figure size 720x432 with 1 Axes>"
            ]
          },
          "metadata": {
            "tags": [],
            "needs_background": "light"
          }
        }
      ]
    },
    {
      "cell_type": "code",
      "metadata": {
        "colab": {
          "base_uri": "https://localhost:8080/",
          "height": 407
        },
        "id": "Jab-fQ1X8dfY",
        "outputId": "d158cf9d-7acb-4d66-d790-5d688301d617"
      },
      "source": [
        "test_dataframe['question'].apply(len).plot.hist(title=\"Question length histogram\", bins=20, figsize=figsize, grid=True)"
      ],
      "execution_count": 62,
      "outputs": [
        {
          "output_type": "execute_result",
          "data": {
            "text/plain": [
              "<matplotlib.axes._subplots.AxesSubplot at 0x7fb35f56d610>"
            ]
          },
          "metadata": {
            "tags": []
          },
          "execution_count": 62
        },
        {
          "output_type": "display_data",
          "data": {
            "image/png": "[encoded data removed]",
            "text/plain": [
              "<Figure size 720x432 with 1 Axes>"
            ]
          },
          "metadata": {
            "tags": [],
            "needs_background": "light"
          }
        }
      ]
    },
    {
      "cell_type": "code",
      "metadata": {
        "colab": {
          "base_uri": "https://localhost:8080/",
          "height": 407
        },
        "id": "lY9PhtcW8pmt",
        "outputId": "a675fddf-a856-401b-f269-21370799ef64"
      },
      "source": [
        "test_dataframe['answers.text'].apply(len).plot.hist(title=\"Answer length histogram\", bins=20, figsize=figsize, grid=True)"
      ],
      "execution_count": 63,
      "outputs": [
        {
          "output_type": "execute_result",
          "data": {
            "text/plain": [
              "<matplotlib.axes._subplots.AxesSubplot at 0x7fb3610c7190>"
            ]
          },
          "metadata": {
            "tags": []
          },
          "execution_count": 63
        },
        {
          "output_type": "display_data",
          "data": {
            "image/png": "[encoded data removed]",
            "text/plain": [
              "<Figure size 720x432 with 1 Axes>"
            ]
          },
          "metadata": {
            "tags": [],
            "needs_background": "light"
          }
        }
      ]
    },
    {
      "cell_type": "code",
      "metadata": {
        "colab": {
          "base_uri": "https://localhost:8080/"
        },
        "id": "vGYzWRfv2SuH",
        "outputId": "47f90ce9-b34e-4019-c3dc-2563a9761d6c"
      },
      "source": [
        "#@title Show Samples { run: \"auto\", display-mode: \"form\" }\r\n",
        "\r\n",
        "def print_squad_sample(df: pd.core.frame.DataFrame, line_length: int=20, separator_length: int=120) -> None:\r\n",
        "  sample = df.iloc[random.randint(0,df.shape[0])]\r\n",
        "  title = sample.title.replace('_', ' ')\r\n",
        "  print('TITLE: ')\r\n",
        "  print(title)\r\n",
        "  print('='*separator_length)\r\n",
        "  context = sample.context.split()\r\n",
        "  print('CONTEXT: ')\r\n",
        "  lines = [' '.join(context[idx:idx+line_length]) for idx in range(0, len(context), line_length)]\r\n",
        "  for l in lines:\r\n",
        "      print(l)\r\n",
        "  print('='*separator_length)\r\n",
        "  questions = df[df.context.values==sample.context]\r\n",
        "  max_len = len(max(questions.question, key=len)) + 5\r\n",
        "  print(\"{: <{max_len}} {: <{max_len}}\".format('QUESTION:','ANSWER:', max_len=max_len))\r\n",
        "  for idx, row in questions.iterrows():\r\n",
        "    question = row.question\r\n",
        "    answer = row['answers.text']\r\n",
        "    print(\"{: <{max_len}} {: <{max_len}}\".format(question,answer, max_len=max_len))\r\n",
        "    \r\n",
        "print_squad_sample(test_dataframe)"
      ],
      "execution_count": 64,
      "outputs": [
        {
          "output_type": "stream",
          "text": [
            "TITLE: \n",
            "Force\n",
            "========================================================================================================================\n",
            "CONTEXT: \n",
            "Newton came to realize that the effects of gravity might be observed in different ways at larger distances. In particular,\n",
            "Newton determined that the acceleration of the Moon around the Earth could be ascribed to the same force of gravity\n",
            "if the acceleration due to gravity decreased as an inverse square law. Further, Newton realized that the acceleration due to\n",
            "gravity is proportional to the mass of the attracting body. Combining these ideas gives a formula that relates the mass\n",
            "() and the radius () of the Earth to the gravitational acceleration:\n",
            "========================================================================================================================\n",
            "QUESTION:                                                                                                                     ANSWER:                                                                                                                      \n",
            "How might gravity effects be observed differently according to Newton?                                                        at larger distances.                                                                                                         \n",
            "What could be attributed to gravity acceleration around the Earth?                                                            the Moon                                                                                                                     \n",
            "What is gravitational acceleration proportional to?                                                                           mass                                                                                                                         \n",
            "What is included along with gravitational acceration, and mass of the Earth in a formula about rotation about the Earth?      radius () of the Earth                                                                                                       \n"
          ],
          "name": "stdout"
        }
      ]
    },
    {
      "cell_type": "markdown",
      "metadata": {
        "id": "Inog-64XTyd0"
      },
      "source": [
        "#Preprocessing the data\r\n",
        "\r\n",
        "Before we can feed those texts to our model, we need to preprocess them. This is done by a 🤗 Transformers Tokenizer which will (as the name indicates) tokenize the inputs (including converting the tokens to their corresponding IDs in the pretrained vocabulary) and put it in a format the model expects, as well as generate the other inputs that model requires.\r\n",
        "\r\n",
        "To do all of this, we instantiate our tokenizer with the AutoTokenizer.from_pretrained method, which will ensure:\r\n",
        "\r\n",
        "- we get a tokenizer that corresponds to the model architecture we want to use,\r\n",
        "- we download the vocabulary used when pretraining this specific checkpoint.\r\n",
        "\r\n",
        "That vocabulary will be cached, so it's not downloaded again the next time we run the cell.\r\n",
        "\r\n",
        "As model_checkpoint we use the best performing version of our DistilBertForQuestionAnswering which we have uploaded on the HuggingFace Hub."
      ]
    },
    {
      "cell_type": "code",
      "metadata": {
        "id": "oOEF4DScUDPi"
      },
      "source": [
        "from transformers import AutoTokenizer\r\n",
        "\r\n",
        "model_checkpoint = \"nlpunibo/distilbert_config3\"\r\n",
        "tokenizer = AutoTokenizer.from_pretrained(model_checkpoint)"
      ],
      "execution_count": 65,
      "outputs": []
    },
    {
      "cell_type": "code",
      "metadata": {
        "id": "AhmVAsCrXKD9"
      },
      "source": [
        "max_length = 384 # The maximum length of a feature (question and context)\r\n",
        "doc_stride = 128 # The authorized overlap between two part of the context when splitting it is needed.\r\n",
        "pad_on_right = True # Our model expects padding on the right"
      ],
      "execution_count": 66,
      "outputs": []
    },
    {
      "cell_type": "markdown",
      "metadata": {
        "id": "SqOg2iAEdrEB"
      },
      "source": [
        "# Evaluation"
      ]
    },
    {
      "cell_type": "markdown",
      "metadata": {
        "id": "h2KRX94OdzPD"
      },
      "source": [
        "We can download the pretrained model. We use our modified version of the `DistilBertForQuestionAnswering` class. Like with the tokenizer, the `from_pretrained` method will download and cache the model for us."
      ]
    },
    {
      "cell_type": "code",
      "metadata": {
        "id": "rV0pZMjOPly2"
      },
      "source": [
        "# DistilBert\r\n",
        "\r\n",
        "import math\r\n",
        "\r\n",
        "from transformers.modeling_outputs import QuestionAnsweringModelOutput\r\n",
        "from transformers import DistilBertPreTrainedModel\r\n",
        "from transformers import DistilBertModel\r\n",
        "\r\n",
        "from torch import nn\r\n",
        "from torch.nn import CrossEntropyLoss\r\n",
        "\r\n",
        "\r\n",
        "def gelu(x):\r\n",
        "    \"\"\"\r\n",
        "    Original Implementation of the GELU activation function in Google BERT repo when initially created. For\r\n",
        "    information: OpenAI GPT's GELU is slightly different (and gives slightly different results): 0.5 * x * (1 +\r\n",
        "    torch.tanh(math.sqrt(2 / math.pi) * (x + 0.044715 * torch.pow(x, 3)))) This is now written in C in\r\n",
        "    torch.nn.functional Also see the Gaussian Error Linear Units paper: https://arxiv.org/abs/1606.08415\r\n",
        "    \"\"\"\r\n",
        "    return x * 0.5 * (1.0 + torch.erf(x / math.sqrt(2.0)))\r\n",
        "\r\n",
        "\r\n",
        "def gelu_new(x):\r\n",
        "    \"\"\"\r\n",
        "    Implementation of the GELU activation function currently in Google BERT repo (identical to OpenAI GPT). Also see\r\n",
        "    the Gaussian Error Linear Units paper: https://arxiv.org/abs/1606.08415\r\n",
        "    \"\"\"\r\n",
        "    return 0.5 * x * (1.0 + torch.tanh(math.sqrt(2.0 / math.pi) * (x + 0.044715 * torch.pow(x, 3.0))))\r\n",
        "\r\n",
        "\r\n",
        "class DistilBertForQuestionAnswering(DistilBertPreTrainedModel):\r\n",
        "    def __init__(self, config):\r\n",
        "        super().__init__(config)\r\n",
        "\r\n",
        "        self.distilbert = DistilBertModel(config)\r\n",
        "\r\n",
        "        self.qa_outputs_0 = nn.Linear(config.dim, 512)\r\n",
        "        self.qa_outputs_1 = nn.Linear(512, 32)\r\n",
        "        self.qa_outputs = nn.Linear(32, config.num_labels)\r\n",
        "        \r\n",
        "        assert config.num_labels == 2\r\n",
        "        self.dropout = nn.Dropout(config.qa_dropout)\r\n",
        "\r\n",
        "        self.LayerNorm = nn.LayerNorm(normalized_shape = [384,2])\r\n",
        "\r\n",
        "        self.init_weights()\r\n",
        "\r\n",
        "    def forward(\r\n",
        "        self,\r\n",
        "        input_ids=None,\r\n",
        "        attention_mask=None,\r\n",
        "        head_mask=None,\r\n",
        "        inputs_embeds=None,\r\n",
        "        start_positions=None,\r\n",
        "        end_positions=None,\r\n",
        "        output_attentions=None,\r\n",
        "        output_hidden_states=None,\r\n",
        "        return_dict=None,\r\n",
        "    ):\r\n",
        "        r\"\"\"\r\n",
        "        start_positions (:obj:`torch.LongTensor` of shape :obj:`(batch_size,)`, `optional`):\r\n",
        "            Labels for position (index) of the start of the labelled span for computing the token classification loss.\r\n",
        "            Positions are clamped to the length of the sequence (:obj:`sequence_length`). Position outside of the\r\n",
        "            sequence are not taken into account for computing the loss.\r\n",
        "        end_positions (:obj:`torch.LongTensor` of shape :obj:`(batch_size,)`, `optional`):\r\n",
        "            Labels for position (index) of the end of the labelled span for computing the token classification loss.\r\n",
        "            Positions are clamped to the length of the sequence (:obj:`sequence_length`). Position outside of the\r\n",
        "            sequence are not taken into account for computing the loss.\r\n",
        "        \"\"\"\r\n",
        "        return_dict = return_dict if return_dict is not None else self.config.use_return_dict\r\n",
        "\r\n",
        "\r\n",
        "        distilbert_output = self.distilbert(\r\n",
        "            input_ids=input_ids,\r\n",
        "            attention_mask=attention_mask,\r\n",
        "            head_mask=head_mask,\r\n",
        "            inputs_embeds=inputs_embeds,\r\n",
        "            output_attentions=output_attentions,\r\n",
        "            output_hidden_states=output_hidden_states,\r\n",
        "            return_dict=return_dict,\r\n",
        "        )\r\n",
        "\r\n",
        " \r\n",
        "        hidden_states = distilbert_output[0]  # (bs, max_query_len, dim)\r\n",
        "        hidden_states = self.dropout(hidden_states)  # (bs, max_query_len, dim)\r\n",
        "\r\n",
        "        logits = gelu_new(self.qa_outputs_0(hidden_states))  # (bs, max_query_len, 2)\r\n",
        "        logits = gelu_new(self.qa_outputs_1(logits))\r\n",
        "        #logits = self.LayerNorm_0(logits)\r\n",
        "      \r\n",
        "        logits = self.qa_outputs(logits)\r\n",
        "        logits = self.LayerNorm(logits)\r\n",
        "       \r\n",
        "        start_logits, end_logits = logits.split(1, dim=-1)\r\n",
        "\r\n",
        "        start_logits = start_logits.squeeze(-1)  # (bs, max_query_len)\r\n",
        "        end_logits = end_logits.squeeze(-1)  # (bs, max_query_len)\r\n",
        "\r\n",
        "\r\n",
        "        total_loss = None\r\n",
        "        if start_positions is not None and end_positions is not None:\r\n",
        "\r\n",
        "            # sometimes the start/end positions are outside our model inputs, we ignore these terms\r\n",
        "            ignored_index = start_logits.size(1)\r\n",
        "            start_positions.clamp_(0, ignored_index)\r\n",
        "            end_positions.clamp_(0, ignored_index)\r\n",
        "\r\n",
        "            loss_fct = nn.CrossEntropyLoss(ignore_index=ignored_index)\r\n",
        "            start_loss = loss_fct(start_logits, start_positions)\r\n",
        "            end_loss = loss_fct(end_logits, end_positions)\r\n",
        "            total_loss = (start_loss + end_loss) / 2\r\n",
        "\r\n",
        "        if not return_dict:\r\n",
        "          output = (start_logits, end_logits) + distilbert_output[1:]\r\n",
        "          return ((total_loss,) + output) if total_loss is not None else output\r\n",
        " \r\n",
        "        return QuestionAnsweringModelOutput(\r\n",
        "            loss=total_loss,\r\n",
        "            start_logits=start_logits,\r\n",
        "            end_logits=end_logits,\r\n",
        "            hidden_states=distilbert_output.hidden_states,\r\n",
        "            attentions=distilbert_output.attentions\r\n",
        "        )"
      ],
      "execution_count": 67,
      "outputs": []
    },
    {
      "cell_type": "code",
      "metadata": {
        "id": "SVzYPE4Pd2tY"
      },
      "source": [
        "from transformers import TrainingArguments, Trainer\r\n",
        "\r\n",
        "model = DistilBertForQuestionAnswering.from_pretrained(model_checkpoint)\r\n",
        "\r\n",
        "# Tell pytorch to run this model on the GPU.\r\n",
        "if torch.cuda.is_available():\r\n",
        "  model.cuda()"
      ],
      "execution_count": 68,
      "outputs": []
    },
    {
      "cell_type": "markdown",
      "metadata": {
        "id": "Q9XNUx65b9EK"
      },
      "source": [
        "Evaluating our model will require some work, as we will need to map the predictions of our model back to parts of the context. The model itself predicts logits for the start and end position of our answers. The output of the model is a dict-like object that contains the loss (since we provided labels), the start and end logits.\r\n",
        "\r\n",
        "We have one logit for each feature and each token. The most obvious thing to predict an answer for each feature is to take the index for the maximum of the start logits as a start position and the index of the maximum of the end logits as an end position.\r\n",
        "\r\n",
        "This will work great in a lot of cases, but what if this prediction gives us something impossible: the start position could be greater than the end position, or point to a span of text in the question instead of the answer. In that case, we might want to look at the second best prediction to see if it gives a possible answer and select that instead.\r\n",
        "\r\n",
        "However, picking the second best answer is not as easy as picking the best one: is it the second best index in the start logits with the best index in the end logits? Or the best index in the start logits with the second best index in the end logits? And if that second best answer is not possible either, it gets even trickier for the third best answer."
      ]
    },
    {
      "cell_type": "markdown",
      "metadata": {
        "id": "TgtKN3wsfeBU"
      },
      "source": [
        "To classify our answers, we will use the score obtained by adding the start and end logits. We won't try to order all the possible answers and limit ourselves to with a hyper-parameter we call `n_best_size`. We'll pick the best indices in the start and end logits and gather all the answers this predicts. After checking if each one is valid, we will sort them by their score and keep the best one.\r\n",
        "\r\n",
        "We also eliminate very long answers from our considerations (with an hyper-parameter we can tune).\r\n",
        "\r\n",
        "Since one example can give several features, we will need to gather together all the answers in all the features generated by a given example, then pick the best one. We need to build a map from example index to its corresponding features indices.\r\n",
        "\r\n",
        "\r\n",
        " All combined together, this gives us this `post-processing` function:"
      ]
    },
    {
      "cell_type": "code",
      "metadata": {
        "id": "2FlROrJIi9Th"
      },
      "source": [
        "import collections\r\n",
        "from tqdm import tqdm, tqdm_notebook\r\n",
        "\r\n",
        "def postprocess_qa_predictions(examples: datasets.arrow_dataset.Dataset,\r\n",
        "                               features: datasets.arrow_dataset.Dataset,\r\n",
        "                               raw_predictions: tuple,\r\n",
        "                               n_best_size: int = 20,\r\n",
        "                               max_answer_length: int = 50) -> collections.OrderedDict:\r\n",
        "    \"\"\"Function used to select the best answer from the raw predictions\r\n",
        "\r\n",
        "      Args:\r\n",
        "        examples: Squad samples\r\n",
        "        features: Squad features\r\n",
        "        raw_predictions: model predictions\r\n",
        "    \"\"\"\r\n",
        "    all_start_logits, all_end_logits = raw_predictions\r\n",
        "    # Build a map example to its corresponding features.\r\n",
        "    example_id_to_index = {k: i for i, k in enumerate(examples[\"id\"])}\r\n",
        "    features_per_example = collections.defaultdict(list)\r\n",
        "    for i, feature in enumerate(features):\r\n",
        "        features_per_example[example_id_to_index[feature[\"example_id\"]]].append(i)\r\n",
        "\r\n",
        "    # The dictionaries we have to fill.\r\n",
        "    predictions = collections.OrderedDict()\r\n",
        "\r\n",
        "    # Let's loop over all the examples!\r\n",
        "    for example_index, example in enumerate(tqdm(examples)):\r\n",
        "        # Those are the indices of the features associated to the current example.\r\n",
        "        feature_indices = features_per_example[example_index]\r\n",
        "        valid_answers = []\r\n",
        "        \r\n",
        "        context = example[\"context\"]\r\n",
        "        # Looping through all the features associated to the current example.\r\n",
        "        for feature_index in feature_indices:\r\n",
        "            # We grab the predictions of the model for this feature.\r\n",
        "            start_logits = all_start_logits[feature_index]\r\n",
        "            end_logits = all_end_logits[feature_index]\r\n",
        "            # This is what will allow us to map some the positions in our logits to span of texts in the original\r\n",
        "            # context.\r\n",
        "            offset_mapping = features[feature_index][\"offset_mapping\"]\r\n",
        "\r\n",
        "            # Update minimum null prediction.\r\n",
        "            cls_index = features[feature_index][\"input_ids\"].index(tokenizer.cls_token_id)\r\n",
        "            feature_null_score = start_logits[cls_index] + end_logits[cls_index]\r\n",
        "\r\n",
        "            # Go through all possibilities for the `n_best_size` greater start and end logits.\r\n",
        "            start_indexes = np.argsort(start_logits)[-1 : -n_best_size - 1 : -1].tolist()\r\n",
        "            end_indexes = np.argsort(end_logits)[-1 : -n_best_size - 1 : -1].tolist()\r\n",
        "            for start_index in start_indexes:\r\n",
        "                for end_index in end_indexes:\r\n",
        "                    # Don't consider out-of-scope answers, either because the indices are out of bounds or correspond\r\n",
        "                    # to part of the input_ids that are not in the context.\r\n",
        "                    if (\r\n",
        "                        start_index >= len(offset_mapping)\r\n",
        "                        or end_index >= len(offset_mapping)\r\n",
        "                        or offset_mapping[start_index] is None\r\n",
        "                        or offset_mapping[end_index] is None\r\n",
        "                    ):\r\n",
        "                        continue\r\n",
        "                    # Don't consider answers with a length that is either < 0 or > max_answer_length.\r\n",
        "                    if end_index < start_index or end_index - start_index + 1 > max_answer_length:\r\n",
        "                        continue\r\n",
        "\r\n",
        "                    start_char = offset_mapping[start_index][0]\r\n",
        "                    end_char = offset_mapping[end_index][1]\r\n",
        "                    valid_answers.append(\r\n",
        "                        {\r\n",
        "                            \"score\": start_logits[start_index] + end_logits[end_index],\r\n",
        "                            \"text\": context[start_char: end_char]\r\n",
        "                        }\r\n",
        "                    )\r\n",
        "        \r\n",
        "        if len(valid_answers) > 0:\r\n",
        "            best_answer = sorted(valid_answers, key=lambda x: x[\"score\"], reverse=True)[0]\r\n",
        "        else:\r\n",
        "            # In the very rare edge case we have not a single non-null prediction, we create a fake prediction to avoid\r\n",
        "            # failure.\r\n",
        "            best_answer = {\"text\": \"\", \"score\": 0.0}\r\n",
        "        \r\n",
        "        # Let's pick our final answer\r\n",
        "        predictions[example[\"id\"]] = best_answer[\"text\"]\r\n",
        "\r\n",
        "    return predictions"
      ],
      "execution_count": 69,
      "outputs": []
    },
    {
      "cell_type": "markdown",
      "metadata": {
        "id": "UIIlk6R3eC40"
      },
      "source": [
        "The only point left is how to check a given span is inside the context (and not the question) and how to get back the text inside. To do this, we need to add two things to our validation features:\r\n",
        "\r\n",
        "- the ID of the example that generated the feature (since each example can generate several features, as seen before);\r\n",
        "- the offset mapping that will give us a map from token indices to character positions in the context.\r\n"
      ]
    },
    {
      "cell_type": "code",
      "metadata": {
        "id": "LZoJcV9_hmqq"
      },
      "source": [
        "def prepare_validation_features(examples: collections.OrderedDict or dict) -> transformers.tokenization_utils_base.BatchEncoding:\r\n",
        "    \"\"\"To check a given span is inside the context (and not the question) and to get back the text inside.\r\n",
        "        To do this, we need to add two things to our validation features:\r\n",
        "        - the ID of the example that generated the feature (since each example can generate several features, as seen before);\r\n",
        "        - the offset mapping that will give us a map from token indices to character positions in the context.\r\n",
        "        That's why we will re-process the validation set with the following function, slightly different from `prepare_train_features`\r\n",
        "\r\n",
        "      Args:\r\n",
        "        examples: Squad samples\r\n",
        "    \"\"\"\r\n",
        "    # Tokenize our examples with truncation and maybe padding, but keep the overflows using a stride. This results\r\n",
        "    # in one example possible giving several features when a context is long, each of those features having a\r\n",
        "    # context that overlaps a bit the context of the previous feature.\r\n",
        "    tokenized_examples = tokenizer(\r\n",
        "        examples[\"question\" if pad_on_right else \"context\"],\r\n",
        "        examples[\"context\" if pad_on_right else \"question\"],\r\n",
        "        truncation=\"only_second\" if pad_on_right else \"only_first\",\r\n",
        "        max_length=max_length,\r\n",
        "        stride=doc_stride,\r\n",
        "        return_overflowing_tokens=True,\r\n",
        "        return_offsets_mapping=True,\r\n",
        "        padding=\"max_length\",\r\n",
        "    )\r\n",
        "\r\n",
        "    # Since one example might give us several features if it has a long context, we need a map from a feature to\r\n",
        "    # its corresponding example. This key gives us just that.\r\n",
        "    sample_mapping = tokenized_examples.pop(\"overflow_to_sample_mapping\")\r\n",
        "\r\n",
        "    # The offset mappings will give us a map from token to character position in the original context. This will\r\n",
        "    # help us compute the start_positions and end_positions.\r\n",
        "    offset_mapping = tokenized_examples[\"offset_mapping\"]\r\n",
        "\r\n",
        "    # Let's label those examples!\r\n",
        "    tokenized_examples[\"start_positions\"] = []\r\n",
        "    tokenized_examples[\"end_positions\"] = []\r\n",
        "\r\n",
        "    for i, offsets in enumerate(offset_mapping):\r\n",
        "      # CLS index\r\n",
        "      input_ids = tokenized_examples[\"input_ids\"][i]\r\n",
        "      cls_index = input_ids.index(tokenizer.cls_token_id)\r\n",
        "\r\n",
        "      # Grab the sequence corresponding to that example (to know what is the context and what is the question).\r\n",
        "      sequence_ids = tokenized_examples.sequence_ids(i)\r\n",
        "\r\n",
        "      # One example can give several spans, this is the index of the example containing this span of text.\r\n",
        "      sample_index = sample_mapping[i]\r\n",
        "      answers = examples[\"answers\"][sample_index]\r\n",
        "\r\n",
        "      # Start/end character index of the answer in the text.\r\n",
        "      start_char = answers[\"answer_start\"][0]\r\n",
        "      end_char = start_char + len(answers[\"text\"][0])\r\n",
        "\r\n",
        "      # Start token index of the current span in the text.\r\n",
        "      token_start_index = 0\r\n",
        "      while sequence_ids[token_start_index] != (1 if pad_on_right else 0):\r\n",
        "          token_start_index += 1\r\n",
        "\r\n",
        "      # End token index of the current span in the text.\r\n",
        "      token_end_index = len(input_ids) - 1\r\n",
        "      while sequence_ids[token_end_index] != (1 if pad_on_right else 0):\r\n",
        "          token_end_index -= 1\r\n",
        "\r\n",
        "      # Detect if the answer is out of the span (in which case this feature is labeled with the CLS index).\r\n",
        "      if not (offsets[token_start_index][0] <= start_char and offsets[token_end_index][1] >= end_char):\r\n",
        "          tokenized_examples[\"start_positions\"].append(cls_index)\r\n",
        "          tokenized_examples[\"end_positions\"].append(cls_index)\r\n",
        "      else:\r\n",
        "          # Otherwise move the token_start_index and token_end_index to the two ends of the answer.\r\n",
        "          # Note: we could go after the last offset if the answer is the last word (edge case).\r\n",
        "          while token_start_index < len(offsets) and offsets[token_start_index][0] <= start_char:\r\n",
        "              token_start_index += 1\r\n",
        "          tokenized_examples[\"start_positions\"].append(token_start_index - 1)\r\n",
        "          while offsets[token_end_index][1] >= end_char:\r\n",
        "              token_end_index -= 1\r\n",
        "          tokenized_examples[\"end_positions\"].append(token_end_index + 1)\r\n",
        "\r\n",
        "    # We keep the example_id that gave us this feature and we will store the offset mappings.\r\n",
        "    tokenized_examples[\"example_id\"] = []\r\n",
        "\r\n",
        "    for i in range(len(tokenized_examples[\"input_ids\"])):\r\n",
        "        # Grab the sequence corresponding to that example (to know what is the context and what is the question).\r\n",
        "        sequence_ids = tokenized_examples.sequence_ids(i)\r\n",
        "        context_index = 1 if pad_on_right else 0\r\n",
        "\r\n",
        "        # One example can give several spans, this is the index of the example containing this span of text.\r\n",
        "        sample_index = sample_mapping[i]\r\n",
        "        tokenized_examples[\"example_id\"].append(examples[\"id\"][sample_index])\r\n",
        "\r\n",
        "        # Set to None the offset_mapping that are not part of the context so it's easy to determine if a token\r\n",
        "        # position is part of the context or not.\r\n",
        "        tokenized_examples[\"offset_mapping\"][i] = [\r\n",
        "            (o if sequence_ids[k] == context_index else None)\r\n",
        "            for k, o in enumerate(tokenized_examples[\"offset_mapping\"][i])\r\n",
        "        ]\r\n",
        "\r\n",
        "    return tokenized_examples"
      ],
      "execution_count": 70,
      "outputs": []
    },
    {
      "cell_type": "code",
      "metadata": {
        "id": "WhidQb3ljW6n",
        "colab": {
          "base_uri": "https://localhost:8080/",
          "height": 66,
          "referenced_widgets": [
            "76888d142095450d8d3d647d8e656cf0",
            "7c753b376ada4796851c2fa12aa68737",
            "367b092658f446eba2bfda94a98c0bbf",
            "62f93f5e71014ccdbda345d3d08f41bb",
            "8dd4a84d9e11433bbeb12b63fd2b8aa5",
            "73ea8604d9724719ae9818b4cde32a36",
            "b8e70c07d817459a8df6ba987264b4e2",
            "718cf3570e3c4696a0299bf6bc12c870"
          ]
        },
        "outputId": "ae531a11-f9c6-4759-ee2e-24744ab736ce"
      },
      "source": [
        "test_features = test_data['train'].map(prepare_validation_features, batched=True, remove_columns=test_data['train'].column_names)"
      ],
      "execution_count": 71,
      "outputs": [
        {
          "output_type": "display_data",
          "data": {
            "application/vnd.jupyter.widget-view+json": {
              "model_id": "76888d142095450d8d3d647d8e656cf0",
              "version_minor": 0,
              "version_major": 2
            },
            "text/plain": [
              "HBox(children=(FloatProgress(value=0.0, max=11.0), HTML(value='')))"
            ]
          },
          "metadata": {
            "tags": []
          }
        },
        {
          "output_type": "stream",
          "text": [
            "\n"
          ],
          "name": "stdout"
        }
      ]
    },
    {
      "cell_type": "markdown",
      "metadata": {
        "id": "GYjOLpYMtmXe"
      },
      "source": [
        "We instantiate a `Trainer`, that will be used to get the predictions.\r\n",
        "Note: This is not necessary, but using the Trainer instead of directly the model to get the predictions simplify this operation."
      ]
    },
    {
      "cell_type": "code",
      "metadata": {
        "id": "K82JqsZ3thEC"
      },
      "source": [
        "args = TrainingArguments(\r\n",
        "    output_dir='./results',\r\n",
        "    label_names=[\"start_positions\", \"end_positions\"]\r\n",
        ")\r\n",
        "trainer = Trainer(model, args)"
      ],
      "execution_count": 72,
      "outputs": []
    },
    {
      "cell_type": "code",
      "metadata": {
        "colab": {
          "base_uri": "https://localhost:8080/",
          "height": 37
        },
        "id": "I0G-l4GLufC9",
        "outputId": "bb9b5b65-99a4-4ad6-bae8-ad931b83361c"
      },
      "source": [
        "# Get final predictions\r\n",
        "with torch.no_grad():\r\n",
        "    pred = trainer.predict(test_features)"
      ],
      "execution_count": 73,
      "outputs": [
        {
          "output_type": "display_data",
          "data": {
            "text/html": [
              "\n",
              "    <div>\n",
              "        <style>\n",
              "            /* Turns off some styling */\n",
              "            progress {\n",
              "                /* gets rid of default border in Firefox and Opera. */\n",
              "                border: none;\n",
              "                /* Needs to be in here for Safari polyfill so background images work as expected. */\n",
              "                background-size: auto;\n",
              "            }\n",
              "        </style>\n",
              "      \n",
              "      <progress value='1348' max='1348' style='width:300px; height:20px; vertical-align: middle;'></progress>\n",
              "      [1348/1348 04:37]\n",
              "    </div>\n",
              "    "
            ],
            "text/plain": [
              "<IPython.core.display.HTML object>"
            ]
          },
          "metadata": {
            "tags": []
          }
        }
      ]
    },
    {
      "cell_type": "code",
      "metadata": {
        "id": "76GsMSs7upgs",
        "colab": {
          "base_uri": "https://localhost:8080/"
        },
        "outputId": "29a6d657-6c04-4ca2-e56a-c8aa9c2e161c"
      },
      "source": [
        "# The Trainer hides the columns that are not used by the model (here example_id and offset_mapping which we will need for our post-processing), so we set them back\r\n",
        "test_features.set_format(type=test_features.format[\"type\"],\r\n",
        "                          columns=list(test_features.features.keys()))\r\n",
        "\r\n",
        "# To get the final predictions we can apply our post-processing function to our raw predictions\r\n",
        "final_predictions = dict(postprocess_qa_predictions(test_data['train'], test_features, pred.predictions))"
      ],
      "execution_count": 74,
      "outputs": [
        {
          "output_type": "stream",
          "text": [
            "100%|██████████| 10570/10570 [00:24<00:00, 428.27it/s]\n"
          ],
          "name": "stderr"
        }
      ]
    },
    {
      "cell_type": "code",
      "metadata": {
        "id": "AHiYByi-uv54"
      },
      "source": [
        "# Create a new file and save the predictions\r\n",
        "with open(data_path + \"predictions.json\", 'w') as file:\r\n",
        "    file.write(json.dumps(final_predictions))\r\n",
        "    file.close()"
      ],
      "execution_count": 75,
      "outputs": []
    },
    {
      "cell_type": "markdown",
      "metadata": {
        "id": "cGJyJxn1Ujhc"
      },
      "source": [
        "# Inference"
      ]
    },
    {
      "cell_type": "code",
      "metadata": {
        "id": "sxsWHv8I5HgR"
      },
      "source": [
        "formatted_predictions = {k : v for k, v in final_predictions.items()}\r\n",
        "metric = datasets.load_metric(\"squad\")"
      ],
      "execution_count": 76,
      "outputs": []
    },
    {
      "cell_type": "code",
      "metadata": {
        "id": "hHgwYht3Ujhg",
        "colab": {
          "base_uri": "https://localhost:8080/"
        },
        "outputId": "04ae8f99-a9eb-42f1-89fc-f0944bdc2d43"
      },
      "source": [
        "#@title Show Results { run: \"auto\", display-mode: \"form\" }\r\n",
        "\r\n",
        "def print_squad_sample(df: pd.core.frame.DataFrame, formatted_predictions: dict, line_length: int=20, separator_length: int=120) -> None:\r\n",
        "  sample = df.iloc[random.randint(0,df.shape[0])]\r\n",
        "  title = sample.title.replace('_', ' ')\r\n",
        "  print('TITLE: ')\r\n",
        "  print(title)\r\n",
        "  print('='*separator_length)\r\n",
        "  context = sample.context.split()\r\n",
        "  print('CONTEXT: ')\r\n",
        "  lines = [' '.join(context[idx:idx+line_length]) for idx in range(0, len(context), line_length)]\r\n",
        "  for l in lines:\r\n",
        "      print(l)\r\n",
        "  print('='*separator_length)\r\n",
        "  questions = df[df.context.values==sample.context]\r\n",
        "\r\n",
        "  max_len_question = len(max(questions.question, key=len)) + 5\r\n",
        "  max_len_answer = len(max(questions[\"answers.text\"], key=len)) + 5 \r\n",
        "\r\n",
        "  print(\"{: <{max_len_question}} {: <{max_len_answer}} {: <{max_len_answer}} {}\".format('QUESTION:','ANSWER:', \"PREDICTION:\", \"EM?\", max_len_question=max_len_question, max_len_answer= max_len_answer))\r\n",
        "  for idx, row in questions.iterrows():\r\n",
        "    question = row.question\r\n",
        "    answer = row[\"answers.text\"]\r\n",
        "    predicted = formatted_predictions[row.id]\r\n",
        "    correct = \"✔\" if predicted == answer else \"✘\"\r\n",
        "    print(\"{: <{max_len_question}} {: <{max_len_answer}} {: <{max_len_answer}} {}\".format(question,answer,predicted,correct, max_len_question=max_len_question, max_len_answer = max_len_answer))\r\n",
        "\r\n",
        "df = pd.json_normalize(get_json_data(data_path+\"test.json\"), record_path='data')\r\n",
        "df[\"answers.text\"] = df[\"answers.text\"].apply(get_text)\r\n",
        "print_squad_sample(df, formatted_predictions)\r\n"
      ],
      "execution_count": 77,
      "outputs": [
        {
          "output_type": "stream",
          "text": [
            "TITLE: \n",
            "Force\n",
            "========================================================================================================================\n",
            "CONTEXT: \n",
            "Newton came to realize that the effects of gravity might be observed in different ways at larger distances. In particular,\n",
            "Newton determined that the acceleration of the Moon around the Earth could be ascribed to the same force of gravity\n",
            "if the acceleration due to gravity decreased as an inverse square law. Further, Newton realized that the acceleration due to\n",
            "gravity is proportional to the mass of the attracting body. Combining these ideas gives a formula that relates the mass\n",
            "() and the radius () of the Earth to the gravitational acceleration:\n",
            "========================================================================================================================\n",
            "QUESTION:                                                                                                                     ANSWER:                     PREDICTION:                 EM?\n",
            "How might gravity effects be observed differently according to Newton?                                                        at larger distances.        in different ways at larger distances ✘\n",
            "What could be attributed to gravity acceleration around the Earth?                                                            the Moon                    the acceleration of the Moon ✘\n",
            "What is gravitational acceleration proportional to?                                                                           mass                        the mass of the attracting body ✘\n",
            "What is included along with gravitational acceration, and mass of the Earth in a formula about rotation about the Earth?      radius () of the Earth      radius                      ✘\n"
          ],
          "name": "stdout"
        }
      ]
    },
    {
      "cell_type": "code",
      "metadata": {
        "id": "6qsmnexZK6kJ"
      },
      "source": [
        "test_dataframe['prediction_text'] = formatted_predictions.values()"
      ],
      "execution_count": 78,
      "outputs": []
    },
    {
      "cell_type": "code",
      "metadata": {
        "colab": {
          "base_uri": "https://localhost:8080/",
          "height": 570
        },
        "id": "3fnXhb1Brik1",
        "outputId": "1dba71eb-08f3-44ef-9ea0-5f94c3447422"
      },
      "source": [
        "test_dataframe"
      ],
      "execution_count": 79,
      "outputs": [
        {
          "output_type": "execute_result",
          "data": {
            "text/html": [
              "<div>\n",
              "<style scoped>\n",
              "    .dataframe tbody tr th:only-of-type {\n",
              "        vertical-align: middle;\n",
              "    }\n",
              "\n",
              "    .dataframe tbody tr th {\n",
              "        vertical-align: top;\n",
              "    }\n",
              "\n",
              "    .dataframe thead th {\n",
              "        text-align: right;\n",
              "    }\n",
              "</style>\n",
              "<table border=\"1\" class=\"dataframe\">\n",
              "  <thead>\n",
              "    <tr style=\"text-align: right;\">\n",
              "      <th></th>\n",
              "      <th>title</th>\n",
              "      <th>context</th>\n",
              "      <th>question</th>\n",
              "      <th>id</th>\n",
              "      <th>answers.answer_start</th>\n",
              "      <th>answers.text</th>\n",
              "      <th>prediction_text</th>\n",
              "    </tr>\n",
              "  </thead>\n",
              "  <tbody>\n",
              "    <tr>\n",
              "      <th>0</th>\n",
              "      <td>Super_Bowl_50</td>\n",
              "      <td>Super Bowl 50 was an American football game to...</td>\n",
              "      <td>Which NFL team represented the AFC at Super Bo...</td>\n",
              "      <td>56be4db0acb8001400a502ec</td>\n",
              "      <td>[177, 177, 177]</td>\n",
              "      <td>Denver Broncos</td>\n",
              "      <td>Denver Broncos</td>\n",
              "    </tr>\n",
              "    <tr>\n",
              "      <th>1</th>\n",
              "      <td>Super_Bowl_50</td>\n",
              "      <td>Super Bowl 50 was an American football game to...</td>\n",
              "      <td>Which NFL team represented the NFC at Super Bo...</td>\n",
              "      <td>56be4db0acb8001400a502ed</td>\n",
              "      <td>[249, 249, 249]</td>\n",
              "      <td>Carolina Panthers</td>\n",
              "      <td>Carolina Panthers</td>\n",
              "    </tr>\n",
              "    <tr>\n",
              "      <th>2</th>\n",
              "      <td>Super_Bowl_50</td>\n",
              "      <td>Super Bowl 50 was an American football game to...</td>\n",
              "      <td>Where did Super Bowl 50 take place?</td>\n",
              "      <td>56be4db0acb8001400a502ee</td>\n",
              "      <td>[403, 355, 355]</td>\n",
              "      <td>Santa Clara, California</td>\n",
              "      <td>Levi's Stadium</td>\n",
              "    </tr>\n",
              "    <tr>\n",
              "      <th>3</th>\n",
              "      <td>Super_Bowl_50</td>\n",
              "      <td>Super Bowl 50 was an American football game to...</td>\n",
              "      <td>Which NFL team won Super Bowl 50?</td>\n",
              "      <td>56be4db0acb8001400a502ef</td>\n",
              "      <td>[177, 177, 177]</td>\n",
              "      <td>Denver Broncos</td>\n",
              "      <td>Denver Broncos</td>\n",
              "    </tr>\n",
              "    <tr>\n",
              "      <th>4</th>\n",
              "      <td>Super_Bowl_50</td>\n",
              "      <td>Super Bowl 50 was an American football game to...</td>\n",
              "      <td>What color was used to emphasize the 50th anni...</td>\n",
              "      <td>56be4db0acb8001400a502f0</td>\n",
              "      <td>[488, 488, 521]</td>\n",
              "      <td>gold</td>\n",
              "      <td>gold</td>\n",
              "    </tr>\n",
              "    <tr>\n",
              "      <th>...</th>\n",
              "      <td>...</td>\n",
              "      <td>...</td>\n",
              "      <td>...</td>\n",
              "      <td>...</td>\n",
              "      <td>...</td>\n",
              "      <td>...</td>\n",
              "      <td>...</td>\n",
              "    </tr>\n",
              "    <tr>\n",
              "      <th>10565</th>\n",
              "      <td>Force</td>\n",
              "      <td>The pound-force has a metric counterpart, less...</td>\n",
              "      <td>What is the metric term less used than the New...</td>\n",
              "      <td>5737aafd1c456719005744fb</td>\n",
              "      <td>[82, 4, 82, 82, 78]</td>\n",
              "      <td>kilogram-force</td>\n",
              "      <td>The pound-force</td>\n",
              "    </tr>\n",
              "    <tr>\n",
              "      <th>10566</th>\n",
              "      <td>Force</td>\n",
              "      <td>The pound-force has a metric counterpart, less...</td>\n",
              "      <td>What is the kilogram-force sometimes reffered ...</td>\n",
              "      <td>5737aafd1c456719005744fc</td>\n",
              "      <td>[114, 114, 114, 114, 114]</td>\n",
              "      <td>kilopond</td>\n",
              "      <td>kilopond</td>\n",
              "    </tr>\n",
              "    <tr>\n",
              "      <th>10567</th>\n",
              "      <td>Force</td>\n",
              "      <td>The pound-force has a metric counterpart, less...</td>\n",
              "      <td>What is a very seldom used unit of mass in the...</td>\n",
              "      <td>5737aafd1c456719005744fd</td>\n",
              "      <td>[274, 267, 267, 267, 263]</td>\n",
              "      <td>slug</td>\n",
              "      <td>the metric slug</td>\n",
              "    </tr>\n",
              "    <tr>\n",
              "      <th>10568</th>\n",
              "      <td>Force</td>\n",
              "      <td>The pound-force has a metric counterpart, less...</td>\n",
              "      <td>What seldom used term of a unit of force equal...</td>\n",
              "      <td>5737aafd1c456719005744fe</td>\n",
              "      <td>[712, 712, 712, 712, 712]</td>\n",
              "      <td>kip</td>\n",
              "      <td>the metric slug</td>\n",
              "    </tr>\n",
              "    <tr>\n",
              "      <th>10569</th>\n",
              "      <td>Force</td>\n",
              "      <td>The pound-force has a metric counterpart, less...</td>\n",
              "      <td>What is the seldom used force unit equal to on...</td>\n",
              "      <td>5737aafd1c456719005744ff</td>\n",
              "      <td>[665, 665, 665, 665, 665]</td>\n",
              "      <td>sthène</td>\n",
              "      <td>the metric slug</td>\n",
              "    </tr>\n",
              "  </tbody>\n",
              "</table>\n",
              "<p>10570 rows × 7 columns</p>\n",
              "</div>"
            ],
            "text/plain": [
              "               title  ...    prediction_text\n",
              "0      Super_Bowl_50  ...     Denver Broncos\n",
              "1      Super_Bowl_50  ...  Carolina Panthers\n",
              "2      Super_Bowl_50  ...     Levi's Stadium\n",
              "3      Super_Bowl_50  ...     Denver Broncos\n",
              "4      Super_Bowl_50  ...               gold\n",
              "...              ...  ...                ...\n",
              "10565          Force  ...    The pound-force\n",
              "10566          Force  ...           kilopond\n",
              "10567          Force  ...    the metric slug\n",
              "10568          Force  ...    the metric slug\n",
              "10569          Force  ...    the metric slug\n",
              "\n",
              "[10570 rows x 7 columns]"
            ]
          },
          "metadata": {
            "tags": []
          },
          "execution_count": 79
        }
      ]
    },
    {
      "cell_type": "code",
      "metadata": {
        "id": "6k5J_k5TO8eJ"
      },
      "source": [
        "# Function to get the questions' head\r\n",
        "def get_5w(question: str) -> str:\r\n",
        "    \"\"\"Extract only the \"head\" froma a question\r\n",
        "\r\n",
        "    Args:\r\n",
        "        question: the question.\r\n",
        "    \"\"\"\r\n",
        "    return question.split()[0].strip().lower()\r\n",
        "test_dataframe['question'] = test_dataframe['question'].apply(get_5w)"
      ],
      "execution_count": 80,
      "outputs": []
    },
    {
      "cell_type": "code",
      "metadata": {
        "id": "x8zEnUQKUQvu",
        "colab": {
          "base_uri": "https://localhost:8080/"
        },
        "outputId": "885863a1-0ccd-438a-aa0e-3415a4fce62f"
      },
      "source": [
        "total = test_dataframe.shape[0]\r\n",
        "top_qheads = test_dataframe['question'].value_counts().sort_values(ascending=False)[0:25]\r\n",
        "qheads = list(top_qheads.index)\r\n",
        "count = top_qheads.to_list()\r\n",
        "\r\n",
        "print(\"Label\\t\\tCount\\t\\tPercentage\\n\")\r\n",
        "for i, j in enumerate(top_qheads):\r\n",
        "  print(\"{: <15} {: <15} {:.1f}%\".format(qheads[i],j,j/total*100))"
      ],
      "execution_count": 81,
      "outputs": [
        {
          "output_type": "stream",
          "text": [
            "Label\t\tCount\t\tPercentage\n",
            "\n",
            "what            4749            44.9%\n",
            "how             1090            10.3%\n",
            "who             1059            10.0%\n",
            "when            696             6.6%\n",
            "which           454             4.3%\n",
            "in              443             4.2%\n",
            "where           433             4.1%\n",
            "the             237             2.2%\n",
            "why             151             1.4%\n",
            "on              44              0.4%\n",
            "to              43              0.4%\n",
            "by              38              0.4%\n",
            "along           36              0.3%\n",
            "at              35              0.3%\n",
            "whose           34              0.3%\n",
            "if              32              0.3%\n",
            "after           31              0.3%\n",
            "besides         30              0.3%\n",
            "other           29              0.3%\n",
            "a               29              0.3%\n",
            "for             27              0.3%\n",
            "approximately   26              0.2%\n",
            "from            26              0.2%\n",
            "according       23              0.2%\n",
            "during          22              0.2%\n"
          ],
          "name": "stdout"
        }
      ]
    },
    {
      "cell_type": "code",
      "metadata": {
        "id": "o0xhPDgvXZwB",
        "colab": {
          "base_uri": "https://localhost:8080/"
        },
        "outputId": "ddba311d-3c3a-4131-b858-f9b1a0a8a8a5"
      },
      "source": [
        "#@title Show Statistics { run: \"auto\", display-mode: \"form\" }\r\n",
        "\r\n",
        "question_head = 'for' #@param ['what', 'how', 'who', 'when', 'which', 'in', 'where', 'why', 'the', 'during', 'along', 'on', 'at', 'to', 'from', 'for', 'a', 'by', 'whose', 'is', 'according', 'after', 'if', 'name', 'as']\r\n",
        "temp = test_dataframe\r\n",
        "temp['answers'] = test_data[\"train\"]['answers']\r\n",
        "temp = test_dataframe[test_dataframe['question'].isin([question_head])]\r\n",
        "final_predictions = temp[['id','prediction_text']].to_dict('records')\r\n",
        "references = temp[['answers','id']].to_dict('records')\r\n",
        "metrics = metric.compute(predictions=final_predictions, references=references)\r\n",
        "print(metrics)"
      ],
      "execution_count": 82,
      "outputs": [
        {
          "output_type": "stream",
          "text": [
            "{'exact_match': 74.07407407407408, 'f1': 80.87301587301587}\n"
          ],
          "name": "stdout"
        }
      ]
    },
    {
      "cell_type": "code",
      "metadata": {
        "id": "B9P3RPAQbUfe"
      },
      "source": [
        "f1_list = []\r\n",
        "em_list = []\r\n",
        "\r\n",
        "for q in qheads:\r\n",
        "  temp = test_dataframe\r\n",
        "  temp['answers'] = test_data[\"train\"]['answers']\r\n",
        "  temp = test_dataframe[test_dataframe['question'].isin([q])]\r\n",
        "  final_predictions = temp[['id','prediction_text']].to_dict('records')\r\n",
        "  references = temp[['answers','id']].to_dict('records')\r\n",
        "  metrics = metric.compute(predictions=final_predictions, references=references)\r\n",
        "  em_list.append(metrics['exact_match'])\r\n",
        "  f1_list.append(metrics['f1'])"
      ],
      "execution_count": 83,
      "outputs": []
    },
    {
      "cell_type": "code",
      "metadata": {
        "colab": {
          "base_uri": "https://localhost:8080/"
        },
        "id": "7KCvPCdcyuG3",
        "outputId": "104c34ef-ba34-4538-c006-26bac5bbbd81"
      },
      "source": [
        "qheads"
      ],
      "execution_count": 84,
      "outputs": [
        {
          "output_type": "execute_result",
          "data": {
            "text/plain": [
              "['what',\n",
              " 'how',\n",
              " 'who',\n",
              " 'when',\n",
              " 'which',\n",
              " 'in',\n",
              " 'where',\n",
              " 'the',\n",
              " 'why',\n",
              " 'on',\n",
              " 'to',\n",
              " 'by',\n",
              " 'along',\n",
              " 'at',\n",
              " 'whose',\n",
              " 'if',\n",
              " 'after',\n",
              " 'besides',\n",
              " 'other',\n",
              " 'a',\n",
              " 'for',\n",
              " 'approximately',\n",
              " 'from',\n",
              " 'according',\n",
              " 'during']"
            ]
          },
          "metadata": {
            "tags": []
          },
          "execution_count": 84
        }
      ]
    },
    {
      "cell_type": "code",
      "metadata": {
        "id": "gFsPAP-XcgSP",
        "colab": {
          "base_uri": "https://localhost:8080/",
          "height": 335
        },
        "outputId": "b53164a7-22ad-492c-e1ac-8b1fe1ef0268"
      },
      "source": [
        "import matplotlib.pyplot as plt\r\n",
        "\r\n",
        "x1 = count\r\n",
        "y1 = em_list\r\n",
        "\r\n",
        "plt.figure(figsize=(9,5))\r\n",
        "\r\n",
        "plt.scatter(x1, y1, label = \"line 1\")\r\n",
        "plt.xlabel('Occurrences')\r\n",
        "plt.ylabel('Exact match')\r\n",
        "\r\n",
        "for i, q in enumerate(qheads):\r\n",
        "    plt.annotate(q, (count[i], em_list[i]),  (count[i], em_list[i] + 1))\r\n",
        "\r\n",
        "# Display a figure.\r\n",
        "plt.show()"
      ],
      "execution_count": 85,
      "outputs": [
        {
          "output_type": "display_data",
          "data": {
            "image/png": "[encoded data removed]",
            "text/plain": [
              "<Figure size 648x360 with 1 Axes>"
            ]
          },
          "metadata": {
            "tags": [],
            "needs_background": "light"
          }
        }
      ]
    },
    {
      "cell_type": "code",
      "metadata": {
        "id": "bEEelg3leqQz",
        "colab": {
          "base_uri": "https://localhost:8080/",
          "height": 338
        },
        "outputId": "027c47f4-ad33-4a3d-963d-b8e0775b367e"
      },
      "source": [
        "x1 = count\r\n",
        "y1 = f1_list\r\n",
        "\r\n",
        "plt.figure(figsize=(9,5))\r\n",
        "\r\n",
        "plt.scatter(x1, y1, label = \"line 1\")\r\n",
        "plt.xlabel('Occurrences')\r\n",
        "plt.ylabel('F1 Score')\r\n",
        "\r\n",
        "for i, q in enumerate(qheads):\r\n",
        "    plt.annotate(q, (count[i], f1_list[i]),  (count[i], f1_list[i] + 1))\r\n",
        "\r\n",
        "# Display a figure.\r\n",
        "plt.show()"
      ],
      "execution_count": 86,
      "outputs": [
        {
          "output_type": "display_data",
          "data": {
            "image/png": "[encoded data removed]",
            "text/plain": [
              "<Figure size 648x360 with 1 Axes>"
            ]
          },
          "metadata": {
            "tags": [],
            "needs_background": "light"
          }
        }
      ]
    },
    {
      "cell_type": "code",
      "metadata": {
        "id": "vDmWsz7rARWv",
        "colab": {
          "base_uri": "https://localhost:8080/",
          "height": 822
        },
        "outputId": "2ff2dce0-9a46-4bda-e559-481e83427ba6"
      },
      "source": [
        "def get_char_diff(row: pd.core.series.Series) -> int:\r\n",
        "    \"\"\"Compute the difference, in terms of the number of different charecters\r\n",
        "       between the real answer and the predicted one\r\n",
        "    \"\"\"\r\n",
        "    return sum(1 for a, b in zip(row[\"answers.text\"], row.prediction_text) if a != b) + abs(len(row[\"answers.text\"]) - len(row.prediction_text))\r\n",
        "  \r\n",
        "test_dataframe['difference'] = test_dataframe.apply(get_char_diff, axis=1)\r\n",
        "test_dataframe"
      ],
      "execution_count": 87,
      "outputs": [
        {
          "output_type": "execute_result",
          "data": {
            "text/html": [
              "<div>\n",
              "<style scoped>\n",
              "    .dataframe tbody tr th:only-of-type {\n",
              "        vertical-align: middle;\n",
              "    }\n",
              "\n",
              "    .dataframe tbody tr th {\n",
              "        vertical-align: top;\n",
              "    }\n",
              "\n",
              "    .dataframe thead th {\n",
              "        text-align: right;\n",
              "    }\n",
              "</style>\n",
              "<table border=\"1\" class=\"dataframe\">\n",
              "  <thead>\n",
              "    <tr style=\"text-align: right;\">\n",
              "      <th></th>\n",
              "      <th>title</th>\n",
              "      <th>context</th>\n",
              "      <th>question</th>\n",
              "      <th>id</th>\n",
              "      <th>answers.answer_start</th>\n",
              "      <th>answers.text</th>\n",
              "      <th>prediction_text</th>\n",
              "      <th>answers</th>\n",
              "      <th>difference</th>\n",
              "    </tr>\n",
              "  </thead>\n",
              "  <tbody>\n",
              "    <tr>\n",
              "      <th>0</th>\n",
              "      <td>Super_Bowl_50</td>\n",
              "      <td>Super Bowl 50 was an American football game to...</td>\n",
              "      <td>which</td>\n",
              "      <td>56be4db0acb8001400a502ec</td>\n",
              "      <td>[177, 177, 177]</td>\n",
              "      <td>Denver Broncos</td>\n",
              "      <td>Denver Broncos</td>\n",
              "      <td>{'answer_start': [177, 177, 177], 'text': ['De...</td>\n",
              "      <td>0</td>\n",
              "    </tr>\n",
              "    <tr>\n",
              "      <th>1</th>\n",
              "      <td>Super_Bowl_50</td>\n",
              "      <td>Super Bowl 50 was an American football game to...</td>\n",
              "      <td>which</td>\n",
              "      <td>56be4db0acb8001400a502ed</td>\n",
              "      <td>[249, 249, 249]</td>\n",
              "      <td>Carolina Panthers</td>\n",
              "      <td>Carolina Panthers</td>\n",
              "      <td>{'answer_start': [249, 249, 249], 'text': ['Ca...</td>\n",
              "      <td>0</td>\n",
              "    </tr>\n",
              "    <tr>\n",
              "      <th>2</th>\n",
              "      <td>Super_Bowl_50</td>\n",
              "      <td>Super Bowl 50 was an American football game to...</td>\n",
              "      <td>where</td>\n",
              "      <td>56be4db0acb8001400a502ee</td>\n",
              "      <td>[403, 355, 355]</td>\n",
              "      <td>Santa Clara, California</td>\n",
              "      <td>Levi's Stadium</td>\n",
              "      <td>{'answer_start': [403, 355, 355], 'text': ['Sa...</td>\n",
              "      <td>23</td>\n",
              "    </tr>\n",
              "    <tr>\n",
              "      <th>3</th>\n",
              "      <td>Super_Bowl_50</td>\n",
              "      <td>Super Bowl 50 was an American football game to...</td>\n",
              "      <td>which</td>\n",
              "      <td>56be4db0acb8001400a502ef</td>\n",
              "      <td>[177, 177, 177]</td>\n",
              "      <td>Denver Broncos</td>\n",
              "      <td>Denver Broncos</td>\n",
              "      <td>{'answer_start': [177, 177, 177], 'text': ['De...</td>\n",
              "      <td>0</td>\n",
              "    </tr>\n",
              "    <tr>\n",
              "      <th>4</th>\n",
              "      <td>Super_Bowl_50</td>\n",
              "      <td>Super Bowl 50 was an American football game to...</td>\n",
              "      <td>what</td>\n",
              "      <td>56be4db0acb8001400a502f0</td>\n",
              "      <td>[488, 488, 521]</td>\n",
              "      <td>gold</td>\n",
              "      <td>gold</td>\n",
              "      <td>{'answer_start': [488, 488, 521], 'text': ['go...</td>\n",
              "      <td>0</td>\n",
              "    </tr>\n",
              "    <tr>\n",
              "      <th>...</th>\n",
              "      <td>...</td>\n",
              "      <td>...</td>\n",
              "      <td>...</td>\n",
              "      <td>...</td>\n",
              "      <td>...</td>\n",
              "      <td>...</td>\n",
              "      <td>...</td>\n",
              "      <td>...</td>\n",
              "      <td>...</td>\n",
              "    </tr>\n",
              "    <tr>\n",
              "      <th>10565</th>\n",
              "      <td>Force</td>\n",
              "      <td>The pound-force has a metric counterpart, less...</td>\n",
              "      <td>what</td>\n",
              "      <td>5737aafd1c456719005744fb</td>\n",
              "      <td>[82, 4, 82, 82, 78]</td>\n",
              "      <td>kilogram-force</td>\n",
              "      <td>The pound-force</td>\n",
              "      <td>{'answer_start': [82, 4, 82, 82, 78], 'text': ...</td>\n",
              "      <td>15</td>\n",
              "    </tr>\n",
              "    <tr>\n",
              "      <th>10566</th>\n",
              "      <td>Force</td>\n",
              "      <td>The pound-force has a metric counterpart, less...</td>\n",
              "      <td>what</td>\n",
              "      <td>5737aafd1c456719005744fc</td>\n",
              "      <td>[114, 114, 114, 114, 114]</td>\n",
              "      <td>kilopond</td>\n",
              "      <td>kilopond</td>\n",
              "      <td>{'answer_start': [114, 114, 114, 114, 114], 't...</td>\n",
              "      <td>0</td>\n",
              "    </tr>\n",
              "    <tr>\n",
              "      <th>10567</th>\n",
              "      <td>Force</td>\n",
              "      <td>The pound-force has a metric counterpart, less...</td>\n",
              "      <td>what</td>\n",
              "      <td>5737aafd1c456719005744fd</td>\n",
              "      <td>[274, 267, 267, 267, 263]</td>\n",
              "      <td>slug</td>\n",
              "      <td>the metric slug</td>\n",
              "      <td>{'answer_start': [274, 267, 267, 267, 263], 't...</td>\n",
              "      <td>15</td>\n",
              "    </tr>\n",
              "    <tr>\n",
              "      <th>10568</th>\n",
              "      <td>Force</td>\n",
              "      <td>The pound-force has a metric counterpart, less...</td>\n",
              "      <td>what</td>\n",
              "      <td>5737aafd1c456719005744fe</td>\n",
              "      <td>[712, 712, 712, 712, 712]</td>\n",
              "      <td>kip</td>\n",
              "      <td>the metric slug</td>\n",
              "      <td>{'answer_start': [712, 712, 712, 712, 712], 't...</td>\n",
              "      <td>15</td>\n",
              "    </tr>\n",
              "    <tr>\n",
              "      <th>10569</th>\n",
              "      <td>Force</td>\n",
              "      <td>The pound-force has a metric counterpart, less...</td>\n",
              "      <td>what</td>\n",
              "      <td>5737aafd1c456719005744ff</td>\n",
              "      <td>[665, 665, 665, 665, 665]</td>\n",
              "      <td>sthène</td>\n",
              "      <td>the metric slug</td>\n",
              "      <td>{'answer_start': [665, 665, 665, 665, 665], 't...</td>\n",
              "      <td>14</td>\n",
              "    </tr>\n",
              "  </tbody>\n",
              "</table>\n",
              "<p>10570 rows × 9 columns</p>\n",
              "</div>"
            ],
            "text/plain": [
              "               title  ... difference\n",
              "0      Super_Bowl_50  ...          0\n",
              "1      Super_Bowl_50  ...          0\n",
              "2      Super_Bowl_50  ...         23\n",
              "3      Super_Bowl_50  ...          0\n",
              "4      Super_Bowl_50  ...          0\n",
              "...              ...  ...        ...\n",
              "10565          Force  ...         15\n",
              "10566          Force  ...          0\n",
              "10567          Force  ...         15\n",
              "10568          Force  ...         15\n",
              "10569          Force  ...         14\n",
              "\n",
              "[10570 rows x 9 columns]"
            ]
          },
          "metadata": {
            "tags": []
          },
          "execution_count": 87
        }
      ]
    },
    {
      "cell_type": "code",
      "metadata": {
        "id": "T--sjiI0DvLb",
        "colab": {
          "base_uri": "https://localhost:8080/",
          "height": 407
        },
        "outputId": "e0ca5fc6-827a-482a-b42f-9f0f57b318ce"
      },
      "source": [
        "figsize = (10,6)\r\n",
        "test_dataframe['difference'].plot.hist(title=\"Number of different characthers\", bins= 50, figsize=figsize, grid=True)"
      ],
      "execution_count": 88,
      "outputs": [
        {
          "output_type": "execute_result",
          "data": {
            "text/plain": [
              "<matplotlib.axes._subplots.AxesSubplot at 0x7fb360ac7f50>"
            ]
          },
          "metadata": {
            "tags": []
          },
          "execution_count": 88
        },
        {
          "output_type": "display_data",
          "data": {
            "image/png": "[encoded data removed]",
            "text/plain": [
              "<Figure size 720x432 with 1 Axes>"
            ]
          },
          "metadata": {
            "tags": [],
            "needs_background": "light"
          }
        }
      ]
    },
    {
      "cell_type": "code",
      "metadata": {
        "id": "i36DRBNh3mTw",
        "colab": {
          "base_uri": "https://localhost:8080/"
        },
        "outputId": "62f513d5-38f8-4ca0-e1cc-348326877ce6"
      },
      "source": [
        "total = test_dataframe['difference'][test_dataframe['difference'] != 0].shape[0]\r\n",
        "sorted_series = test_dataframe['difference'][test_dataframe['difference'] != 0].value_counts().sort_values(ascending=False)[0:25]\r\n",
        "numbers = list(sorted_series.index)\r\n",
        "\r\n",
        "print(\"# Diff.Chars\\tCount\\t\\tPercentage\\n\")\r\n",
        "for i, j in enumerate(sorted_series):\r\n",
        "  print(\"{: <15} {: <15} {:.1f}%\".format(numbers[i],j,j/total*100))"
      ],
      "execution_count": 89,
      "outputs": [
        {
          "output_type": "stream",
          "text": [
            "# Diff.Chars\tCount\t\tPercentage\n",
            "\n",
            "16              145             3.2%\n",
            "1               140             3.1%\n",
            "10              136             3.0%\n",
            "11              134             2.9%\n",
            "8               132             2.9%\n",
            "12              129             2.8%\n",
            "20              122             2.7%\n",
            "17              122             2.7%\n",
            "7               121             2.7%\n",
            "18              121             2.7%\n",
            "6               117             2.6%\n",
            "14              114             2.5%\n",
            "15              114             2.5%\n",
            "13              114             2.5%\n",
            "19              111             2.4%\n",
            "9               107             2.4%\n",
            "21              104             2.3%\n",
            "24              100             2.2%\n",
            "22              93              2.0%\n",
            "23              91              2.0%\n",
            "25              88              1.9%\n",
            "26              74              1.6%\n",
            "28              65              1.4%\n",
            "29              65              1.4%\n",
            "31              64              1.4%\n"
          ],
          "name": "stdout"
        }
      ]
    },
    {
      "cell_type": "code",
      "metadata": {
        "id": "DoHxa6w1dHGG"
      },
      "source": [
        "# This function instead of returning the best prediction, returns the best 5 predictions\r\n",
        "\r\n",
        "def postprocess_qa_5predictions(examples: datasets.arrow_dataset.Dataset,\r\n",
        "                               features: datasets.arrow_dataset.Dataset,\r\n",
        "                               raw_predictions: tuple,\r\n",
        "                               n_best_size: int = 20,\r\n",
        "                               max_answer_length: int = 50) -> collections.OrderedDict:\r\n",
        "    \"\"\"Function used to select the 5 top answers from the raw predictions\r\n",
        "\r\n",
        "      Args:\r\n",
        "        examples: Squad samples\r\n",
        "        features: Squad features\r\n",
        "        raw_predictions: model predictions\r\n",
        "    \"\"\"\r\n",
        "    all_start_logits, all_end_logits = raw_predictions\r\n",
        "    # Build a map example to its corresponding features.\r\n",
        "    example_id_to_index = {k: i for i, k in enumerate(examples[\"id\"])}\r\n",
        "    features_per_example = collections.defaultdict(list)\r\n",
        "    for i, feature in enumerate(features):\r\n",
        "        features_per_example[example_id_to_index[feature[\"example_id\"]]].append(i)\r\n",
        "\r\n",
        "    # The dictionaries we have to fill.\r\n",
        "    predictions = collections.OrderedDict()\r\n",
        "\r\n",
        "    # Let's loop over all the examples!\r\n",
        "    for example_index, example in enumerate(tqdm(examples)):\r\n",
        "        # Those are the indices of the features associated to the current example.\r\n",
        "        feature_indices = features_per_example[example_index]\r\n",
        "        valid_answers = []\r\n",
        "        \r\n",
        "        context = example[\"context\"]\r\n",
        "        # Looping through all the features associated to the current example.\r\n",
        "        for feature_index in feature_indices:\r\n",
        "            # We grab the predictions of the model for this feature.\r\n",
        "            start_logits = all_start_logits[feature_index]\r\n",
        "            end_logits = all_end_logits[feature_index]\r\n",
        "            # This is what will allow us to map some the positions in our logits to span of texts in the original\r\n",
        "            # context.\r\n",
        "            offset_mapping = features[feature_index][\"offset_mapping\"]\r\n",
        "\r\n",
        "            # Update minimum null prediction.\r\n",
        "            cls_index = features[feature_index][\"input_ids\"].index(tokenizer.cls_token_id)\r\n",
        "            feature_null_score = start_logits[cls_index] + end_logits[cls_index]\r\n",
        "\r\n",
        "            # Go through all possibilities for the `n_best_size` greater start and end logits.\r\n",
        "            start_indexes = np.argsort(start_logits)[-1 : -n_best_size - 1 : -1].tolist()\r\n",
        "            end_indexes = np.argsort(end_logits)[-1 : -n_best_size - 1 : -1].tolist()\r\n",
        "            for start_index in start_indexes:\r\n",
        "                for end_index in end_indexes:\r\n",
        "                    # Don't consider out-of-scope answers, either because the indices are out of bounds or correspond\r\n",
        "                    # to part of the input_ids that are not in the context.\r\n",
        "                    if (\r\n",
        "                        start_index >= len(offset_mapping)\r\n",
        "                        or end_index >= len(offset_mapping)\r\n",
        "                        or offset_mapping[start_index] is None\r\n",
        "                        or offset_mapping[end_index] is None\r\n",
        "                    ):\r\n",
        "                        continue\r\n",
        "                    # Don't consider answers with a length that is either < 0 or > max_answer_length.\r\n",
        "                    if end_index < start_index or end_index - start_index + 1 > max_answer_length:\r\n",
        "                        continue\r\n",
        "\r\n",
        "                    start_char = offset_mapping[start_index][0]\r\n",
        "                    end_char = offset_mapping[end_index][1]\r\n",
        "                    valid_answers.append(\r\n",
        "                        {\r\n",
        "                            \"score\": start_logits[start_index] + end_logits[end_index],\r\n",
        "                            \"text\": context[start_char: end_char]\r\n",
        "                        }\r\n",
        "                    )\r\n",
        "        \r\n",
        "        if len(valid_answers) > 0:\r\n",
        "            best_answer = sorted(valid_answers, key=lambda x: x[\"score\"], reverse=True)[0:5]\r\n",
        "        else:\r\n",
        "            # In the very rare edge case we have not a single non-null prediction, we create a fake prediction to avoid\r\n",
        "            # failure.\r\n",
        "            best_answer = [{\"text\": \"\", \"score\": 0.0}]\r\n",
        "        \r\n",
        "        # Let's pick our final answer\r\n",
        "        predictions[example[\"id\"]] = [a_dict[\"text\"] for a_dict in best_answer] \r\n",
        "\r\n",
        "    return predictions"
      ],
      "execution_count": 90,
      "outputs": []
    },
    {
      "cell_type": "markdown",
      "metadata": {
        "id": "xR4Su_gZ1Hn3"
      },
      "source": [
        "Now we collect the best 5 predictions for each question to compute the \"top 5 EM\" "
      ]
    },
    {
      "cell_type": "code",
      "metadata": {
        "id": "iTKvxljjdNMH",
        "colab": {
          "base_uri": "https://localhost:8080/"
        },
        "outputId": "1a73b39d-ad2a-4755-d553-2bfcf8c54cb3"
      },
      "source": [
        "# The Trainer hides the columns that are not used by the model (here example_id and offset_mapping which we will need for our post-processing), so we set them back\n",
        "test_features.set_format(type=test_features.format[\"type\"], columns=list(test_features.features.keys()))\n",
        "\n",
        "# To get the final predictions we can apply our post-processing function to our raw predictions\n",
        "final_predictions = postprocess_qa_5predictions(test_data['train'], test_features, pred.predictions)\n",
        "\n",
        "formatted_5predictions = {k : v for k, v in final_predictions.items()}\n",
        "\n",
        "# Hide again the columns that are not used by the model\n",
        "test_features.set_format(type=test_features.format[\"type\"], columns=['attention_mask', 'end_positions', 'input_ids', 'start_positions'])"
      ],
      "execution_count": 91,
      "outputs": [
        {
          "output_type": "stream",
          "text": [
            "100%|██████████| 10570/10570 [00:24<00:00, 438.76it/s]\n"
          ],
          "name": "stderr"
        }
      ]
    },
    {
      "cell_type": "code",
      "metadata": {
        "id": "iInYaPT4fGnr",
        "colab": {
          "base_uri": "https://localhost:8080/"
        },
        "outputId": "e5fc502d-ac67-4ba7-a936-174ccca93468"
      },
      "source": [
        "count = 0\n",
        "for id in test_dataframe['id']:\n",
        "  if test_dataframe['answers.text'][test_dataframe.id == id].values[0] in formatted_5predictions[id]:\n",
        "    count += 1\n",
        "    \n",
        "final_predictions = test_dataframe[['id','prediction_text']].to_dict('records')\n",
        "references = test_dataframe[['answers','id']].to_dict('records')\n",
        "\n",
        "print(\"Top 1 exact match and F1 score: {}\".format(metric.compute(predictions=final_predictions, references=references)))\n",
        "print(\"Top 5 exact match: {}\".format(count/len(test_dataframe)))"
      ],
      "execution_count": 92,
      "outputs": [
        {
          "output_type": "stream",
          "text": [
            "Top 1 exact match and F1 score: {'exact_match': 75.81835383159887, 'f1': 84.47989708232564}\n",
            "Top 5 exact match: 0.8222327341532639\n"
          ],
          "name": "stdout"
        }
      ]
    }
  ]
}
