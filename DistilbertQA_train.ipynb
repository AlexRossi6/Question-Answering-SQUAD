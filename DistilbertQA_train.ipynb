{
  "nbformat": 4,
  "nbformat_minor": 0,
  "metadata": {
    "colab": {
      "name": "DistilbertQA_train.ipynb",
      "provenance": [],
      "collapsed_sections": [],
      "toc_visible": true,
      "authorship_tag": "ABX9TyPRRV45l5eaPM/op4tdyxdf",
      "include_colab_link": true
    },
    "kernelspec": {
      "name": "python3",
      "display_name": "Python 3"
    },
    "accelerator": "GPU",
    "widgets": {
      "application/vnd.jupyter.widget-state+json": {
        "464309a7e5dd441db05e56fb703aed0a": {
          "model_module": "@jupyter-widgets/controls",
          "model_name": "HBoxModel",
          "state": {
            "_view_name": "HBoxView",
            "_dom_classes": [],
            "_model_name": "HBoxModel",
            "_view_module": "@jupyter-widgets/controls",
            "_model_module_version": "1.5.0",
            "_view_count": null,
            "_view_module_version": "1.5.0",
            "box_style": "",
            "layout": "IPY_MODEL_812df664593d4a26b6a941ef7d8e1f96",
            "_model_module": "@jupyter-widgets/controls",
            "children": [
              "IPY_MODEL_de69e34422b947b790092dc5a662d016",
              "IPY_MODEL_cf049e0c377d40cd946306f1772805a2"
            ]
          }
        },
        "812df664593d4a26b6a941ef7d8e1f96": {
          "model_module": "@jupyter-widgets/base",
          "model_name": "LayoutModel",
          "state": {
            "_view_name": "LayoutView",
            "grid_template_rows": null,
            "right": null,
            "justify_content": null,
            "_view_module": "@jupyter-widgets/base",
            "overflow": null,
            "_model_module_version": "1.2.0",
            "_view_count": null,
            "flex_flow": null,
            "width": null,
            "min_width": null,
            "border": null,
            "align_items": null,
            "bottom": null,
            "_model_module": "@jupyter-widgets/base",
            "top": null,
            "grid_column": null,
            "overflow_y": null,
            "overflow_x": null,
            "grid_auto_flow": null,
            "grid_area": null,
            "grid_template_columns": null,
            "flex": null,
            "_model_name": "LayoutModel",
            "justify_items": null,
            "grid_row": null,
            "max_height": null,
            "align_content": null,
            "visibility": null,
            "align_self": null,
            "height": null,
            "min_height": null,
            "padding": null,
            "grid_auto_rows": null,
            "grid_gap": null,
            "max_width": null,
            "order": null,
            "_view_module_version": "1.2.0",
            "grid_template_areas": null,
            "object_position": null,
            "object_fit": null,
            "grid_auto_columns": null,
            "margin": null,
            "display": null,
            "left": null
          }
        },
        "de69e34422b947b790092dc5a662d016": {
          "model_module": "@jupyter-widgets/controls",
          "model_name": "FloatProgressModel",
          "state": {
            "_view_name": "ProgressView",
            "style": "IPY_MODEL_c05f08f9e8fa45d39288388a8d0bcb84",
            "_dom_classes": [],
            "description": "",
            "_model_name": "FloatProgressModel",
            "bar_style": "info",
            "max": 1,
            "_view_module": "@jupyter-widgets/controls",
            "_model_module_version": "1.5.0",
            "value": 1,
            "_view_count": null,
            "_view_module_version": "1.5.0",
            "orientation": "horizontal",
            "min": 0,
            "description_tooltip": null,
            "_model_module": "@jupyter-widgets/controls",
            "layout": "IPY_MODEL_91b95a533c5e4d9280e05460f8d7b2ca"
          }
        },
        "cf049e0c377d40cd946306f1772805a2": {
          "model_module": "@jupyter-widgets/controls",
          "model_name": "HTMLModel",
          "state": {
            "_view_name": "HTMLView",
            "style": "IPY_MODEL_8e0532e93f994754bd6d9ca34dc0d594",
            "_dom_classes": [],
            "description": "",
            "_model_name": "HTMLModel",
            "placeholder": "​",
            "_view_module": "@jupyter-widgets/controls",
            "_model_module_version": "1.5.0",
            "value": " 7/? [00:00&lt;00:00,  8.68 tables/s]",
            "_view_count": null,
            "_view_module_version": "1.5.0",
            "description_tooltip": null,
            "_model_module": "@jupyter-widgets/controls",
            "layout": "IPY_MODEL_536e8ddd6ee94957b2cd8ff88ff467b1"
          }
        },
        "c05f08f9e8fa45d39288388a8d0bcb84": {
          "model_module": "@jupyter-widgets/controls",
          "model_name": "ProgressStyleModel",
          "state": {
            "_view_name": "StyleView",
            "_model_name": "ProgressStyleModel",
            "description_width": "initial",
            "_view_module": "@jupyter-widgets/base",
            "_model_module_version": "1.5.0",
            "_view_count": null,
            "_view_module_version": "1.2.0",
            "bar_color": null,
            "_model_module": "@jupyter-widgets/controls"
          }
        },
        "91b95a533c5e4d9280e05460f8d7b2ca": {
          "model_module": "@jupyter-widgets/base",
          "model_name": "LayoutModel",
          "state": {
            "_view_name": "LayoutView",
            "grid_template_rows": null,
            "right": null,
            "justify_content": null,
            "_view_module": "@jupyter-widgets/base",
            "overflow": null,
            "_model_module_version": "1.2.0",
            "_view_count": null,
            "flex_flow": null,
            "width": null,
            "min_width": null,
            "border": null,
            "align_items": null,
            "bottom": null,
            "_model_module": "@jupyter-widgets/base",
            "top": null,
            "grid_column": null,
            "overflow_y": null,
            "overflow_x": null,
            "grid_auto_flow": null,
            "grid_area": null,
            "grid_template_columns": null,
            "flex": null,
            "_model_name": "LayoutModel",
            "justify_items": null,
            "grid_row": null,
            "max_height": null,
            "align_content": null,
            "visibility": null,
            "align_self": null,
            "height": null,
            "min_height": null,
            "padding": null,
            "grid_auto_rows": null,
            "grid_gap": null,
            "max_width": null,
            "order": null,
            "_view_module_version": "1.2.0",
            "grid_template_areas": null,
            "object_position": null,
            "object_fit": null,
            "grid_auto_columns": null,
            "margin": null,
            "display": null,
            "left": null
          }
        },
        "8e0532e93f994754bd6d9ca34dc0d594": {
          "model_module": "@jupyter-widgets/controls",
          "model_name": "DescriptionStyleModel",
          "state": {
            "_view_name": "StyleView",
            "_model_name": "DescriptionStyleModel",
            "description_width": "",
            "_view_module": "@jupyter-widgets/base",
            "_model_module_version": "1.5.0",
            "_view_count": null,
            "_view_module_version": "1.2.0",
            "_model_module": "@jupyter-widgets/controls"
          }
        },
        "536e8ddd6ee94957b2cd8ff88ff467b1": {
          "model_module": "@jupyter-widgets/base",
          "model_name": "LayoutModel",
          "state": {
            "_view_name": "LayoutView",
            "grid_template_rows": null,
            "right": null,
            "justify_content": null,
            "_view_module": "@jupyter-widgets/base",
            "overflow": null,
            "_model_module_version": "1.2.0",
            "_view_count": null,
            "flex_flow": null,
            "width": null,
            "min_width": null,
            "border": null,
            "align_items": null,
            "bottom": null,
            "_model_module": "@jupyter-widgets/base",
            "top": null,
            "grid_column": null,
            "overflow_y": null,
            "overflow_x": null,
            "grid_auto_flow": null,
            "grid_area": null,
            "grid_template_columns": null,
            "flex": null,
            "_model_name": "LayoutModel",
            "justify_items": null,
            "grid_row": null,
            "max_height": null,
            "align_content": null,
            "visibility": null,
            "align_self": null,
            "height": null,
            "min_height": null,
            "padding": null,
            "grid_auto_rows": null,
            "grid_gap": null,
            "max_width": null,
            "order": null,
            "_view_module_version": "1.2.0",
            "grid_template_areas": null,
            "object_position": null,
            "object_fit": null,
            "grid_auto_columns": null,
            "margin": null,
            "display": null,
            "left": null
          }
        },
        "22dcf6c396ea419ea431d4b2cd89a224": {
          "model_module": "@jupyter-widgets/controls",
          "model_name": "HBoxModel",
          "state": {
            "_view_name": "HBoxView",
            "_dom_classes": [],
            "_model_name": "HBoxModel",
            "_view_module": "@jupyter-widgets/controls",
            "_model_module_version": "1.5.0",
            "_view_count": null,
            "_view_module_version": "1.5.0",
            "box_style": "",
            "layout": "IPY_MODEL_4b4bdf5adab848ca9a939f8e002c8495",
            "_model_module": "@jupyter-widgets/controls",
            "children": [
              "IPY_MODEL_fb68bd05ed314e879bc573c66b6d3c0e",
              "IPY_MODEL_667b0dd1de7b4ec5bf6d96271c352f65"
            ]
          }
        },
        "4b4bdf5adab848ca9a939f8e002c8495": {
          "model_module": "@jupyter-widgets/base",
          "model_name": "LayoutModel",
          "state": {
            "_view_name": "LayoutView",
            "grid_template_rows": null,
            "right": null,
            "justify_content": null,
            "_view_module": "@jupyter-widgets/base",
            "overflow": null,
            "_model_module_version": "1.2.0",
            "_view_count": null,
            "flex_flow": null,
            "width": null,
            "min_width": null,
            "border": null,
            "align_items": null,
            "bottom": null,
            "_model_module": "@jupyter-widgets/base",
            "top": null,
            "grid_column": null,
            "overflow_y": null,
            "overflow_x": null,
            "grid_auto_flow": null,
            "grid_area": null,
            "grid_template_columns": null,
            "flex": null,
            "_model_name": "LayoutModel",
            "justify_items": null,
            "grid_row": null,
            "max_height": null,
            "align_content": null,
            "visibility": null,
            "align_self": null,
            "height": null,
            "min_height": null,
            "padding": null,
            "grid_auto_rows": null,
            "grid_gap": null,
            "max_width": null,
            "order": null,
            "_view_module_version": "1.2.0",
            "grid_template_areas": null,
            "object_position": null,
            "object_fit": null,
            "grid_auto_columns": null,
            "margin": null,
            "display": null,
            "left": null
          }
        },
        "fb68bd05ed314e879bc573c66b6d3c0e": {
          "model_module": "@jupyter-widgets/controls",
          "model_name": "FloatProgressModel",
          "state": {
            "_view_name": "ProgressView",
            "style": "IPY_MODEL_059d48c6e7b4429a8a731c88c0c21d99",
            "_dom_classes": [],
            "description": "",
            "_model_name": "FloatProgressModel",
            "bar_style": "info",
            "max": 1,
            "_view_module": "@jupyter-widgets/controls",
            "_model_module_version": "1.5.0",
            "value": 1,
            "_view_count": null,
            "_view_module_version": "1.5.0",
            "orientation": "horizontal",
            "min": 0,
            "description_tooltip": null,
            "_model_module": "@jupyter-widgets/controls",
            "layout": "IPY_MODEL_46469fb26f1b47aeb905d43d023b2b23"
          }
        },
        "667b0dd1de7b4ec5bf6d96271c352f65": {
          "model_module": "@jupyter-widgets/controls",
          "model_name": "HTMLModel",
          "state": {
            "_view_name": "HTMLView",
            "style": "IPY_MODEL_f3a9b81bb7c4493fb5a0e7430fb38587",
            "_dom_classes": [],
            "description": "",
            "_model_name": "HTMLModel",
            "placeholder": "​",
            "_view_module": "@jupyter-widgets/controls",
            "_model_module_version": "1.5.0",
            "value": " 2/? [00:00&lt;00:00,  7.22 tables/s]",
            "_view_count": null,
            "_view_module_version": "1.5.0",
            "description_tooltip": null,
            "_model_module": "@jupyter-widgets/controls",
            "layout": "IPY_MODEL_079bb56dc1014282bb710fbbdede3b27"
          }
        },
        "059d48c6e7b4429a8a731c88c0c21d99": {
          "model_module": "@jupyter-widgets/controls",
          "model_name": "ProgressStyleModel",
          "state": {
            "_view_name": "StyleView",
            "_model_name": "ProgressStyleModel",
            "description_width": "initial",
            "_view_module": "@jupyter-widgets/base",
            "_model_module_version": "1.5.0",
            "_view_count": null,
            "_view_module_version": "1.2.0",
            "bar_color": null,
            "_model_module": "@jupyter-widgets/controls"
          }
        },
        "46469fb26f1b47aeb905d43d023b2b23": {
          "model_module": "@jupyter-widgets/base",
          "model_name": "LayoutModel",
          "state": {
            "_view_name": "LayoutView",
            "grid_template_rows": null,
            "right": null,
            "justify_content": null,
            "_view_module": "@jupyter-widgets/base",
            "overflow": null,
            "_model_module_version": "1.2.0",
            "_view_count": null,
            "flex_flow": null,
            "width": null,
            "min_width": null,
            "border": null,
            "align_items": null,
            "bottom": null,
            "_model_module": "@jupyter-widgets/base",
            "top": null,
            "grid_column": null,
            "overflow_y": null,
            "overflow_x": null,
            "grid_auto_flow": null,
            "grid_area": null,
            "grid_template_columns": null,
            "flex": null,
            "_model_name": "LayoutModel",
            "justify_items": null,
            "grid_row": null,
            "max_height": null,
            "align_content": null,
            "visibility": null,
            "align_self": null,
            "height": null,
            "min_height": null,
            "padding": null,
            "grid_auto_rows": null,
            "grid_gap": null,
            "max_width": null,
            "order": null,
            "_view_module_version": "1.2.0",
            "grid_template_areas": null,
            "object_position": null,
            "object_fit": null,
            "grid_auto_columns": null,
            "margin": null,
            "display": null,
            "left": null
          }
        },
        "f3a9b81bb7c4493fb5a0e7430fb38587": {
          "model_module": "@jupyter-widgets/controls",
          "model_name": "DescriptionStyleModel",
          "state": {
            "_view_name": "StyleView",
            "_model_name": "DescriptionStyleModel",
            "description_width": "",
            "_view_module": "@jupyter-widgets/base",
            "_model_module_version": "1.5.0",
            "_view_count": null,
            "_view_module_version": "1.2.0",
            "_model_module": "@jupyter-widgets/controls"
          }
        },
        "079bb56dc1014282bb710fbbdede3b27": {
          "model_module": "@jupyter-widgets/base",
          "model_name": "LayoutModel",
          "state": {
            "_view_name": "LayoutView",
            "grid_template_rows": null,
            "right": null,
            "justify_content": null,
            "_view_module": "@jupyter-widgets/base",
            "overflow": null,
            "_model_module_version": "1.2.0",
            "_view_count": null,
            "flex_flow": null,
            "width": null,
            "min_width": null,
            "border": null,
            "align_items": null,
            "bottom": null,
            "_model_module": "@jupyter-widgets/base",
            "top": null,
            "grid_column": null,
            "overflow_y": null,
            "overflow_x": null,
            "grid_auto_flow": null,
            "grid_area": null,
            "grid_template_columns": null,
            "flex": null,
            "_model_name": "LayoutModel",
            "justify_items": null,
            "grid_row": null,
            "max_height": null,
            "align_content": null,
            "visibility": null,
            "align_self": null,
            "height": null,
            "min_height": null,
            "padding": null,
            "grid_auto_rows": null,
            "grid_gap": null,
            "max_width": null,
            "order": null,
            "_view_module_version": "1.2.0",
            "grid_template_areas": null,
            "object_position": null,
            "object_fit": null,
            "grid_auto_columns": null,
            "margin": null,
            "display": null,
            "left": null
          }
        },
        "4fa2d6c48b644bdcaba4bacb22f15992": {
          "model_module": "@jupyter-widgets/controls",
          "model_name": "HBoxModel",
          "state": {
            "_view_name": "HBoxView",
            "_dom_classes": [],
            "_model_name": "HBoxModel",
            "_view_module": "@jupyter-widgets/controls",
            "_model_module_version": "1.5.0",
            "_view_count": null,
            "_view_module_version": "1.5.0",
            "box_style": "",
            "layout": "IPY_MODEL_60e4e9f795ac42a585da15154a8ddb7e",
            "_model_module": "@jupyter-widgets/controls",
            "children": [
              "IPY_MODEL_c80428163e0c461181ed15195d1dcc66",
              "IPY_MODEL_1dc2d5e4eab74084af3613b4e99c9955"
            ]
          }
        },
        "60e4e9f795ac42a585da15154a8ddb7e": {
          "model_module": "@jupyter-widgets/base",
          "model_name": "LayoutModel",
          "state": {
            "_view_name": "LayoutView",
            "grid_template_rows": null,
            "right": null,
            "justify_content": null,
            "_view_module": "@jupyter-widgets/base",
            "overflow": null,
            "_model_module_version": "1.2.0",
            "_view_count": null,
            "flex_flow": null,
            "width": null,
            "min_width": null,
            "border": null,
            "align_items": null,
            "bottom": null,
            "_model_module": "@jupyter-widgets/base",
            "top": null,
            "grid_column": null,
            "overflow_y": null,
            "overflow_x": null,
            "grid_auto_flow": null,
            "grid_area": null,
            "grid_template_columns": null,
            "flex": null,
            "_model_name": "LayoutModel",
            "justify_items": null,
            "grid_row": null,
            "max_height": null,
            "align_content": null,
            "visibility": null,
            "align_self": null,
            "height": null,
            "min_height": null,
            "padding": null,
            "grid_auto_rows": null,
            "grid_gap": null,
            "max_width": null,
            "order": null,
            "_view_module_version": "1.2.0",
            "grid_template_areas": null,
            "object_position": null,
            "object_fit": null,
            "grid_auto_columns": null,
            "margin": null,
            "display": null,
            "left": null
          }
        },
        "c80428163e0c461181ed15195d1dcc66": {
          "model_module": "@jupyter-widgets/controls",
          "model_name": "FloatProgressModel",
          "state": {
            "_view_name": "ProgressView",
            "style": "IPY_MODEL_f79469837b3c432b847a0075e737d375",
            "_dom_classes": [],
            "description": "100%",
            "_model_name": "FloatProgressModel",
            "bar_style": "success",
            "max": 69392,
            "_view_module": "@jupyter-widgets/controls",
            "_model_module_version": "1.5.0",
            "value": 69392,
            "_view_count": null,
            "_view_module_version": "1.5.0",
            "orientation": "horizontal",
            "min": 0,
            "description_tooltip": null,
            "_model_module": "@jupyter-widgets/controls",
            "layout": "IPY_MODEL_89779a5f51294c02b1972cd5bcc77ebc"
          }
        },
        "1dc2d5e4eab74084af3613b4e99c9955": {
          "model_module": "@jupyter-widgets/controls",
          "model_name": "HTMLModel",
          "state": {
            "_view_name": "HTMLView",
            "style": "IPY_MODEL_7866f9a7b1f348618a9f69bf44cdf5b5",
            "_dom_classes": [],
            "description": "",
            "_model_name": "HTMLModel",
            "placeholder": "​",
            "_view_module": "@jupyter-widgets/controls",
            "_model_module_version": "1.5.0",
            "value": " 69392/69392 [00:12&lt;00:00, 5753.57ex/s]",
            "_view_count": null,
            "_view_module_version": "1.5.0",
            "description_tooltip": null,
            "_model_module": "@jupyter-widgets/controls",
            "layout": "IPY_MODEL_e103ad3c85af4611bff903829eda86c3"
          }
        },
        "f79469837b3c432b847a0075e737d375": {
          "model_module": "@jupyter-widgets/controls",
          "model_name": "ProgressStyleModel",
          "state": {
            "_view_name": "StyleView",
            "_model_name": "ProgressStyleModel",
            "description_width": "initial",
            "_view_module": "@jupyter-widgets/base",
            "_model_module_version": "1.5.0",
            "_view_count": null,
            "_view_module_version": "1.2.0",
            "bar_color": null,
            "_model_module": "@jupyter-widgets/controls"
          }
        },
        "89779a5f51294c02b1972cd5bcc77ebc": {
          "model_module": "@jupyter-widgets/base",
          "model_name": "LayoutModel",
          "state": {
            "_view_name": "LayoutView",
            "grid_template_rows": null,
            "right": null,
            "justify_content": null,
            "_view_module": "@jupyter-widgets/base",
            "overflow": null,
            "_model_module_version": "1.2.0",
            "_view_count": null,
            "flex_flow": null,
            "width": null,
            "min_width": null,
            "border": null,
            "align_items": null,
            "bottom": null,
            "_model_module": "@jupyter-widgets/base",
            "top": null,
            "grid_column": null,
            "overflow_y": null,
            "overflow_x": null,
            "grid_auto_flow": null,
            "grid_area": null,
            "grid_template_columns": null,
            "flex": null,
            "_model_name": "LayoutModel",
            "justify_items": null,
            "grid_row": null,
            "max_height": null,
            "align_content": null,
            "visibility": null,
            "align_self": null,
            "height": null,
            "min_height": null,
            "padding": null,
            "grid_auto_rows": null,
            "grid_gap": null,
            "max_width": null,
            "order": null,
            "_view_module_version": "1.2.0",
            "grid_template_areas": null,
            "object_position": null,
            "object_fit": null,
            "grid_auto_columns": null,
            "margin": null,
            "display": null,
            "left": null
          }
        },
        "7866f9a7b1f348618a9f69bf44cdf5b5": {
          "model_module": "@jupyter-widgets/controls",
          "model_name": "DescriptionStyleModel",
          "state": {
            "_view_name": "StyleView",
            "_model_name": "DescriptionStyleModel",
            "description_width": "",
            "_view_module": "@jupyter-widgets/base",
            "_model_module_version": "1.5.0",
            "_view_count": null,
            "_view_module_version": "1.2.0",
            "_model_module": "@jupyter-widgets/controls"
          }
        },
        "e103ad3c85af4611bff903829eda86c3": {
          "model_module": "@jupyter-widgets/base",
          "model_name": "LayoutModel",
          "state": {
            "_view_name": "LayoutView",
            "grid_template_rows": null,
            "right": null,
            "justify_content": null,
            "_view_module": "@jupyter-widgets/base",
            "overflow": null,
            "_model_module_version": "1.2.0",
            "_view_count": null,
            "flex_flow": null,
            "width": null,
            "min_width": null,
            "border": null,
            "align_items": null,
            "bottom": null,
            "_model_module": "@jupyter-widgets/base",
            "top": null,
            "grid_column": null,
            "overflow_y": null,
            "overflow_x": null,
            "grid_auto_flow": null,
            "grid_area": null,
            "grid_template_columns": null,
            "flex": null,
            "_model_name": "LayoutModel",
            "justify_items": null,
            "grid_row": null,
            "max_height": null,
            "align_content": null,
            "visibility": null,
            "align_self": null,
            "height": null,
            "min_height": null,
            "padding": null,
            "grid_auto_rows": null,
            "grid_gap": null,
            "max_width": null,
            "order": null,
            "_view_module_version": "1.2.0",
            "grid_template_areas": null,
            "object_position": null,
            "object_fit": null,
            "grid_auto_columns": null,
            "margin": null,
            "display": null,
            "left": null
          }
        },
        "e289742efe0b4dfdab1b5f3363ba43c5": {
          "model_module": "@jupyter-widgets/controls",
          "model_name": "HBoxModel",
          "state": {
            "_view_name": "HBoxView",
            "_dom_classes": [],
            "_model_name": "HBoxModel",
            "_view_module": "@jupyter-widgets/controls",
            "_model_module_version": "1.5.0",
            "_view_count": null,
            "_view_module_version": "1.5.0",
            "box_style": "",
            "layout": "IPY_MODEL_8238d856378343f9bd3a4914407ed5a9",
            "_model_module": "@jupyter-widgets/controls",
            "children": [
              "IPY_MODEL_b95f5a65bc0148a5b1c420a8aaff2d76",
              "IPY_MODEL_8304a0b89dda4870afdc7d14766c45e9"
            ]
          }
        },
        "8238d856378343f9bd3a4914407ed5a9": {
          "model_module": "@jupyter-widgets/base",
          "model_name": "LayoutModel",
          "state": {
            "_view_name": "LayoutView",
            "grid_template_rows": null,
            "right": null,
            "justify_content": null,
            "_view_module": "@jupyter-widgets/base",
            "overflow": null,
            "_model_module_version": "1.2.0",
            "_view_count": null,
            "flex_flow": null,
            "width": null,
            "min_width": null,
            "border": null,
            "align_items": null,
            "bottom": null,
            "_model_module": "@jupyter-widgets/base",
            "top": null,
            "grid_column": null,
            "overflow_y": null,
            "overflow_x": null,
            "grid_auto_flow": null,
            "grid_area": null,
            "grid_template_columns": null,
            "flex": null,
            "_model_name": "LayoutModel",
            "justify_items": null,
            "grid_row": null,
            "max_height": null,
            "align_content": null,
            "visibility": null,
            "align_self": null,
            "height": null,
            "min_height": null,
            "padding": null,
            "grid_auto_rows": null,
            "grid_gap": null,
            "max_width": null,
            "order": null,
            "_view_module_version": "1.2.0",
            "grid_template_areas": null,
            "object_position": null,
            "object_fit": null,
            "grid_auto_columns": null,
            "margin": null,
            "display": null,
            "left": null
          }
        },
        "b95f5a65bc0148a5b1c420a8aaff2d76": {
          "model_module": "@jupyter-widgets/controls",
          "model_name": "FloatProgressModel",
          "state": {
            "_view_name": "ProgressView",
            "style": "IPY_MODEL_e43a7e2f91b14c3798c422cb06f3d7d3",
            "_dom_classes": [],
            "description": "100%",
            "_model_name": "FloatProgressModel",
            "bar_style": "success",
            "max": 18207,
            "_view_module": "@jupyter-widgets/controls",
            "_model_module_version": "1.5.0",
            "value": 18207,
            "_view_count": null,
            "_view_module_version": "1.5.0",
            "orientation": "horizontal",
            "min": 0,
            "description_tooltip": null,
            "_model_module": "@jupyter-widgets/controls",
            "layout": "IPY_MODEL_0eb6691b1c90489abfca6d86b65a8eea"
          }
        },
        "8304a0b89dda4870afdc7d14766c45e9": {
          "model_module": "@jupyter-widgets/controls",
          "model_name": "HTMLModel",
          "state": {
            "_view_name": "HTMLView",
            "style": "IPY_MODEL_236ef7089d344bc0a01911958b312974",
            "_dom_classes": [],
            "description": "",
            "_model_name": "HTMLModel",
            "placeholder": "​",
            "_view_module": "@jupyter-widgets/controls",
            "_model_module_version": "1.5.0",
            "value": " 18207/18207 [00:03&lt;00:00, 5619.94ex/s]",
            "_view_count": null,
            "_view_module_version": "1.5.0",
            "description_tooltip": null,
            "_model_module": "@jupyter-widgets/controls",
            "layout": "IPY_MODEL_41e8fd473c314bd39903455780633213"
          }
        },
        "e43a7e2f91b14c3798c422cb06f3d7d3": {
          "model_module": "@jupyter-widgets/controls",
          "model_name": "ProgressStyleModel",
          "state": {
            "_view_name": "StyleView",
            "_model_name": "ProgressStyleModel",
            "description_width": "initial",
            "_view_module": "@jupyter-widgets/base",
            "_model_module_version": "1.5.0",
            "_view_count": null,
            "_view_module_version": "1.2.0",
            "bar_color": null,
            "_model_module": "@jupyter-widgets/controls"
          }
        },
        "0eb6691b1c90489abfca6d86b65a8eea": {
          "model_module": "@jupyter-widgets/base",
          "model_name": "LayoutModel",
          "state": {
            "_view_name": "LayoutView",
            "grid_template_rows": null,
            "right": null,
            "justify_content": null,
            "_view_module": "@jupyter-widgets/base",
            "overflow": null,
            "_model_module_version": "1.2.0",
            "_view_count": null,
            "flex_flow": null,
            "width": null,
            "min_width": null,
            "border": null,
            "align_items": null,
            "bottom": null,
            "_model_module": "@jupyter-widgets/base",
            "top": null,
            "grid_column": null,
            "overflow_y": null,
            "overflow_x": null,
            "grid_auto_flow": null,
            "grid_area": null,
            "grid_template_columns": null,
            "flex": null,
            "_model_name": "LayoutModel",
            "justify_items": null,
            "grid_row": null,
            "max_height": null,
            "align_content": null,
            "visibility": null,
            "align_self": null,
            "height": null,
            "min_height": null,
            "padding": null,
            "grid_auto_rows": null,
            "grid_gap": null,
            "max_width": null,
            "order": null,
            "_view_module_version": "1.2.0",
            "grid_template_areas": null,
            "object_position": null,
            "object_fit": null,
            "grid_auto_columns": null,
            "margin": null,
            "display": null,
            "left": null
          }
        },
        "236ef7089d344bc0a01911958b312974": {
          "model_module": "@jupyter-widgets/controls",
          "model_name": "DescriptionStyleModel",
          "state": {
            "_view_name": "StyleView",
            "_model_name": "DescriptionStyleModel",
            "description_width": "",
            "_view_module": "@jupyter-widgets/base",
            "_model_module_version": "1.5.0",
            "_view_count": null,
            "_view_module_version": "1.2.0",
            "_model_module": "@jupyter-widgets/controls"
          }
        },
        "41e8fd473c314bd39903455780633213": {
          "model_module": "@jupyter-widgets/base",
          "model_name": "LayoutModel",
          "state": {
            "_view_name": "LayoutView",
            "grid_template_rows": null,
            "right": null,
            "justify_content": null,
            "_view_module": "@jupyter-widgets/base",
            "overflow": null,
            "_model_module_version": "1.2.0",
            "_view_count": null,
            "flex_flow": null,
            "width": null,
            "min_width": null,
            "border": null,
            "align_items": null,
            "bottom": null,
            "_model_module": "@jupyter-widgets/base",
            "top": null,
            "grid_column": null,
            "overflow_y": null,
            "overflow_x": null,
            "grid_auto_flow": null,
            "grid_area": null,
            "grid_template_columns": null,
            "flex": null,
            "_model_name": "LayoutModel",
            "justify_items": null,
            "grid_row": null,
            "max_height": null,
            "align_content": null,
            "visibility": null,
            "align_self": null,
            "height": null,
            "min_height": null,
            "padding": null,
            "grid_auto_rows": null,
            "grid_gap": null,
            "max_width": null,
            "order": null,
            "_view_module_version": "1.2.0",
            "grid_template_areas": null,
            "object_position": null,
            "object_fit": null,
            "grid_auto_columns": null,
            "margin": null,
            "display": null,
            "left": null
          }
        },
        "07ed1f38bb0c4ce3868358303e5307a0": {
          "model_module": "@jupyter-widgets/controls",
          "model_name": "HBoxModel",
          "state": {
            "_view_name": "HBoxView",
            "_dom_classes": [],
            "_model_name": "HBoxModel",
            "_view_module": "@jupyter-widgets/controls",
            "_model_module_version": "1.5.0",
            "_view_count": null,
            "_view_module_version": "1.5.0",
            "box_style": "",
            "layout": "IPY_MODEL_c4fce44ee0184a1f9a396de46a25c924",
            "_model_module": "@jupyter-widgets/controls",
            "children": [
              "IPY_MODEL_edcfd4210a0840518da5711566ae71da",
              "IPY_MODEL_4aa22e9a96364a048c30f6eef336cec8"
            ]
          }
        },
        "c4fce44ee0184a1f9a396de46a25c924": {
          "model_module": "@jupyter-widgets/base",
          "model_name": "LayoutModel",
          "state": {
            "_view_name": "LayoutView",
            "grid_template_rows": null,
            "right": null,
            "justify_content": null,
            "_view_module": "@jupyter-widgets/base",
            "overflow": null,
            "_model_module_version": "1.2.0",
            "_view_count": null,
            "flex_flow": null,
            "width": null,
            "min_width": null,
            "border": null,
            "align_items": null,
            "bottom": null,
            "_model_module": "@jupyter-widgets/base",
            "top": null,
            "grid_column": null,
            "overflow_y": null,
            "overflow_x": null,
            "grid_auto_flow": null,
            "grid_area": null,
            "grid_template_columns": null,
            "flex": null,
            "_model_name": "LayoutModel",
            "justify_items": null,
            "grid_row": null,
            "max_height": null,
            "align_content": null,
            "visibility": null,
            "align_self": null,
            "height": null,
            "min_height": null,
            "padding": null,
            "grid_auto_rows": null,
            "grid_gap": null,
            "max_width": null,
            "order": null,
            "_view_module_version": "1.2.0",
            "grid_template_areas": null,
            "object_position": null,
            "object_fit": null,
            "grid_auto_columns": null,
            "margin": null,
            "display": null,
            "left": null
          }
        },
        "edcfd4210a0840518da5711566ae71da": {
          "model_module": "@jupyter-widgets/controls",
          "model_name": "FloatProgressModel",
          "state": {
            "_view_name": "ProgressView",
            "style": "IPY_MODEL_58355248f69d4946af3711b1c2feb83a",
            "_dom_classes": [],
            "description": "100%",
            "_model_name": "FloatProgressModel",
            "bar_style": "success",
            "max": 70,
            "_view_module": "@jupyter-widgets/controls",
            "_model_module_version": "1.5.0",
            "value": 70,
            "_view_count": null,
            "_view_module_version": "1.5.0",
            "orientation": "horizontal",
            "min": 0,
            "description_tooltip": null,
            "_model_module": "@jupyter-widgets/controls",
            "layout": "IPY_MODEL_ea4e48bf6f174fcca6cf59d243824aba"
          }
        },
        "4aa22e9a96364a048c30f6eef336cec8": {
          "model_module": "@jupyter-widgets/controls",
          "model_name": "HTMLModel",
          "state": {
            "_view_name": "HTMLView",
            "style": "IPY_MODEL_2f5d173544c24e9088afdc17f2891e74",
            "_dom_classes": [],
            "description": "",
            "_model_name": "HTMLModel",
            "placeholder": "​",
            "_view_module": "@jupyter-widgets/controls",
            "_model_module_version": "1.5.0",
            "value": " 70/70 [00:43&lt;00:00,  1.59ba/s]",
            "_view_count": null,
            "_view_module_version": "1.5.0",
            "description_tooltip": null,
            "_model_module": "@jupyter-widgets/controls",
            "layout": "IPY_MODEL_39d89236633446f6a2471b7e76a36b55"
          }
        },
        "58355248f69d4946af3711b1c2feb83a": {
          "model_module": "@jupyter-widgets/controls",
          "model_name": "ProgressStyleModel",
          "state": {
            "_view_name": "StyleView",
            "_model_name": "ProgressStyleModel",
            "description_width": "initial",
            "_view_module": "@jupyter-widgets/base",
            "_model_module_version": "1.5.0",
            "_view_count": null,
            "_view_module_version": "1.2.0",
            "bar_color": null,
            "_model_module": "@jupyter-widgets/controls"
          }
        },
        "ea4e48bf6f174fcca6cf59d243824aba": {
          "model_module": "@jupyter-widgets/base",
          "model_name": "LayoutModel",
          "state": {
            "_view_name": "LayoutView",
            "grid_template_rows": null,
            "right": null,
            "justify_content": null,
            "_view_module": "@jupyter-widgets/base",
            "overflow": null,
            "_model_module_version": "1.2.0",
            "_view_count": null,
            "flex_flow": null,
            "width": null,
            "min_width": null,
            "border": null,
            "align_items": null,
            "bottom": null,
            "_model_module": "@jupyter-widgets/base",
            "top": null,
            "grid_column": null,
            "overflow_y": null,
            "overflow_x": null,
            "grid_auto_flow": null,
            "grid_area": null,
            "grid_template_columns": null,
            "flex": null,
            "_model_name": "LayoutModel",
            "justify_items": null,
            "grid_row": null,
            "max_height": null,
            "align_content": null,
            "visibility": null,
            "align_self": null,
            "height": null,
            "min_height": null,
            "padding": null,
            "grid_auto_rows": null,
            "grid_gap": null,
            "max_width": null,
            "order": null,
            "_view_module_version": "1.2.0",
            "grid_template_areas": null,
            "object_position": null,
            "object_fit": null,
            "grid_auto_columns": null,
            "margin": null,
            "display": null,
            "left": null
          }
        },
        "2f5d173544c24e9088afdc17f2891e74": {
          "model_module": "@jupyter-widgets/controls",
          "model_name": "DescriptionStyleModel",
          "state": {
            "_view_name": "StyleView",
            "_model_name": "DescriptionStyleModel",
            "description_width": "",
            "_view_module": "@jupyter-widgets/base",
            "_model_module_version": "1.5.0",
            "_view_count": null,
            "_view_module_version": "1.2.0",
            "_model_module": "@jupyter-widgets/controls"
          }
        },
        "39d89236633446f6a2471b7e76a36b55": {
          "model_module": "@jupyter-widgets/base",
          "model_name": "LayoutModel",
          "state": {
            "_view_name": "LayoutView",
            "grid_template_rows": null,
            "right": null,
            "justify_content": null,
            "_view_module": "@jupyter-widgets/base",
            "overflow": null,
            "_model_module_version": "1.2.0",
            "_view_count": null,
            "flex_flow": null,
            "width": null,
            "min_width": null,
            "border": null,
            "align_items": null,
            "bottom": null,
            "_model_module": "@jupyter-widgets/base",
            "top": null,
            "grid_column": null,
            "overflow_y": null,
            "overflow_x": null,
            "grid_auto_flow": null,
            "grid_area": null,
            "grid_template_columns": null,
            "flex": null,
            "_model_name": "LayoutModel",
            "justify_items": null,
            "grid_row": null,
            "max_height": null,
            "align_content": null,
            "visibility": null,
            "align_self": null,
            "height": null,
            "min_height": null,
            "padding": null,
            "grid_auto_rows": null,
            "grid_gap": null,
            "max_width": null,
            "order": null,
            "_view_module_version": "1.2.0",
            "grid_template_areas": null,
            "object_position": null,
            "object_fit": null,
            "grid_auto_columns": null,
            "margin": null,
            "display": null,
            "left": null
          }
        },
        "d1bfe3d9fccd4727815d9d47b841c4cf": {
          "model_module": "@jupyter-widgets/controls",
          "model_name": "HBoxModel",
          "state": {
            "_view_name": "HBoxView",
            "_dom_classes": [],
            "_model_name": "HBoxModel",
            "_view_module": "@jupyter-widgets/controls",
            "_model_module_version": "1.5.0",
            "_view_count": null,
            "_view_module_version": "1.5.0",
            "box_style": "",
            "layout": "IPY_MODEL_895687449eb448a0a9939040e297a8bd",
            "_model_module": "@jupyter-widgets/controls",
            "children": [
              "IPY_MODEL_ad64638052b94b2fbc0684690184aa75",
              "IPY_MODEL_99391f94220149469196b323dd422cb3"
            ]
          }
        },
        "895687449eb448a0a9939040e297a8bd": {
          "model_module": "@jupyter-widgets/base",
          "model_name": "LayoutModel",
          "state": {
            "_view_name": "LayoutView",
            "grid_template_rows": null,
            "right": null,
            "justify_content": null,
            "_view_module": "@jupyter-widgets/base",
            "overflow": null,
            "_model_module_version": "1.2.0",
            "_view_count": null,
            "flex_flow": null,
            "width": null,
            "min_width": null,
            "border": null,
            "align_items": null,
            "bottom": null,
            "_model_module": "@jupyter-widgets/base",
            "top": null,
            "grid_column": null,
            "overflow_y": null,
            "overflow_x": null,
            "grid_auto_flow": null,
            "grid_area": null,
            "grid_template_columns": null,
            "flex": null,
            "_model_name": "LayoutModel",
            "justify_items": null,
            "grid_row": null,
            "max_height": null,
            "align_content": null,
            "visibility": null,
            "align_self": null,
            "height": null,
            "min_height": null,
            "padding": null,
            "grid_auto_rows": null,
            "grid_gap": null,
            "max_width": null,
            "order": null,
            "_view_module_version": "1.2.0",
            "grid_template_areas": null,
            "object_position": null,
            "object_fit": null,
            "grid_auto_columns": null,
            "margin": null,
            "display": null,
            "left": null
          }
        },
        "ad64638052b94b2fbc0684690184aa75": {
          "model_module": "@jupyter-widgets/controls",
          "model_name": "FloatProgressModel",
          "state": {
            "_view_name": "ProgressView",
            "style": "IPY_MODEL_611481bbaff74709848b7cb5f1cc98fd",
            "_dom_classes": [],
            "description": "100%",
            "_model_name": "FloatProgressModel",
            "bar_style": "success",
            "max": 19,
            "_view_module": "@jupyter-widgets/controls",
            "_model_module_version": "1.5.0",
            "value": 19,
            "_view_count": null,
            "_view_module_version": "1.5.0",
            "orientation": "horizontal",
            "min": 0,
            "description_tooltip": null,
            "_model_module": "@jupyter-widgets/controls",
            "layout": "IPY_MODEL_62cc301bb89543f5824ad9433990ee84"
          }
        },
        "99391f94220149469196b323dd422cb3": {
          "model_module": "@jupyter-widgets/controls",
          "model_name": "HTMLModel",
          "state": {
            "_view_name": "HTMLView",
            "style": "IPY_MODEL_084d8fb29e464c2eb3f341a8c9e92132",
            "_dom_classes": [],
            "description": "",
            "_model_name": "HTMLModel",
            "placeholder": "​",
            "_view_module": "@jupyter-widgets/controls",
            "_model_module_version": "1.5.0",
            "value": " 19/19 [00:31&lt;00:00,  1.66s/ba]",
            "_view_count": null,
            "_view_module_version": "1.5.0",
            "description_tooltip": null,
            "_model_module": "@jupyter-widgets/controls",
            "layout": "IPY_MODEL_ad08cb60c0dd48a1915fdfefb83035a6"
          }
        },
        "611481bbaff74709848b7cb5f1cc98fd": {
          "model_module": "@jupyter-widgets/controls",
          "model_name": "ProgressStyleModel",
          "state": {
            "_view_name": "StyleView",
            "_model_name": "ProgressStyleModel",
            "description_width": "initial",
            "_view_module": "@jupyter-widgets/base",
            "_model_module_version": "1.5.0",
            "_view_count": null,
            "_view_module_version": "1.2.0",
            "bar_color": null,
            "_model_module": "@jupyter-widgets/controls"
          }
        },
        "62cc301bb89543f5824ad9433990ee84": {
          "model_module": "@jupyter-widgets/base",
          "model_name": "LayoutModel",
          "state": {
            "_view_name": "LayoutView",
            "grid_template_rows": null,
            "right": null,
            "justify_content": null,
            "_view_module": "@jupyter-widgets/base",
            "overflow": null,
            "_model_module_version": "1.2.0",
            "_view_count": null,
            "flex_flow": null,
            "width": null,
            "min_width": null,
            "border": null,
            "align_items": null,
            "bottom": null,
            "_model_module": "@jupyter-widgets/base",
            "top": null,
            "grid_column": null,
            "overflow_y": null,
            "overflow_x": null,
            "grid_auto_flow": null,
            "grid_area": null,
            "grid_template_columns": null,
            "flex": null,
            "_model_name": "LayoutModel",
            "justify_items": null,
            "grid_row": null,
            "max_height": null,
            "align_content": null,
            "visibility": null,
            "align_self": null,
            "height": null,
            "min_height": null,
            "padding": null,
            "grid_auto_rows": null,
            "grid_gap": null,
            "max_width": null,
            "order": null,
            "_view_module_version": "1.2.0",
            "grid_template_areas": null,
            "object_position": null,
            "object_fit": null,
            "grid_auto_columns": null,
            "margin": null,
            "display": null,
            "left": null
          }
        },
        "084d8fb29e464c2eb3f341a8c9e92132": {
          "model_module": "@jupyter-widgets/controls",
          "model_name": "DescriptionStyleModel",
          "state": {
            "_view_name": "StyleView",
            "_model_name": "DescriptionStyleModel",
            "description_width": "",
            "_view_module": "@jupyter-widgets/base",
            "_model_module_version": "1.5.0",
            "_view_count": null,
            "_view_module_version": "1.2.0",
            "_model_module": "@jupyter-widgets/controls"
          }
        },
        "ad08cb60c0dd48a1915fdfefb83035a6": {
          "model_module": "@jupyter-widgets/base",
          "model_name": "LayoutModel",
          "state": {
            "_view_name": "LayoutView",
            "grid_template_rows": null,
            "right": null,
            "justify_content": null,
            "_view_module": "@jupyter-widgets/base",
            "overflow": null,
            "_model_module_version": "1.2.0",
            "_view_count": null,
            "flex_flow": null,
            "width": null,
            "min_width": null,
            "border": null,
            "align_items": null,
            "bottom": null,
            "_model_module": "@jupyter-widgets/base",
            "top": null,
            "grid_column": null,
            "overflow_y": null,
            "overflow_x": null,
            "grid_auto_flow": null,
            "grid_area": null,
            "grid_template_columns": null,
            "flex": null,
            "_model_name": "LayoutModel",
            "justify_items": null,
            "grid_row": null,
            "max_height": null,
            "align_content": null,
            "visibility": null,
            "align_self": null,
            "height": null,
            "min_height": null,
            "padding": null,
            "grid_auto_rows": null,
            "grid_gap": null,
            "max_width": null,
            "order": null,
            "_view_module_version": "1.2.0",
            "grid_template_areas": null,
            "object_position": null,
            "object_fit": null,
            "grid_auto_columns": null,
            "margin": null,
            "display": null,
            "left": null
          }
        }
      }
    }
  },
  "cells": [
    {
      "cell_type": "markdown",
      "metadata": {
        "id": "view-in-github",
        "colab_type": "text"
      },
      "source": [
        "<a href=\"https://colab.research.google.com/github/guyez/NLP/blob/main/DistilbertQA_train.ipynb\" target=\"_parent\"><img src=\"https://colab.research.google.com/assets/colab-badge.svg\" alt=\"Open In Colab\"/></a>"
      ]
    },
    {
      "cell_type": "markdown",
      "metadata": {
        "id": "ADkUGTqixRWo"
      },
      "source": [
        "# Introduction"
      ]
    },
    {
      "cell_type": "markdown",
      "metadata": {
        "id": "DaVGdtOkuXUZ"
      },
      "source": [
        "\n",
        "## Advantages of Fine-Tuning\n"
      ]
    },
    {
      "cell_type": "markdown",
      "metadata": {
        "id": "5llwu8GBuqMb"
      },
      "source": [
        "\n",
        "We will use different transformers to train a question answering model. Specifically, we will take the pre-trained transformer models, add an untrained layer of neurons on the end, and train the new model for our question answering task. Why do this rather than train a train a specific deep learning model (a CNN, BiLSTM, etc.) that is well suited for the question answering task? \n",
        "\n",
        "1. **Quicker Development**\n",
        "\n",
        "    * First, the pre-trained transformer models weights already encode a lot of information about our language. As a result, it takes much less time to train our fine-tuned model - it is as if we have already trained the bottom layers of our network extensively and only need to gently tune them while using their output as features for our question answering task. In fact, fine-tune a transformer, on a specific NLP task, take only 2-4 epochs of training  (compared to the hundreds of GPU hours needed to train the original transformer model or a LSTM from scratch!). \n",
        "\n",
        "2. **Less Data**\n",
        "\n",
        "    * In addition and perhaps just as important, because of the pre-trained weights this method allows us to fine-tune our task on a much smaller dataset than would be required in a model that is built from scratch. A major drawback of NLP models built from scratch is that we often need a prohibitively large dataset in order to train our network to reasonable accuracy, meaning a lot of time and energy had to be put into dataset creation. By fine-tuning a transformer, we are now able to get away with training a model to good performance on a much smaller amount of training data.\n",
        "\n",
        "3. **Better Results**\n",
        "\n",
        "    * Finally, this simple fine-tuning procedure was shown to achieve state of the art results with minimal task-specific adjustments for a wide variety of tasks: classification, language inference, semantic similarity, question answering, etc. Rather than implementing custom and sometimes-obscure architetures shown to work well on a specific task, simply fine-tuning a transformer is shown to be a better (or at least equal) alternative.\n"
      ]
    },
    {
      "cell_type": "markdown",
      "metadata": {
        "id": "ZEynC5F4u7Nb"
      },
      "source": [
        "\n",
        "### A Shift in NLP\n",
        "\n",
        "This shift to transfer learning parallels the same shift that took place in computer vision a few years ago. Creating a good deep learning network for computer vision tasks can take millions of parameters and be very expensive to train. Researchers discovered that deep networks learn hierarchical feature representations (simple features like edges at the lowest layers with gradually more complex features at higher layers). Rather than training a new network from scratch each time, the lower layers of a trained network with generalized image features could be copied and transfered for use in another network with a different task. It soon became common practice to download a pre-trained deep network and quickly retrain it for the new task or add additional layers on top - vastly preferable to the expensive process of training a network from scratch. For many, the introduction of deep pre-trained language models in 2018 (ELMO, BERT, ULMFIT, Open-GPT, etc.) signals the same shift to transfer learning in NLP that computer vision saw.\n",
        "\n",
        "Let's get started!"
      ]
    },
    {
      "cell_type": "markdown",
      "metadata": {
        "id": "0lLFOMAf5qfA"
      },
      "source": [
        "# Import Dependencies"
      ]
    },
    {
      "cell_type": "markdown",
      "metadata": {
        "id": "G_N2UDLevYWn"
      },
      "source": [
        "\n",
        "Let's install the [transformers](https://github.com/huggingface/transformers) and [datasets](https://github.com/huggingface/datasets) packages from Hugging Face which will give us a pytorch interface for working with transformers. (This library contains interfaces for other pretrained language models like OpenAI's GPT and GPT-2).\n",
        "\n",
        "At the moment, the Hugging Face library seems to be the most widely accepted and powerful pytorch interface for working with transformers. In addition to supporting a variety of different pre-trained transformer models, the library also includes pre-built modifications of these models suited to your specific task.\n",
        "\n",
        "The library also includes task-specific classes for token classification, question answering, next sentence prediciton, etc.\n",
        "\n",
        "Datasets is a lightweight library providing simple, fast and reproducible data pre-processing for the public datasets as well as your own local datasets in CSV/JSON/text. With simple commandes like `tokenized_dataset = dataset.map(tokenize_exemple)` efficiently prepare the dataset for inspection and ML model evaluation and training.\n"
      ]
    },
    {
      "cell_type": "code",
      "metadata": {
        "colab": {
          "base_uri": "https://localhost:8080/"
        },
        "id": "FLUZHZKkM6S7",
        "outputId": "c5f8c6ce-e072-4659-8cf8-01c06d174c80"
      },
      "source": [
        "!pip install transformers\r\n",
        "!pip install datasets"
      ],
      "execution_count": null,
      "outputs": [
        {
          "output_type": "stream",
          "text": [
            "Requirement already satisfied: transformers in /usr/local/lib/python3.7/dist-packages (4.3.3)\n",
            "Requirement already satisfied: requests in /usr/local/lib/python3.7/dist-packages (from transformers) (2.23.0)\n",
            "Requirement already satisfied: tokenizers<0.11,>=0.10.1 in /usr/local/lib/python3.7/dist-packages (from transformers) (0.10.1)\n",
            "Requirement already satisfied: importlib-metadata; python_version < \"3.8\" in /usr/local/lib/python3.7/dist-packages (from transformers) (3.7.0)\n",
            "Requirement already satisfied: tqdm>=4.27 in /usr/local/lib/python3.7/dist-packages (from transformers) (4.41.1)\n",
            "Requirement already satisfied: sacremoses in /usr/local/lib/python3.7/dist-packages (from transformers) (0.0.43)\n",
            "Requirement already satisfied: regex!=2019.12.17 in /usr/local/lib/python3.7/dist-packages (from transformers) (2019.12.20)\n",
            "Requirement already satisfied: packaging in /usr/local/lib/python3.7/dist-packages (from transformers) (20.9)\n",
            "Requirement already satisfied: numpy>=1.17 in /usr/local/lib/python3.7/dist-packages (from transformers) (1.19.5)\n",
            "Requirement already satisfied: filelock in /usr/local/lib/python3.7/dist-packages (from transformers) (3.0.12)\n",
            "Requirement already satisfied: idna<3,>=2.5 in /usr/local/lib/python3.7/dist-packages (from requests->transformers) (2.10)\n",
            "Requirement already satisfied: certifi>=2017.4.17 in /usr/local/lib/python3.7/dist-packages (from requests->transformers) (2020.12.5)\n",
            "Requirement already satisfied: urllib3!=1.25.0,!=1.25.1,<1.26,>=1.21.1 in /usr/local/lib/python3.7/dist-packages (from requests->transformers) (1.24.3)\n",
            "Requirement already satisfied: chardet<4,>=3.0.2 in /usr/local/lib/python3.7/dist-packages (from requests->transformers) (3.0.4)\n",
            "Requirement already satisfied: typing-extensions>=3.6.4; python_version < \"3.8\" in /usr/local/lib/python3.7/dist-packages (from importlib-metadata; python_version < \"3.8\"->transformers) (3.7.4.3)\n",
            "Requirement already satisfied: zipp>=0.5 in /usr/local/lib/python3.7/dist-packages (from importlib-metadata; python_version < \"3.8\"->transformers) (3.4.0)\n",
            "Requirement already satisfied: joblib in /usr/local/lib/python3.7/dist-packages (from sacremoses->transformers) (1.0.1)\n",
            "Requirement already satisfied: six in /usr/local/lib/python3.7/dist-packages (from sacremoses->transformers) (1.15.0)\n",
            "Requirement already satisfied: click in /usr/local/lib/python3.7/dist-packages (from sacremoses->transformers) (7.1.2)\n",
            "Requirement already satisfied: pyparsing>=2.0.2 in /usr/local/lib/python3.7/dist-packages (from packaging->transformers) (2.4.7)\n",
            "Requirement already satisfied: datasets in /usr/local/lib/python3.7/dist-packages (1.3.0)\n",
            "Requirement already satisfied: huggingface-hub==0.0.2 in /usr/local/lib/python3.7/dist-packages (from datasets) (0.0.2)\n",
            "Requirement already satisfied: tqdm<4.50.0,>=4.27 in /usr/local/lib/python3.7/dist-packages (from datasets) (4.41.1)\n",
            "Requirement already satisfied: requests>=2.19.0 in /usr/local/lib/python3.7/dist-packages (from datasets) (2.23.0)\n",
            "Requirement already satisfied: fsspec in /usr/local/lib/python3.7/dist-packages (from datasets) (0.8.7)\n",
            "Requirement already satisfied: pyarrow>=0.17.1 in /usr/local/lib/python3.7/dist-packages (from datasets) (3.0.0)\n",
            "Requirement already satisfied: xxhash in /usr/local/lib/python3.7/dist-packages (from datasets) (2.0.0)\n",
            "Requirement already satisfied: pandas in /usr/local/lib/python3.7/dist-packages (from datasets) (1.1.5)\n",
            "Requirement already satisfied: dill in /usr/local/lib/python3.7/dist-packages (from datasets) (0.3.3)\n",
            "Requirement already satisfied: importlib-metadata; python_version < \"3.8\" in /usr/local/lib/python3.7/dist-packages (from datasets) (3.7.0)\n",
            "Requirement already satisfied: multiprocess in /usr/local/lib/python3.7/dist-packages (from datasets) (0.70.11.1)\n",
            "Requirement already satisfied: numpy>=1.17 in /usr/local/lib/python3.7/dist-packages (from datasets) (1.19.5)\n",
            "Requirement already satisfied: filelock in /usr/local/lib/python3.7/dist-packages (from huggingface-hub==0.0.2->datasets) (3.0.12)\n",
            "Requirement already satisfied: urllib3!=1.25.0,!=1.25.1,<1.26,>=1.21.1 in /usr/local/lib/python3.7/dist-packages (from requests>=2.19.0->datasets) (1.24.3)\n",
            "Requirement already satisfied: idna<3,>=2.5 in /usr/local/lib/python3.7/dist-packages (from requests>=2.19.0->datasets) (2.10)\n",
            "Requirement already satisfied: certifi>=2017.4.17 in /usr/local/lib/python3.7/dist-packages (from requests>=2.19.0->datasets) (2020.12.5)\n",
            "Requirement already satisfied: chardet<4,>=3.0.2 in /usr/local/lib/python3.7/dist-packages (from requests>=2.19.0->datasets) (3.0.4)\n",
            "Requirement already satisfied: python-dateutil>=2.7.3 in /usr/local/lib/python3.7/dist-packages (from pandas->datasets) (2.8.1)\n",
            "Requirement already satisfied: pytz>=2017.2 in /usr/local/lib/python3.7/dist-packages (from pandas->datasets) (2018.9)\n",
            "Requirement already satisfied: zipp>=0.5 in /usr/local/lib/python3.7/dist-packages (from importlib-metadata; python_version < \"3.8\"->datasets) (3.4.0)\n",
            "Requirement already satisfied: typing-extensions>=3.6.4; python_version < \"3.8\" in /usr/local/lib/python3.7/dist-packages (from importlib-metadata; python_version < \"3.8\"->datasets) (3.7.4.3)\n",
            "Requirement already satisfied: six>=1.5 in /usr/local/lib/python3.7/dist-packages (from python-dateutil>=2.7.3->pandas->datasets) (1.15.0)\n"
          ],
          "name": "stdout"
        }
      ]
    },
    {
      "cell_type": "code",
      "metadata": {
        "colab": {
          "base_uri": "https://localhost:8080/"
        },
        "id": "Q56PwL1LiG3N",
        "outputId": "4bec3b17-7528-4f7d-d7b9-0e035d32acbe"
      },
      "source": [
        "import numpy as np\r\n",
        "import pandas as pd\r\n",
        "\r\n",
        "import torch\r\n",
        "\r\n",
        "import json\r\n",
        "import sys\r\n",
        "import time\r\n",
        "import datetime\r\n",
        "import random\r\n",
        "import collections\r\n",
        "from pathlib import Path\r\n",
        "\r\n",
        "import transformers\r\n",
        "import datasets\r\n",
        "from datasets import load_dataset\r\n",
        "\r\n",
        "from google.colab import drive\r\n",
        "drive.mount(\"/content/drive\")"
      ],
      "execution_count": null,
      "outputs": [
        {
          "output_type": "stream",
          "text": [
            "Drive already mounted at /content/drive; to attempt to forcibly remount, call drive.mount(\"/content/drive\", force_remount=True).\n"
          ],
          "name": "stdout"
        }
      ]
    },
    {
      "cell_type": "code",
      "metadata": {
        "colab": {
          "base_uri": "https://localhost:8080/",
          "height": 35
        },
        "id": "Ba7DhxpUofmv",
        "outputId": "15eab9d5-46dd-4d38-8905-9031457859c0"
      },
      "source": [
        "torch.__version__"
      ],
      "execution_count": null,
      "outputs": [
        {
          "output_type": "execute_result",
          "data": {
            "application/vnd.google.colaboratory.intrinsic+json": {
              "type": "string"
            },
            "text/plain": [
              "'1.7.1+cu101'"
            ]
          },
          "metadata": {
            "tags": []
          },
          "execution_count": 3
        }
      ]
    },
    {
      "cell_type": "code",
      "metadata": {
        "colab": {
          "base_uri": "https://localhost:8080/",
          "height": 35
        },
        "id": "ZgSrs3jROoWh",
        "outputId": "03891d00-8e6d-4f12-ceba-c5846fcf4799"
      },
      "source": [
        "transformers.__version__"
      ],
      "execution_count": null,
      "outputs": [
        {
          "output_type": "execute_result",
          "data": {
            "application/vnd.google.colaboratory.intrinsic+json": {
              "type": "string"
            },
            "text/plain": [
              "'4.3.3'"
            ]
          },
          "metadata": {
            "tags": []
          },
          "execution_count": 4
        }
      ]
    },
    {
      "cell_type": "code",
      "metadata": {
        "colab": {
          "base_uri": "https://localhost:8080/",
          "height": 35
        },
        "id": "dFxTZW1COsUi",
        "outputId": "3a7cf52e-4012-4857-dd71-685e6b83772e"
      },
      "source": [
        "datasets.__version__"
      ],
      "execution_count": null,
      "outputs": [
        {
          "output_type": "execute_result",
          "data": {
            "application/vnd.google.colaboratory.intrinsic+json": {
              "type": "string"
            },
            "text/plain": [
              "'1.3.0'"
            ]
          },
          "metadata": {
            "tags": []
          },
          "execution_count": 5
        }
      ]
    },
    {
      "cell_type": "markdown",
      "metadata": {
        "id": "LPmh48qzlrzk"
      },
      "source": [
        "# Reproducibility\n",
        "\n",
        "\n",
        "\n",
        "\n"
      ]
    },
    {
      "cell_type": "code",
      "metadata": {
        "id": "gENJjhhcs768"
      },
      "source": [
        "def fix_random(seed: int) -> None:\n",
        "    \"\"\"Fix all the possible sources of randomness.\n",
        "\n",
        "    Args:\n",
        "        seed: the seed to use.\n",
        "    \"\"\"\n",
        "\n",
        "    np.random.seed(seed)\n",
        "    random.seed(seed)\n",
        "    torch.manual_seed(seed)\n",
        "    torch.cuda.manual_seed(seed)\n",
        "\n",
        "    torch.backends.cudnn.benchmark = False\n",
        "    torch.backends.cudnn.deterministic = True"
      ],
      "execution_count": null,
      "outputs": []
    },
    {
      "cell_type": "code",
      "metadata": {
        "id": "F9uG9WFsN6-S"
      },
      "source": [
        "fix_random(seed=42)"
      ],
      "execution_count": null,
      "outputs": []
    },
    {
      "cell_type": "markdown",
      "metadata": {
        "id": "aJbkbcfoyPFY"
      },
      "source": [
        "# Runtime Settings\n",
        "\n",
        "Here we set the `device`, which is used to place tensors on our GPU, if we have one. If no GPU is available, you should change the Runtime settings. "
      ]
    },
    {
      "cell_type": "code",
      "metadata": {
        "id": "ib8_3-Scxvk8"
      },
      "source": [
        "device = torch.device(\"cuda\" if torch.cuda.is_available() else \"cpu\")"
      ],
      "execution_count": null,
      "outputs": []
    },
    {
      "cell_type": "code",
      "metadata": {
        "id": "I8YXWMiA7fVB",
        "colab": {
          "base_uri": "https://localhost:8080/"
        },
        "outputId": "4818d9c5-6673-4e81-d301-a63c05fb08dd"
      },
      "source": [
        "!nvidia-smi"
      ],
      "execution_count": null,
      "outputs": [
        {
          "output_type": "stream",
          "text": [
            "Tue Mar  2 14:24:25 2021       \n",
            "+-----------------------------------------------------------------------------+\n",
            "| NVIDIA-SMI 460.39       Driver Version: 460.32.03    CUDA Version: 11.2     |\n",
            "|-------------------------------+----------------------+----------------------+\n",
            "| GPU  Name        Persistence-M| Bus-Id        Disp.A | Volatile Uncorr. ECC |\n",
            "| Fan  Temp  Perf  Pwr:Usage/Cap|         Memory-Usage | GPU-Util  Compute M. |\n",
            "|                               |                      |               MIG M. |\n",
            "|===============================+======================+======================|\n",
            "|   0  Tesla P100-PCIE...  Off  | 00000000:00:04.0 Off |                    0 |\n",
            "| N/A   37C    P0    27W / 250W |      2MiB / 16280MiB |      0%      Default |\n",
            "|                               |                      |                  N/A |\n",
            "+-------------------------------+----------------------+----------------------+\n",
            "                                                                               \n",
            "+-----------------------------------------------------------------------------+\n",
            "| Processes:                                                                  |\n",
            "|  GPU   GI   CI        PID   Type   Process name                  GPU Memory |\n",
            "|        ID   ID                                                   Usage      |\n",
            "|=============================================================================|\n",
            "|  No running processes found                                                 |\n",
            "+-----------------------------------------------------------------------------+\n"
          ],
          "name": "stdout"
        }
      ]
    },
    {
      "cell_type": "markdown",
      "metadata": {
        "id": "rATgVca-z-ue"
      },
      "source": [
        "#Load"
      ]
    },
    {
      "cell_type": "code",
      "metadata": {
        "id": "dIGqe1a6rceN"
      },
      "source": [
        "class LoadData():\r\n",
        "    def __init__(self,\r\n",
        "                 path_to_json_file: str,\r\n",
        "                 checkpoint_path: str,\r\n",
        "                 train_file: str = 'train.csv',\r\n",
        "                 val_file: str = 'val.csv') -> None:\r\n",
        "        \"\"\"Load the data by flattening the json file and saving it.\r\n",
        "\r\n",
        "        Args:\r\n",
        "            path_to_json_file: path to the json file.\r\n",
        "            checkpoint_path: path where to save the csv files.\r\n",
        "            train_file: name of the train csv file that will be created.\r\n",
        "            val_file: name of the val csv file that will be created.\r\n",
        "        \"\"\"\r\n",
        "\r\n",
        "        self.path_to_json_file = path_to_json_file\r\n",
        "        self.checkpoint_path = checkpoint_path\r\n",
        "\r\n",
        "        self.train_file = train_file\r\n",
        "        self.val_file = val_file\r\n",
        "\r\n",
        "        self.data = self.load_data()\r\n",
        "\r\n",
        "    def load_data(self):\r\n",
        "        with open(self.path_to_json_file, 'r') as f:\r\n",
        "            train_data = json.load(f)\r\n",
        "        print(f'Flattening SQUAD {train_data[\"version\"]}')\r\n",
        "        train_data_flat, val_data_flat, errors = self.load_squad_data(train_data)\r\n",
        "        print(f'\\nErroneous Datapoints: {errors}')\r\n",
        "\r\n",
        "        pd.DataFrame(train_data_flat).to_csv(Path(self.checkpoint_path) / Path(self.train_file), encoding='utf-8')\r\n",
        "\r\n",
        "        pd.DataFrame(val_data_flat).to_csv(Path(self.checkpoint_path) / Path(self.val_file), encoding='utf-8')\r\n",
        "\r\n",
        "    def load_squad_data(self, data, split=0.2):\r\n",
        "\r\n",
        "        errors = 0\r\n",
        "        flattened_data_train = []\r\n",
        "        flattened_data_val = []\r\n",
        "\r\n",
        "        train_range = len(data['data']) - (len(data['data']) * split)\r\n",
        "\r\n",
        "        for i, article in enumerate(data[\"data\"]):\r\n",
        "            title = article.get(\"title\", \"\").strip()\r\n",
        "            for paragraph in article[\"paragraphs\"]:\r\n",
        "                context = paragraph[\"context\"].strip()\r\n",
        "                for qa in paragraph[\"qas\"]:\r\n",
        "                    question = qa[\"question\"].strip()\r\n",
        "                    id_ = qa[\"id\"]\r\n",
        "\r\n",
        "                    answer_starts = [answer[\"answer_start\"] for answer in qa[\"answers\"]]\r\n",
        "                    answers = [answer[\"text\"].strip() for answer in qa[\"answers\"]]\r\n",
        "\r\n",
        "                    # Features currently used are \"context\", \"question\", and \"answers\".\r\n",
        "                    # Others are extracted here for the ease of future expansions.\r\n",
        "                    if i <= train_range:\r\n",
        "                        flattened_data_train.append({\"title\": title,\r\n",
        "                                                     \"context\": context,\r\n",
        "                                                     \"question\": question,\r\n",
        "                                                     \"id\": id_,\r\n",
        "                                                     \"answers\": {\r\n",
        "                                                         \"answer_start\": answer_starts,\r\n",
        "                                                         \"text\": answers}\r\n",
        "                                                     })\r\n",
        "                    else:\r\n",
        "                        flattened_data_val.append({\"title\": title,\r\n",
        "                                                   \"context\": context,\r\n",
        "                                                   \"question\": question,\r\n",
        "                                                   \"id\": id_,\r\n",
        "                                                   \"answers\": {\r\n",
        "                                                       \"answer_start\": answer_starts,\r\n",
        "                                                       \"text\": answers}\r\n",
        "                                                   })\r\n",
        "\r\n",
        "        return flattened_data_train, flattened_data_val, errors"
      ],
      "execution_count": null,
      "outputs": []
    },
    {
      "cell_type": "code",
      "metadata": {
        "id": "gLClOaPt0luI"
      },
      "source": [
        "# Folder on your Google Drive where all the checkpoints will be saved and where the dataset files are stored and loaded from\r\n",
        "FOLDER_NAME = \"NLPproject\" # @param {type: \"string\"}\r\n",
        "JSON_TEST_FILE = \"training_set.json\" # @param {type: \"string\"}\r\n",
        "data_path = \"drive/My Drive/\" + FOLDER_NAME +\"/\"  # Full path to Drive folder\r\n",
        "file_path = data_path + JSON_TEST_FILE\r\n",
        "checkpoint_path = data_path"
      ],
      "execution_count": null,
      "outputs": []
    },
    {
      "cell_type": "code",
      "metadata": {
        "colab": {
          "base_uri": "https://localhost:8080/"
        },
        "id": "Y6DQzGjkiQaC",
        "outputId": "a4542b52-a161-484a-cdde-1e47116e04bb"
      },
      "source": [
        "_ = LoadData(file_path, checkpoint_path)"
      ],
      "execution_count": null,
      "outputs": [
        {
          "output_type": "stream",
          "text": [
            "Flattening SQUAD 1.1\n",
            "\n",
            "Erroneous Datapoints: 0\n"
          ],
          "name": "stdout"
        }
      ]
    },
    {
      "cell_type": "code",
      "metadata": {
        "colab": {
          "base_uri": "https://localhost:8080/",
          "height": 138,
          "referenced_widgets": [
            "464309a7e5dd441db05e56fb703aed0a",
            "812df664593d4a26b6a941ef7d8e1f96",
            "de69e34422b947b790092dc5a662d016",
            "cf049e0c377d40cd946306f1772805a2",
            "c05f08f9e8fa45d39288388a8d0bcb84",
            "91b95a533c5e4d9280e05460f8d7b2ca",
            "8e0532e93f994754bd6d9ca34dc0d594",
            "536e8ddd6ee94957b2cd8ff88ff467b1",
            "22dcf6c396ea419ea431d4b2cd89a224",
            "4b4bdf5adab848ca9a939f8e002c8495",
            "fb68bd05ed314e879bc573c66b6d3c0e",
            "667b0dd1de7b4ec5bf6d96271c352f65",
            "059d48c6e7b4429a8a731c88c0c21d99",
            "46469fb26f1b47aeb905d43d023b2b23",
            "f3a9b81bb7c4493fb5a0e7430fb38587",
            "079bb56dc1014282bb710fbbdede3b27"
          ]
        },
        "id": "Ji9Vo1imO5Vq",
        "outputId": "b01dd211-8105-4e4f-a37c-0759d4d71f9c"
      },
      "source": [
        "from datasets import load_dataset\r\n",
        "train_data = load_dataset('csv', data_files=data_path+\"train.csv\")\r\n",
        "val_data = load_dataset('csv', data_files=data_path+\"val.csv\")"
      ],
      "execution_count": null,
      "outputs": [
        {
          "output_type": "stream",
          "text": [
            "Using custom data configuration default-1eb395320cfe4917\n"
          ],
          "name": "stderr"
        },
        {
          "output_type": "stream",
          "text": [
            "Downloading and preparing dataset csv/default (download: Unknown size, generated: Unknown size, post-processed: Unknown size, total: Unknown size) to /root/.cache/huggingface/datasets/csv/default-1eb395320cfe4917/0.0.0/965b6429be0fc05f975b608ce64e1fa941cc8fb4f30629b523d2390f3c0e1a93...\n"
          ],
          "name": "stdout"
        },
        {
          "output_type": "display_data",
          "data": {
            "application/vnd.jupyter.widget-view+json": {
              "model_id": "464309a7e5dd441db05e56fb703aed0a",
              "version_minor": 0,
              "version_major": 2
            },
            "text/plain": [
              "HBox(children=(FloatProgress(value=1.0, bar_style='info', max=1.0), HTML(value='')))"
            ]
          },
          "metadata": {
            "tags": []
          }
        },
        {
          "output_type": "stream",
          "text": [
            "\rDataset csv downloaded and prepared to /root/.cache/huggingface/datasets/csv/default-1eb395320cfe4917/0.0.0/965b6429be0fc05f975b608ce64e1fa941cc8fb4f30629b523d2390f3c0e1a93. Subsequent calls will reuse this data.\n"
          ],
          "name": "stdout"
        },
        {
          "output_type": "stream",
          "text": [
            "Using custom data configuration default-4ba956acf7191a03\n"
          ],
          "name": "stderr"
        },
        {
          "output_type": "stream",
          "text": [
            "Downloading and preparing dataset csv/default (download: Unknown size, generated: Unknown size, post-processed: Unknown size, total: Unknown size) to /root/.cache/huggingface/datasets/csv/default-4ba956acf7191a03/0.0.0/965b6429be0fc05f975b608ce64e1fa941cc8fb4f30629b523d2390f3c0e1a93...\n"
          ],
          "name": "stdout"
        },
        {
          "output_type": "display_data",
          "data": {
            "application/vnd.jupyter.widget-view+json": {
              "model_id": "22dcf6c396ea419ea431d4b2cd89a224",
              "version_minor": 0,
              "version_major": 2
            },
            "text/plain": [
              "HBox(children=(FloatProgress(value=1.0, bar_style='info', max=1.0), HTML(value='')))"
            ]
          },
          "metadata": {
            "tags": []
          }
        },
        {
          "output_type": "stream",
          "text": [
            "\rDataset csv downloaded and prepared to /root/.cache/huggingface/datasets/csv/default-4ba956acf7191a03/0.0.0/965b6429be0fc05f975b608ce64e1fa941cc8fb4f30629b523d2390f3c0e1a93. Subsequent calls will reuse this data.\n"
          ],
          "name": "stdout"
        }
      ]
    },
    {
      "cell_type": "code",
      "metadata": {
        "colab": {
          "base_uri": "https://localhost:8080/",
          "height": 114,
          "referenced_widgets": [
            "4fa2d6c48b644bdcaba4bacb22f15992",
            "60e4e9f795ac42a585da15154a8ddb7e",
            "c80428163e0c461181ed15195d1dcc66",
            "1dc2d5e4eab74084af3613b4e99c9955",
            "f79469837b3c432b847a0075e737d375",
            "89779a5f51294c02b1972cd5bcc77ebc",
            "7866f9a7b1f348618a9f69bf44cdf5b5",
            "e103ad3c85af4611bff903829eda86c3",
            "e289742efe0b4dfdab1b5f3363ba43c5",
            "8238d856378343f9bd3a4914407ed5a9",
            "b95f5a65bc0148a5b1c420a8aaff2d76",
            "8304a0b89dda4870afdc7d14766c45e9",
            "e43a7e2f91b14c3798c422cb06f3d7d3",
            "0eb6691b1c90489abfca6d86b65a8eea",
            "236ef7089d344bc0a01911958b312974",
            "41e8fd473c314bd39903455780633213"
          ]
        },
        "id": "S4quNVngMpHV",
        "outputId": "1cc52843-cc98-42c6-9533-28c186b33a7a"
      },
      "source": [
        "import ast\r\n",
        "\r\n",
        "def string_to_dict(examples: dict) -> dict:\r\n",
        "    \"\"\"Convert the answers form string to dict.\r\n",
        "       This is needed because when you load the data from the csv file\r\n",
        "       the type of the 'answers' column is string but we want a dict\r\n",
        "\r\n",
        "     Args:\r\n",
        "         examples: a squad sample.\r\n",
        "     \"\"\"\r\n",
        "    examples['answers'] = ast.literal_eval(examples['answers'])\r\n",
        "    return examples\r\n",
        "  \r\n",
        "\r\n",
        "train_data = train_data.map(string_to_dict)\r\n",
        "val_data = val_data.map(string_to_dict)"
      ],
      "execution_count": null,
      "outputs": [
        {
          "output_type": "display_data",
          "data": {
            "application/vnd.jupyter.widget-view+json": {
              "model_id": "4fa2d6c48b644bdcaba4bacb22f15992",
              "version_minor": 0,
              "version_major": 2
            },
            "text/plain": [
              "HBox(children=(FloatProgress(value=0.0, max=69392.0), HTML(value='')))"
            ]
          },
          "metadata": {
            "tags": []
          }
        },
        {
          "output_type": "stream",
          "text": [
            "\n"
          ],
          "name": "stdout"
        },
        {
          "output_type": "display_data",
          "data": {
            "application/vnd.jupyter.widget-view+json": {
              "model_id": "e289742efe0b4dfdab1b5f3363ba43c5",
              "version_minor": 0,
              "version_major": 2
            },
            "text/plain": [
              "HBox(children=(FloatProgress(value=0.0, max=18207.0), HTML(value='')))"
            ]
          },
          "metadata": {
            "tags": []
          }
        },
        {
          "output_type": "stream",
          "text": [
            "\n"
          ],
          "name": "stdout"
        }
      ]
    },
    {
      "cell_type": "code",
      "metadata": {
        "colab": {
          "base_uri": "https://localhost:8080/",
          "height": 721
        },
        "id": "b6twxoFaRNHK",
        "outputId": "d62bee23-5778-4caf-a699-d4564eb8b140"
      },
      "source": [
        "train_dataframe = pd.read_csv(data_path+\"train.csv\")\r\n",
        "val_dataframe = pd.read_csv(data_path+\"val.csv\")\r\n",
        "\r\n",
        "train_dataframe"
      ],
      "execution_count": null,
      "outputs": [
        {
          "output_type": "execute_result",
          "data": {
            "text/html": [
              "<div>\n",
              "<style scoped>\n",
              "    .dataframe tbody tr th:only-of-type {\n",
              "        vertical-align: middle;\n",
              "    }\n",
              "\n",
              "    .dataframe tbody tr th {\n",
              "        vertical-align: top;\n",
              "    }\n",
              "\n",
              "    .dataframe thead th {\n",
              "        text-align: right;\n",
              "    }\n",
              "</style>\n",
              "<table border=\"1\" class=\"dataframe\">\n",
              "  <thead>\n",
              "    <tr style=\"text-align: right;\">\n",
              "      <th></th>\n",
              "      <th>Unnamed: 0</th>\n",
              "      <th>title</th>\n",
              "      <th>context</th>\n",
              "      <th>question</th>\n",
              "      <th>id</th>\n",
              "      <th>answers</th>\n",
              "    </tr>\n",
              "  </thead>\n",
              "  <tbody>\n",
              "    <tr>\n",
              "      <th>0</th>\n",
              "      <td>0</td>\n",
              "      <td>University_of_Notre_Dame</td>\n",
              "      <td>Architecturally, the school has a Catholic cha...</td>\n",
              "      <td>To whom did the Virgin Mary allegedly appear i...</td>\n",
              "      <td>5733be284776f41900661182</td>\n",
              "      <td>{'answer_start': [515], 'text': ['Saint Bernad...</td>\n",
              "    </tr>\n",
              "    <tr>\n",
              "      <th>1</th>\n",
              "      <td>1</td>\n",
              "      <td>University_of_Notre_Dame</td>\n",
              "      <td>Architecturally, the school has a Catholic cha...</td>\n",
              "      <td>What is in front of the Notre Dame Main Building?</td>\n",
              "      <td>5733be284776f4190066117f</td>\n",
              "      <td>{'answer_start': [188], 'text': ['a copper sta...</td>\n",
              "    </tr>\n",
              "    <tr>\n",
              "      <th>2</th>\n",
              "      <td>2</td>\n",
              "      <td>University_of_Notre_Dame</td>\n",
              "      <td>Architecturally, the school has a Catholic cha...</td>\n",
              "      <td>The Basilica of the Sacred heart at Notre Dame...</td>\n",
              "      <td>5733be284776f41900661180</td>\n",
              "      <td>{'answer_start': [279], 'text': ['the Main Bui...</td>\n",
              "    </tr>\n",
              "    <tr>\n",
              "      <th>3</th>\n",
              "      <td>3</td>\n",
              "      <td>University_of_Notre_Dame</td>\n",
              "      <td>Architecturally, the school has a Catholic cha...</td>\n",
              "      <td>What is the Grotto at Notre Dame?</td>\n",
              "      <td>5733be284776f41900661181</td>\n",
              "      <td>{'answer_start': [381], 'text': ['a Marian pla...</td>\n",
              "    </tr>\n",
              "    <tr>\n",
              "      <th>4</th>\n",
              "      <td>4</td>\n",
              "      <td>University_of_Notre_Dame</td>\n",
              "      <td>Architecturally, the school has a Catholic cha...</td>\n",
              "      <td>What sits on top of the Main Building at Notre...</td>\n",
              "      <td>5733be284776f4190066117e</td>\n",
              "      <td>{'answer_start': [92], 'text': ['a golden stat...</td>\n",
              "    </tr>\n",
              "    <tr>\n",
              "      <th>...</th>\n",
              "      <td>...</td>\n",
              "      <td>...</td>\n",
              "      <td>...</td>\n",
              "      <td>...</td>\n",
              "      <td>...</td>\n",
              "      <td>...</td>\n",
              "    </tr>\n",
              "    <tr>\n",
              "      <th>69387</th>\n",
              "      <td>69387</td>\n",
              "      <td>Empiricism</td>\n",
              "      <td>John Dewey (1859–1952) modified James' pragmat...</td>\n",
              "      <td>Who came up with 'instrumentalism'?</td>\n",
              "      <td>572b459134ae481900dead71</td>\n",
              "      <td>{'answer_start': [0], 'text': ['John Dewey']}</td>\n",
              "    </tr>\n",
              "    <tr>\n",
              "      <th>69388</th>\n",
              "      <td>69388</td>\n",
              "      <td>Empiricism</td>\n",
              "      <td>John Dewey (1859–1952) modified James' pragmat...</td>\n",
              "      <td>What did Dewey think about reality?</td>\n",
              "      <td>572b459134ae481900dead72</td>\n",
              "      <td>{'answer_start': [317], 'text': ['reality is d...</td>\n",
              "    </tr>\n",
              "    <tr>\n",
              "      <th>69389</th>\n",
              "      <td>69389</td>\n",
              "      <td>Empiricism</td>\n",
              "      <td>John Dewey (1859–1952) modified James' pragmat...</td>\n",
              "      <td>When was Dewey born?</td>\n",
              "      <td>572b459134ae481900dead73</td>\n",
              "      <td>{'answer_start': [12], 'text': ['1859']}</td>\n",
              "    </tr>\n",
              "    <tr>\n",
              "      <th>69390</th>\n",
              "      <td>69390</td>\n",
              "      <td>Empiricism</td>\n",
              "      <td>John Dewey (1859–1952) modified James' pragmat...</td>\n",
              "      <td>When did Dewey die?</td>\n",
              "      <td>572b459134ae481900dead74</td>\n",
              "      <td>{'answer_start': [17], 'text': ['1952']}</td>\n",
              "    </tr>\n",
              "    <tr>\n",
              "      <th>69391</th>\n",
              "      <td>69391</td>\n",
              "      <td>Empiricism</td>\n",
              "      <td>John Dewey (1859–1952) modified James' pragmat...</td>\n",
              "      <td>What was instrumentalism a modification of?</td>\n",
              "      <td>572b459134ae481900dead75</td>\n",
              "      <td>{'answer_start': [32], 'text': [\"James' pragma...</td>\n",
              "    </tr>\n",
              "  </tbody>\n",
              "</table>\n",
              "<p>69392 rows × 6 columns</p>\n",
              "</div>"
            ],
            "text/plain": [
              "       Unnamed: 0  ...                                            answers\n",
              "0               0  ...  {'answer_start': [515], 'text': ['Saint Bernad...\n",
              "1               1  ...  {'answer_start': [188], 'text': ['a copper sta...\n",
              "2               2  ...  {'answer_start': [279], 'text': ['the Main Bui...\n",
              "3               3  ...  {'answer_start': [381], 'text': ['a Marian pla...\n",
              "4               4  ...  {'answer_start': [92], 'text': ['a golden stat...\n",
              "...           ...  ...                                                ...\n",
              "69387       69387  ...      {'answer_start': [0], 'text': ['John Dewey']}\n",
              "69388       69388  ...  {'answer_start': [317], 'text': ['reality is d...\n",
              "69389       69389  ...           {'answer_start': [12], 'text': ['1859']}\n",
              "69390       69390  ...           {'answer_start': [17], 'text': ['1952']}\n",
              "69391       69391  ...  {'answer_start': [32], 'text': [\"James' pragma...\n",
              "\n",
              "[69392 rows x 6 columns]"
            ]
          },
          "metadata": {
            "tags": []
          },
          "execution_count": 15
        }
      ]
    },
    {
      "cell_type": "code",
      "metadata": {
        "colab": {
          "base_uri": "https://localhost:8080/",
          "height": 407
        },
        "id": "uvVkdnU17gEt",
        "outputId": "de05b766-61b5-46bc-fcfc-7849adb2c621"
      },
      "source": [
        "figsize = (10,6)\r\n",
        "train_dataframe['context'].apply(len).plot.hist(title=\"Contex length histogram\", bins=20, figsize=figsize, grid=True)"
      ],
      "execution_count": null,
      "outputs": [
        {
          "output_type": "execute_result",
          "data": {
            "text/plain": [
              "<matplotlib.axes._subplots.AxesSubplot at 0x7fb7c40f7310>"
            ]
          },
          "metadata": {
            "tags": []
          },
          "execution_count": 16
        },
        {
          "output_type": "display_data",
          "data": {
            "image/png": "[encoded data removed]",
            "text/plain": [
              "<Figure size 720x432 with 1 Axes>"
            ]
          },
          "metadata": {
            "tags": [],
            "needs_background": "light"
          }
        }
      ]
    },
    {
      "cell_type": "code",
      "metadata": {
        "colab": {
          "base_uri": "https://localhost:8080/",
          "height": 407
        },
        "id": "Jab-fQ1X8dfY",
        "outputId": "ceb5e686-3ab2-4eaa-b05e-1a6088609c63"
      },
      "source": [
        "train_dataframe['question'].apply(len).plot.hist(title=\"Question length histogram\", bins=20, figsize=figsize, grid=True)"
      ],
      "execution_count": null,
      "outputs": [
        {
          "output_type": "execute_result",
          "data": {
            "text/plain": [
              "<matplotlib.axes._subplots.AxesSubplot at 0x7fb7c3fc7550>"
            ]
          },
          "metadata": {
            "tags": []
          },
          "execution_count": 17
        },
        {
          "output_type": "display_data",
          "data": {
            "image/png": "[encoded data removed]",
            "text/plain": [
              "<Figure size 720x432 with 1 Axes>"
            ]
          },
          "metadata": {
            "tags": [],
            "needs_background": "light"
          }
        }
      ]
    },
    {
      "cell_type": "code",
      "metadata": {
        "colab": {
          "base_uri": "https://localhost:8080/",
          "height": 407
        },
        "id": "lY9PhtcW8pmt",
        "outputId": "ca792c98-0bbe-4e7d-91f3-2d00aa4a5119"
      },
      "source": [
        "def answer_len(answer: str) -> int:\r\n",
        "    \"\"\"Extract only the text from an answer and return its length\r\n",
        "\r\n",
        "    Args:\r\n",
        "        answer: the answer.\r\n",
        "    \"\"\"\r\n",
        "    return len(answer.split(\"'text': \")[1][2:-3])\r\n",
        "\r\n",
        "train_dataframe['answers'].apply(answer_len).plot.hist(title=\"Answer length histogram\", bins=20, figsize=figsize, grid=True)"
      ],
      "execution_count": null,
      "outputs": [
        {
          "output_type": "execute_result",
          "data": {
            "text/plain": [
              "<matplotlib.axes._subplots.AxesSubplot at 0x7fb7cb11ded0>"
            ]
          },
          "metadata": {
            "tags": []
          },
          "execution_count": 18
        },
        {
          "output_type": "display_data",
          "data": {
            "image/png": "[encoded data removed]",
            "text/plain": [
              "<Figure size 720x432 with 1 Axes>"
            ]
          },
          "metadata": {
            "tags": [],
            "needs_background": "light"
          }
        }
      ]
    },
    {
      "cell_type": "code",
      "metadata": {
        "colab": {
          "base_uri": "https://localhost:8080/"
        },
        "id": "vGYzWRfv2SuH",
        "outputId": "4ac70711-4d90-4cb8-e0ba-3a535e5ae50c"
      },
      "source": [
        "#@title Show Samples { run: \"auto\", display-mode: \"form\" }\r\n",
        "\r\n",
        "sample_index =  62194#@param {type:\"slider\", min:0, max:62194, step:1}\r\n",
        "\r\n",
        "def print_squad_sample(df: pd.core.frame.DataFrame, line_length: int=20, separator_length: int=120) -> None:\r\n",
        "  sample = df.iloc[sample_index]\r\n",
        "  title = sample.title.replace('_', ' ')\r\n",
        "  print('TITLE: ')\r\n",
        "  print(title)\r\n",
        "  print('='*separator_length)\r\n",
        "  context = sample.context.split()\r\n",
        "  print('CONTEXT: ')\r\n",
        "  lines = [' '.join(context[idx:idx+line_length]) for idx in range(0, len(context), line_length)]\r\n",
        "  for l in lines:\r\n",
        "      print(l)\r\n",
        "  print('='*separator_length)\r\n",
        "  questions = df[df.context.values==sample.context]\r\n",
        "  max_len = len(max(questions.question, key=len)) + 5\r\n",
        "  print(\"{: <{max_len}} {: <{max_len}}\".format('QUESTION:','ANSWER:', max_len=max_len))\r\n",
        "  for idx, row in questions.iterrows():\r\n",
        "    question = row.question\r\n",
        "    answer = row.answers.split(\"'text': \")[1][2:-3]\r\n",
        "    print(\"{: <{max_len}} {: <{max_len}}\".format(question,answer, max_len=max_len))\r\n",
        "\r\n",
        "print_squad_sample(train_dataframe)"
      ],
      "execution_count": null,
      "outputs": [
        {
          "output_type": "stream",
          "text": [
            "TITLE: \n",
            "PlayStation 3\n",
            "========================================================================================================================\n",
            "CONTEXT: \n",
            "The console was first officially announced at E3 2005, and was released at the end of 2006. It was the\n",
            "first console to use Blu-ray Disc as its primary storage medium. The console was the first PlayStation to integrate social\n",
            "gaming services, included it being the first to introduce Sony's social gaming service, PlayStation Network, and its remote connectivity with\n",
            "PlayStation Portable and PlayStation Vita, being able to remote control the console from the devices. In September 2009, the Slim\n",
            "model of the PlayStation 3 was released, being lighter and thinner than the original version, which notably featured a redesigned\n",
            "logo and marketing design, as well as a minor start-up change in software. A Super Slim variation was then released\n",
            "in late 2012, further refining and redesigning the console. As of March 2016, PlayStation 3 has sold 85 million units\n",
            "worldwide. Its successor, the PlayStation 4, was released later in November 2013.\n",
            "========================================================================================================================\n",
            "QUESTION:                                                              ANSWER:                                                               \n",
            "What year was the PlayStation 3 released?                              2006                                                                  \n",
            "What social gaming service was integrated into the PlayStation 3?      PlayStation Network                                                   \n",
            "What was the thinner version of the PS3 called?                        Slim                                                                  \n",
            "What year did the Super Slim model hit stores?                         2012                                                                  \n",
            "How many PlayStation 3 units had been purchased as of early 2016?      85 million                                                            \n"
          ],
          "name": "stdout"
        }
      ]
    },
    {
      "cell_type": "markdown",
      "metadata": {
        "id": "Inog-64XTyd0"
      },
      "source": [
        "#Preprocessing the training data\r\n",
        "\r\n",
        "Before we can feed those texts to our model, we need to preprocess them. This is done by a 🤗 Transformers Tokenizer which will (as the name indicates) tokenize the inputs (including converting the tokens to their corresponding IDs in the pretrained vocabulary) and put it in a format the model expects, as well as generate the other inputs that model requires.\r\n",
        "\r\n",
        "To do all of this, we instantiate our tokenizer with the AutoTokenizer.from_pretrained method, which will ensure:\r\n",
        "\r\n",
        "- we get a tokenizer that corresponds to the model architecture we want to use,\r\n",
        "- we download the vocabulary used when pretraining this specific checkpoint.\r\n",
        "\r\n",
        "That vocabulary will be cached, so it's not downloaded again the next time we run the cell."
      ]
    },
    {
      "cell_type": "code",
      "metadata": {
        "id": "oOEF4DScUDPi"
      },
      "source": [
        "from transformers import AutoTokenizer\r\n",
        "\r\n",
        "#model_checkpoint = \"t5-small\" doesn't work\r\n",
        "model_checkpoint = \"distilbert-base-uncased\"\r\n",
        "#model_checkpoint = \"roberta-base\"\r\n",
        "#model_checkpoint = \"distilroberta-base\"\r\n",
        "tokenizer = AutoTokenizer.from_pretrained(model_checkpoint)"
      ],
      "execution_count": null,
      "outputs": []
    },
    {
      "cell_type": "markdown",
      "metadata": {
        "id": "euAfbUcZWjJN"
      },
      "source": [
        "The following assertion ensures that our tokenizer is a fast tokenizers (backed by Rust) from the 🤗 Tokenizers library. Those fast tokenizers are available for almost all models, and we will need some of the special features they have for our preprocessing."
      ]
    },
    {
      "cell_type": "code",
      "metadata": {
        "id": "zrWBwldIWmjJ"
      },
      "source": [
        "import transformers\r\n",
        "assert isinstance(tokenizer, transformers.PreTrainedTokenizerFast)"
      ],
      "execution_count": null,
      "outputs": []
    },
    {
      "cell_type": "markdown",
      "metadata": {
        "id": "P4B5xi7TWrH6"
      },
      "source": [
        "You can directly call this tokenizer on two sentences (one for the answer, one for the context):"
      ]
    },
    {
      "cell_type": "code",
      "metadata": {
        "id": "jCdTbs69Wxbh",
        "colab": {
          "base_uri": "https://localhost:8080/"
        },
        "outputId": "155bf523-3b3c-4bac-af04-df7ee7b420f0"
      },
      "source": [
        "tokenizer(\"What is your name?\", \"My name is Sylvain.\")"
      ],
      "execution_count": null,
      "outputs": [
        {
          "output_type": "execute_result",
          "data": {
            "text/plain": [
              "{'input_ids': [101, 2054, 2003, 2115, 2171, 1029, 102, 2026, 2171, 2003, 25353, 22144, 2378, 1012, 102], 'attention_mask': [1, 1, 1, 1, 1, 1, 1, 1, 1, 1, 1, 1, 1, 1, 1]}"
            ]
          },
          "metadata": {
            "tags": []
          },
          "execution_count": 22
        }
      ]
    },
    {
      "cell_type": "markdown",
      "metadata": {
        "id": "isD4HOEIWzyt"
      },
      "source": [
        "Now one specific thing for the preprocessing in question answering is how to deal with very long documents. We usually truncate them in other tasks, when they are longer than the model maximum sentence length, but here, removing part of the the context might result in losing the answer we are looking for. To deal with this, we will allow one (long) example in our dataset to give several input features, each of length shorter than the maximum length of the model (or the one we set as a hyper-parameter). Also, just in case the answer lies at the point we split a long context, we allow some overlap between the features we generate controlled by the hyper-parameter `doc_stride`:"
      ]
    },
    {
      "cell_type": "code",
      "metadata": {
        "id": "AhmVAsCrXKD9"
      },
      "source": [
        "max_length = 384 # The maximum length of a feature (question and context)\r\n",
        "doc_stride = 128 # The authorized overlap between two part of the context when splitting it is needed."
      ],
      "execution_count": null,
      "outputs": []
    },
    {
      "cell_type": "markdown",
      "metadata": {
        "id": "swb-2ky0XOep"
      },
      "source": [
        "Let's find one long example in our dataset:"
      ]
    },
    {
      "cell_type": "code",
      "metadata": {
        "id": "En5rIHRKXS_8"
      },
      "source": [
        "for i, example in enumerate(train_data['train']):\r\n",
        "    if len(tokenizer(example[\"question\"], example[\"context\"])[\"input_ids\"]) > 384:\r\n",
        "        break\r\n",
        "example = train_data['train'][i]"
      ],
      "execution_count": null,
      "outputs": []
    },
    {
      "cell_type": "markdown",
      "metadata": {
        "id": "aEXFViFpXfS7"
      },
      "source": [
        "Without any truncation, we get the following length for the input IDs:"
      ]
    },
    {
      "cell_type": "code",
      "metadata": {
        "id": "9ZzQzBQ-XipM",
        "colab": {
          "base_uri": "https://localhost:8080/"
        },
        "outputId": "16d01bb0-f8ae-4742-bba8-7c1d1ecde5ae"
      },
      "source": [
        "len(tokenizer(example[\"question\"], example[\"context\"])[\"input_ids\"])"
      ],
      "execution_count": null,
      "outputs": [
        {
          "output_type": "execute_result",
          "data": {
            "text/plain": [
              "396"
            ]
          },
          "metadata": {
            "tags": []
          },
          "execution_count": 25
        }
      ]
    },
    {
      "cell_type": "markdown",
      "metadata": {
        "id": "9n2ou3CCXneQ"
      },
      "source": [
        "Now, if we just truncate, we will lose information (and possibly the answer to our question):"
      ]
    },
    {
      "cell_type": "code",
      "metadata": {
        "id": "4JuPcSi0XsBl",
        "colab": {
          "base_uri": "https://localhost:8080/"
        },
        "outputId": "a48756b7-e368-4835-b4d2-8c5513546a0d"
      },
      "source": [
        "len(tokenizer(example[\"question\"], example[\"context\"], max_length=max_length, truncation=\"only_second\")[\"input_ids\"])"
      ],
      "execution_count": null,
      "outputs": [
        {
          "output_type": "execute_result",
          "data": {
            "text/plain": [
              "384"
            ]
          },
          "metadata": {
            "tags": []
          },
          "execution_count": 26
        }
      ]
    },
    {
      "cell_type": "markdown",
      "metadata": {
        "id": "crED70ZpX27W"
      },
      "source": [
        "Note that we never want to truncate the question, only the context, else the `only_second` truncation picked. Now, our tokenizer can automatically return us a list of features capped by a certain maximum length, with the overlap we talked above, we just have to tell it with `return_overflowing_tokens=True` and by passing the `stride`:"
      ]
    },
    {
      "cell_type": "code",
      "metadata": {
        "id": "a3ddtDfBX4k7"
      },
      "source": [
        "tokenized_example = tokenizer(\r\n",
        "    example[\"question\"],\r\n",
        "    example[\"context\"],\r\n",
        "    max_length=max_length,\r\n",
        "    truncation=\"only_second\",\r\n",
        "    return_overflowing_tokens=True,\r\n",
        "    stride=doc_stride\r\n",
        ")"
      ],
      "execution_count": null,
      "outputs": []
    },
    {
      "cell_type": "markdown",
      "metadata": {
        "id": "_2Ig_99qYAkA"
      },
      "source": [
        "Now we don't have one list of `input_ids`, but several:"
      ]
    },
    {
      "cell_type": "code",
      "metadata": {
        "id": "5lp4ehFfYEER",
        "colab": {
          "base_uri": "https://localhost:8080/"
        },
        "outputId": "73067096-53a9-4c13-ad05-c0972d8b5864"
      },
      "source": [
        "[len(x) for x in tokenized_example[\"input_ids\"]]"
      ],
      "execution_count": null,
      "outputs": [
        {
          "output_type": "execute_result",
          "data": {
            "text/plain": [
              "[384, 157]"
            ]
          },
          "metadata": {
            "tags": []
          },
          "execution_count": 28
        }
      ]
    },
    {
      "cell_type": "markdown",
      "metadata": {
        "id": "RNMmLwZmYHwY"
      },
      "source": [
        "And if we decode them, we can see the overlap:"
      ]
    },
    {
      "cell_type": "code",
      "metadata": {
        "id": "y9wODpPbYSsv",
        "colab": {
          "base_uri": "https://localhost:8080/"
        },
        "outputId": "c011b913-a86c-4612-f2de-5bc4d4a61da2"
      },
      "source": [
        "for x in tokenized_example[\"input_ids\"][:2]:\r\n",
        "    print(tokenizer.decode(x))"
      ],
      "execution_count": null,
      "outputs": [
        {
          "output_type": "stream",
          "text": [
            "[CLS] how many wins does the notre dame men's basketball team have? [SEP] the men's basketball team has over 1, 600 wins, one of only 12 schools who have reached that mark, and have appeared in 28 ncaa tournaments. former player austin carr holds the record for most points scored in a single game of the tournament with 61. although the team has never won the ncaa tournament, they were named by the helms athletic foundation as national champions twice. the team has orchestrated a number of upsets of number one ranked teams, the most notable of which was ending ucla's record 88 - game winning streak in 1974. the team has beaten an additional eight number - one teams, and those nine wins rank second, to ucla's 10, all - time in wins against the top team. the team plays in newly renovated purcell pavilion ( within the edmund p. joyce center ), which reopened for the beginning of the 2009 – 2010 season. the team is coached by mike brey, who, as of the 2014 – 15 season, his fifteenth at notre dame, has achieved a 332 - 165 record. in 2009 they were invited to the nit, where they advanced to the semifinals but were beaten by penn state who went on and beat baylor in the championship. the 2010 – 11 team concluded its regular season ranked number seven in the country, with a record of 25 – 5, brey's fifth straight 20 - win season, and a second - place finish in the big east. during the 2014 - 15 season, the team went 32 - 6 and won the acc conference tournament, later advancing to the elite 8, where the fighting irish lost on a missed buzzer - beater against then undefeated kentucky. led by nba draft picks jerian grant and pat connaughton, the fighting irish beat the eventual national champion duke blue devils twice during the season. the 32 wins were [SEP]\n",
            "[CLS] how many wins does the notre dame men's basketball team have? [SEP] championship. the 2010 – 11 team concluded its regular season ranked number seven in the country, with a record of 25 – 5, brey's fifth straight 20 - win season, and a second - place finish in the big east. during the 2014 - 15 season, the team went 32 - 6 and won the acc conference tournament, later advancing to the elite 8, where the fighting irish lost on a missed buzzer - beater against then undefeated kentucky. led by nba draft picks jerian grant and pat connaughton, the fighting irish beat the eventual national champion duke blue devils twice during the season. the 32 wins were the most by the fighting irish team since 1908 - 09. [SEP]\n"
          ],
          "name": "stdout"
        }
      ]
    },
    {
      "cell_type": "markdown",
      "metadata": {
        "id": "3prQbXuhYiBb"
      },
      "source": [
        "Now this will give us some work to properly treat the answers: we need to find in which of those features the answer actually is, and where exactly in that feature. The models we will use require the start and end positions of these answers in the tokens, so we will also need to to map parts of the original context to some tokens. Thankfully, the tokenizer we're using can help us with that by returning an offset_mapping:"
      ]
    },
    {
      "cell_type": "code",
      "metadata": {
        "id": "l-lt4jn-Yk6L",
        "colab": {
          "base_uri": "https://localhost:8080/"
        },
        "outputId": "c07eb759-1c02-4b93-dcb0-666d78f57a3d"
      },
      "source": [
        "tokenized_example = tokenizer(\r\n",
        "    example[\"question\"],\r\n",
        "    example[\"context\"],\r\n",
        "    max_length=max_length,\r\n",
        "    truncation=\"only_second\",\r\n",
        "    return_overflowing_tokens=True,\r\n",
        "    return_offsets_mapping=True,\r\n",
        "    stride=doc_stride\r\n",
        ")\r\n",
        "print(tokenized_example[\"offset_mapping\"][0][:100])"
      ],
      "execution_count": null,
      "outputs": [
        {
          "output_type": "stream",
          "text": [
            "[(0, 0), (0, 3), (4, 8), (9, 13), (14, 18), (19, 22), (23, 28), (29, 33), (34, 37), (37, 38), (38, 39), (40, 50), (51, 55), (56, 60), (60, 61), (0, 0), (0, 3), (4, 7), (7, 8), (8, 9), (10, 20), (21, 25), (26, 29), (30, 34), (35, 36), (36, 37), (37, 40), (41, 45), (45, 46), (47, 50), (51, 53), (54, 58), (59, 61), (62, 69), (70, 73), (74, 78), (79, 86), (87, 91), (92, 96), (96, 97), (98, 101), (102, 106), (107, 115), (116, 118), (119, 121), (122, 126), (127, 138), (138, 139), (140, 146), (147, 153), (154, 160), (161, 165), (166, 171), (172, 175), (176, 182), (183, 186), (187, 191), (192, 198), (199, 205), (206, 208), (209, 210), (211, 217), (218, 222), (223, 225), (226, 229), (230, 240), (241, 245), (246, 248), (248, 249), (250, 258), (259, 262), (263, 267), (268, 271), (272, 277), (278, 281), (282, 285), (286, 290), (291, 301), (301, 302), (303, 307), (308, 312), (313, 318), (319, 321), (322, 325), (326, 330), (330, 331), (332, 340), (341, 351), (352, 354), (355, 363), (364, 373), (374, 379), (379, 380), (381, 384), (385, 389), (390, 393), (394, 406), (407, 408), (409, 415), (416, 418)]\n"
          ],
          "name": "stdout"
        }
      ]
    },
    {
      "cell_type": "markdown",
      "metadata": {
        "id": "jsFgc-JmYtRp"
      },
      "source": [
        "This gives, for each index of our input IDS, the corresponding start and end character in the original text that gave our token. The very first token ([CLS]) has (0, 0) because it doesn't correspond to any part of the question/answer, then the second token is the same as the characters 0 to 3 of the question:"
      ]
    },
    {
      "cell_type": "code",
      "metadata": {
        "id": "2qCV6fKrYwJj",
        "colab": {
          "base_uri": "https://localhost:8080/"
        },
        "outputId": "08da9ae2-25b8-42bd-b2e5-df706ca62999"
      },
      "source": [
        "first_token_id = tokenized_example[\"input_ids\"][0][1]\r\n",
        "offsets = tokenized_example[\"offset_mapping\"][0][1]\r\n",
        "print(tokenizer.convert_ids_to_tokens([first_token_id])[0], example[\"question\"][offsets[0]:offsets[1]])"
      ],
      "execution_count": null,
      "outputs": [
        {
          "output_type": "stream",
          "text": [
            "how How\n"
          ],
          "name": "stdout"
        }
      ]
    },
    {
      "cell_type": "markdown",
      "metadata": {
        "id": "boTnfzj1Y401"
      },
      "source": [
        "So we can use this mapping to find the position of the start and end tokens of our answer in a given feature. We just have to distinguish which parts of the offsets correspond to the question and which part correspond to the context, this is where the `sequence_ids` method of our `tokenized_example` can be useful:"
      ]
    },
    {
      "cell_type": "code",
      "metadata": {
        "id": "yVUN97sTY7sX",
        "colab": {
          "base_uri": "https://localhost:8080/"
        },
        "outputId": "be69ef91-2679-475f-b58a-c3a04847cc07"
      },
      "source": [
        "sequence_ids = tokenized_example.sequence_ids()\r\n",
        "print(sequence_ids)"
      ],
      "execution_count": null,
      "outputs": [
        {
          "output_type": "stream",
          "text": [
            "[None, 0, 0, 0, 0, 0, 0, 0, 0, 0, 0, 0, 0, 0, 0, None, 1, 1, 1, 1, 1, 1, 1, 1, 1, 1, 1, 1, 1, 1, 1, 1, 1, 1, 1, 1, 1, 1, 1, 1, 1, 1, 1, 1, 1, 1, 1, 1, 1, 1, 1, 1, 1, 1, 1, 1, 1, 1, 1, 1, 1, 1, 1, 1, 1, 1, 1, 1, 1, 1, 1, 1, 1, 1, 1, 1, 1, 1, 1, 1, 1, 1, 1, 1, 1, 1, 1, 1, 1, 1, 1, 1, 1, 1, 1, 1, 1, 1, 1, 1, 1, 1, 1, 1, 1, 1, 1, 1, 1, 1, 1, 1, 1, 1, 1, 1, 1, 1, 1, 1, 1, 1, 1, 1, 1, 1, 1, 1, 1, 1, 1, 1, 1, 1, 1, 1, 1, 1, 1, 1, 1, 1, 1, 1, 1, 1, 1, 1, 1, 1, 1, 1, 1, 1, 1, 1, 1, 1, 1, 1, 1, 1, 1, 1, 1, 1, 1, 1, 1, 1, 1, 1, 1, 1, 1, 1, 1, 1, 1, 1, 1, 1, 1, 1, 1, 1, 1, 1, 1, 1, 1, 1, 1, 1, 1, 1, 1, 1, 1, 1, 1, 1, 1, 1, 1, 1, 1, 1, 1, 1, 1, 1, 1, 1, 1, 1, 1, 1, 1, 1, 1, 1, 1, 1, 1, 1, 1, 1, 1, 1, 1, 1, 1, 1, 1, 1, 1, 1, 1, 1, 1, 1, 1, 1, 1, 1, 1, 1, 1, 1, 1, 1, 1, 1, 1, 1, 1, 1, 1, 1, 1, 1, 1, 1, 1, 1, 1, 1, 1, 1, 1, 1, 1, 1, 1, 1, 1, 1, 1, 1, 1, 1, 1, 1, 1, 1, 1, 1, 1, 1, 1, 1, 1, 1, 1, 1, 1, 1, 1, 1, 1, 1, 1, 1, 1, 1, 1, 1, 1, 1, 1, 1, 1, 1, 1, 1, 1, 1, 1, 1, 1, 1, 1, 1, 1, 1, 1, 1, 1, 1, 1, 1, 1, 1, 1, 1, 1, 1, 1, 1, 1, 1, 1, 1, 1, 1, 1, 1, 1, 1, 1, 1, 1, 1, 1, 1, 1, 1, 1, 1, 1, 1, 1, 1, 1, 1, 1, 1, 1, 1, 1, 1, 1, 1, 1, 1, 1, 1, 1, 1, 1, 1, 1, None]\n"
          ],
          "name": "stdout"
        }
      ]
    },
    {
      "cell_type": "markdown",
      "metadata": {
        "id": "mCeA-nLYZBUM"
      },
      "source": [
        "It returns `None` for the special tokens, then 0 or 1 depending on whether the corresponding token comes from the first sentence past (the question) or the second (the context). Now with all of this, we can find the first and last token of the answer in one of our input feature (or if the answer is not in this feature):"
      ]
    },
    {
      "cell_type": "code",
      "metadata": {
        "id": "c7GJ2kwkZCUh",
        "colab": {
          "base_uri": "https://localhost:8080/"
        },
        "outputId": "ab5e26bb-5277-41d2-b2ea-5e536b566f65"
      },
      "source": [
        "answers = example[\"answers\"]\r\n",
        "start_char = answers[\"answer_start\"][0]\r\n",
        "end_char = start_char + len(answers[\"text\"][0])\r\n",
        "\r\n",
        "# Start token index of the current span in the text.\r\n",
        "token_start_index = 0\r\n",
        "while sequence_ids[token_start_index] != 1:\r\n",
        "    token_start_index += 1\r\n",
        "\r\n",
        "# End token index of the current span in the text.\r\n",
        "token_end_index = len(tokenized_example[\"input_ids\"][0]) - 1\r\n",
        "while sequence_ids[token_end_index] != 1:\r\n",
        "    token_end_index -= 1\r\n",
        "\r\n",
        "# Detect if the answer is out of the span (in which case this feature is labeled with the CLS index).\r\n",
        "offsets = tokenized_example[\"offset_mapping\"][0]\r\n",
        "if (offsets[token_start_index][0] <= start_char and offsets[token_end_index][1] >= end_char):\r\n",
        "    # Move the token_start_index and token_end_index to the two ends of the answer.\r\n",
        "    # Note: we could go after the last offset if the answer is the last word (edge case).\r\n",
        "    while token_start_index < len(offsets) and offsets[token_start_index][0] <= start_char:\r\n",
        "        token_start_index += 1\r\n",
        "    start_position = token_start_index - 1\r\n",
        "    while offsets[token_end_index][1] >= end_char:\r\n",
        "        token_end_index -= 1\r\n",
        "    end_position = token_end_index + 1\r\n",
        "    print(start_position, end_position)\r\n",
        "else:\r\n",
        "    print(\"The answer is not in this feature.\")"
      ],
      "execution_count": null,
      "outputs": [
        {
          "output_type": "stream",
          "text": [
            "23 26\n"
          ],
          "name": "stdout"
        }
      ]
    },
    {
      "cell_type": "markdown",
      "metadata": {
        "id": "0ftGRcf7Z5a_"
      },
      "source": [
        "And we can double check that it is indeed the theoretical answer:"
      ]
    },
    {
      "cell_type": "code",
      "metadata": {
        "id": "OKGQoIfbZ8P9",
        "colab": {
          "base_uri": "https://localhost:8080/"
        },
        "outputId": "6e2239df-2bd9-4c53-e962-c33902fc144c"
      },
      "source": [
        "print(tokenizer.decode(tokenized_example[\"input_ids\"][0][start_position: end_position+1]))\r\n",
        "print(answers[\"text\"][0])"
      ],
      "execution_count": null,
      "outputs": [
        {
          "output_type": "stream",
          "text": [
            "over 1, 600\n",
            "over 1,600\n"
          ],
          "name": "stdout"
        }
      ]
    },
    {
      "cell_type": "markdown",
      "metadata": {
        "id": "zXdOFVT0aIfN"
      },
      "source": [
        "For this notebook to work with any kind of models, we need to account for the special case where the model expects padding on the left (in which case we switch the order of the question and the context):"
      ]
    },
    {
      "cell_type": "code",
      "metadata": {
        "id": "y2SCmDrCaK8N"
      },
      "source": [
        "pad_on_right = tokenizer.padding_side == \"right\""
      ],
      "execution_count": null,
      "outputs": []
    },
    {
      "cell_type": "markdown",
      "metadata": {
        "id": "1gSvT331aQJY"
      },
      "source": [
        "Now let's put everything together in one function we will apply to our training set."
      ]
    },
    {
      "cell_type": "code",
      "metadata": {
        "id": "MspPpyCyalUB"
      },
      "source": [
        "def prepare_train_features(examples: collections.OrderedDict or dict) -> transformers.tokenization_utils_base.BatchEncoding:\r\n",
        "    \"\"\"Tokenize our examples with truncation and padding, but keep the overflows using a stride. This results\r\n",
        "        in one example possible giving several features when a context is long, each of those features having a\r\n",
        "        context that overlaps a bit the context of the previous feature.\r\n",
        "\r\n",
        "      Args:\r\n",
        "        examples: Squad samples\r\n",
        "    \"\"\"\r\n",
        "    tokenized_examples = tokenizer(\r\n",
        "        examples[\"question\" if pad_on_right else \"context\"],\r\n",
        "        examples[\"context\" if pad_on_right else \"question\"],\r\n",
        "        truncation=\"only_second\" if pad_on_right else \"only_first\",\r\n",
        "        max_length=max_length,\r\n",
        "        stride=doc_stride,\r\n",
        "        return_overflowing_tokens=True,\r\n",
        "        return_offsets_mapping=True,\r\n",
        "        padding=\"max_length\",\r\n",
        "    )\r\n",
        "\r\n",
        "    # Since one example might give us several features if it has a long context, we need a map from a feature to\r\n",
        "    # its corresponding example. This key gives us just that.\r\n",
        "    sample_mapping = tokenized_examples.pop(\"overflow_to_sample_mapping\")\r\n",
        "    # The offset mappings will give us a map from token to character position in the original context. This will\r\n",
        "    # help us compute the start_positions and end_positions.\r\n",
        "    offset_mapping = tokenized_examples.pop(\"offset_mapping\")\r\n",
        "\r\n",
        "    # Let's label those examples!\r\n",
        "    tokenized_examples[\"start_positions\"] = []\r\n",
        "    tokenized_examples[\"end_positions\"] = []\r\n",
        "\r\n",
        "    for i, offsets in enumerate(offset_mapping):\r\n",
        "        # CLS index\r\n",
        "        input_ids = tokenized_examples[\"input_ids\"][i]\r\n",
        "        cls_index = input_ids.index(tokenizer.cls_token_id)\r\n",
        "\r\n",
        "        # Grab the sequence corresponding to that example (to know what is the context and what is the question).\r\n",
        "        sequence_ids = tokenized_examples.sequence_ids(i)\r\n",
        "\r\n",
        "        # One example can give several spans, this is the index of the example containing this span of text.\r\n",
        "        sample_index = sample_mapping[i]\r\n",
        "        answers = examples[\"answers\"][sample_index]\r\n",
        "\r\n",
        "        # Start/end character index of the answer in the text.\r\n",
        "        start_char = answers[\"answer_start\"][0]\r\n",
        "        end_char = start_char + len(answers[\"text\"][0])\r\n",
        "\r\n",
        "        # Start token index of the current span in the text.\r\n",
        "        token_start_index = 0\r\n",
        "        while sequence_ids[token_start_index] != (1 if pad_on_right else 0):\r\n",
        "            token_start_index += 1\r\n",
        "\r\n",
        "        # End token index of the current span in the text.\r\n",
        "        token_end_index = len(input_ids) - 1\r\n",
        "        while sequence_ids[token_end_index] != (1 if pad_on_right else 0):\r\n",
        "            token_end_index -= 1\r\n",
        "\r\n",
        "        # Detect if the answer is out of the span (in which case this feature is labeled with the CLS index).\r\n",
        "        if not (offsets[token_start_index][0] <= start_char and offsets[token_end_index][1] >= end_char):\r\n",
        "            tokenized_examples[\"start_positions\"].append(cls_index)\r\n",
        "            tokenized_examples[\"end_positions\"].append(cls_index)\r\n",
        "        else:\r\n",
        "            # Otherwise move the token_start_index and token_end_index to the two ends of the answer.\r\n",
        "            # Note: we could go after the last offset if the answer is the last word (edge case).\r\n",
        "            while token_start_index < len(offsets) and offsets[token_start_index][0] <= start_char:\r\n",
        "                token_start_index += 1\r\n",
        "            tokenized_examples[\"start_positions\"].append(token_start_index - 1)\r\n",
        "            while offsets[token_end_index][1] >= end_char:\r\n",
        "                token_end_index -= 1\r\n",
        "            tokenized_examples[\"end_positions\"].append(token_end_index + 1)\r\n",
        "\r\n",
        "    return tokenized_examples"
      ],
      "execution_count": null,
      "outputs": []
    },
    {
      "cell_type": "markdown",
      "metadata": {
        "id": "axav8GbWctmE"
      },
      "source": [
        "This function works with one or several examples. In the case of several examples, the tokenizer will return a list of lists for each key:"
      ]
    },
    {
      "cell_type": "code",
      "metadata": {
        "id": "D_ByXJPbcwNG"
      },
      "source": [
        "features = prepare_train_features(train_data['train'][:5])"
      ],
      "execution_count": null,
      "outputs": []
    },
    {
      "cell_type": "markdown",
      "metadata": {
        "id": "InfV9mhoc-66"
      },
      "source": [
        "To apply this function on all the sentences (or pairs of sentences) in our dataset, we just use the map method of our dataset object we created earlier. This will apply the function on all the elements of all the splits in dataset, so our training, validation and testing data will be preprocessed in one single command. Since our preprocessing changes the number of samples, we need to remove the old columns when applying it."
      ]
    },
    {
      "cell_type": "code",
      "metadata": {
        "id": "B10UADJDdCSG",
        "colab": {
          "base_uri": "https://localhost:8080/",
          "height": 66,
          "referenced_widgets": [
            "07ed1f38bb0c4ce3868358303e5307a0",
            "c4fce44ee0184a1f9a396de46a25c924",
            "edcfd4210a0840518da5711566ae71da",
            "4aa22e9a96364a048c30f6eef336cec8",
            "58355248f69d4946af3711b1c2feb83a",
            "ea4e48bf6f174fcca6cf59d243824aba",
            "2f5d173544c24e9088afdc17f2891e74",
            "39d89236633446f6a2471b7e76a36b55"
          ]
        },
        "outputId": "eec1402d-3f26-4231-90fd-8da1ecd7030b"
      },
      "source": [
        "train_tokenized_datasets = train_data.map(prepare_train_features, batched=True, remove_columns=train_data['train'].column_names)"
      ],
      "execution_count": null,
      "outputs": [
        {
          "output_type": "display_data",
          "data": {
            "application/vnd.jupyter.widget-view+json": {
              "model_id": "07ed1f38bb0c4ce3868358303e5307a0",
              "version_minor": 0,
              "version_major": 2
            },
            "text/plain": [
              "HBox(children=(FloatProgress(value=0.0, max=70.0), HTML(value='')))"
            ]
          },
          "metadata": {
            "tags": []
          }
        },
        {
          "output_type": "stream",
          "text": [
            "\n"
          ],
          "name": "stdout"
        }
      ]
    },
    {
      "cell_type": "markdown",
      "metadata": {
        "id": "bA6FA5aldiIr"
      },
      "source": [
        "Even better, the results are automatically cached by the 🤗 Datasets library to avoid spending time on this step the next time you run your notebook. The 🤗 Datasets library is normally smart enough to detect when the function you pass to map has changed (and thus requires to not use the cache data). For instance, it will properly detect if you change the task in the first cell and rerun the notebook. 🤗 Datasets warns you when it uses cached files, you can pass `load_from_cache_file=False` in the call to map to not use the cached files and force the preprocessing to be applied again.\r\n",
        "\r\n",
        "Note that we passed `batched=True` to encode the texts by batches together. This is to leverage the full benefit of the fast tokenizer we loaded earlier, which will use multi-threading to treat the texts in a batch concurrently."
      ]
    },
    {
      "cell_type": "markdown",
      "metadata": {
        "id": "SqOg2iAEdrEB"
      },
      "source": [
        "# Fine-tuning the model"
      ]
    },
    {
      "cell_type": "markdown",
      "metadata": {
        "id": "h2KRX94OdzPD"
      },
      "source": [
        "Now that our data is ready for training, we can download the pretrained model and fine-tune it. Since our task is question answering, we use our modified version of the `DistilBertForQuestionAnswering` class. Like with the tokenizer, the `from_pretrained` method will download and cache the model for us."
      ]
    },
    {
      "cell_type": "code",
      "metadata": {
        "id": "rV0pZMjOPly2"
      },
      "source": [
        "# DistilBert\r\n",
        "\r\n",
        "import math\r\n",
        "\r\n",
        "from transformers.modeling_outputs import QuestionAnsweringModelOutput\r\n",
        "from transformers import DistilBertPreTrainedModel\r\n",
        "from transformers import DistilBertModel\r\n",
        "\r\n",
        "from torch import nn\r\n",
        "from torch.nn import CrossEntropyLoss\r\n",
        "\r\n",
        "\r\n",
        "def gelu(x):\r\n",
        "    \"\"\"\r\n",
        "    Original Implementation of the GELU activation function in Google BERT repo when initially created. For\r\n",
        "    information: OpenAI GPT's GELU is slightly different (and gives slightly different results): 0.5 * x * (1 +\r\n",
        "    torch.tanh(math.sqrt(2 / math.pi) * (x + 0.044715 * torch.pow(x, 3)))) This is now written in C in\r\n",
        "    torch.nn.functional Also see the Gaussian Error Linear Units paper: https://arxiv.org/abs/1606.08415\r\n",
        "    \"\"\"\r\n",
        "    return x * 0.5 * (1.0 + torch.erf(x / math.sqrt(2.0)))\r\n",
        "\r\n",
        "\r\n",
        "def gelu_new(x):\r\n",
        "    \"\"\"\r\n",
        "    Implementation of the GELU activation function currently in Google BERT repo (identical to OpenAI GPT). Also see\r\n",
        "    the Gaussian Error Linear Units paper: https://arxiv.org/abs/1606.08415\r\n",
        "    \"\"\"\r\n",
        "    return 0.5 * x * (1.0 + torch.tanh(math.sqrt(2.0 / math.pi) * (x + 0.044715 * torch.pow(x, 3.0))))\r\n",
        "\r\n",
        "\r\n",
        "class DistilBertForQuestionAnswering(DistilBertPreTrainedModel):\r\n",
        "    def __init__(self, config):\r\n",
        "        super().__init__(config)\r\n",
        "\r\n",
        "        self.distilbert = DistilBertModel(config)\r\n",
        "\r\n",
        "        self.qa_outputs_0 = nn.Linear(config.dim, 512)\r\n",
        "        self.qa_outputs_1 = nn.Linear(512, 32)\r\n",
        "        self.qa_outputs = nn.Linear(32, config.num_labels)\r\n",
        "        \r\n",
        "        assert config.num_labels == 2\r\n",
        "        self.dropout = nn.Dropout(config.qa_dropout)\r\n",
        "\r\n",
        "        self.LayerNorm = nn.LayerNorm(normalized_shape = [384,2])\r\n",
        "\r\n",
        "        self.init_weights()\r\n",
        "\r\n",
        "    def forward(\r\n",
        "        self,\r\n",
        "        input_ids=None,\r\n",
        "        attention_mask=None,\r\n",
        "        head_mask=None,\r\n",
        "        inputs_embeds=None,\r\n",
        "        start_positions=None,\r\n",
        "        end_positions=None,\r\n",
        "        output_attentions=None,\r\n",
        "        output_hidden_states=None,\r\n",
        "        return_dict=None,\r\n",
        "    ):\r\n",
        "        r\"\"\"\r\n",
        "        start_positions (:obj:`torch.LongTensor` of shape :obj:`(batch_size,)`, `optional`):\r\n",
        "            Labels for position (index) of the start of the labelled span for computing the token classification loss.\r\n",
        "            Positions are clamped to the length of the sequence (:obj:`sequence_length`). Position outside of the\r\n",
        "            sequence are not taken into account for computing the loss.\r\n",
        "        end_positions (:obj:`torch.LongTensor` of shape :obj:`(batch_size,)`, `optional`):\r\n",
        "            Labels for position (index) of the end of the labelled span for computing the token classification loss.\r\n",
        "            Positions are clamped to the length of the sequence (:obj:`sequence_length`). Position outside of the\r\n",
        "            sequence are not taken into account for computing the loss.\r\n",
        "        \"\"\"\r\n",
        "        return_dict = return_dict if return_dict is not None else self.config.use_return_dict\r\n",
        "\r\n",
        "\r\n",
        "        distilbert_output = self.distilbert(\r\n",
        "            input_ids=input_ids,\r\n",
        "            attention_mask=attention_mask,\r\n",
        "            head_mask=head_mask,\r\n",
        "            inputs_embeds=inputs_embeds,\r\n",
        "            output_attentions=output_attentions,\r\n",
        "            output_hidden_states=output_hidden_states,\r\n",
        "            return_dict=return_dict,\r\n",
        "        )\r\n",
        "\r\n",
        " \r\n",
        "        hidden_states = distilbert_output[0]  # (bs, max_query_len, dim)\r\n",
        "        hidden_states = self.dropout(hidden_states)  # (bs, max_query_len, dim)\r\n",
        "\r\n",
        "        logits = gelu_new(self.qa_outputs_0(hidden_states))  # (bs, max_query_len, 2)\r\n",
        "        logits = gelu_new(self.qa_outputs_1(logits))\r\n",
        "        #logits = self.LayerNorm_0(logits)\r\n",
        "      \r\n",
        "        logits = self.qa_outputs(logits)\r\n",
        "        logits = self.LayerNorm(logits)\r\n",
        "       \r\n",
        "        start_logits, end_logits = logits.split(1, dim=-1)\r\n",
        "\r\n",
        "        start_logits = start_logits.squeeze(-1)  # (bs, max_query_len)\r\n",
        "        end_logits = end_logits.squeeze(-1)  # (bs, max_query_len)\r\n",
        "\r\n",
        "\r\n",
        "        total_loss = None\r\n",
        "        if start_positions is not None and end_positions is not None:\r\n",
        "\r\n",
        "            # sometimes the start/end positions are outside our model inputs, we ignore these terms\r\n",
        "            ignored_index = start_logits.size(1)\r\n",
        "            start_positions.clamp_(0, ignored_index)\r\n",
        "            end_positions.clamp_(0, ignored_index)\r\n",
        "\r\n",
        "            loss_fct = nn.CrossEntropyLoss(ignore_index=ignored_index)\r\n",
        "            start_loss = loss_fct(start_logits, start_positions)\r\n",
        "            end_loss = loss_fct(end_logits, end_positions)\r\n",
        "            total_loss = (start_loss + end_loss) / 2\r\n",
        "\r\n",
        "        if not return_dict:\r\n",
        "          output = (start_logits, end_logits) + distilbert_output[1:]\r\n",
        "          return ((total_loss,) + output) if total_loss is not None else output\r\n",
        " \r\n",
        "        return QuestionAnsweringModelOutput(\r\n",
        "            loss=total_loss,\r\n",
        "            start_logits=start_logits,\r\n",
        "            end_logits=end_logits,\r\n",
        "            hidden_states=distilbert_output.hidden_states,\r\n",
        "            attentions=distilbert_output.attentions\r\n",
        "        )"
      ],
      "execution_count": null,
      "outputs": []
    },
    {
      "cell_type": "code",
      "metadata": {
        "id": "SVzYPE4Pd2tY",
        "colab": {
          "base_uri": "https://localhost:8080/"
        },
        "outputId": "909d5ca2-1389-4f18-ce69-a735bb8e8d79"
      },
      "source": [
        "from transformers import TrainingArguments, Trainer\r\n",
        "\r\n",
        "model = DistilBertForQuestionAnswering.from_pretrained(model_checkpoint)\r\n",
        "\r\n",
        "# Tell pytorch to run this model on the GPU.\r\n",
        "if torch.cuda.is_available():\r\n",
        "  model.cuda()"
      ],
      "execution_count": null,
      "outputs": [
        {
          "output_type": "stream",
          "text": [
            "Some weights of the model checkpoint at distilbert-base-uncased were not used when initializing DistilBertForQuestionAnswering: ['vocab_transform.weight', 'vocab_transform.bias', 'vocab_layer_norm.weight', 'vocab_layer_norm.bias', 'vocab_projector.weight', 'vocab_projector.bias']\n",
            "- This IS expected if you are initializing DistilBertForQuestionAnswering from the checkpoint of a model trained on another task or with another architecture (e.g. initializing a BertForSequenceClassification model from a BertForPreTraining model).\n",
            "- This IS NOT expected if you are initializing DistilBertForQuestionAnswering from the checkpoint of a model that you expect to be exactly identical (initializing a BertForSequenceClassification model from a BertForSequenceClassification model).\n",
            "Some weights of DistilBertForQuestionAnswering were not initialized from the model checkpoint at distilbert-base-uncased and are newly initialized: ['qa_outputs_0.weight', 'qa_outputs_0.bias', 'qa_outputs_1.weight', 'qa_outputs_1.bias', 'qa_outputs.weight', 'qa_outputs.bias', 'LayerNorm.weight', 'LayerNorm.bias']\n",
            "You should probably TRAIN this model on a down-stream task to be able to use it for predictions and inference.\n"
          ],
          "name": "stderr"
        }
      ]
    },
    {
      "cell_type": "markdown",
      "metadata": {
        "id": "kFKh8DvneCSW"
      },
      "source": [
        "The warning is telling us we are throwing away some weights (the `vocab_transform` and `vocab_layer_norm` layers) and randomly initializing some other (the `pre_classifier` and `classifier` layers). This is absolutely normal in this case, because we are removing the head used to pretrain the model on a masked language modeling objective and replacing it with a new head for which we don't have pretrained weights, so the library warns us we should fine-tune this model before using it for inference, which is exactly what we are going to do."
      ]
    },
    {
      "cell_type": "markdown",
      "metadata": {
        "id": "e0Jv6c7-HHDW"
      },
      "source": [
        "Just for curiosity's sake, we can browse all of the model's parameters by name here.\n",
        "\n",
        "In the below cell, We've printed out the names and dimensions of the weights for:\n",
        "\n",
        "1. The embedding layer.\n",
        "2. The first of the twelve transformers.\n",
        "3. The output layer.\n",
        "\n",
        "\n"
      ]
    },
    {
      "cell_type": "code",
      "metadata": {
        "id": "8PIiVlDYCtSq",
        "colab": {
          "base_uri": "https://localhost:8080/"
        },
        "outputId": "e9817d10-2b11-43ef-a867-57d678003e89"
      },
      "source": [
        "# Get all of the model's parameters as a list of tuples.\n",
        "params = list(model.named_parameters())\n",
        "\n",
        "print('The {} model has {:} different named parameters.\\n'.format(model_checkpoint,len(params)))\n",
        "\n",
        "print('==== Embedding Layer ====\\n')\n",
        "\n",
        "for p in params[0:5]:\n",
        "    print(\"{:<55} {:>12}\".format(p[0], str(tuple(p[1].size()))))\n",
        "\n",
        "print('\\n==== First Transformer ====\\n')\n",
        "\n",
        "for p in params[5:21]:\n",
        "    print(\"{:<55} {:>12}\".format(p[0], str(tuple(p[1].size()))))\n",
        "\n",
        "print('\\n==== Output Layers ====\\n')\n",
        "\n",
        "for p in params[-10:]:\n",
        "    print(\"{:<55} {:>12}\".format(p[0], str(tuple(p[1].size()))))"
      ],
      "execution_count": null,
      "outputs": [
        {
          "output_type": "stream",
          "text": [
            "The distilbert-base-uncased model has 108 different named parameters.\n",
            "\n",
            "==== Embedding Layer ====\n",
            "\n",
            "distilbert.embeddings.word_embeddings.weight            (30522, 768)\n",
            "distilbert.embeddings.position_embeddings.weight          (512, 768)\n",
            "distilbert.embeddings.LayerNorm.weight                        (768,)\n",
            "distilbert.embeddings.LayerNorm.bias                          (768,)\n",
            "distilbert.transformer.layer.0.attention.q_lin.weight     (768, 768)\n",
            "\n",
            "==== First Transformer ====\n",
            "\n",
            "distilbert.transformer.layer.0.attention.q_lin.bias           (768,)\n",
            "distilbert.transformer.layer.0.attention.k_lin.weight     (768, 768)\n",
            "distilbert.transformer.layer.0.attention.k_lin.bias           (768,)\n",
            "distilbert.transformer.layer.0.attention.v_lin.weight     (768, 768)\n",
            "distilbert.transformer.layer.0.attention.v_lin.bias           (768,)\n",
            "distilbert.transformer.layer.0.attention.out_lin.weight   (768, 768)\n",
            "distilbert.transformer.layer.0.attention.out_lin.bias         (768,)\n",
            "distilbert.transformer.layer.0.sa_layer_norm.weight           (768,)\n",
            "distilbert.transformer.layer.0.sa_layer_norm.bias             (768,)\n",
            "distilbert.transformer.layer.0.ffn.lin1.weight           (3072, 768)\n",
            "distilbert.transformer.layer.0.ffn.lin1.bias                 (3072,)\n",
            "distilbert.transformer.layer.0.ffn.lin2.weight           (768, 3072)\n",
            "distilbert.transformer.layer.0.ffn.lin2.bias                  (768,)\n",
            "distilbert.transformer.layer.0.output_layer_norm.weight       (768,)\n",
            "distilbert.transformer.layer.0.output_layer_norm.bias         (768,)\n",
            "distilbert.transformer.layer.1.attention.q_lin.weight     (768, 768)\n",
            "\n",
            "==== Output Layers ====\n",
            "\n",
            "distilbert.transformer.layer.5.output_layer_norm.weight       (768,)\n",
            "distilbert.transformer.layer.5.output_layer_norm.bias         (768,)\n",
            "qa_outputs_0.weight                                       (512, 768)\n",
            "qa_outputs_0.bias                                             (512,)\n",
            "qa_outputs_1.weight                                        (32, 512)\n",
            "qa_outputs_1.bias                                              (32,)\n",
            "qa_outputs.weight                                            (2, 32)\n",
            "qa_outputs.bias                                                 (2,)\n",
            "LayerNorm.weight                                            (384, 2)\n",
            "LayerNorm.bias                                              (384, 2)\n"
          ],
          "name": "stdout"
        }
      ]
    },
    {
      "cell_type": "markdown",
      "metadata": {
        "id": "cnUiSDErbeeY"
      },
      "source": [
        "## Train"
      ]
    },
    {
      "cell_type": "markdown",
      "metadata": {
        "id": "Jte5ExyNeHco"
      },
      "source": [
        "To instantiate a `Trainer`, we will need to define three more things. The most important is the `TrainingArguments`, which is a class that contains all the attributes to customize the training. It requires one folder name, which will be used to save the checkpoints of the model, and all other arguments are optional:"
      ]
    },
    {
      "cell_type": "code",
      "metadata": {
        "id": "QzRCzB0xeL0t"
      },
      "source": [
        "batch_size = 32\r\n",
        "args = TrainingArguments(\r\n",
        "    output_dir='./results',\r\n",
        "    save_total_limit=5,\r\n",
        "    evaluation_strategy=\"epoch\",\r\n",
        "    learning_rate=5e-5,\r\n",
        "    per_device_train_batch_size=batch_size,\r\n",
        "    per_device_eval_batch_size=batch_size,\r\n",
        "    num_train_epochs=3,\r\n",
        "    weight_decay=0.01,\r\n",
        "    logging_dir='./logs',\r\n",
        "    label_names=[\"start_positions\", \"end_positions\"]\r\n",
        ")"
      ],
      "execution_count": null,
      "outputs": []
    },
    {
      "cell_type": "markdown",
      "metadata": {
        "id": "UAiiI03Wef9j"
      },
      "source": [
        "Here we set the evaluation to be done at the end of each epoch, tweak the learning rate, use the `batch_size` defined at the top of the notebook and customize the number of epochs for training, as well as the weight decay.\r\n",
        "\r\n",
        "Then we will need a data collator that will batch our processed examples together, here the default one will work:"
      ]
    },
    {
      "cell_type": "code",
      "metadata": {
        "id": "y0C4Gxg0emtD"
      },
      "source": [
        "from transformers import default_data_collator\r\n",
        "\r\n",
        "data_collator = default_data_collator"
      ],
      "execution_count": null,
      "outputs": []
    },
    {
      "cell_type": "markdown",
      "metadata": {
        "id": "alzMi_Dcesev"
      },
      "source": [
        "Then we just need to pass all of this along with our datasets to the `Trainer`"
      ]
    },
    {
      "cell_type": "markdown",
      "metadata": {
        "id": "Q9XNUx65b9EK"
      },
      "source": [
        "## Evaluation\r\n",
        "Evaluating our model will require a bit more work, as we will need to map the predictions of our model back to parts of the context. The model itself predicts logits for the start and end position of our answers. The output of the model is a dict-like object that contains the loss (since we provided labels), the start and end logits.\r\n",
        "\r\n",
        "We have one logit for each feature and each token. The most obvious thing to predict an answer for each feature is to take the index for the maximum of the start logits as a start position and the index of the maximum of the end logits as an end position.\r\n",
        "\r\n",
        "This will work great in a lot of cases, but what if this prediction gives us something impossible: the start position could be greater than the end position, or point to a span of text in the question instead of the answer. In that case, we might want to look at the second best prediction to see if it gives a possible answer and select that instead.\r\n",
        "\r\n",
        "However, picking the second best answer is not as easy as picking the best one: is it the second best index in the start logits with the best index in the end logits? Or the best index in the start logits with the second best index in the end logits? And if that second best answer is not possible either, it gets even trickier for the third best answer."
      ]
    },
    {
      "cell_type": "markdown",
      "metadata": {
        "id": "TgtKN3wsfeBU"
      },
      "source": [
        "To classify our answers, we will use the score obtained by adding the start and end logits. We won't try to order all the possible answers and limit ourselves to with a hyper-parameter we call `n_best_size`. We'll pick the best indices in the start and end logits and gather all the answers this predicts. After checking if each one is valid, we will sort them by their score and keep the best one.\r\n",
        "\r\n",
        "We also eliminate very long answers from our considerations (with an hyper-parameter we can tune).\r\n",
        "\r\n",
        "Since one example can give several features, we will need to gather together all the answers in all the features generated by a given example, then pick the best one. We need to build a map from example index to its corresponding features indices.\r\n",
        "\r\n",
        "\r\n",
        " All combined together, this gives us this `post-processing` function:"
      ]
    },
    {
      "cell_type": "code",
      "metadata": {
        "id": "2FlROrJIi9Th"
      },
      "source": [
        "import collections\r\n",
        "from tqdm import tqdm, tqdm_notebook\r\n",
        "\r\n",
        "\r\n",
        "def postprocess_qa_predictions(examples: datasets.arrow_dataset.Dataset,\r\n",
        "                               features: datasets.arrow_dataset.Dataset,\r\n",
        "                               raw_predictions: tuple,\r\n",
        "                               n_best_size: int = 20,\r\n",
        "                               max_answer_length: int = 50) -> collections.OrderedDict:\r\n",
        "    \"\"\"Function used to select the best answer from the raw predictions\r\n",
        "\r\n",
        "      Args:\r\n",
        "        examples: Squad samples\r\n",
        "        features: Squad features\r\n",
        "        raw_predictions: model predictions\r\n",
        "    \"\"\"\r\n",
        "    all_start_logits, all_end_logits = raw_predictions\r\n",
        "    # Build a map example to its corresponding features.\r\n",
        "    example_id_to_index = {k: i for i, k in enumerate(examples[\"id\"])}\r\n",
        "    features_per_example = collections.defaultdict(list)\r\n",
        "    for i, feature in enumerate(features):\r\n",
        "        features_per_example[example_id_to_index[feature[\"example_id\"]]].append(i)\r\n",
        "\r\n",
        "    # The dictionaries we have to fill.\r\n",
        "    predictions = collections.OrderedDict()\r\n",
        "\r\n",
        "    # Let's loop over all the examples!\r\n",
        "    for example_index, example in enumerate(tqdm(examples)):\r\n",
        "        # Those are the indices of the features associated to the current example.\r\n",
        "        feature_indices = features_per_example[example_index]\r\n",
        "        valid_answers = []\r\n",
        "        \r\n",
        "        context = example[\"context\"]\r\n",
        "        # Looping through all the features associated to the current example.\r\n",
        "        for feature_index in feature_indices:\r\n",
        "            # We grab the predictions of the model for this feature.\r\n",
        "            start_logits = all_start_logits[feature_index]\r\n",
        "            end_logits = all_end_logits[feature_index]\r\n",
        "            # This is what will allow us to map some the positions in our logits to span of texts in the original\r\n",
        "            # context.\r\n",
        "            offset_mapping = features[feature_index][\"offset_mapping\"]\r\n",
        "\r\n",
        "            # Update minimum null prediction.\r\n",
        "            cls_index = features[feature_index][\"input_ids\"].index(tokenizer.cls_token_id)\r\n",
        "            feature_null_score = start_logits[cls_index] + end_logits[cls_index]\r\n",
        "\r\n",
        "            # Go through all possibilities for the `n_best_size` greater start and end logits.\r\n",
        "            start_indexes = np.argsort(start_logits)[-1 : -n_best_size - 1 : -1].tolist()\r\n",
        "            end_indexes = np.argsort(end_logits)[-1 : -n_best_size - 1 : -1].tolist()\r\n",
        "            for start_index in start_indexes:\r\n",
        "                for end_index in end_indexes:\r\n",
        "                    # Don't consider out-of-scope answers, either because the indices are out of bounds or correspond\r\n",
        "                    # to part of the input_ids that are not in the context.\r\n",
        "                    if (\r\n",
        "                        start_index >= len(offset_mapping)\r\n",
        "                        or end_index >= len(offset_mapping)\r\n",
        "                        or offset_mapping[start_index] is None\r\n",
        "                        or offset_mapping[end_index] is None\r\n",
        "                    ):\r\n",
        "                        continue\r\n",
        "                    # Don't consider answers with a length that is either < 0 or > max_answer_length.\r\n",
        "                    if end_index < start_index or end_index - start_index + 1 > max_answer_length:\r\n",
        "                        continue\r\n",
        "\r\n",
        "                    start_char = offset_mapping[start_index][0]\r\n",
        "                    end_char = offset_mapping[end_index][1]\r\n",
        "                    valid_answers.append(\r\n",
        "                        {\r\n",
        "                            \"score\": start_logits[start_index] + end_logits[end_index],\r\n",
        "                            \"text\": context[start_char: end_char]\r\n",
        "                        }\r\n",
        "                    )\r\n",
        "        \r\n",
        "        if len(valid_answers) > 0:\r\n",
        "            best_answer = sorted(valid_answers, key=lambda x: x[\"score\"], reverse=True)[0]\r\n",
        "        else:\r\n",
        "            # In the very rare edge case we have not a single non-null prediction, we create a fake prediction to avoid\r\n",
        "            # failure.\r\n",
        "            best_answer = {\"text\": \"\", \"score\": 0.0}\r\n",
        "        \r\n",
        "        # Let's pick our final answer\r\n",
        "        predictions[example[\"id\"]] = best_answer[\"text\"]\r\n",
        "\r\n",
        "    return predictions"
      ],
      "execution_count": null,
      "outputs": []
    },
    {
      "cell_type": "markdown",
      "metadata": {
        "id": "UIIlk6R3eC40"
      },
      "source": [
        "The only point left is how to check a given span is inside the context (and not the question) and how to get back the text inside. To do this, we need to add two things to our validation features:\r\n",
        "\r\n",
        "- the ID of the example that generated the feature (since each example can generate several features, as seen before);\r\n",
        "- the offset mapping that will give us a map from token indices to character positions in the context.\r\n",
        "\r\n",
        "That's why we will re-process the validation set with the following function, slightly different from `prepare_train_features`:"
      ]
    },
    {
      "cell_type": "code",
      "metadata": {
        "id": "LZoJcV9_hmqq"
      },
      "source": [
        "def prepare_validation_features(examples: collections.OrderedDict or dict) -> transformers.tokenization_utils_base.BatchEncoding:\r\n",
        "    \"\"\"To check a given span is inside the context (and not the question) and to get back the text inside.\r\n",
        "        To do this, we need to add two things to our validation features:\r\n",
        "        - the ID of the example that generated the feature (since each example can generate several features, as seen before);\r\n",
        "        - the offset mapping that will give us a map from token indices to character positions in the context.\r\n",
        "        That's why we will re-process the validation set with the following function, slightly different from `prepare_train_features`\r\n",
        "\r\n",
        "      Args:\r\n",
        "        examples: Squad samples\r\n",
        "    \"\"\"\r\n",
        "    # Tokenize our examples with truncation and maybe padding, but keep the overflows using a stride. This results\r\n",
        "    # in one example possible giving several features when a context is long, each of those features having a\r\n",
        "    # context that overlaps a bit the context of the previous feature.\r\n",
        "    tokenized_examples = tokenizer(\r\n",
        "        examples[\"question\" if pad_on_right else \"context\"],\r\n",
        "        examples[\"context\" if pad_on_right else \"question\"],\r\n",
        "        truncation=\"only_second\" if pad_on_right else \"only_first\",\r\n",
        "        max_length=max_length,\r\n",
        "        stride=doc_stride,\r\n",
        "        return_overflowing_tokens=True,\r\n",
        "        return_offsets_mapping=True,\r\n",
        "        padding=\"max_length\",\r\n",
        "    )\r\n",
        "\r\n",
        "    # Since one example might give us several features if it has a long context, we need a map from a feature to\r\n",
        "    # its corresponding example. This key gives us just that.\r\n",
        "    sample_mapping = tokenized_examples.pop(\"overflow_to_sample_mapping\")\r\n",
        "\r\n",
        "    # The offset mappings will give us a map from token to character position in the original context. This will\r\n",
        "    # help us compute the start_positions and end_positions.\r\n",
        "    offset_mapping = tokenized_examples[\"offset_mapping\"]\r\n",
        "\r\n",
        "    # Let's label those examples!\r\n",
        "    tokenized_examples[\"start_positions\"] = []\r\n",
        "    tokenized_examples[\"end_positions\"] = []\r\n",
        "\r\n",
        "    for i, offsets in enumerate(offset_mapping):\r\n",
        "      # CLS index\r\n",
        "      input_ids = tokenized_examples[\"input_ids\"][i]\r\n",
        "      cls_index = input_ids.index(tokenizer.cls_token_id)\r\n",
        "\r\n",
        "      # Grab the sequence corresponding to that example (to know what is the context and what is the question).\r\n",
        "      sequence_ids = tokenized_examples.sequence_ids(i)\r\n",
        "\r\n",
        "      # One example can give several spans, this is the index of the example containing this span of text.\r\n",
        "      sample_index = sample_mapping[i]\r\n",
        "      answers = examples[\"answers\"][sample_index]\r\n",
        "\r\n",
        "      # Start/end character index of the answer in the text.\r\n",
        "      start_char = answers[\"answer_start\"][0]\r\n",
        "      end_char = start_char + len(answers[\"text\"][0])\r\n",
        "\r\n",
        "      # Start token index of the current span in the text.\r\n",
        "      token_start_index = 0\r\n",
        "      while sequence_ids[token_start_index] != (1 if pad_on_right else 0):\r\n",
        "          token_start_index += 1\r\n",
        "\r\n",
        "      # End token index of the current span in the text.\r\n",
        "      token_end_index = len(input_ids) - 1\r\n",
        "      while sequence_ids[token_end_index] != (1 if pad_on_right else 0):\r\n",
        "          token_end_index -= 1\r\n",
        "\r\n",
        "      # Detect if the answer is out of the span (in which case this feature is labeled with the CLS index).\r\n",
        "      if not (offsets[token_start_index][0] <= start_char and offsets[token_end_index][1] >= end_char):\r\n",
        "          tokenized_examples[\"start_positions\"].append(cls_index)\r\n",
        "          tokenized_examples[\"end_positions\"].append(cls_index)\r\n",
        "      else:\r\n",
        "          # Otherwise move the token_start_index and token_end_index to the two ends of the answer.\r\n",
        "          # Note: we could go after the last offset if the answer is the last word (edge case).\r\n",
        "          while token_start_index < len(offsets) and offsets[token_start_index][0] <= start_char:\r\n",
        "              token_start_index += 1\r\n",
        "          tokenized_examples[\"start_positions\"].append(token_start_index - 1)\r\n",
        "          while offsets[token_end_index][1] >= end_char:\r\n",
        "              token_end_index -= 1\r\n",
        "          tokenized_examples[\"end_positions\"].append(token_end_index + 1)\r\n",
        "\r\n",
        "    # We keep the example_id that gave us this feature and we will store the offset mappings.\r\n",
        "    tokenized_examples[\"example_id\"] = []\r\n",
        "\r\n",
        "    for i in range(len(tokenized_examples[\"input_ids\"])):\r\n",
        "        # Grab the sequence corresponding to that example (to know what is the context and what is the question).\r\n",
        "        sequence_ids = tokenized_examples.sequence_ids(i)\r\n",
        "        context_index = 1 if pad_on_right else 0\r\n",
        "\r\n",
        "        # One example can give several spans, this is the index of the example containing this span of text.\r\n",
        "        sample_index = sample_mapping[i]\r\n",
        "        tokenized_examples[\"example_id\"].append(examples[\"id\"][sample_index])\r\n",
        "\r\n",
        "        # Set to None the offset_mapping that are not part of the context so it's easy to determine if a token\r\n",
        "        # position is part of the context or not.\r\n",
        "        tokenized_examples[\"offset_mapping\"][i] = [\r\n",
        "            (o if sequence_ids[k] == context_index else None)\r\n",
        "            for k, o in enumerate(tokenized_examples[\"offset_mapping\"][i])\r\n",
        "        ]\r\n",
        "\r\n",
        "    return tokenized_examples"
      ],
      "execution_count": null,
      "outputs": []
    },
    {
      "cell_type": "code",
      "metadata": {
        "id": "WhidQb3ljW6n",
        "colab": {
          "base_uri": "https://localhost:8080/",
          "height": 66,
          "referenced_widgets": [
            "d1bfe3d9fccd4727815d9d47b841c4cf",
            "895687449eb448a0a9939040e297a8bd",
            "ad64638052b94b2fbc0684690184aa75",
            "99391f94220149469196b323dd422cb3",
            "611481bbaff74709848b7cb5f1cc98fd",
            "62cc301bb89543f5824ad9433990ee84",
            "084d8fb29e464c2eb3f341a8c9e92132",
            "ad08cb60c0dd48a1915fdfefb83035a6"
          ]
        },
        "outputId": "334d311a-451a-4996-d242-942663c0d426"
      },
      "source": [
        "validation_features = val_data['train'].map(prepare_validation_features, batched=True, remove_columns=val_data['train'].column_names)"
      ],
      "execution_count": null,
      "outputs": [
        {
          "output_type": "display_data",
          "data": {
            "application/vnd.jupyter.widget-view+json": {
              "model_id": "d1bfe3d9fccd4727815d9d47b841c4cf",
              "version_minor": 0,
              "version_major": 2
            },
            "text/plain": [
              "HBox(children=(FloatProgress(value=0.0, max=19.0), HTML(value='')))"
            ]
          },
          "metadata": {
            "tags": []
          }
        },
        {
          "output_type": "stream",
          "text": [
            "\n"
          ],
          "name": "stdout"
        }
      ]
    },
    {
      "cell_type": "markdown",
      "metadata": {
        "id": "JXadhXvvhSao"
      },
      "source": [
        "Then we can load the metric from the datasets library, and define a function to compute it during training."
      ]
    },
    {
      "cell_type": "code",
      "metadata": {
        "id": "4c9mJp4Wjemh"
      },
      "source": [
        "metric = datasets.load_metric(\"squad\")"
      ],
      "execution_count": null,
      "outputs": []
    },
    {
      "cell_type": "code",
      "metadata": {
        "id": "M7NM_VjsTFr7"
      },
      "source": [
        "def compute_metrics(pred: transformers.trainer_utils.EvalPrediction) -> dict:\r\n",
        "    # The Trainer hides the columns that are not used by the model (here example_id and offset_mapping which we will need for our post-processing), so we set them back\r\n",
        "    validation_features.set_format(type=validation_features.format[\"type\"], columns=list(validation_features.features.keys()))\r\n",
        "\r\n",
        "    # To get the final predictions we can apply our post-processing function to our raw predictions\r\n",
        "    final_predictions = postprocess_qa_predictions(val_data['train'], validation_features, pred.predictions)\r\n",
        " \r\n",
        "    # We just need to format predictions and labels a bit as metric expects a list of dictionaries and not one big dictionary\r\n",
        "    formatted_predictions = [{\"id\": k, \"prediction_text\": v} for k, v in final_predictions.items()]\r\n",
        "    references = [{\"id\": ex[\"id\"], \"answers\": ex[\"answers\"]} for ex in val_data[\"train\"]]\r\n",
        "\r\n",
        "    # Hide again the columns that are not used by the model\r\n",
        "    validation_features.set_format(type=validation_features.format[\"type\"], columns=['attention_mask', 'end_positions', 'input_ids', 'start_positions'])\r\n",
        "    metrics = metric.compute(predictions=formatted_predictions, references=references)\r\n",
        "\r\n",
        "    return metrics"
      ],
      "execution_count": null,
      "outputs": []
    },
    {
      "cell_type": "markdown",
      "metadata": {
        "id": "_sHhbul4cX28"
      },
      "source": [
        "## Execute the train"
      ]
    },
    {
      "cell_type": "code",
      "metadata": {
        "id": "BaQeOtSNewJj"
      },
      "source": [
        "trainer = Trainer(\r\n",
        "    model,\r\n",
        "    args,\r\n",
        "    compute_metrics=compute_metrics,\r\n",
        "    train_dataset=train_tokenized_datasets[\"train\"],\r\n",
        "    eval_dataset=validation_features,\r\n",
        "    data_collator=data_collator,\r\n",
        "    tokenizer=tokenizer\r\n",
        ")"
      ],
      "execution_count": null,
      "outputs": []
    },
    {
      "cell_type": "markdown",
      "metadata": {
        "id": "2o9m9Ak6fMBt"
      },
      "source": [
        "Now we can now finetune our model by just calling the `train` method:"
      ]
    },
    {
      "cell_type": "code",
      "metadata": {
        "id": "WdBpzH9vfK-f"
      },
      "source": [
        "trainer.train()"
      ],
      "execution_count": null,
      "outputs": []
    },
    {
      "cell_type": "code",
      "metadata": {
        "id": "Xxo9sk8diBzp"
      },
      "source": [
        "%load_ext tensorboard\r\n",
        "%tensorboard --logdir logs"
      ],
      "execution_count": null,
      "outputs": []
    },
    {
      "cell_type": "markdown",
      "metadata": {
        "id": "mN-VJdMmfV43"
      },
      "source": [
        "Since this training is particularly long, let's save the model just in case we need to restart."
      ]
    },
    {
      "cell_type": "code",
      "metadata": {
        "id": "mi131NHMfYMt"
      },
      "source": [
        "trainer.save_model(data_path + \"test-squad-trained\")"
      ],
      "execution_count": null,
      "outputs": []
    }
  ]
}
